{
  "nbformat": 4,
  "nbformat_minor": 0,
  "metadata": {
    "colab": {
      "provenance": []
    },
    "kernelspec": {
      "name": "python3",
      "display_name": "Python 3"
    },
    "language_info": {
      "name": "python"
    }
  },
  "cells": [
    {
      "cell_type": "markdown",
      "source": [
        "# Подготовка данных"
      ],
      "metadata": {
        "id": "N7uVpQOW_kq4"
      }
    },
    {
      "cell_type": "markdown",
      "source": [
        "Импотируем необходимые библиотеки"
      ],
      "metadata": {
        "id": "rHfYACB7A99T"
      }
    },
    {
      "cell_type": "code",
      "execution_count": 2,
      "metadata": {
        "id": "jqYvSzgM9SXt"
      },
      "outputs": [],
      "source": [
        "import pandas as pd\n",
        "import matplotlib.pyplot as plt\n",
        "import plotly.express as px\n",
        "import plotly.graph_objects as go\n",
        "import numpy as np\n",
        "from scipy.stats import gaussian_kde"
      ]
    },
    {
      "cell_type": "markdown",
      "source": [
        "Читаем данные и конкатенируем `train_data` и `test_data` в один `data_frame`"
      ],
      "metadata": {
        "id": "r49rtaHkLm-S"
      }
    },
    {
      "cell_type": "code",
      "source": [
        "train_data = pd.read_csv(\"titanic_data/train.csv\")\n",
        "test_data = pd.read_csv(\"titanic_data/test.csv\")\n",
        "\n",
        "data_frame = pd.concat([train_data, test_data], axis=0, ignore_index=True)"
      ],
      "metadata": {
        "id": "X0KYyMr8MyGq"
      },
      "execution_count": 3,
      "outputs": []
    },
    {
      "cell_type": "markdown",
      "source": [
        "Посмотрим на типы всех столбцов"
      ],
      "metadata": {
        "id": "EAgW24zESSCJ"
      }
    },
    {
      "cell_type": "code",
      "source": [
        "data_frame.dtypes"
      ],
      "metadata": {
        "colab": {
          "base_uri": "https://localhost:8080/",
          "height": 460
        },
        "id": "knbSCQxoSWhG",
        "outputId": "c16a4f32-c3e9-49ea-a76c-03ce276999b3"
      },
      "execution_count": 4,
      "outputs": [
        {
          "output_type": "execute_result",
          "data": {
            "text/plain": [
              "PassengerId      int64\n",
              "Survived       float64\n",
              "Pclass           int64\n",
              "Name            object\n",
              "Sex             object\n",
              "Age            float64\n",
              "SibSp            int64\n",
              "Parch            int64\n",
              "Ticket          object\n",
              "Fare           float64\n",
              "Cabin           object\n",
              "Embarked        object\n",
              "dtype: object"
            ],
            "text/html": [
              "<div>\n",
              "<style scoped>\n",
              "    .dataframe tbody tr th:only-of-type {\n",
              "        vertical-align: middle;\n",
              "    }\n",
              "\n",
              "    .dataframe tbody tr th {\n",
              "        vertical-align: top;\n",
              "    }\n",
              "\n",
              "    .dataframe thead th {\n",
              "        text-align: right;\n",
              "    }\n",
              "</style>\n",
              "<table border=\"1\" class=\"dataframe\">\n",
              "  <thead>\n",
              "    <tr style=\"text-align: right;\">\n",
              "      <th></th>\n",
              "      <th>0</th>\n",
              "    </tr>\n",
              "  </thead>\n",
              "  <tbody>\n",
              "    <tr>\n",
              "      <th>PassengerId</th>\n",
              "      <td>int64</td>\n",
              "    </tr>\n",
              "    <tr>\n",
              "      <th>Survived</th>\n",
              "      <td>float64</td>\n",
              "    </tr>\n",
              "    <tr>\n",
              "      <th>Pclass</th>\n",
              "      <td>int64</td>\n",
              "    </tr>\n",
              "    <tr>\n",
              "      <th>Name</th>\n",
              "      <td>object</td>\n",
              "    </tr>\n",
              "    <tr>\n",
              "      <th>Sex</th>\n",
              "      <td>object</td>\n",
              "    </tr>\n",
              "    <tr>\n",
              "      <th>Age</th>\n",
              "      <td>float64</td>\n",
              "    </tr>\n",
              "    <tr>\n",
              "      <th>SibSp</th>\n",
              "      <td>int64</td>\n",
              "    </tr>\n",
              "    <tr>\n",
              "      <th>Parch</th>\n",
              "      <td>int64</td>\n",
              "    </tr>\n",
              "    <tr>\n",
              "      <th>Ticket</th>\n",
              "      <td>object</td>\n",
              "    </tr>\n",
              "    <tr>\n",
              "      <th>Fare</th>\n",
              "      <td>float64</td>\n",
              "    </tr>\n",
              "    <tr>\n",
              "      <th>Cabin</th>\n",
              "      <td>object</td>\n",
              "    </tr>\n",
              "    <tr>\n",
              "      <th>Embarked</th>\n",
              "      <td>object</td>\n",
              "    </tr>\n",
              "  </tbody>\n",
              "</table>\n",
              "</div><br><label><b>dtype:</b> object</label>"
            ]
          },
          "metadata": {},
          "execution_count": 4
        }
      ]
    },
    {
      "cell_type": "markdown",
      "source": [
        "Преобразуем столбы `Survived`, `Pclass`, `Sex`, `Embarked` в категориальный тип"
      ],
      "metadata": {
        "id": "jf9qCmMUS6ud"
      }
    },
    {
      "cell_type": "code",
      "source": [
        "for col in ['Survived', 'Pclass', 'Sex', 'Embarked']:\n",
        "    data_frame[col] = data_frame[col].astype('category')\n",
        "data_frame.dtypes"
      ],
      "metadata": {
        "colab": {
          "base_uri": "https://localhost:8080/",
          "height": 460
        },
        "id": "t1jrFJaaRkyP",
        "outputId": "f5367a0b-0884-4363-d3cc-3b532feedf60"
      },
      "execution_count": 5,
      "outputs": [
        {
          "output_type": "execute_result",
          "data": {
            "text/plain": [
              "PassengerId       int64\n",
              "Survived       category\n",
              "Pclass         category\n",
              "Name             object\n",
              "Sex            category\n",
              "Age             float64\n",
              "SibSp             int64\n",
              "Parch             int64\n",
              "Ticket           object\n",
              "Fare            float64\n",
              "Cabin            object\n",
              "Embarked       category\n",
              "dtype: object"
            ],
            "text/html": [
              "<div>\n",
              "<style scoped>\n",
              "    .dataframe tbody tr th:only-of-type {\n",
              "        vertical-align: middle;\n",
              "    }\n",
              "\n",
              "    .dataframe tbody tr th {\n",
              "        vertical-align: top;\n",
              "    }\n",
              "\n",
              "    .dataframe thead th {\n",
              "        text-align: right;\n",
              "    }\n",
              "</style>\n",
              "<table border=\"1\" class=\"dataframe\">\n",
              "  <thead>\n",
              "    <tr style=\"text-align: right;\">\n",
              "      <th></th>\n",
              "      <th>0</th>\n",
              "    </tr>\n",
              "  </thead>\n",
              "  <tbody>\n",
              "    <tr>\n",
              "      <th>PassengerId</th>\n",
              "      <td>int64</td>\n",
              "    </tr>\n",
              "    <tr>\n",
              "      <th>Survived</th>\n",
              "      <td>category</td>\n",
              "    </tr>\n",
              "    <tr>\n",
              "      <th>Pclass</th>\n",
              "      <td>category</td>\n",
              "    </tr>\n",
              "    <tr>\n",
              "      <th>Name</th>\n",
              "      <td>object</td>\n",
              "    </tr>\n",
              "    <tr>\n",
              "      <th>Sex</th>\n",
              "      <td>category</td>\n",
              "    </tr>\n",
              "    <tr>\n",
              "      <th>Age</th>\n",
              "      <td>float64</td>\n",
              "    </tr>\n",
              "    <tr>\n",
              "      <th>SibSp</th>\n",
              "      <td>int64</td>\n",
              "    </tr>\n",
              "    <tr>\n",
              "      <th>Parch</th>\n",
              "      <td>int64</td>\n",
              "    </tr>\n",
              "    <tr>\n",
              "      <th>Ticket</th>\n",
              "      <td>object</td>\n",
              "    </tr>\n",
              "    <tr>\n",
              "      <th>Fare</th>\n",
              "      <td>float64</td>\n",
              "    </tr>\n",
              "    <tr>\n",
              "      <th>Cabin</th>\n",
              "      <td>object</td>\n",
              "    </tr>\n",
              "    <tr>\n",
              "      <th>Embarked</th>\n",
              "      <td>category</td>\n",
              "    </tr>\n",
              "  </tbody>\n",
              "</table>\n",
              "</div><br><label><b>dtype:</b> object</label>"
            ]
          },
          "metadata": {},
          "execution_count": 5
        }
      ]
    },
    {
      "cell_type": "markdown",
      "source": [
        "Избавимся от дубликатов (если такие есть)"
      ],
      "metadata": {
        "id": "c7kNyuUZPavs"
      }
    },
    {
      "cell_type": "code",
      "source": [
        "data_frame = data_frame.drop_duplicates(subset='PassengerId', keep='first')"
      ],
      "metadata": {
        "id": "XkQJnZZwUtmm"
      },
      "execution_count": 6,
      "outputs": []
    },
    {
      "cell_type": "markdown",
      "source": [
        "Выведем итоговую таблицу, с которой будем работать"
      ],
      "metadata": {
        "id": "v5ywgOd4VScy"
      }
    },
    {
      "cell_type": "code",
      "source": [
        "data_frame.head()"
      ],
      "metadata": {
        "colab": {
          "base_uri": "https://localhost:8080/",
          "height": 258
        },
        "id": "uAQYWopGUX-D",
        "outputId": "c8cac7fe-a245-4f00-90e8-f2d37e85314a"
      },
      "execution_count": 7,
      "outputs": [
        {
          "output_type": "execute_result",
          "data": {
            "text/plain": [
              "   PassengerId Survived Pclass  \\\n",
              "0            1      0.0      3   \n",
              "1            2      1.0      1   \n",
              "2            3      1.0      3   \n",
              "3            4      1.0      1   \n",
              "4            5      0.0      3   \n",
              "\n",
              "                                                Name     Sex   Age  SibSp  \\\n",
              "0                            Braund, Mr. Owen Harris    male  22.0      1   \n",
              "1  Cumings, Mrs. John Bradley (Florence Briggs Th...  female  38.0      1   \n",
              "2                             Heikkinen, Miss. Laina  female  26.0      0   \n",
              "3       Futrelle, Mrs. Jacques Heath (Lily May Peel)  female  35.0      1   \n",
              "4                           Allen, Mr. William Henry    male  35.0      0   \n",
              "\n",
              "   Parch            Ticket     Fare Cabin Embarked  \n",
              "0      0         A/5 21171   7.2500   NaN        S  \n",
              "1      0          PC 17599  71.2833   C85        C  \n",
              "2      0  STON/O2. 3101282   7.9250   NaN        S  \n",
              "3      0            113803  53.1000  C123        S  \n",
              "4      0            373450   8.0500   NaN        S  "
            ],
            "text/html": [
              "\n",
              "  <div id=\"df-d81aaf14-469c-4423-9467-c0784b3756cf\" class=\"colab-df-container\">\n",
              "    <div>\n",
              "<style scoped>\n",
              "    .dataframe tbody tr th:only-of-type {\n",
              "        vertical-align: middle;\n",
              "    }\n",
              "\n",
              "    .dataframe tbody tr th {\n",
              "        vertical-align: top;\n",
              "    }\n",
              "\n",
              "    .dataframe thead th {\n",
              "        text-align: right;\n",
              "    }\n",
              "</style>\n",
              "<table border=\"1\" class=\"dataframe\">\n",
              "  <thead>\n",
              "    <tr style=\"text-align: right;\">\n",
              "      <th></th>\n",
              "      <th>PassengerId</th>\n",
              "      <th>Survived</th>\n",
              "      <th>Pclass</th>\n",
              "      <th>Name</th>\n",
              "      <th>Sex</th>\n",
              "      <th>Age</th>\n",
              "      <th>SibSp</th>\n",
              "      <th>Parch</th>\n",
              "      <th>Ticket</th>\n",
              "      <th>Fare</th>\n",
              "      <th>Cabin</th>\n",
              "      <th>Embarked</th>\n",
              "    </tr>\n",
              "  </thead>\n",
              "  <tbody>\n",
              "    <tr>\n",
              "      <th>0</th>\n",
              "      <td>1</td>\n",
              "      <td>0.0</td>\n",
              "      <td>3</td>\n",
              "      <td>Braund, Mr. Owen Harris</td>\n",
              "      <td>male</td>\n",
              "      <td>22.0</td>\n",
              "      <td>1</td>\n",
              "      <td>0</td>\n",
              "      <td>A/5 21171</td>\n",
              "      <td>7.2500</td>\n",
              "      <td>NaN</td>\n",
              "      <td>S</td>\n",
              "    </tr>\n",
              "    <tr>\n",
              "      <th>1</th>\n",
              "      <td>2</td>\n",
              "      <td>1.0</td>\n",
              "      <td>1</td>\n",
              "      <td>Cumings, Mrs. John Bradley (Florence Briggs Th...</td>\n",
              "      <td>female</td>\n",
              "      <td>38.0</td>\n",
              "      <td>1</td>\n",
              "      <td>0</td>\n",
              "      <td>PC 17599</td>\n",
              "      <td>71.2833</td>\n",
              "      <td>C85</td>\n",
              "      <td>C</td>\n",
              "    </tr>\n",
              "    <tr>\n",
              "      <th>2</th>\n",
              "      <td>3</td>\n",
              "      <td>1.0</td>\n",
              "      <td>3</td>\n",
              "      <td>Heikkinen, Miss. Laina</td>\n",
              "      <td>female</td>\n",
              "      <td>26.0</td>\n",
              "      <td>0</td>\n",
              "      <td>0</td>\n",
              "      <td>STON/O2. 3101282</td>\n",
              "      <td>7.9250</td>\n",
              "      <td>NaN</td>\n",
              "      <td>S</td>\n",
              "    </tr>\n",
              "    <tr>\n",
              "      <th>3</th>\n",
              "      <td>4</td>\n",
              "      <td>1.0</td>\n",
              "      <td>1</td>\n",
              "      <td>Futrelle, Mrs. Jacques Heath (Lily May Peel)</td>\n",
              "      <td>female</td>\n",
              "      <td>35.0</td>\n",
              "      <td>1</td>\n",
              "      <td>0</td>\n",
              "      <td>113803</td>\n",
              "      <td>53.1000</td>\n",
              "      <td>C123</td>\n",
              "      <td>S</td>\n",
              "    </tr>\n",
              "    <tr>\n",
              "      <th>4</th>\n",
              "      <td>5</td>\n",
              "      <td>0.0</td>\n",
              "      <td>3</td>\n",
              "      <td>Allen, Mr. William Henry</td>\n",
              "      <td>male</td>\n",
              "      <td>35.0</td>\n",
              "      <td>0</td>\n",
              "      <td>0</td>\n",
              "      <td>373450</td>\n",
              "      <td>8.0500</td>\n",
              "      <td>NaN</td>\n",
              "      <td>S</td>\n",
              "    </tr>\n",
              "  </tbody>\n",
              "</table>\n",
              "</div>\n",
              "    <div class=\"colab-df-buttons\">\n",
              "\n",
              "  <div class=\"colab-df-container\">\n",
              "    <button class=\"colab-df-convert\" onclick=\"convertToInteractive('df-d81aaf14-469c-4423-9467-c0784b3756cf')\"\n",
              "            title=\"Convert this dataframe to an interactive table.\"\n",
              "            style=\"display:none;\">\n",
              "\n",
              "  <svg xmlns=\"http://www.w3.org/2000/svg\" height=\"24px\" viewBox=\"0 -960 960 960\">\n",
              "    <path d=\"M120-120v-720h720v720H120Zm60-500h600v-160H180v160Zm220 220h160v-160H400v160Zm0 220h160v-160H400v160ZM180-400h160v-160H180v160Zm440 0h160v-160H620v160ZM180-180h160v-160H180v160Zm440 0h160v-160H620v160Z\"/>\n",
              "  </svg>\n",
              "    </button>\n",
              "\n",
              "  <style>\n",
              "    .colab-df-container {\n",
              "      display:flex;\n",
              "      gap: 12px;\n",
              "    }\n",
              "\n",
              "    .colab-df-convert {\n",
              "      background-color: #E8F0FE;\n",
              "      border: none;\n",
              "      border-radius: 50%;\n",
              "      cursor: pointer;\n",
              "      display: none;\n",
              "      fill: #1967D2;\n",
              "      height: 32px;\n",
              "      padding: 0 0 0 0;\n",
              "      width: 32px;\n",
              "    }\n",
              "\n",
              "    .colab-df-convert:hover {\n",
              "      background-color: #E2EBFA;\n",
              "      box-shadow: 0px 1px 2px rgba(60, 64, 67, 0.3), 0px 1px 3px 1px rgba(60, 64, 67, 0.15);\n",
              "      fill: #174EA6;\n",
              "    }\n",
              "\n",
              "    .colab-df-buttons div {\n",
              "      margin-bottom: 4px;\n",
              "    }\n",
              "\n",
              "    [theme=dark] .colab-df-convert {\n",
              "      background-color: #3B4455;\n",
              "      fill: #D2E3FC;\n",
              "    }\n",
              "\n",
              "    [theme=dark] .colab-df-convert:hover {\n",
              "      background-color: #434B5C;\n",
              "      box-shadow: 0px 1px 3px 1px rgba(0, 0, 0, 0.15);\n",
              "      filter: drop-shadow(0px 1px 2px rgba(0, 0, 0, 0.3));\n",
              "      fill: #FFFFFF;\n",
              "    }\n",
              "  </style>\n",
              "\n",
              "    <script>\n",
              "      const buttonEl =\n",
              "        document.querySelector('#df-d81aaf14-469c-4423-9467-c0784b3756cf button.colab-df-convert');\n",
              "      buttonEl.style.display =\n",
              "        google.colab.kernel.accessAllowed ? 'block' : 'none';\n",
              "\n",
              "      async function convertToInteractive(key) {\n",
              "        const element = document.querySelector('#df-d81aaf14-469c-4423-9467-c0784b3756cf');\n",
              "        const dataTable =\n",
              "          await google.colab.kernel.invokeFunction('convertToInteractive',\n",
              "                                                    [key], {});\n",
              "        if (!dataTable) return;\n",
              "\n",
              "        const docLinkHtml = 'Like what you see? Visit the ' +\n",
              "          '<a target=\"_blank\" href=https://colab.research.google.com/notebooks/data_table.ipynb>data table notebook</a>'\n",
              "          + ' to learn more about interactive tables.';\n",
              "        element.innerHTML = '';\n",
              "        dataTable['output_type'] = 'display_data';\n",
              "        await google.colab.output.renderOutput(dataTable, element);\n",
              "        const docLink = document.createElement('div');\n",
              "        docLink.innerHTML = docLinkHtml;\n",
              "        element.appendChild(docLink);\n",
              "      }\n",
              "    </script>\n",
              "  </div>\n",
              "\n",
              "\n",
              "<div id=\"df-748fb919-4a28-4bb7-a2fe-131e0179a7d1\">\n",
              "  <button class=\"colab-df-quickchart\" onclick=\"quickchart('df-748fb919-4a28-4bb7-a2fe-131e0179a7d1')\"\n",
              "            title=\"Suggest charts\"\n",
              "            style=\"display:none;\">\n",
              "\n",
              "<svg xmlns=\"http://www.w3.org/2000/svg\" height=\"24px\"viewBox=\"0 0 24 24\"\n",
              "     width=\"24px\">\n",
              "    <g>\n",
              "        <path d=\"M19 3H5c-1.1 0-2 .9-2 2v14c0 1.1.9 2 2 2h14c1.1 0 2-.9 2-2V5c0-1.1-.9-2-2-2zM9 17H7v-7h2v7zm4 0h-2V7h2v10zm4 0h-2v-4h2v4z\"/>\n",
              "    </g>\n",
              "</svg>\n",
              "  </button>\n",
              "\n",
              "<style>\n",
              "  .colab-df-quickchart {\n",
              "      --bg-color: #E8F0FE;\n",
              "      --fill-color: #1967D2;\n",
              "      --hover-bg-color: #E2EBFA;\n",
              "      --hover-fill-color: #174EA6;\n",
              "      --disabled-fill-color: #AAA;\n",
              "      --disabled-bg-color: #DDD;\n",
              "  }\n",
              "\n",
              "  [theme=dark] .colab-df-quickchart {\n",
              "      --bg-color: #3B4455;\n",
              "      --fill-color: #D2E3FC;\n",
              "      --hover-bg-color: #434B5C;\n",
              "      --hover-fill-color: #FFFFFF;\n",
              "      --disabled-bg-color: #3B4455;\n",
              "      --disabled-fill-color: #666;\n",
              "  }\n",
              "\n",
              "  .colab-df-quickchart {\n",
              "    background-color: var(--bg-color);\n",
              "    border: none;\n",
              "    border-radius: 50%;\n",
              "    cursor: pointer;\n",
              "    display: none;\n",
              "    fill: var(--fill-color);\n",
              "    height: 32px;\n",
              "    padding: 0;\n",
              "    width: 32px;\n",
              "  }\n",
              "\n",
              "  .colab-df-quickchart:hover {\n",
              "    background-color: var(--hover-bg-color);\n",
              "    box-shadow: 0 1px 2px rgba(60, 64, 67, 0.3), 0 1px 3px 1px rgba(60, 64, 67, 0.15);\n",
              "    fill: var(--button-hover-fill-color);\n",
              "  }\n",
              "\n",
              "  .colab-df-quickchart-complete:disabled,\n",
              "  .colab-df-quickchart-complete:disabled:hover {\n",
              "    background-color: var(--disabled-bg-color);\n",
              "    fill: var(--disabled-fill-color);\n",
              "    box-shadow: none;\n",
              "  }\n",
              "\n",
              "  .colab-df-spinner {\n",
              "    border: 2px solid var(--fill-color);\n",
              "    border-color: transparent;\n",
              "    border-bottom-color: var(--fill-color);\n",
              "    animation:\n",
              "      spin 1s steps(1) infinite;\n",
              "  }\n",
              "\n",
              "  @keyframes spin {\n",
              "    0% {\n",
              "      border-color: transparent;\n",
              "      border-bottom-color: var(--fill-color);\n",
              "      border-left-color: var(--fill-color);\n",
              "    }\n",
              "    20% {\n",
              "      border-color: transparent;\n",
              "      border-left-color: var(--fill-color);\n",
              "      border-top-color: var(--fill-color);\n",
              "    }\n",
              "    30% {\n",
              "      border-color: transparent;\n",
              "      border-left-color: var(--fill-color);\n",
              "      border-top-color: var(--fill-color);\n",
              "      border-right-color: var(--fill-color);\n",
              "    }\n",
              "    40% {\n",
              "      border-color: transparent;\n",
              "      border-right-color: var(--fill-color);\n",
              "      border-top-color: var(--fill-color);\n",
              "    }\n",
              "    60% {\n",
              "      border-color: transparent;\n",
              "      border-right-color: var(--fill-color);\n",
              "    }\n",
              "    80% {\n",
              "      border-color: transparent;\n",
              "      border-right-color: var(--fill-color);\n",
              "      border-bottom-color: var(--fill-color);\n",
              "    }\n",
              "    90% {\n",
              "      border-color: transparent;\n",
              "      border-bottom-color: var(--fill-color);\n",
              "    }\n",
              "  }\n",
              "</style>\n",
              "\n",
              "  <script>\n",
              "    async function quickchart(key) {\n",
              "      const quickchartButtonEl =\n",
              "        document.querySelector('#' + key + ' button');\n",
              "      quickchartButtonEl.disabled = true;  // To prevent multiple clicks.\n",
              "      quickchartButtonEl.classList.add('colab-df-spinner');\n",
              "      try {\n",
              "        const charts = await google.colab.kernel.invokeFunction(\n",
              "            'suggestCharts', [key], {});\n",
              "      } catch (error) {\n",
              "        console.error('Error during call to suggestCharts:', error);\n",
              "      }\n",
              "      quickchartButtonEl.classList.remove('colab-df-spinner');\n",
              "      quickchartButtonEl.classList.add('colab-df-quickchart-complete');\n",
              "    }\n",
              "    (() => {\n",
              "      let quickchartButtonEl =\n",
              "        document.querySelector('#df-748fb919-4a28-4bb7-a2fe-131e0179a7d1 button');\n",
              "      quickchartButtonEl.style.display =\n",
              "        google.colab.kernel.accessAllowed ? 'block' : 'none';\n",
              "    })();\n",
              "  </script>\n",
              "</div>\n",
              "    </div>\n",
              "  </div>\n"
            ],
            "application/vnd.google.colaboratory.intrinsic+json": {
              "type": "dataframe",
              "variable_name": "data_frame",
              "summary": "{\n  \"name\": \"data_frame\",\n  \"rows\": 1309,\n  \"fields\": [\n    {\n      \"column\": \"PassengerId\",\n      \"properties\": {\n        \"dtype\": \"number\",\n        \"std\": 378,\n        \"min\": 1,\n        \"max\": 1309,\n        \"num_unique_values\": 1309,\n        \"samples\": [\n          1149,\n          1050,\n          983\n        ],\n        \"semantic_type\": \"\",\n        \"description\": \"\"\n      }\n    },\n    {\n      \"column\": \"Survived\",\n      \"properties\": {\n        \"dtype\": \"category\",\n        \"num_unique_values\": 2,\n        \"samples\": [\n          1.0,\n          0.0\n        ],\n        \"semantic_type\": \"\",\n        \"description\": \"\"\n      }\n    },\n    {\n      \"column\": \"Pclass\",\n      \"properties\": {\n        \"dtype\": \"category\",\n        \"num_unique_values\": 3,\n        \"samples\": [\n          3,\n          1\n        ],\n        \"semantic_type\": \"\",\n        \"description\": \"\"\n      }\n    },\n    {\n      \"column\": \"Name\",\n      \"properties\": {\n        \"dtype\": \"string\",\n        \"num_unique_values\": 1307,\n        \"samples\": [\n          \"Bryhl, Miss. Dagmar Jenny Ingeborg \",\n          \"Borebank, Mr. John James\"\n        ],\n        \"semantic_type\": \"\",\n        \"description\": \"\"\n      }\n    },\n    {\n      \"column\": \"Sex\",\n      \"properties\": {\n        \"dtype\": \"category\",\n        \"num_unique_values\": 2,\n        \"samples\": [\n          \"female\",\n          \"male\"\n        ],\n        \"semantic_type\": \"\",\n        \"description\": \"\"\n      }\n    },\n    {\n      \"column\": \"Age\",\n      \"properties\": {\n        \"dtype\": \"number\",\n        \"std\": 14.413493211271334,\n        \"min\": 0.17,\n        \"max\": 80.0,\n        \"num_unique_values\": 98,\n        \"samples\": [\n          45.5,\n          23.0\n        ],\n        \"semantic_type\": \"\",\n        \"description\": \"\"\n      }\n    },\n    {\n      \"column\": \"SibSp\",\n      \"properties\": {\n        \"dtype\": \"number\",\n        \"std\": 1,\n        \"min\": 0,\n        \"max\": 8,\n        \"num_unique_values\": 7,\n        \"samples\": [\n          1,\n          0\n        ],\n        \"semantic_type\": \"\",\n        \"description\": \"\"\n      }\n    },\n    {\n      \"column\": \"Parch\",\n      \"properties\": {\n        \"dtype\": \"number\",\n        \"std\": 0,\n        \"min\": 0,\n        \"max\": 9,\n        \"num_unique_values\": 8,\n        \"samples\": [\n          1,\n          4\n        ],\n        \"semantic_type\": \"\",\n        \"description\": \"\"\n      }\n    },\n    {\n      \"column\": \"Ticket\",\n      \"properties\": {\n        \"dtype\": \"string\",\n        \"num_unique_values\": 929,\n        \"samples\": [\n          \"PC 17531\",\n          \"345765\"\n        ],\n        \"semantic_type\": \"\",\n        \"description\": \"\"\n      }\n    },\n    {\n      \"column\": \"Fare\",\n      \"properties\": {\n        \"dtype\": \"number\",\n        \"std\": 51.75866823917414,\n        \"min\": 0.0,\n        \"max\": 512.3292,\n        \"num_unique_values\": 281,\n        \"samples\": [\n          11.2417,\n          35.0\n        ],\n        \"semantic_type\": \"\",\n        \"description\": \"\"\n      }\n    },\n    {\n      \"column\": \"Cabin\",\n      \"properties\": {\n        \"dtype\": \"category\",\n        \"num_unique_values\": 186,\n        \"samples\": [\n          \"B71\",\n          \"C51\"\n        ],\n        \"semantic_type\": \"\",\n        \"description\": \"\"\n      }\n    },\n    {\n      \"column\": \"Embarked\",\n      \"properties\": {\n        \"dtype\": \"category\",\n        \"num_unique_values\": 3,\n        \"samples\": [\n          \"S\",\n          \"C\"\n        ],\n        \"semantic_type\": \"\",\n        \"description\": \"\"\n      }\n    }\n  ]\n}"
            }
          },
          "metadata": {},
          "execution_count": 7
        }
      ]
    },
    {
      "cell_type": "markdown",
      "source": [
        "# Анализ таблицы"
      ],
      "metadata": {
        "id": "a2srvwmUUXhF"
      }
    },
    {
      "cell_type": "markdown",
      "source": [
        "Выведим общую статистику таблицы"
      ],
      "metadata": {
        "id": "nleljP6lc7Mv"
      }
    },
    {
      "cell_type": "code",
      "source": [
        "data_frame.info()"
      ],
      "metadata": {
        "colab": {
          "base_uri": "https://localhost:8080/"
        },
        "id": "PbuSyzMbdGxh",
        "outputId": "a073c692-2ddf-446f-d75b-27adb52c9278"
      },
      "execution_count": 8,
      "outputs": [
        {
          "output_type": "stream",
          "name": "stdout",
          "text": [
            "<class 'pandas.core.frame.DataFrame'>\n",
            "RangeIndex: 1309 entries, 0 to 1308\n",
            "Data columns (total 12 columns):\n",
            " #   Column       Non-Null Count  Dtype   \n",
            "---  ------       --------------  -----   \n",
            " 0   PassengerId  1309 non-null   int64   \n",
            " 1   Survived     891 non-null    category\n",
            " 2   Pclass       1309 non-null   category\n",
            " 3   Name         1309 non-null   object  \n",
            " 4   Sex          1309 non-null   category\n",
            " 5   Age          1046 non-null   float64 \n",
            " 6   SibSp        1309 non-null   int64   \n",
            " 7   Parch        1309 non-null   int64   \n",
            " 8   Ticket       1309 non-null   object  \n",
            " 9   Fare         1308 non-null   float64 \n",
            " 10  Cabin        295 non-null    object  \n",
            " 11  Embarked     1307 non-null   category\n",
            "dtypes: category(4), float64(2), int64(3), object(3)\n",
            "memory usage: 87.6+ KB\n"
          ]
        }
      ]
    },
    {
      "cell_type": "markdown",
      "source": [
        "Выведим основные статистические характеристики"
      ],
      "metadata": {
        "id": "Ta5VVNvudJ8J"
      }
    },
    {
      "cell_type": "code",
      "source": [
        "data_frame.describe()"
      ],
      "metadata": {
        "colab": {
          "base_uri": "https://localhost:8080/",
          "height": 300
        },
        "id": "TYtGq6Bfdk6D",
        "outputId": "f3275990-73d9-4530-ff64-b771b3a0ae99"
      },
      "execution_count": 9,
      "outputs": [
        {
          "output_type": "execute_result",
          "data": {
            "text/plain": [
              "       PassengerId          Age        SibSp        Parch         Fare\n",
              "count  1309.000000  1046.000000  1309.000000  1309.000000  1308.000000\n",
              "mean    655.000000    29.881138     0.498854     0.385027    33.295479\n",
              "std     378.020061    14.413493     1.041658     0.865560    51.758668\n",
              "min       1.000000     0.170000     0.000000     0.000000     0.000000\n",
              "25%     328.000000    21.000000     0.000000     0.000000     7.895800\n",
              "50%     655.000000    28.000000     0.000000     0.000000    14.454200\n",
              "75%     982.000000    39.000000     1.000000     0.000000    31.275000\n",
              "max    1309.000000    80.000000     8.000000     9.000000   512.329200"
            ],
            "text/html": [
              "\n",
              "  <div id=\"df-9253de26-ba14-4f5b-a68d-49eacc8d12fa\" class=\"colab-df-container\">\n",
              "    <div>\n",
              "<style scoped>\n",
              "    .dataframe tbody tr th:only-of-type {\n",
              "        vertical-align: middle;\n",
              "    }\n",
              "\n",
              "    .dataframe tbody tr th {\n",
              "        vertical-align: top;\n",
              "    }\n",
              "\n",
              "    .dataframe thead th {\n",
              "        text-align: right;\n",
              "    }\n",
              "</style>\n",
              "<table border=\"1\" class=\"dataframe\">\n",
              "  <thead>\n",
              "    <tr style=\"text-align: right;\">\n",
              "      <th></th>\n",
              "      <th>PassengerId</th>\n",
              "      <th>Age</th>\n",
              "      <th>SibSp</th>\n",
              "      <th>Parch</th>\n",
              "      <th>Fare</th>\n",
              "    </tr>\n",
              "  </thead>\n",
              "  <tbody>\n",
              "    <tr>\n",
              "      <th>count</th>\n",
              "      <td>1309.000000</td>\n",
              "      <td>1046.000000</td>\n",
              "      <td>1309.000000</td>\n",
              "      <td>1309.000000</td>\n",
              "      <td>1308.000000</td>\n",
              "    </tr>\n",
              "    <tr>\n",
              "      <th>mean</th>\n",
              "      <td>655.000000</td>\n",
              "      <td>29.881138</td>\n",
              "      <td>0.498854</td>\n",
              "      <td>0.385027</td>\n",
              "      <td>33.295479</td>\n",
              "    </tr>\n",
              "    <tr>\n",
              "      <th>std</th>\n",
              "      <td>378.020061</td>\n",
              "      <td>14.413493</td>\n",
              "      <td>1.041658</td>\n",
              "      <td>0.865560</td>\n",
              "      <td>51.758668</td>\n",
              "    </tr>\n",
              "    <tr>\n",
              "      <th>min</th>\n",
              "      <td>1.000000</td>\n",
              "      <td>0.170000</td>\n",
              "      <td>0.000000</td>\n",
              "      <td>0.000000</td>\n",
              "      <td>0.000000</td>\n",
              "    </tr>\n",
              "    <tr>\n",
              "      <th>25%</th>\n",
              "      <td>328.000000</td>\n",
              "      <td>21.000000</td>\n",
              "      <td>0.000000</td>\n",
              "      <td>0.000000</td>\n",
              "      <td>7.895800</td>\n",
              "    </tr>\n",
              "    <tr>\n",
              "      <th>50%</th>\n",
              "      <td>655.000000</td>\n",
              "      <td>28.000000</td>\n",
              "      <td>0.000000</td>\n",
              "      <td>0.000000</td>\n",
              "      <td>14.454200</td>\n",
              "    </tr>\n",
              "    <tr>\n",
              "      <th>75%</th>\n",
              "      <td>982.000000</td>\n",
              "      <td>39.000000</td>\n",
              "      <td>1.000000</td>\n",
              "      <td>0.000000</td>\n",
              "      <td>31.275000</td>\n",
              "    </tr>\n",
              "    <tr>\n",
              "      <th>max</th>\n",
              "      <td>1309.000000</td>\n",
              "      <td>80.000000</td>\n",
              "      <td>8.000000</td>\n",
              "      <td>9.000000</td>\n",
              "      <td>512.329200</td>\n",
              "    </tr>\n",
              "  </tbody>\n",
              "</table>\n",
              "</div>\n",
              "    <div class=\"colab-df-buttons\">\n",
              "\n",
              "  <div class=\"colab-df-container\">\n",
              "    <button class=\"colab-df-convert\" onclick=\"convertToInteractive('df-9253de26-ba14-4f5b-a68d-49eacc8d12fa')\"\n",
              "            title=\"Convert this dataframe to an interactive table.\"\n",
              "            style=\"display:none;\">\n",
              "\n",
              "  <svg xmlns=\"http://www.w3.org/2000/svg\" height=\"24px\" viewBox=\"0 -960 960 960\">\n",
              "    <path d=\"M120-120v-720h720v720H120Zm60-500h600v-160H180v160Zm220 220h160v-160H400v160Zm0 220h160v-160H400v160ZM180-400h160v-160H180v160Zm440 0h160v-160H620v160ZM180-180h160v-160H180v160Zm440 0h160v-160H620v160Z\"/>\n",
              "  </svg>\n",
              "    </button>\n",
              "\n",
              "  <style>\n",
              "    .colab-df-container {\n",
              "      display:flex;\n",
              "      gap: 12px;\n",
              "    }\n",
              "\n",
              "    .colab-df-convert {\n",
              "      background-color: #E8F0FE;\n",
              "      border: none;\n",
              "      border-radius: 50%;\n",
              "      cursor: pointer;\n",
              "      display: none;\n",
              "      fill: #1967D2;\n",
              "      height: 32px;\n",
              "      padding: 0 0 0 0;\n",
              "      width: 32px;\n",
              "    }\n",
              "\n",
              "    .colab-df-convert:hover {\n",
              "      background-color: #E2EBFA;\n",
              "      box-shadow: 0px 1px 2px rgba(60, 64, 67, 0.3), 0px 1px 3px 1px rgba(60, 64, 67, 0.15);\n",
              "      fill: #174EA6;\n",
              "    }\n",
              "\n",
              "    .colab-df-buttons div {\n",
              "      margin-bottom: 4px;\n",
              "    }\n",
              "\n",
              "    [theme=dark] .colab-df-convert {\n",
              "      background-color: #3B4455;\n",
              "      fill: #D2E3FC;\n",
              "    }\n",
              "\n",
              "    [theme=dark] .colab-df-convert:hover {\n",
              "      background-color: #434B5C;\n",
              "      box-shadow: 0px 1px 3px 1px rgba(0, 0, 0, 0.15);\n",
              "      filter: drop-shadow(0px 1px 2px rgba(0, 0, 0, 0.3));\n",
              "      fill: #FFFFFF;\n",
              "    }\n",
              "  </style>\n",
              "\n",
              "    <script>\n",
              "      const buttonEl =\n",
              "        document.querySelector('#df-9253de26-ba14-4f5b-a68d-49eacc8d12fa button.colab-df-convert');\n",
              "      buttonEl.style.display =\n",
              "        google.colab.kernel.accessAllowed ? 'block' : 'none';\n",
              "\n",
              "      async function convertToInteractive(key) {\n",
              "        const element = document.querySelector('#df-9253de26-ba14-4f5b-a68d-49eacc8d12fa');\n",
              "        const dataTable =\n",
              "          await google.colab.kernel.invokeFunction('convertToInteractive',\n",
              "                                                    [key], {});\n",
              "        if (!dataTable) return;\n",
              "\n",
              "        const docLinkHtml = 'Like what you see? Visit the ' +\n",
              "          '<a target=\"_blank\" href=https://colab.research.google.com/notebooks/data_table.ipynb>data table notebook</a>'\n",
              "          + ' to learn more about interactive tables.';\n",
              "        element.innerHTML = '';\n",
              "        dataTable['output_type'] = 'display_data';\n",
              "        await google.colab.output.renderOutput(dataTable, element);\n",
              "        const docLink = document.createElement('div');\n",
              "        docLink.innerHTML = docLinkHtml;\n",
              "        element.appendChild(docLink);\n",
              "      }\n",
              "    </script>\n",
              "  </div>\n",
              "\n",
              "\n",
              "<div id=\"df-d63b9017-b636-4592-be67-db379c48ccd4\">\n",
              "  <button class=\"colab-df-quickchart\" onclick=\"quickchart('df-d63b9017-b636-4592-be67-db379c48ccd4')\"\n",
              "            title=\"Suggest charts\"\n",
              "            style=\"display:none;\">\n",
              "\n",
              "<svg xmlns=\"http://www.w3.org/2000/svg\" height=\"24px\"viewBox=\"0 0 24 24\"\n",
              "     width=\"24px\">\n",
              "    <g>\n",
              "        <path d=\"M19 3H5c-1.1 0-2 .9-2 2v14c0 1.1.9 2 2 2h14c1.1 0 2-.9 2-2V5c0-1.1-.9-2-2-2zM9 17H7v-7h2v7zm4 0h-2V7h2v10zm4 0h-2v-4h2v4z\"/>\n",
              "    </g>\n",
              "</svg>\n",
              "  </button>\n",
              "\n",
              "<style>\n",
              "  .colab-df-quickchart {\n",
              "      --bg-color: #E8F0FE;\n",
              "      --fill-color: #1967D2;\n",
              "      --hover-bg-color: #E2EBFA;\n",
              "      --hover-fill-color: #174EA6;\n",
              "      --disabled-fill-color: #AAA;\n",
              "      --disabled-bg-color: #DDD;\n",
              "  }\n",
              "\n",
              "  [theme=dark] .colab-df-quickchart {\n",
              "      --bg-color: #3B4455;\n",
              "      --fill-color: #D2E3FC;\n",
              "      --hover-bg-color: #434B5C;\n",
              "      --hover-fill-color: #FFFFFF;\n",
              "      --disabled-bg-color: #3B4455;\n",
              "      --disabled-fill-color: #666;\n",
              "  }\n",
              "\n",
              "  .colab-df-quickchart {\n",
              "    background-color: var(--bg-color);\n",
              "    border: none;\n",
              "    border-radius: 50%;\n",
              "    cursor: pointer;\n",
              "    display: none;\n",
              "    fill: var(--fill-color);\n",
              "    height: 32px;\n",
              "    padding: 0;\n",
              "    width: 32px;\n",
              "  }\n",
              "\n",
              "  .colab-df-quickchart:hover {\n",
              "    background-color: var(--hover-bg-color);\n",
              "    box-shadow: 0 1px 2px rgba(60, 64, 67, 0.3), 0 1px 3px 1px rgba(60, 64, 67, 0.15);\n",
              "    fill: var(--button-hover-fill-color);\n",
              "  }\n",
              "\n",
              "  .colab-df-quickchart-complete:disabled,\n",
              "  .colab-df-quickchart-complete:disabled:hover {\n",
              "    background-color: var(--disabled-bg-color);\n",
              "    fill: var(--disabled-fill-color);\n",
              "    box-shadow: none;\n",
              "  }\n",
              "\n",
              "  .colab-df-spinner {\n",
              "    border: 2px solid var(--fill-color);\n",
              "    border-color: transparent;\n",
              "    border-bottom-color: var(--fill-color);\n",
              "    animation:\n",
              "      spin 1s steps(1) infinite;\n",
              "  }\n",
              "\n",
              "  @keyframes spin {\n",
              "    0% {\n",
              "      border-color: transparent;\n",
              "      border-bottom-color: var(--fill-color);\n",
              "      border-left-color: var(--fill-color);\n",
              "    }\n",
              "    20% {\n",
              "      border-color: transparent;\n",
              "      border-left-color: var(--fill-color);\n",
              "      border-top-color: var(--fill-color);\n",
              "    }\n",
              "    30% {\n",
              "      border-color: transparent;\n",
              "      border-left-color: var(--fill-color);\n",
              "      border-top-color: var(--fill-color);\n",
              "      border-right-color: var(--fill-color);\n",
              "    }\n",
              "    40% {\n",
              "      border-color: transparent;\n",
              "      border-right-color: var(--fill-color);\n",
              "      border-top-color: var(--fill-color);\n",
              "    }\n",
              "    60% {\n",
              "      border-color: transparent;\n",
              "      border-right-color: var(--fill-color);\n",
              "    }\n",
              "    80% {\n",
              "      border-color: transparent;\n",
              "      border-right-color: var(--fill-color);\n",
              "      border-bottom-color: var(--fill-color);\n",
              "    }\n",
              "    90% {\n",
              "      border-color: transparent;\n",
              "      border-bottom-color: var(--fill-color);\n",
              "    }\n",
              "  }\n",
              "</style>\n",
              "\n",
              "  <script>\n",
              "    async function quickchart(key) {\n",
              "      const quickchartButtonEl =\n",
              "        document.querySelector('#' + key + ' button');\n",
              "      quickchartButtonEl.disabled = true;  // To prevent multiple clicks.\n",
              "      quickchartButtonEl.classList.add('colab-df-spinner');\n",
              "      try {\n",
              "        const charts = await google.colab.kernel.invokeFunction(\n",
              "            'suggestCharts', [key], {});\n",
              "      } catch (error) {\n",
              "        console.error('Error during call to suggestCharts:', error);\n",
              "      }\n",
              "      quickchartButtonEl.classList.remove('colab-df-spinner');\n",
              "      quickchartButtonEl.classList.add('colab-df-quickchart-complete');\n",
              "    }\n",
              "    (() => {\n",
              "      let quickchartButtonEl =\n",
              "        document.querySelector('#df-d63b9017-b636-4592-be67-db379c48ccd4 button');\n",
              "      quickchartButtonEl.style.display =\n",
              "        google.colab.kernel.accessAllowed ? 'block' : 'none';\n",
              "    })();\n",
              "  </script>\n",
              "</div>\n",
              "    </div>\n",
              "  </div>\n"
            ],
            "application/vnd.google.colaboratory.intrinsic+json": {
              "type": "dataframe",
              "summary": "{\n  \"name\": \"data_frame\",\n  \"rows\": 8,\n  \"fields\": [\n    {\n      \"column\": \"PassengerId\",\n      \"properties\": {\n        \"dtype\": \"number\",\n        \"std\": 471.4651737906,\n        \"min\": 1.0,\n        \"max\": 1309.0,\n        \"num_unique_values\": 6,\n        \"samples\": [\n          1309.0,\n          655.0,\n          982.0\n        ],\n        \"semantic_type\": \"\",\n        \"description\": \"\"\n      }\n    },\n    {\n      \"column\": \"Age\",\n      \"properties\": {\n        \"dtype\": \"number\",\n        \"std\": 359.84044215622254,\n        \"min\": 0.17,\n        \"max\": 1046.0,\n        \"num_unique_values\": 8,\n        \"samples\": [\n          29.881137667304014,\n          28.0,\n          1046.0\n        ],\n        \"semantic_type\": \"\",\n        \"description\": \"\"\n      }\n    },\n    {\n      \"column\": \"SibSp\",\n      \"properties\": {\n        \"dtype\": \"number\",\n        \"std\": 462.27680922007715,\n        \"min\": 0.0,\n        \"max\": 1309.0,\n        \"num_unique_values\": 6,\n        \"samples\": [\n          1309.0,\n          0.4988540870893812,\n          8.0\n        ],\n        \"semantic_type\": \"\",\n        \"description\": \"\"\n      }\n    },\n    {\n      \"column\": \"Parch\",\n      \"properties\": {\n        \"dtype\": \"number\",\n        \"std\": 462.29399018424664,\n        \"min\": 0.0,\n        \"max\": 1309.0,\n        \"num_unique_values\": 5,\n        \"samples\": [\n          0.3850267379679144,\n          9.0,\n          0.8655602753495125\n        ],\n        \"semantic_type\": \"\",\n        \"description\": \"\"\n      }\n    },\n    {\n      \"column\": \"Fare\",\n      \"properties\": {\n        \"dtype\": \"number\",\n        \"std\": 462.70446257758823,\n        \"min\": 0.0,\n        \"max\": 1308.0,\n        \"num_unique_values\": 8,\n        \"samples\": [\n          33.29547928134557,\n          14.4542,\n          1308.0\n        ],\n        \"semantic_type\": \"\",\n        \"description\": \"\"\n      }\n    }\n  ]\n}"
            }
          },
          "metadata": {},
          "execution_count": 9
        }
      ]
    },
    {
      "cell_type": "markdown",
      "source": [
        "Визуализируем часть статистики"
      ],
      "metadata": {
        "id": "7xanMVPPd2Nq"
      }
    },
    {
      "cell_type": "markdown",
      "source": [
        "Посмотрим на распределение мужчин и женщин по классам"
      ],
      "metadata": {
        "id": "F9dw0llRepNY"
      }
    },
    {
      "cell_type": "code",
      "source": [
        "grouped = data_frame.groupby(['Pclass', 'Sex'], observed=False).size().unstack()\n",
        "\n",
        "grouped['total'] = grouped.sum(axis=1)\n",
        "\n",
        "grouped = grouped[['male', 'female', 'total']]\n",
        "\n",
        "print(grouped)"
      ],
      "metadata": {
        "colab": {
          "base_uri": "https://localhost:8080/"
        },
        "id": "dWP8sdaEjrhE",
        "outputId": "1ae617e2-4e3e-4d44-afba-5d1fa4f04bc6"
      },
      "execution_count": 10,
      "outputs": [
        {
          "output_type": "stream",
          "name": "stdout",
          "text": [
            "Sex     male  female  total\n",
            "Pclass                     \n",
            "1        179     144    323\n",
            "2        171     106    277\n",
            "3        493     216    709\n"
          ]
        }
      ]
    },
    {
      "cell_type": "markdown",
      "source": [
        "Как можно увидеть, больше всего пассажиров было в 3-м классе. Также можно увидеть, что в каждом классе женщин меньше, чем мужчин (ярче всего эта разница видна в третьем классе). Построим Bar chart распеделения"
      ],
      "metadata": {
        "id": "vHib5nFjiyiv"
      }
    },
    {
      "cell_type": "code",
      "source": [
        "plot_data = grouped.reset_index().melt(\n",
        "    id_vars=['Pclass'],\n",
        "    value_vars=['male', 'female'],\n",
        "    var_name='Sex',\n",
        "    value_name='Count'\n",
        ")\n",
        "\n",
        "fig = px.bar(\n",
        "    plot_data,\n",
        "    x='Pclass',\n",
        "    y='Count',\n",
        "    color='Sex',\n",
        "    barmode='stack',\n",
        "    title='Distribution of passengers by class and sex',\n",
        "    color_discrete_map={'female': 'pink', 'male': 'lightblue'}\n",
        ")\n",
        "\n",
        "fig.update_layout(\n",
        "    xaxis=dict(\n",
        "        dtick=1,\n",
        "        tickmode='linear'\n",
        "    )\n",
        ")\n",
        "\n",
        "fig.show()"
      ],
      "metadata": {
        "colab": {
          "base_uri": "https://localhost:8080/",
          "height": 542
        },
        "id": "eiNX3b2ce1qE",
        "outputId": "85e90658-f2f5-4b1b-819b-09e942cbe3d1"
      },
      "execution_count": 11,
      "outputs": [
        {
          "output_type": "display_data",
          "data": {
            "text/html": [
              "<html>\n",
              "<head><meta charset=\"utf-8\" /></head>\n",
              "<body>\n",
              "    <div>            <script src=\"https://cdnjs.cloudflare.com/ajax/libs/mathjax/2.7.5/MathJax.js?config=TeX-AMS-MML_SVG\"></script><script type=\"text/javascript\">if (window.MathJax && window.MathJax.Hub && window.MathJax.Hub.Config) {window.MathJax.Hub.Config({SVG: {font: \"STIX-Web\"}});}</script>                <script type=\"text/javascript\">window.PlotlyConfig = {MathJaxConfig: 'local'};</script>\n",
              "        <script charset=\"utf-8\" src=\"https://cdn.plot.ly/plotly-2.35.2.min.js\"></script>                <div id=\"b54a3bf7-6922-427f-805c-d00a382179a4\" class=\"plotly-graph-div\" style=\"height:525px; width:100%;\"></div>            <script type=\"text/javascript\">                                    window.PLOTLYENV=window.PLOTLYENV || {};                                    if (document.getElementById(\"b54a3bf7-6922-427f-805c-d00a382179a4\")) {                    Plotly.newPlot(                        \"b54a3bf7-6922-427f-805c-d00a382179a4\",                        [{\"alignmentgroup\":\"True\",\"hovertemplate\":\"Sex=male\\u003cbr\\u003ePclass=%{x}\\u003cbr\\u003eCount=%{y}\\u003cextra\\u003e\\u003c\\u002fextra\\u003e\",\"legendgroup\":\"male\",\"marker\":{\"color\":\"lightblue\",\"pattern\":{\"shape\":\"\"}},\"name\":\"male\",\"offsetgroup\":\"male\",\"orientation\":\"v\",\"showlegend\":true,\"textposition\":\"auto\",\"x\":[1,2,3],\"xaxis\":\"x\",\"y\":[179,171,493],\"yaxis\":\"y\",\"type\":\"bar\"},{\"alignmentgroup\":\"True\",\"hovertemplate\":\"Sex=female\\u003cbr\\u003ePclass=%{x}\\u003cbr\\u003eCount=%{y}\\u003cextra\\u003e\\u003c\\u002fextra\\u003e\",\"legendgroup\":\"female\",\"marker\":{\"color\":\"pink\",\"pattern\":{\"shape\":\"\"}},\"name\":\"female\",\"offsetgroup\":\"female\",\"orientation\":\"v\",\"showlegend\":true,\"textposition\":\"auto\",\"x\":[1,2,3],\"xaxis\":\"x\",\"y\":[144,106,216],\"yaxis\":\"y\",\"type\":\"bar\"}],                        {\"template\":{\"data\":{\"histogram2dcontour\":[{\"type\":\"histogram2dcontour\",\"colorbar\":{\"outlinewidth\":0,\"ticks\":\"\"},\"colorscale\":[[0.0,\"#0d0887\"],[0.1111111111111111,\"#46039f\"],[0.2222222222222222,\"#7201a8\"],[0.3333333333333333,\"#9c179e\"],[0.4444444444444444,\"#bd3786\"],[0.5555555555555556,\"#d8576b\"],[0.6666666666666666,\"#ed7953\"],[0.7777777777777778,\"#fb9f3a\"],[0.8888888888888888,\"#fdca26\"],[1.0,\"#f0f921\"]]}],\"choropleth\":[{\"type\":\"choropleth\",\"colorbar\":{\"outlinewidth\":0,\"ticks\":\"\"}}],\"histogram2d\":[{\"type\":\"histogram2d\",\"colorbar\":{\"outlinewidth\":0,\"ticks\":\"\"},\"colorscale\":[[0.0,\"#0d0887\"],[0.1111111111111111,\"#46039f\"],[0.2222222222222222,\"#7201a8\"],[0.3333333333333333,\"#9c179e\"],[0.4444444444444444,\"#bd3786\"],[0.5555555555555556,\"#d8576b\"],[0.6666666666666666,\"#ed7953\"],[0.7777777777777778,\"#fb9f3a\"],[0.8888888888888888,\"#fdca26\"],[1.0,\"#f0f921\"]]}],\"heatmap\":[{\"type\":\"heatmap\",\"colorbar\":{\"outlinewidth\":0,\"ticks\":\"\"},\"colorscale\":[[0.0,\"#0d0887\"],[0.1111111111111111,\"#46039f\"],[0.2222222222222222,\"#7201a8\"],[0.3333333333333333,\"#9c179e\"],[0.4444444444444444,\"#bd3786\"],[0.5555555555555556,\"#d8576b\"],[0.6666666666666666,\"#ed7953\"],[0.7777777777777778,\"#fb9f3a\"],[0.8888888888888888,\"#fdca26\"],[1.0,\"#f0f921\"]]}],\"heatmapgl\":[{\"type\":\"heatmapgl\",\"colorbar\":{\"outlinewidth\":0,\"ticks\":\"\"},\"colorscale\":[[0.0,\"#0d0887\"],[0.1111111111111111,\"#46039f\"],[0.2222222222222222,\"#7201a8\"],[0.3333333333333333,\"#9c179e\"],[0.4444444444444444,\"#bd3786\"],[0.5555555555555556,\"#d8576b\"],[0.6666666666666666,\"#ed7953\"],[0.7777777777777778,\"#fb9f3a\"],[0.8888888888888888,\"#fdca26\"],[1.0,\"#f0f921\"]]}],\"contourcarpet\":[{\"type\":\"contourcarpet\",\"colorbar\":{\"outlinewidth\":0,\"ticks\":\"\"}}],\"contour\":[{\"type\":\"contour\",\"colorbar\":{\"outlinewidth\":0,\"ticks\":\"\"},\"colorscale\":[[0.0,\"#0d0887\"],[0.1111111111111111,\"#46039f\"],[0.2222222222222222,\"#7201a8\"],[0.3333333333333333,\"#9c179e\"],[0.4444444444444444,\"#bd3786\"],[0.5555555555555556,\"#d8576b\"],[0.6666666666666666,\"#ed7953\"],[0.7777777777777778,\"#fb9f3a\"],[0.8888888888888888,\"#fdca26\"],[1.0,\"#f0f921\"]]}],\"surface\":[{\"type\":\"surface\",\"colorbar\":{\"outlinewidth\":0,\"ticks\":\"\"},\"colorscale\":[[0.0,\"#0d0887\"],[0.1111111111111111,\"#46039f\"],[0.2222222222222222,\"#7201a8\"],[0.3333333333333333,\"#9c179e\"],[0.4444444444444444,\"#bd3786\"],[0.5555555555555556,\"#d8576b\"],[0.6666666666666666,\"#ed7953\"],[0.7777777777777778,\"#fb9f3a\"],[0.8888888888888888,\"#fdca26\"],[1.0,\"#f0f921\"]]}],\"mesh3d\":[{\"type\":\"mesh3d\",\"colorbar\":{\"outlinewidth\":0,\"ticks\":\"\"}}],\"scatter\":[{\"fillpattern\":{\"fillmode\":\"overlay\",\"size\":10,\"solidity\":0.2},\"type\":\"scatter\"}],\"parcoords\":[{\"type\":\"parcoords\",\"line\":{\"colorbar\":{\"outlinewidth\":0,\"ticks\":\"\"}}}],\"scatterpolargl\":[{\"type\":\"scatterpolargl\",\"marker\":{\"colorbar\":{\"outlinewidth\":0,\"ticks\":\"\"}}}],\"bar\":[{\"error_x\":{\"color\":\"#2a3f5f\"},\"error_y\":{\"color\":\"#2a3f5f\"},\"marker\":{\"line\":{\"color\":\"#E5ECF6\",\"width\":0.5},\"pattern\":{\"fillmode\":\"overlay\",\"size\":10,\"solidity\":0.2}},\"type\":\"bar\"}],\"scattergeo\":[{\"type\":\"scattergeo\",\"marker\":{\"colorbar\":{\"outlinewidth\":0,\"ticks\":\"\"}}}],\"scatterpolar\":[{\"type\":\"scatterpolar\",\"marker\":{\"colorbar\":{\"outlinewidth\":0,\"ticks\":\"\"}}}],\"histogram\":[{\"marker\":{\"pattern\":{\"fillmode\":\"overlay\",\"size\":10,\"solidity\":0.2}},\"type\":\"histogram\"}],\"scattergl\":[{\"type\":\"scattergl\",\"marker\":{\"colorbar\":{\"outlinewidth\":0,\"ticks\":\"\"}}}],\"scatter3d\":[{\"type\":\"scatter3d\",\"line\":{\"colorbar\":{\"outlinewidth\":0,\"ticks\":\"\"}},\"marker\":{\"colorbar\":{\"outlinewidth\":0,\"ticks\":\"\"}}}],\"scattermapbox\":[{\"type\":\"scattermapbox\",\"marker\":{\"colorbar\":{\"outlinewidth\":0,\"ticks\":\"\"}}}],\"scatterternary\":[{\"type\":\"scatterternary\",\"marker\":{\"colorbar\":{\"outlinewidth\":0,\"ticks\":\"\"}}}],\"scattercarpet\":[{\"type\":\"scattercarpet\",\"marker\":{\"colorbar\":{\"outlinewidth\":0,\"ticks\":\"\"}}}],\"carpet\":[{\"aaxis\":{\"endlinecolor\":\"#2a3f5f\",\"gridcolor\":\"white\",\"linecolor\":\"white\",\"minorgridcolor\":\"white\",\"startlinecolor\":\"#2a3f5f\"},\"baxis\":{\"endlinecolor\":\"#2a3f5f\",\"gridcolor\":\"white\",\"linecolor\":\"white\",\"minorgridcolor\":\"white\",\"startlinecolor\":\"#2a3f5f\"},\"type\":\"carpet\"}],\"table\":[{\"cells\":{\"fill\":{\"color\":\"#EBF0F8\"},\"line\":{\"color\":\"white\"}},\"header\":{\"fill\":{\"color\":\"#C8D4E3\"},\"line\":{\"color\":\"white\"}},\"type\":\"table\"}],\"barpolar\":[{\"marker\":{\"line\":{\"color\":\"#E5ECF6\",\"width\":0.5},\"pattern\":{\"fillmode\":\"overlay\",\"size\":10,\"solidity\":0.2}},\"type\":\"barpolar\"}],\"pie\":[{\"automargin\":true,\"type\":\"pie\"}]},\"layout\":{\"autotypenumbers\":\"strict\",\"colorway\":[\"#636efa\",\"#EF553B\",\"#00cc96\",\"#ab63fa\",\"#FFA15A\",\"#19d3f3\",\"#FF6692\",\"#B6E880\",\"#FF97FF\",\"#FECB52\"],\"font\":{\"color\":\"#2a3f5f\"},\"hovermode\":\"closest\",\"hoverlabel\":{\"align\":\"left\"},\"paper_bgcolor\":\"white\",\"plot_bgcolor\":\"#E5ECF6\",\"polar\":{\"bgcolor\":\"#E5ECF6\",\"angularaxis\":{\"gridcolor\":\"white\",\"linecolor\":\"white\",\"ticks\":\"\"},\"radialaxis\":{\"gridcolor\":\"white\",\"linecolor\":\"white\",\"ticks\":\"\"}},\"ternary\":{\"bgcolor\":\"#E5ECF6\",\"aaxis\":{\"gridcolor\":\"white\",\"linecolor\":\"white\",\"ticks\":\"\"},\"baxis\":{\"gridcolor\":\"white\",\"linecolor\":\"white\",\"ticks\":\"\"},\"caxis\":{\"gridcolor\":\"white\",\"linecolor\":\"white\",\"ticks\":\"\"}},\"coloraxis\":{\"colorbar\":{\"outlinewidth\":0,\"ticks\":\"\"}},\"colorscale\":{\"sequential\":[[0.0,\"#0d0887\"],[0.1111111111111111,\"#46039f\"],[0.2222222222222222,\"#7201a8\"],[0.3333333333333333,\"#9c179e\"],[0.4444444444444444,\"#bd3786\"],[0.5555555555555556,\"#d8576b\"],[0.6666666666666666,\"#ed7953\"],[0.7777777777777778,\"#fb9f3a\"],[0.8888888888888888,\"#fdca26\"],[1.0,\"#f0f921\"]],\"sequentialminus\":[[0.0,\"#0d0887\"],[0.1111111111111111,\"#46039f\"],[0.2222222222222222,\"#7201a8\"],[0.3333333333333333,\"#9c179e\"],[0.4444444444444444,\"#bd3786\"],[0.5555555555555556,\"#d8576b\"],[0.6666666666666666,\"#ed7953\"],[0.7777777777777778,\"#fb9f3a\"],[0.8888888888888888,\"#fdca26\"],[1.0,\"#f0f921\"]],\"diverging\":[[0,\"#8e0152\"],[0.1,\"#c51b7d\"],[0.2,\"#de77ae\"],[0.3,\"#f1b6da\"],[0.4,\"#fde0ef\"],[0.5,\"#f7f7f7\"],[0.6,\"#e6f5d0\"],[0.7,\"#b8e186\"],[0.8,\"#7fbc41\"],[0.9,\"#4d9221\"],[1,\"#276419\"]]},\"xaxis\":{\"gridcolor\":\"white\",\"linecolor\":\"white\",\"ticks\":\"\",\"title\":{\"standoff\":15},\"zerolinecolor\":\"white\",\"automargin\":true,\"zerolinewidth\":2},\"yaxis\":{\"gridcolor\":\"white\",\"linecolor\":\"white\",\"ticks\":\"\",\"title\":{\"standoff\":15},\"zerolinecolor\":\"white\",\"automargin\":true,\"zerolinewidth\":2},\"scene\":{\"xaxis\":{\"backgroundcolor\":\"#E5ECF6\",\"gridcolor\":\"white\",\"linecolor\":\"white\",\"showbackground\":true,\"ticks\":\"\",\"zerolinecolor\":\"white\",\"gridwidth\":2},\"yaxis\":{\"backgroundcolor\":\"#E5ECF6\",\"gridcolor\":\"white\",\"linecolor\":\"white\",\"showbackground\":true,\"ticks\":\"\",\"zerolinecolor\":\"white\",\"gridwidth\":2},\"zaxis\":{\"backgroundcolor\":\"#E5ECF6\",\"gridcolor\":\"white\",\"linecolor\":\"white\",\"showbackground\":true,\"ticks\":\"\",\"zerolinecolor\":\"white\",\"gridwidth\":2}},\"shapedefaults\":{\"line\":{\"color\":\"#2a3f5f\"}},\"annotationdefaults\":{\"arrowcolor\":\"#2a3f5f\",\"arrowhead\":0,\"arrowwidth\":1},\"geo\":{\"bgcolor\":\"white\",\"landcolor\":\"#E5ECF6\",\"subunitcolor\":\"white\",\"showland\":true,\"showlakes\":true,\"lakecolor\":\"white\"},\"title\":{\"x\":0.05},\"mapbox\":{\"style\":\"light\"}}},\"xaxis\":{\"anchor\":\"y\",\"domain\":[0.0,1.0],\"title\":{\"text\":\"Pclass\"},\"dtick\":1,\"tickmode\":\"linear\"},\"yaxis\":{\"anchor\":\"x\",\"domain\":[0.0,1.0],\"title\":{\"text\":\"Count\"}},\"legend\":{\"title\":{\"text\":\"Sex\"},\"tracegroupgap\":0},\"title\":{\"text\":\"Distribution of passengers by class and sex\"},\"barmode\":\"stack\"},                        {\"responsive\": true}                    ).then(function(){\n",
              "                            \n",
              "var gd = document.getElementById('b54a3bf7-6922-427f-805c-d00a382179a4');\n",
              "var x = new MutationObserver(function (mutations, observer) {{\n",
              "        var display = window.getComputedStyle(gd).display;\n",
              "        if (!display || display === 'none') {{\n",
              "            console.log([gd, 'removed!']);\n",
              "            Plotly.purge(gd);\n",
              "            observer.disconnect();\n",
              "        }}\n",
              "}});\n",
              "\n",
              "// Listen for the removal of the full notebook cells\n",
              "var notebookContainer = gd.closest('#notebook-container');\n",
              "if (notebookContainer) {{\n",
              "    x.observe(notebookContainer, {childList: true});\n",
              "}}\n",
              "\n",
              "// Listen for the clearing of the current output cell\n",
              "var outputEl = gd.closest('.output');\n",
              "if (outputEl) {{\n",
              "    x.observe(outputEl, {childList: true});\n",
              "}}\n",
              "\n",
              "                        })                };                            </script>        </div>\n",
              "</body>\n",
              "</html>"
            ]
          },
          "metadata": {}
        }
      ]
    },
    {
      "cell_type": "markdown",
      "source": [
        "Сгруппируем таблицу в два уровня: класс и пол, по среднему значению возраста"
      ],
      "metadata": {
        "id": "p2vIlnce1zPR"
      }
    },
    {
      "cell_type": "code",
      "source": [
        "group_df = data_frame.groupby(['Sex', 'Pclass'], observed=False)['Age'].mean()\n",
        "group_df.sort_values()"
      ],
      "metadata": {
        "colab": {
          "base_uri": "https://localhost:8080/",
          "height": 303
        },
        "id": "QDLQOctfk7yq",
        "outputId": "6b351976-37d0-4507-9181-33aacd22dd24"
      },
      "execution_count": 12,
      "outputs": [
        {
          "output_type": "execute_result",
          "data": {
            "text/plain": [
              "Sex     Pclass\n",
              "female  3         22.185329\n",
              "male    3         25.962264\n",
              "female  2         27.499223\n",
              "male    2         30.815380\n",
              "female  1         37.037594\n",
              "male    1         41.029272\n",
              "Name: Age, dtype: float64"
            ],
            "text/html": [
              "<div>\n",
              "<style scoped>\n",
              "    .dataframe tbody tr th:only-of-type {\n",
              "        vertical-align: middle;\n",
              "    }\n",
              "\n",
              "    .dataframe tbody tr th {\n",
              "        vertical-align: top;\n",
              "    }\n",
              "\n",
              "    .dataframe thead th {\n",
              "        text-align: right;\n",
              "    }\n",
              "</style>\n",
              "<table border=\"1\" class=\"dataframe\">\n",
              "  <thead>\n",
              "    <tr style=\"text-align: right;\">\n",
              "      <th></th>\n",
              "      <th></th>\n",
              "      <th>Age</th>\n",
              "    </tr>\n",
              "    <tr>\n",
              "      <th>Sex</th>\n",
              "      <th>Pclass</th>\n",
              "      <th></th>\n",
              "    </tr>\n",
              "  </thead>\n",
              "  <tbody>\n",
              "    <tr>\n",
              "      <th>female</th>\n",
              "      <th>3</th>\n",
              "      <td>22.185329</td>\n",
              "    </tr>\n",
              "    <tr>\n",
              "      <th>male</th>\n",
              "      <th>3</th>\n",
              "      <td>25.962264</td>\n",
              "    </tr>\n",
              "    <tr>\n",
              "      <th>female</th>\n",
              "      <th>2</th>\n",
              "      <td>27.499223</td>\n",
              "    </tr>\n",
              "    <tr>\n",
              "      <th>male</th>\n",
              "      <th>2</th>\n",
              "      <td>30.815380</td>\n",
              "    </tr>\n",
              "    <tr>\n",
              "      <th>female</th>\n",
              "      <th>1</th>\n",
              "      <td>37.037594</td>\n",
              "    </tr>\n",
              "    <tr>\n",
              "      <th>male</th>\n",
              "      <th>1</th>\n",
              "      <td>41.029272</td>\n",
              "    </tr>\n",
              "  </tbody>\n",
              "</table>\n",
              "</div><br><label><b>dtype:</b> float64</label>"
            ]
          },
          "metadata": {},
          "execution_count": 12
        }
      ]
    },
    {
      "cell_type": "markdown",
      "source": [
        "- Самые юные - женщины из 3-го класса\n",
        "- Самые возростные - мужчины из 1-го класса\n",
        "\n",
        "Найдем разницу между крайними значениями"
      ],
      "metadata": {
        "id": "_hGz7OvM4D5a"
      }
    },
    {
      "cell_type": "code",
      "source": [
        "group_df.max() - group_df.min()"
      ],
      "metadata": {
        "colab": {
          "base_uri": "https://localhost:8080/"
        },
        "id": "9dCfIi6645d_",
        "outputId": "ff5d8c7f-5547-443e-a3a7-3e2f3c7a9670"
      },
      "execution_count": 13,
      "outputs": [
        {
          "output_type": "execute_result",
          "data": {
            "text/plain": [
              "18.843942575810384"
            ]
          },
          "metadata": {},
          "execution_count": 13
        }
      ]
    },
    {
      "cell_type": "markdown",
      "source": [
        "Визуализируем распределение возрастов с помощью Box chart"
      ],
      "metadata": {
        "id": "jDYozqN05Ad-"
      }
    },
    {
      "cell_type": "code",
      "source": [
        "fig = px.box(\n",
        "    data_frame,\n",
        "    x='Pclass',\n",
        "    y='Age',\n",
        "    color='Sex',\n",
        "    color_discrete_map={'male': 'lightblue', 'female': 'pink'},\n",
        "    title='Distribution of passengers by age and sex',\n",
        "    hover_data=['Age']\n",
        ")\n",
        "\n",
        "fig.show()"
      ],
      "metadata": {
        "colab": {
          "base_uri": "https://localhost:8080/",
          "height": 542
        },
        "id": "ICHsD4Ots-PG",
        "outputId": "431bbf98-9b67-441e-d5eb-1d25997e6980"
      },
      "execution_count": 14,
      "outputs": [
        {
          "output_type": "display_data",
          "data": {
            "text/html": [
              "<html>\n",
              "<head><meta charset=\"utf-8\" /></head>\n",
              "<body>\n",
              "    <div>            <script src=\"https://cdnjs.cloudflare.com/ajax/libs/mathjax/2.7.5/MathJax.js?config=TeX-AMS-MML_SVG\"></script><script type=\"text/javascript\">if (window.MathJax && window.MathJax.Hub && window.MathJax.Hub.Config) {window.MathJax.Hub.Config({SVG: {font: \"STIX-Web\"}});}</script>                <script type=\"text/javascript\">window.PlotlyConfig = {MathJaxConfig: 'local'};</script>\n",
              "        <script charset=\"utf-8\" src=\"https://cdn.plot.ly/plotly-2.35.2.min.js\"></script>                <div id=\"e2b21414-e459-45b7-a503-187179ad8025\" class=\"plotly-graph-div\" style=\"height:525px; width:100%;\"></div>            <script type=\"text/javascript\">                                    window.PLOTLYENV=window.PLOTLYENV || {};                                    if (document.getElementById(\"e2b21414-e459-45b7-a503-187179ad8025\")) {                    Plotly.newPlot(                        \"e2b21414-e459-45b7-a503-187179ad8025\",                        [{\"alignmentgroup\":\"True\",\"hovertemplate\":\"Sex=male\\u003cbr\\u003ePclass=%{x}\\u003cbr\\u003eAge=%{y}\\u003cextra\\u003e\\u003c\\u002fextra\\u003e\",\"legendgroup\":\"male\",\"marker\":{\"color\":\"lightblue\"},\"name\":\"male\",\"notched\":false,\"offsetgroup\":\"male\",\"orientation\":\"v\",\"showlegend\":true,\"x\":[3,3,3,1,3,3,3,3,2,2,2,1,3,1,3,1,2,1,1,3,3,3,3,3,3,3,3,1,1,3,3,3,1,3,1,3,3,3,2,2,3,3,3,3,3,2,3,3,1,3,3,3,3,3,1,3,3,3,1,1,2,3,1,3,3,3,3,3,1,3,3,3,2,1,2,3,2,1,3,3,3,3,3,3,2,2,1,3,1,3,2,2,3,2,2,2,3,3,3,1,3,3,3,3,3,3,3,3,1,3,1,3,3,1,3,3,2,3,2,3,2,1,1,3,3,2,2,3,3,3,3,3,3,3,3,3,1,3,3,2,3,2,2,3,2,3,3,1,3,2,3,2,3,2,2,2,2,2,2,3,3,1,1,2,3,1,3,3,3,1,1,2,3,3,1,3,1,2,3,3,3,3,3,1,3,3,3,2,2,3,1,3,1,3,3,3,1,2,3,2,2,3,3,3,3,1,1,3,3,1,3,1,2,2,2,2,3,3,3,1,3,3,3,3,3,2,3,3,3,1,3,3,1,1,3,3,3,3,2,3,3,1,3,3,3,2,2,3,3,3,2,3,2,3,3,3,2,3,2,3,3,3,3,3,3,3,1,3,1,1,2,3,3,3,1,1,1,2,3,1,1,3,3,1,3,1,3,1,2,3,3,2,1,3,3,3,1,2,3,3,3,2,3,1,1,3,3,3,3,1,1,3,3,3,3,3,1,1,3,3,3,3,1,3,1,3,3,3,3,3,3,1,3,2,3,3,1,3,2,1,1,2,3,2,1,2,3,3,1,1,3,3,2,3,3,3,3,3,2,1,3,3,3,2,1,3,2,1,3,3,3,3,2,3,3,3,1,3,1,3,1,3,3,1,3,3,3,3,2,3,1,3,3,3,1,2,3,3,1,3,1,1,3,2,3,3,3,1,3,1,3,3,3,2,3,2,1,1,3,1,3,3,2,2,3,3,1,2,2,2,3,3,1,1,3,3,2,2,3,3,3,1,3,3,1,2,3,1,3,1,3,3,2,1,3,1,1,3,2,3,3,3,3,2,2,1,3,2,3,2,2,2,3,1,3,3,1,1,3,3,1,3,1,3,3,3,3,2,3,2,3,3,3,3,3,1,3,3,3,3,3,3,3,3,1,3,3,3,3,3,1,3,2,1,3,2,3,2,1,3,3,3,1,2,3,3,2,3,1,2,3,3,3,1,3,3,3,2,3,2,3,3,3,3,3,3,1,3,2,3,3,3,3,3,2,3,3,1,3,3,2,2,1,3,3,3,1,3,3,3,3,3,2,3,2,1,3,3,2,3,3,2,3,3,1,2,2,3,1,3,1,3,3,1,3,2,2,1,3,3,3,3,1,3,3,1,3,1,2,2,3,3,3,3,3,2,3,1,1,1,3,1,1,3,2,3,1,1,3,2,3,2,3,3,1,3,3,3,2,3,3,3,3,3,3,2,2,3,3,1,3,3,3,3,2,3,3,1,3,3,3,3,2,3,1,2,1,3,1,3,1,2,3,3,3,3,1,3,3,2,1,3,3,3,3,3,3,1,2,1,3,2,3,2,2,1,3,2,2,3,1,2,3,1,2,1,2,3,3,3,2,1,1,3,3,3,3,3,2,2,3,3,1,3,1,3,1,3,3,1,2,3,1,3,3,3,3,3,3,3,3,2,3,1,3,3,1,3,3,2,2,2,2,3,3,3,1,3,3,1,3,1,3,3,3,1,3,3,2,2,3,1,3,1,3,3,3,1,2,3,2,3,3,2,1,3,1,2,2,1,3,3,1,2,3,2,3,2,3,3,3,2,2,2,2,2,1,3,3,3,3,3,2,2,1,2,2,1,3,3,3,2,3,2,3,3,1,3,2,3,3,3,3,2,1,1,2,2,1,3,3,3,3],\"x0\":\" \",\"xaxis\":\"x\",\"y\":[22.0,35.0,null,54.0,2.0,20.0,39.0,2.0,null,35.0,34.0,28.0,null,19.0,null,40.0,66.0,28.0,42.0,null,21.0,null,null,null,null,7.0,21.0,65.0,null,28.5,11.0,22.0,45.0,4.0,null,null,19.0,26.0,32.0,21.0,26.0,32.0,25.0,null,null,0.83,22.0,29.0,28.0,16.0,null,24.0,29.0,20.0,46.0,26.0,59.0,null,71.0,23.0,34.0,null,21.0,33.0,37.0,28.0,null,38.0,47.0,22.0,21.0,70.5,29.0,24.0,21.0,null,32.5,54.0,12.0,null,24.0,45.0,33.0,20.0,25.0,23.0,37.0,16.0,24.0,19.0,18.0,19.0,27.0,36.5,42.0,51.0,55.5,40.5,null,51.0,30.0,null,null,44.0,26.0,17.0,1.0,9.0,null,28.0,61.0,4.0,21.0,56.0,18.0,null,30.0,36.0,null,9.0,1.0,null,45.0,40.0,36.0,19.0,3.0,null,42.0,28.0,null,34.0,45.5,18.0,32.0,26.0,40.0,24.0,22.0,30.0,null,42.0,30.0,16.0,27.0,51.0,null,38.0,22.0,19.0,20.5,18.0,29.0,59.0,24.0,44.0,19.0,33.0,29.0,22.0,30.0,44.0,37.0,54.0,null,62.0,30.0,null,3.0,52.0,40.0,36.0,16.0,25.0,null,25.0,37.0,null,7.0,65.0,28.0,16.0,19.0,null,33.0,30.0,22.0,42.0,36.0,24.0,null,23.5,null,null,19.0,null,0.92,30.0,28.0,43.0,54.0,22.0,27.0,null,61.0,45.5,38.0,16.0,null,29.0,45.0,45.0,2.0,28.0,25.0,36.0,3.0,42.0,23.0,null,15.0,25.0,null,28.0,40.0,29.0,35.0,null,30.0,25.0,18.0,19.0,22.0,27.0,20.0,19.0,32.0,null,18.0,1.0,null,36.0,21.0,28.0,22.0,46.0,23.0,39.0,26.0,28.0,34.0,51.0,3.0,21.0,null,null,null,44.0,30.0,null,21.0,29.0,18.0,null,null,32.0,28.0,17.0,50.0,64.0,31.0,20.0,25.0,null,4.0,34.0,52.0,36.0,null,30.0,49.0,null,29.0,65.0,null,48.0,34.0,47.0,48.0,null,38.0,null,56.0,null,null,38.0,null,34.0,29.0,22.0,9.0,null,50.0,25.0,58.0,30.0,9.0,null,21.0,55.0,71.0,21.0,null,null,24.0,17.0,18.0,null,28.0,26.0,29.0,null,36.0,24.0,47.0,null,32.0,22.0,null,null,40.5,null,39.0,23.0,null,17.0,45.0,null,32.0,50.0,64.0,null,33.0,8.0,17.0,27.0,null,22.0,62.0,null,null,40.0,28.0,null,24.0,19.0,null,32.0,62.0,36.0,16.0,19.0,32.0,54.0,36.0,null,47.0,60.0,22.0,null,35.0,47.0,37.0,36.0,49.0,null,49.0,null,null,44.0,35.0,36.0,30.0,27.0,null,null,35.0,34.0,26.0,27.0,42.0,20.0,21.0,21.0,61.0,57.0,26.0,null,80.0,51.0,32.0,null,32.0,31.0,null,20.0,null,48.0,19.0,56.0,null,null,21.0,24.0,null,23.0,58.0,50.0,40.0,47.0,36.0,20.0,32.0,25.0,null,43.0,31.0,70.0,31.0,null,18.0,24.5,36.0,27.0,20.0,14.0,60.0,25.0,14.0,19.0,18.0,31.0,null,25.0,60.0,52.0,44.0,49.0,42.0,35.0,25.0,26.0,39.0,42.0,null,null,48.0,29.0,52.0,19.0,null,33.0,17.0,34.0,50.0,27.0,20.0,25.0,11.0,null,23.0,23.0,28.5,35.0,null,null,null,36.0,24.0,31.0,70.0,16.0,19.0,31.0,6.0,33.0,23.0,0.67,28.0,18.0,34.0,null,41.0,20.0,16.0,null,null,32.0,24.0,48.0,null,18.0,null,null,29.0,null,25.0,25.0,8.0,1.0,46.0,null,16.0,null,25.0,39.0,30.0,34.0,11.0,0.42,27.0,31.0,39.0,39.0,26.0,39.0,35.0,30.5,null,31.0,43.0,10.0,27.0,38.0,2.0,null,null,1.0,null,0.83,null,23.0,18.0,21.0,null,32.0,null,20.0,16.0,34.5,17.0,42.0,null,35.0,28.0,4.0,74.0,51.0,null,41.0,21.0,24.0,31.0,null,4.0,26.0,33.0,47.0,20.0,19.0,null,33.0,28.0,25.0,27.0,26.0,32.0,34.5,62.0,27.0,14.0,26.0,21.0,null,46.0,63.0,35.0,21.0,55.0,9.0,21.0,50.0,22.5,41.0,null,50.0,24.0,30.0,18.5,25.0,null,39.0,null,41.0,25.0,45.0,null,24.0,27.0,null,10.0,35.0,25.0,null,17.0,32.0,18.0,13.0,47.0,31.0,21.0,28.5,32.5,null,30.0,6.0,67.0,49.0,null,null,null,2.0,null,null,25.0,25.0,29.0,33.0,27.0,null,26.0,28.0,21.0,null,null,18.5,41.0,18.0,null,36.0,null,28.0,null,22.0,42.0,24.0,32.0,53.0,null,43.0,24.0,26.5,26.0,40.0,61.0,28.0,42.0,31.0,null,22.0,null,30.0,null,60.5,13.0,24.0,42.0,7.0,null,41.0,48.0,18.0,null,27.0,23.0,null,40.0,54.0,30.0,37.0,null,40.0,17.0,40.0,34.0,null,11.5,61.0,8.0,33.0,6.0,23.0,0.33,47.0,25.0,null,24.0,25.0,32.0,null,17.0,42.0,57.0,null,21.0,21.0,23.0,40.5,36.0,14.0,21.0,null,39.0,20.0,64.0,20.0,45.0,null,null,41.0,42.0,20.0,27.0,24.0,32.5,null,null,28.0,21.0,36.5,21.0,30.0,null,null,null,17.0,46.0,null,null,28.0,40.0,30.0,22.0,0.75,36.0,null,24.0,null,null,null,null,53.0,36.0,26.0,null,30.0,29.0,32.0,null,43.0,24.0,30.0,0.83,55.0,18.0,22.0,null,57.0,19.0,27.0,22.0,26.0,25.0,26.0,33.0,23.0,46.0,29.0,21.0,39.0,null,27.0,30.0,32.0,39.0,25.0,null,18.0,32.0,null,null,26.0,24.0,25.0,18.0,49.0,50.0,null,null,14.5,27.0,null,29.0,21.0,49.0,44.0,21.0,55.0,5.0,null,26.0,null,24.0,57.0,21.0,6.0,23.0,13.0,47.0,29.0,24.0,22.0,31.0,38.0,17.0,43.0,20.0,23.0,50.0,null,38.5,null,null],\"y0\":\" \",\"yaxis\":\"y\",\"type\":\"box\"},{\"alignmentgroup\":\"True\",\"hovertemplate\":\"Sex=female\\u003cbr\\u003ePclass=%{x}\\u003cbr\\u003eAge=%{y}\\u003cextra\\u003e\\u003c\\u002fextra\\u003e\",\"legendgroup\":\"female\",\"marker\":{\"color\":\"pink\"},\"name\":\"female\",\"notched\":false,\"offsetgroup\":\"female\",\"orientation\":\"v\",\"showlegend\":true,\"x\":[1,3,1,3,2,3,1,3,2,3,3,3,3,3,3,1,3,3,3,3,2,2,3,3,3,1,2,2,2,1,2,3,3,3,3,2,3,1,2,3,3,3,3,3,3,3,2,3,3,2,1,3,3,3,3,1,3,2,1,3,3,1,3,3,3,2,3,1,1,3,2,3,3,2,1,3,1,3,1,3,3,2,3,3,3,2,3,3,3,1,1,1,2,3,1,1,2,3,1,3,3,3,1,1,3,1,1,3,2,1,1,1,1,1,2,3,2,1,1,2,2,1,2,3,1,3,1,1,1,2,2,3,1,2,3,3,3,1,3,3,1,3,1,3,1,3,1,2,2,1,3,3,2,3,3,3,1,3,2,2,3,3,2,2,3,2,1,3,2,2,2,2,3,1,2,3,2,2,3,3,3,3,1,1,1,3,3,3,1,2,1,2,2,1,1,2,2,3,3,2,1,1,1,3,3,2,3,1,1,3,3,3,1,3,2,1,3,2,1,1,1,3,2,2,2,1,3,3,2,3,2,1,3,2,3,1,3,3,3,2,3,3,3,1,2,3,3,3,1,3,3,1,3,2,1,1,1,2,2,2,3,3,1,3,1,2,2,2,1,1,1,3,2,2,3,1,3,1,3,3,1,3,3,2,3,1,3,3,1,3,1,3,1,1,1,3,1,2,3,1,3,1,3,2,2,1,2,3,1,2,3,3,1,3,3,3,3,3,1,1,2,3,3,1,1,1,3,3,3,3,2,1,1,3,2,1,1,3,2,3,1,3,3,1,1,3,3,3,3,3,1,1,3,1,3,3,1,3,1,3,2,2,1,3,3,3,3,3,1,1,3,1,3,3,3,2,3,1,3,2,2,2,1,1,1,2,3,3,3,3,2,3,1,2,3,3,1,2,2,1,3,3,1,2,1,1,2,2,2,3,2,2,2,3,3,1,3,2,3,3,3,3,3,2,3,1,3,3,1,3,1,2,2,3,1,3,3,2,1,3,1,3,2,2,1,3,3,1,1,1,1,3,3,3,2,1,1,1,1,1,3,3,3,1,3,1],\"x0\":\" \",\"xaxis\":\"x\",\"y\":[38.0,26.0,35.0,27.0,14.0,4.0,58.0,14.0,55.0,31.0,null,15.0,8.0,38.0,null,null,null,18.0,14.0,40.0,27.0,3.0,19.0,null,18.0,49.0,29.0,21.0,5.0,38.0,29.0,17.0,16.0,30.0,null,17.0,33.0,23.0,34.0,28.0,21.0,null,14.5,20.0,17.0,2.0,32.5,null,47.0,29.0,19.0,null,22.0,24.0,9.0,22.0,16.0,40.0,null,45.0,1.0,50.0,null,4.0,null,32.0,19.0,44.0,58.0,null,24.0,2.0,16.0,35.0,31.0,27.0,32.0,null,35.0,5.0,null,8.0,null,null,25.0,24.0,29.0,41.0,29.0,null,30.0,35.0,50.0,null,58.0,35.0,41.0,null,63.0,45.0,35.0,22.0,26.0,19.0,24.0,2.0,50.0,null,null,null,17.0,30.0,24.0,18.0,26.0,26.0,24.0,31.0,40.0,30.0,22.0,36.0,36.0,31.0,16.0,null,null,41.0,24.0,24.0,40.0,null,22.0,38.0,null,null,45.0,60.0,null,null,24.0,3.0,null,22.0,42.0,1.0,35.0,36.0,17.0,23.0,24.0,31.0,28.0,21.0,20.0,null,33.0,null,34.0,18.0,10.0,28.0,28.0,19.0,null,42.0,14.0,21.0,24.0,45.0,28.0,13.0,5.0,null,50.0,0.75,33.0,23.0,22.0,2.0,63.0,null,35.0,54.0,25.0,21.0,null,37.0,16.0,33.0,54.0,34.0,36.0,30.0,44.0,50.0,2.0,null,30.0,7.0,30.0,22.0,36.0,9.0,11.0,19.0,22.0,48.0,39.0,36.0,null,29.0,53.0,null,34.0,39.0,null,25.0,39.0,18.0,52.0,null,null,24.0,22.0,40.0,39.0,null,24.0,26.0,4.0,21.0,9.0,28.0,41.0,24.0,2.0,0.75,23.0,18.0,null,18.0,32.0,null,40.0,18.0,43.0,null,15.0,4.0,null,18.0,18.0,45.0,22.0,24.0,38.0,27.0,6.0,30.0,null,25.0,29.0,48.0,21.0,30.0,4.0,48.0,33.0,36.0,51.0,30.5,57.0,54.0,5.0,43.0,13.0,17.0,18.0,null,49.0,31.0,30.0,31.0,18.0,33.0,6.0,23.0,52.0,27.0,62.0,15.0,39.0,30.0,null,9.0,16.0,44.0,18.0,45.0,24.0,48.0,null,42.0,27.0,47.0,28.0,15.0,56.0,25.0,22.0,39.0,19.0,null,47.0,22.0,30.0,18.0,23.0,47.0,24.0,27.0,45.0,null,48.0,22.0,33.0,null,null,21.0,30.0,45.0,60.0,36.0,20.0,28.0,36.0,22.0,null,18.0,60.0,24.0,29.0,35.0,55.0,24.0,27.0,18.0,null,22.0,27.0,76.0,20.0,43.0,16.0,null,36.0,18.5,63.0,1.0,29.0,12.0,35.0,17.0,null,null,23.0,10.0,33.0,23.0,36.0,29.0,23.0,26.0,null,26.0,26.0,null,22.0,15.0,20.0,36.0,64.0,18.0,27.0,21.0,null,18.0,null,null,8.0,35.0,33.0,60.0,38.0,null,50.0,30.0,22.0,53.0,null,null,21.0,18.0,48.0,55.0,45.0,22.0,29.0,null,0.92,19.0,29.0,1.0,null,26.0,null,20.0,23.0,null,9.0,2.0,30.0,1.0,null,64.0,45.0,37.0,55.0,17.0,39.0,12.0,48.0,19.0,58.0,16.0,38.0,31.0,45.0,0.17,59.0,30.0,24.0,31.0,25.0,null,22.0,45.0,31.0,54.0,45.0,22.0,null,19.0,24.0,51.0,18.0,48.0,30.0,22.0,null,3.0,null,37.0,28.0,39.0],\"y0\":\" \",\"yaxis\":\"y\",\"type\":\"box\"}],                        {\"template\":{\"data\":{\"histogram2dcontour\":[{\"type\":\"histogram2dcontour\",\"colorbar\":{\"outlinewidth\":0,\"ticks\":\"\"},\"colorscale\":[[0.0,\"#0d0887\"],[0.1111111111111111,\"#46039f\"],[0.2222222222222222,\"#7201a8\"],[0.3333333333333333,\"#9c179e\"],[0.4444444444444444,\"#bd3786\"],[0.5555555555555556,\"#d8576b\"],[0.6666666666666666,\"#ed7953\"],[0.7777777777777778,\"#fb9f3a\"],[0.8888888888888888,\"#fdca26\"],[1.0,\"#f0f921\"]]}],\"choropleth\":[{\"type\":\"choropleth\",\"colorbar\":{\"outlinewidth\":0,\"ticks\":\"\"}}],\"histogram2d\":[{\"type\":\"histogram2d\",\"colorbar\":{\"outlinewidth\":0,\"ticks\":\"\"},\"colorscale\":[[0.0,\"#0d0887\"],[0.1111111111111111,\"#46039f\"],[0.2222222222222222,\"#7201a8\"],[0.3333333333333333,\"#9c179e\"],[0.4444444444444444,\"#bd3786\"],[0.5555555555555556,\"#d8576b\"],[0.6666666666666666,\"#ed7953\"],[0.7777777777777778,\"#fb9f3a\"],[0.8888888888888888,\"#fdca26\"],[1.0,\"#f0f921\"]]}],\"heatmap\":[{\"type\":\"heatmap\",\"colorbar\":{\"outlinewidth\":0,\"ticks\":\"\"},\"colorscale\":[[0.0,\"#0d0887\"],[0.1111111111111111,\"#46039f\"],[0.2222222222222222,\"#7201a8\"],[0.3333333333333333,\"#9c179e\"],[0.4444444444444444,\"#bd3786\"],[0.5555555555555556,\"#d8576b\"],[0.6666666666666666,\"#ed7953\"],[0.7777777777777778,\"#fb9f3a\"],[0.8888888888888888,\"#fdca26\"],[1.0,\"#f0f921\"]]}],\"heatmapgl\":[{\"type\":\"heatmapgl\",\"colorbar\":{\"outlinewidth\":0,\"ticks\":\"\"},\"colorscale\":[[0.0,\"#0d0887\"],[0.1111111111111111,\"#46039f\"],[0.2222222222222222,\"#7201a8\"],[0.3333333333333333,\"#9c179e\"],[0.4444444444444444,\"#bd3786\"],[0.5555555555555556,\"#d8576b\"],[0.6666666666666666,\"#ed7953\"],[0.7777777777777778,\"#fb9f3a\"],[0.8888888888888888,\"#fdca26\"],[1.0,\"#f0f921\"]]}],\"contourcarpet\":[{\"type\":\"contourcarpet\",\"colorbar\":{\"outlinewidth\":0,\"ticks\":\"\"}}],\"contour\":[{\"type\":\"contour\",\"colorbar\":{\"outlinewidth\":0,\"ticks\":\"\"},\"colorscale\":[[0.0,\"#0d0887\"],[0.1111111111111111,\"#46039f\"],[0.2222222222222222,\"#7201a8\"],[0.3333333333333333,\"#9c179e\"],[0.4444444444444444,\"#bd3786\"],[0.5555555555555556,\"#d8576b\"],[0.6666666666666666,\"#ed7953\"],[0.7777777777777778,\"#fb9f3a\"],[0.8888888888888888,\"#fdca26\"],[1.0,\"#f0f921\"]]}],\"surface\":[{\"type\":\"surface\",\"colorbar\":{\"outlinewidth\":0,\"ticks\":\"\"},\"colorscale\":[[0.0,\"#0d0887\"],[0.1111111111111111,\"#46039f\"],[0.2222222222222222,\"#7201a8\"],[0.3333333333333333,\"#9c179e\"],[0.4444444444444444,\"#bd3786\"],[0.5555555555555556,\"#d8576b\"],[0.6666666666666666,\"#ed7953\"],[0.7777777777777778,\"#fb9f3a\"],[0.8888888888888888,\"#fdca26\"],[1.0,\"#f0f921\"]]}],\"mesh3d\":[{\"type\":\"mesh3d\",\"colorbar\":{\"outlinewidth\":0,\"ticks\":\"\"}}],\"scatter\":[{\"fillpattern\":{\"fillmode\":\"overlay\",\"size\":10,\"solidity\":0.2},\"type\":\"scatter\"}],\"parcoords\":[{\"type\":\"parcoords\",\"line\":{\"colorbar\":{\"outlinewidth\":0,\"ticks\":\"\"}}}],\"scatterpolargl\":[{\"type\":\"scatterpolargl\",\"marker\":{\"colorbar\":{\"outlinewidth\":0,\"ticks\":\"\"}}}],\"bar\":[{\"error_x\":{\"color\":\"#2a3f5f\"},\"error_y\":{\"color\":\"#2a3f5f\"},\"marker\":{\"line\":{\"color\":\"#E5ECF6\",\"width\":0.5},\"pattern\":{\"fillmode\":\"overlay\",\"size\":10,\"solidity\":0.2}},\"type\":\"bar\"}],\"scattergeo\":[{\"type\":\"scattergeo\",\"marker\":{\"colorbar\":{\"outlinewidth\":0,\"ticks\":\"\"}}}],\"scatterpolar\":[{\"type\":\"scatterpolar\",\"marker\":{\"colorbar\":{\"outlinewidth\":0,\"ticks\":\"\"}}}],\"histogram\":[{\"marker\":{\"pattern\":{\"fillmode\":\"overlay\",\"size\":10,\"solidity\":0.2}},\"type\":\"histogram\"}],\"scattergl\":[{\"type\":\"scattergl\",\"marker\":{\"colorbar\":{\"outlinewidth\":0,\"ticks\":\"\"}}}],\"scatter3d\":[{\"type\":\"scatter3d\",\"line\":{\"colorbar\":{\"outlinewidth\":0,\"ticks\":\"\"}},\"marker\":{\"colorbar\":{\"outlinewidth\":0,\"ticks\":\"\"}}}],\"scattermapbox\":[{\"type\":\"scattermapbox\",\"marker\":{\"colorbar\":{\"outlinewidth\":0,\"ticks\":\"\"}}}],\"scatterternary\":[{\"type\":\"scatterternary\",\"marker\":{\"colorbar\":{\"outlinewidth\":0,\"ticks\":\"\"}}}],\"scattercarpet\":[{\"type\":\"scattercarpet\",\"marker\":{\"colorbar\":{\"outlinewidth\":0,\"ticks\":\"\"}}}],\"carpet\":[{\"aaxis\":{\"endlinecolor\":\"#2a3f5f\",\"gridcolor\":\"white\",\"linecolor\":\"white\",\"minorgridcolor\":\"white\",\"startlinecolor\":\"#2a3f5f\"},\"baxis\":{\"endlinecolor\":\"#2a3f5f\",\"gridcolor\":\"white\",\"linecolor\":\"white\",\"minorgridcolor\":\"white\",\"startlinecolor\":\"#2a3f5f\"},\"type\":\"carpet\"}],\"table\":[{\"cells\":{\"fill\":{\"color\":\"#EBF0F8\"},\"line\":{\"color\":\"white\"}},\"header\":{\"fill\":{\"color\":\"#C8D4E3\"},\"line\":{\"color\":\"white\"}},\"type\":\"table\"}],\"barpolar\":[{\"marker\":{\"line\":{\"color\":\"#E5ECF6\",\"width\":0.5},\"pattern\":{\"fillmode\":\"overlay\",\"size\":10,\"solidity\":0.2}},\"type\":\"barpolar\"}],\"pie\":[{\"automargin\":true,\"type\":\"pie\"}]},\"layout\":{\"autotypenumbers\":\"strict\",\"colorway\":[\"#636efa\",\"#EF553B\",\"#00cc96\",\"#ab63fa\",\"#FFA15A\",\"#19d3f3\",\"#FF6692\",\"#B6E880\",\"#FF97FF\",\"#FECB52\"],\"font\":{\"color\":\"#2a3f5f\"},\"hovermode\":\"closest\",\"hoverlabel\":{\"align\":\"left\"},\"paper_bgcolor\":\"white\",\"plot_bgcolor\":\"#E5ECF6\",\"polar\":{\"bgcolor\":\"#E5ECF6\",\"angularaxis\":{\"gridcolor\":\"white\",\"linecolor\":\"white\",\"ticks\":\"\"},\"radialaxis\":{\"gridcolor\":\"white\",\"linecolor\":\"white\",\"ticks\":\"\"}},\"ternary\":{\"bgcolor\":\"#E5ECF6\",\"aaxis\":{\"gridcolor\":\"white\",\"linecolor\":\"white\",\"ticks\":\"\"},\"baxis\":{\"gridcolor\":\"white\",\"linecolor\":\"white\",\"ticks\":\"\"},\"caxis\":{\"gridcolor\":\"white\",\"linecolor\":\"white\",\"ticks\":\"\"}},\"coloraxis\":{\"colorbar\":{\"outlinewidth\":0,\"ticks\":\"\"}},\"colorscale\":{\"sequential\":[[0.0,\"#0d0887\"],[0.1111111111111111,\"#46039f\"],[0.2222222222222222,\"#7201a8\"],[0.3333333333333333,\"#9c179e\"],[0.4444444444444444,\"#bd3786\"],[0.5555555555555556,\"#d8576b\"],[0.6666666666666666,\"#ed7953\"],[0.7777777777777778,\"#fb9f3a\"],[0.8888888888888888,\"#fdca26\"],[1.0,\"#f0f921\"]],\"sequentialminus\":[[0.0,\"#0d0887\"],[0.1111111111111111,\"#46039f\"],[0.2222222222222222,\"#7201a8\"],[0.3333333333333333,\"#9c179e\"],[0.4444444444444444,\"#bd3786\"],[0.5555555555555556,\"#d8576b\"],[0.6666666666666666,\"#ed7953\"],[0.7777777777777778,\"#fb9f3a\"],[0.8888888888888888,\"#fdca26\"],[1.0,\"#f0f921\"]],\"diverging\":[[0,\"#8e0152\"],[0.1,\"#c51b7d\"],[0.2,\"#de77ae\"],[0.3,\"#f1b6da\"],[0.4,\"#fde0ef\"],[0.5,\"#f7f7f7\"],[0.6,\"#e6f5d0\"],[0.7,\"#b8e186\"],[0.8,\"#7fbc41\"],[0.9,\"#4d9221\"],[1,\"#276419\"]]},\"xaxis\":{\"gridcolor\":\"white\",\"linecolor\":\"white\",\"ticks\":\"\",\"title\":{\"standoff\":15},\"zerolinecolor\":\"white\",\"automargin\":true,\"zerolinewidth\":2},\"yaxis\":{\"gridcolor\":\"white\",\"linecolor\":\"white\",\"ticks\":\"\",\"title\":{\"standoff\":15},\"zerolinecolor\":\"white\",\"automargin\":true,\"zerolinewidth\":2},\"scene\":{\"xaxis\":{\"backgroundcolor\":\"#E5ECF6\",\"gridcolor\":\"white\",\"linecolor\":\"white\",\"showbackground\":true,\"ticks\":\"\",\"zerolinecolor\":\"white\",\"gridwidth\":2},\"yaxis\":{\"backgroundcolor\":\"#E5ECF6\",\"gridcolor\":\"white\",\"linecolor\":\"white\",\"showbackground\":true,\"ticks\":\"\",\"zerolinecolor\":\"white\",\"gridwidth\":2},\"zaxis\":{\"backgroundcolor\":\"#E5ECF6\",\"gridcolor\":\"white\",\"linecolor\":\"white\",\"showbackground\":true,\"ticks\":\"\",\"zerolinecolor\":\"white\",\"gridwidth\":2}},\"shapedefaults\":{\"line\":{\"color\":\"#2a3f5f\"}},\"annotationdefaults\":{\"arrowcolor\":\"#2a3f5f\",\"arrowhead\":0,\"arrowwidth\":1},\"geo\":{\"bgcolor\":\"white\",\"landcolor\":\"#E5ECF6\",\"subunitcolor\":\"white\",\"showland\":true,\"showlakes\":true,\"lakecolor\":\"white\"},\"title\":{\"x\":0.05},\"mapbox\":{\"style\":\"light\"}}},\"xaxis\":{\"anchor\":\"y\",\"domain\":[0.0,1.0],\"title\":{\"text\":\"Pclass\"}},\"yaxis\":{\"anchor\":\"x\",\"domain\":[0.0,1.0],\"title\":{\"text\":\"Age\"}},\"legend\":{\"title\":{\"text\":\"Sex\"},\"tracegroupgap\":0},\"title\":{\"text\":\"Distribution of passengers by age and sex\"},\"boxmode\":\"group\"},                        {\"responsive\": true}                    ).then(function(){\n",
              "                            \n",
              "var gd = document.getElementById('e2b21414-e459-45b7-a503-187179ad8025');\n",
              "var x = new MutationObserver(function (mutations, observer) {{\n",
              "        var display = window.getComputedStyle(gd).display;\n",
              "        if (!display || display === 'none') {{\n",
              "            console.log([gd, 'removed!']);\n",
              "            Plotly.purge(gd);\n",
              "            observer.disconnect();\n",
              "        }}\n",
              "}});\n",
              "\n",
              "// Listen for the removal of the full notebook cells\n",
              "var notebookContainer = gd.closest('#notebook-container');\n",
              "if (notebookContainer) {{\n",
              "    x.observe(notebookContainer, {childList: true});\n",
              "}}\n",
              "\n",
              "// Listen for the clearing of the current output cell\n",
              "var outputEl = gd.closest('.output');\n",
              "if (outputEl) {{\n",
              "    x.observe(outputEl, {childList: true});\n",
              "}}\n",
              "\n",
              "                        })                };                            </script>        </div>\n",
              "</body>\n",
              "</html>"
            ]
          },
          "metadata": {}
        }
      ]
    },
    {
      "cell_type": "markdown",
      "source": [
        "Отберем выживших пассажиров с фамилией, начинающейся на “K” и отсортируем их по убыванию стоимости билета."
      ],
      "metadata": {
        "id": "Zl_izM7XVtz1"
      }
    },
    {
      "cell_type": "code",
      "source": [
        "k_survive = data_frame[(data_frame['Survived'] == 1) & (data_frame['Name'].str.startswith('K'))].sort_values(by='Fare', ascending=False)\n",
        "k_survive"
      ],
      "metadata": {
        "colab": {
          "base_uri": "https://localhost:8080/",
          "height": 331
        },
        "id": "7V7SXXRofZ10",
        "outputId": "a7bf4343-b394-481a-8ca0-6172452ab2c3"
      },
      "execution_count": 15,
      "outputs": [
        {
          "output_type": "execute_result",
          "data": {
            "text/plain": [
              "     PassengerId Survived Pclass                                      Name  \\\n",
              "621          622      1.0      1              Kimball, Mr. Edwin Nelson Jr   \n",
              "457          458      1.0      1         Kenyon, Mrs. Frederick R (Marion)   \n",
              "316          317      1.0      2       Kantor, Mrs. Sinai (Miriam Sternin)   \n",
              "184          185      1.0      3       Kink-Heilmann, Miss. Luise Gretchen   \n",
              "706          707      1.0      2             Kelly, Mrs. Florence \"Fannie\"   \n",
              "691          692      1.0      3                        Karun, Miss. Manca   \n",
              "303          304      1.0      2                       Keane, Miss. Nora A   \n",
              "300          301      1.0      3  Kelly, Miss. Anna Katherine \"Annie Kate\"   \n",
              "573          574      1.0      3                         Kelly, Miss. Mary   \n",
              "\n",
              "        Sex   Age  SibSp  Parch  Ticket     Fare Cabin Embarked  \n",
              "621    male  42.0      1      0   11753  52.5542   D19        S  \n",
              "457  female   NaN      1      0   17464  51.8625   D21        S  \n",
              "316  female  24.0      1      0  244367  26.0000   NaN        S  \n",
              "184  female   4.0      0      2  315153  22.0250   NaN        S  \n",
              "706  female  45.0      0      0  223596  13.5000   NaN        S  \n",
              "691  female   4.0      0      1  349256  13.4167   NaN        C  \n",
              "303  female   NaN      0      0  226593  12.3500  E101        Q  \n",
              "300  female   NaN      0      0    9234   7.7500   NaN        Q  \n",
              "573  female   NaN      0      0   14312   7.7500   NaN        Q  "
            ],
            "text/html": [
              "\n",
              "  <div id=\"df-ecad08b6-d05a-4de3-beed-1e614c73809b\" class=\"colab-df-container\">\n",
              "    <div>\n",
              "<style scoped>\n",
              "    .dataframe tbody tr th:only-of-type {\n",
              "        vertical-align: middle;\n",
              "    }\n",
              "\n",
              "    .dataframe tbody tr th {\n",
              "        vertical-align: top;\n",
              "    }\n",
              "\n",
              "    .dataframe thead th {\n",
              "        text-align: right;\n",
              "    }\n",
              "</style>\n",
              "<table border=\"1\" class=\"dataframe\">\n",
              "  <thead>\n",
              "    <tr style=\"text-align: right;\">\n",
              "      <th></th>\n",
              "      <th>PassengerId</th>\n",
              "      <th>Survived</th>\n",
              "      <th>Pclass</th>\n",
              "      <th>Name</th>\n",
              "      <th>Sex</th>\n",
              "      <th>Age</th>\n",
              "      <th>SibSp</th>\n",
              "      <th>Parch</th>\n",
              "      <th>Ticket</th>\n",
              "      <th>Fare</th>\n",
              "      <th>Cabin</th>\n",
              "      <th>Embarked</th>\n",
              "    </tr>\n",
              "  </thead>\n",
              "  <tbody>\n",
              "    <tr>\n",
              "      <th>621</th>\n",
              "      <td>622</td>\n",
              "      <td>1.0</td>\n",
              "      <td>1</td>\n",
              "      <td>Kimball, Mr. Edwin Nelson Jr</td>\n",
              "      <td>male</td>\n",
              "      <td>42.0</td>\n",
              "      <td>1</td>\n",
              "      <td>0</td>\n",
              "      <td>11753</td>\n",
              "      <td>52.5542</td>\n",
              "      <td>D19</td>\n",
              "      <td>S</td>\n",
              "    </tr>\n",
              "    <tr>\n",
              "      <th>457</th>\n",
              "      <td>458</td>\n",
              "      <td>1.0</td>\n",
              "      <td>1</td>\n",
              "      <td>Kenyon, Mrs. Frederick R (Marion)</td>\n",
              "      <td>female</td>\n",
              "      <td>NaN</td>\n",
              "      <td>1</td>\n",
              "      <td>0</td>\n",
              "      <td>17464</td>\n",
              "      <td>51.8625</td>\n",
              "      <td>D21</td>\n",
              "      <td>S</td>\n",
              "    </tr>\n",
              "    <tr>\n",
              "      <th>316</th>\n",
              "      <td>317</td>\n",
              "      <td>1.0</td>\n",
              "      <td>2</td>\n",
              "      <td>Kantor, Mrs. Sinai (Miriam Sternin)</td>\n",
              "      <td>female</td>\n",
              "      <td>24.0</td>\n",
              "      <td>1</td>\n",
              "      <td>0</td>\n",
              "      <td>244367</td>\n",
              "      <td>26.0000</td>\n",
              "      <td>NaN</td>\n",
              "      <td>S</td>\n",
              "    </tr>\n",
              "    <tr>\n",
              "      <th>184</th>\n",
              "      <td>185</td>\n",
              "      <td>1.0</td>\n",
              "      <td>3</td>\n",
              "      <td>Kink-Heilmann, Miss. Luise Gretchen</td>\n",
              "      <td>female</td>\n",
              "      <td>4.0</td>\n",
              "      <td>0</td>\n",
              "      <td>2</td>\n",
              "      <td>315153</td>\n",
              "      <td>22.0250</td>\n",
              "      <td>NaN</td>\n",
              "      <td>S</td>\n",
              "    </tr>\n",
              "    <tr>\n",
              "      <th>706</th>\n",
              "      <td>707</td>\n",
              "      <td>1.0</td>\n",
              "      <td>2</td>\n",
              "      <td>Kelly, Mrs. Florence \"Fannie\"</td>\n",
              "      <td>female</td>\n",
              "      <td>45.0</td>\n",
              "      <td>0</td>\n",
              "      <td>0</td>\n",
              "      <td>223596</td>\n",
              "      <td>13.5000</td>\n",
              "      <td>NaN</td>\n",
              "      <td>S</td>\n",
              "    </tr>\n",
              "    <tr>\n",
              "      <th>691</th>\n",
              "      <td>692</td>\n",
              "      <td>1.0</td>\n",
              "      <td>3</td>\n",
              "      <td>Karun, Miss. Manca</td>\n",
              "      <td>female</td>\n",
              "      <td>4.0</td>\n",
              "      <td>0</td>\n",
              "      <td>1</td>\n",
              "      <td>349256</td>\n",
              "      <td>13.4167</td>\n",
              "      <td>NaN</td>\n",
              "      <td>C</td>\n",
              "    </tr>\n",
              "    <tr>\n",
              "      <th>303</th>\n",
              "      <td>304</td>\n",
              "      <td>1.0</td>\n",
              "      <td>2</td>\n",
              "      <td>Keane, Miss. Nora A</td>\n",
              "      <td>female</td>\n",
              "      <td>NaN</td>\n",
              "      <td>0</td>\n",
              "      <td>0</td>\n",
              "      <td>226593</td>\n",
              "      <td>12.3500</td>\n",
              "      <td>E101</td>\n",
              "      <td>Q</td>\n",
              "    </tr>\n",
              "    <tr>\n",
              "      <th>300</th>\n",
              "      <td>301</td>\n",
              "      <td>1.0</td>\n",
              "      <td>3</td>\n",
              "      <td>Kelly, Miss. Anna Katherine \"Annie Kate\"</td>\n",
              "      <td>female</td>\n",
              "      <td>NaN</td>\n",
              "      <td>0</td>\n",
              "      <td>0</td>\n",
              "      <td>9234</td>\n",
              "      <td>7.7500</td>\n",
              "      <td>NaN</td>\n",
              "      <td>Q</td>\n",
              "    </tr>\n",
              "    <tr>\n",
              "      <th>573</th>\n",
              "      <td>574</td>\n",
              "      <td>1.0</td>\n",
              "      <td>3</td>\n",
              "      <td>Kelly, Miss. Mary</td>\n",
              "      <td>female</td>\n",
              "      <td>NaN</td>\n",
              "      <td>0</td>\n",
              "      <td>0</td>\n",
              "      <td>14312</td>\n",
              "      <td>7.7500</td>\n",
              "      <td>NaN</td>\n",
              "      <td>Q</td>\n",
              "    </tr>\n",
              "  </tbody>\n",
              "</table>\n",
              "</div>\n",
              "    <div class=\"colab-df-buttons\">\n",
              "\n",
              "  <div class=\"colab-df-container\">\n",
              "    <button class=\"colab-df-convert\" onclick=\"convertToInteractive('df-ecad08b6-d05a-4de3-beed-1e614c73809b')\"\n",
              "            title=\"Convert this dataframe to an interactive table.\"\n",
              "            style=\"display:none;\">\n",
              "\n",
              "  <svg xmlns=\"http://www.w3.org/2000/svg\" height=\"24px\" viewBox=\"0 -960 960 960\">\n",
              "    <path d=\"M120-120v-720h720v720H120Zm60-500h600v-160H180v160Zm220 220h160v-160H400v160Zm0 220h160v-160H400v160ZM180-400h160v-160H180v160Zm440 0h160v-160H620v160ZM180-180h160v-160H180v160Zm440 0h160v-160H620v160Z\"/>\n",
              "  </svg>\n",
              "    </button>\n",
              "\n",
              "  <style>\n",
              "    .colab-df-container {\n",
              "      display:flex;\n",
              "      gap: 12px;\n",
              "    }\n",
              "\n",
              "    .colab-df-convert {\n",
              "      background-color: #E8F0FE;\n",
              "      border: none;\n",
              "      border-radius: 50%;\n",
              "      cursor: pointer;\n",
              "      display: none;\n",
              "      fill: #1967D2;\n",
              "      height: 32px;\n",
              "      padding: 0 0 0 0;\n",
              "      width: 32px;\n",
              "    }\n",
              "\n",
              "    .colab-df-convert:hover {\n",
              "      background-color: #E2EBFA;\n",
              "      box-shadow: 0px 1px 2px rgba(60, 64, 67, 0.3), 0px 1px 3px 1px rgba(60, 64, 67, 0.15);\n",
              "      fill: #174EA6;\n",
              "    }\n",
              "\n",
              "    .colab-df-buttons div {\n",
              "      margin-bottom: 4px;\n",
              "    }\n",
              "\n",
              "    [theme=dark] .colab-df-convert {\n",
              "      background-color: #3B4455;\n",
              "      fill: #D2E3FC;\n",
              "    }\n",
              "\n",
              "    [theme=dark] .colab-df-convert:hover {\n",
              "      background-color: #434B5C;\n",
              "      box-shadow: 0px 1px 3px 1px rgba(0, 0, 0, 0.15);\n",
              "      filter: drop-shadow(0px 1px 2px rgba(0, 0, 0, 0.3));\n",
              "      fill: #FFFFFF;\n",
              "    }\n",
              "  </style>\n",
              "\n",
              "    <script>\n",
              "      const buttonEl =\n",
              "        document.querySelector('#df-ecad08b6-d05a-4de3-beed-1e614c73809b button.colab-df-convert');\n",
              "      buttonEl.style.display =\n",
              "        google.colab.kernel.accessAllowed ? 'block' : 'none';\n",
              "\n",
              "      async function convertToInteractive(key) {\n",
              "        const element = document.querySelector('#df-ecad08b6-d05a-4de3-beed-1e614c73809b');\n",
              "        const dataTable =\n",
              "          await google.colab.kernel.invokeFunction('convertToInteractive',\n",
              "                                                    [key], {});\n",
              "        if (!dataTable) return;\n",
              "\n",
              "        const docLinkHtml = 'Like what you see? Visit the ' +\n",
              "          '<a target=\"_blank\" href=https://colab.research.google.com/notebooks/data_table.ipynb>data table notebook</a>'\n",
              "          + ' to learn more about interactive tables.';\n",
              "        element.innerHTML = '';\n",
              "        dataTable['output_type'] = 'display_data';\n",
              "        await google.colab.output.renderOutput(dataTable, element);\n",
              "        const docLink = document.createElement('div');\n",
              "        docLink.innerHTML = docLinkHtml;\n",
              "        element.appendChild(docLink);\n",
              "      }\n",
              "    </script>\n",
              "  </div>\n",
              "\n",
              "\n",
              "<div id=\"df-1071a738-5546-4de8-9b44-f25aaf1a9028\">\n",
              "  <button class=\"colab-df-quickchart\" onclick=\"quickchart('df-1071a738-5546-4de8-9b44-f25aaf1a9028')\"\n",
              "            title=\"Suggest charts\"\n",
              "            style=\"display:none;\">\n",
              "\n",
              "<svg xmlns=\"http://www.w3.org/2000/svg\" height=\"24px\"viewBox=\"0 0 24 24\"\n",
              "     width=\"24px\">\n",
              "    <g>\n",
              "        <path d=\"M19 3H5c-1.1 0-2 .9-2 2v14c0 1.1.9 2 2 2h14c1.1 0 2-.9 2-2V5c0-1.1-.9-2-2-2zM9 17H7v-7h2v7zm4 0h-2V7h2v10zm4 0h-2v-4h2v4z\"/>\n",
              "    </g>\n",
              "</svg>\n",
              "  </button>\n",
              "\n",
              "<style>\n",
              "  .colab-df-quickchart {\n",
              "      --bg-color: #E8F0FE;\n",
              "      --fill-color: #1967D2;\n",
              "      --hover-bg-color: #E2EBFA;\n",
              "      --hover-fill-color: #174EA6;\n",
              "      --disabled-fill-color: #AAA;\n",
              "      --disabled-bg-color: #DDD;\n",
              "  }\n",
              "\n",
              "  [theme=dark] .colab-df-quickchart {\n",
              "      --bg-color: #3B4455;\n",
              "      --fill-color: #D2E3FC;\n",
              "      --hover-bg-color: #434B5C;\n",
              "      --hover-fill-color: #FFFFFF;\n",
              "      --disabled-bg-color: #3B4455;\n",
              "      --disabled-fill-color: #666;\n",
              "  }\n",
              "\n",
              "  .colab-df-quickchart {\n",
              "    background-color: var(--bg-color);\n",
              "    border: none;\n",
              "    border-radius: 50%;\n",
              "    cursor: pointer;\n",
              "    display: none;\n",
              "    fill: var(--fill-color);\n",
              "    height: 32px;\n",
              "    padding: 0;\n",
              "    width: 32px;\n",
              "  }\n",
              "\n",
              "  .colab-df-quickchart:hover {\n",
              "    background-color: var(--hover-bg-color);\n",
              "    box-shadow: 0 1px 2px rgba(60, 64, 67, 0.3), 0 1px 3px 1px rgba(60, 64, 67, 0.15);\n",
              "    fill: var(--button-hover-fill-color);\n",
              "  }\n",
              "\n",
              "  .colab-df-quickchart-complete:disabled,\n",
              "  .colab-df-quickchart-complete:disabled:hover {\n",
              "    background-color: var(--disabled-bg-color);\n",
              "    fill: var(--disabled-fill-color);\n",
              "    box-shadow: none;\n",
              "  }\n",
              "\n",
              "  .colab-df-spinner {\n",
              "    border: 2px solid var(--fill-color);\n",
              "    border-color: transparent;\n",
              "    border-bottom-color: var(--fill-color);\n",
              "    animation:\n",
              "      spin 1s steps(1) infinite;\n",
              "  }\n",
              "\n",
              "  @keyframes spin {\n",
              "    0% {\n",
              "      border-color: transparent;\n",
              "      border-bottom-color: var(--fill-color);\n",
              "      border-left-color: var(--fill-color);\n",
              "    }\n",
              "    20% {\n",
              "      border-color: transparent;\n",
              "      border-left-color: var(--fill-color);\n",
              "      border-top-color: var(--fill-color);\n",
              "    }\n",
              "    30% {\n",
              "      border-color: transparent;\n",
              "      border-left-color: var(--fill-color);\n",
              "      border-top-color: var(--fill-color);\n",
              "      border-right-color: var(--fill-color);\n",
              "    }\n",
              "    40% {\n",
              "      border-color: transparent;\n",
              "      border-right-color: var(--fill-color);\n",
              "      border-top-color: var(--fill-color);\n",
              "    }\n",
              "    60% {\n",
              "      border-color: transparent;\n",
              "      border-right-color: var(--fill-color);\n",
              "    }\n",
              "    80% {\n",
              "      border-color: transparent;\n",
              "      border-right-color: var(--fill-color);\n",
              "      border-bottom-color: var(--fill-color);\n",
              "    }\n",
              "    90% {\n",
              "      border-color: transparent;\n",
              "      border-bottom-color: var(--fill-color);\n",
              "    }\n",
              "  }\n",
              "</style>\n",
              "\n",
              "  <script>\n",
              "    async function quickchart(key) {\n",
              "      const quickchartButtonEl =\n",
              "        document.querySelector('#' + key + ' button');\n",
              "      quickchartButtonEl.disabled = true;  // To prevent multiple clicks.\n",
              "      quickchartButtonEl.classList.add('colab-df-spinner');\n",
              "      try {\n",
              "        const charts = await google.colab.kernel.invokeFunction(\n",
              "            'suggestCharts', [key], {});\n",
              "      } catch (error) {\n",
              "        console.error('Error during call to suggestCharts:', error);\n",
              "      }\n",
              "      quickchartButtonEl.classList.remove('colab-df-spinner');\n",
              "      quickchartButtonEl.classList.add('colab-df-quickchart-complete');\n",
              "    }\n",
              "    (() => {\n",
              "      let quickchartButtonEl =\n",
              "        document.querySelector('#df-1071a738-5546-4de8-9b44-f25aaf1a9028 button');\n",
              "      quickchartButtonEl.style.display =\n",
              "        google.colab.kernel.accessAllowed ? 'block' : 'none';\n",
              "    })();\n",
              "  </script>\n",
              "</div>\n",
              "    </div>\n",
              "  </div>\n"
            ],
            "application/vnd.google.colaboratory.intrinsic+json": {
              "type": "dataframe",
              "variable_name": "k_survive",
              "summary": "{\n  \"name\": \"k_survive\",\n  \"rows\": 9,\n  \"fields\": [\n    {\n      \"column\": \"PassengerId\",\n      \"properties\": {\n        \"dtype\": \"number\",\n        \"std\": 193,\n        \"min\": 185,\n        \"max\": 707,\n        \"num_unique_values\": 9,\n        \"samples\": [\n          301,\n          458,\n          692\n        ],\n        \"semantic_type\": \"\",\n        \"description\": \"\"\n      }\n    },\n    {\n      \"column\": \"Survived\",\n      \"properties\": {\n        \"dtype\": \"category\",\n        \"num_unique_values\": 1,\n        \"samples\": [\n          1.0\n        ],\n        \"semantic_type\": \"\",\n        \"description\": \"\"\n      }\n    },\n    {\n      \"column\": \"Pclass\",\n      \"properties\": {\n        \"dtype\": \"category\",\n        \"num_unique_values\": 3,\n        \"samples\": [\n          1\n        ],\n        \"semantic_type\": \"\",\n        \"description\": \"\"\n      }\n    },\n    {\n      \"column\": \"Name\",\n      \"properties\": {\n        \"dtype\": \"string\",\n        \"num_unique_values\": 9,\n        \"samples\": [\n          \"Kelly, Miss. Anna Katherine \\\"Annie Kate\\\"\"\n        ],\n        \"semantic_type\": \"\",\n        \"description\": \"\"\n      }\n    },\n    {\n      \"column\": \"Sex\",\n      \"properties\": {\n        \"dtype\": \"category\",\n        \"num_unique_values\": 2,\n        \"samples\": [\n          \"female\"\n        ],\n        \"semantic_type\": \"\",\n        \"description\": \"\"\n      }\n    },\n    {\n      \"column\": \"Age\",\n      \"properties\": {\n        \"dtype\": \"number\",\n        \"std\": 19.778776504121787,\n        \"min\": 4.0,\n        \"max\": 45.0,\n        \"num_unique_values\": 4,\n        \"samples\": [\n          24.0\n        ],\n        \"semantic_type\": \"\",\n        \"description\": \"\"\n      }\n    },\n    {\n      \"column\": \"SibSp\",\n      \"properties\": {\n        \"dtype\": \"number\",\n        \"std\": 0,\n        \"min\": 0,\n        \"max\": 1,\n        \"num_unique_values\": 2,\n        \"samples\": [\n          0\n        ],\n        \"semantic_type\": \"\",\n        \"description\": \"\"\n      }\n    },\n    {\n      \"column\": \"Parch\",\n      \"properties\": {\n        \"dtype\": \"number\",\n        \"std\": 0,\n        \"min\": 0,\n        \"max\": 2,\n        \"num_unique_values\": 3,\n        \"samples\": [\n          0\n        ],\n        \"semantic_type\": \"\",\n        \"description\": \"\"\n      }\n    },\n    {\n      \"column\": \"Ticket\",\n      \"properties\": {\n        \"dtype\": \"string\",\n        \"num_unique_values\": 9,\n        \"samples\": [\n          \"9234\"\n        ],\n        \"semantic_type\": \"\",\n        \"description\": \"\"\n      }\n    },\n    {\n      \"column\": \"Fare\",\n      \"properties\": {\n        \"dtype\": \"number\",\n        \"std\": 17.59643991750257,\n        \"min\": 7.75,\n        \"max\": 52.5542,\n        \"num_unique_values\": 8,\n        \"samples\": [\n          51.8625\n        ],\n        \"semantic_type\": \"\",\n        \"description\": \"\"\n      }\n    },\n    {\n      \"column\": \"Cabin\",\n      \"properties\": {\n        \"dtype\": \"category\",\n        \"num_unique_values\": 3,\n        \"samples\": [\n          \"D19\"\n        ],\n        \"semantic_type\": \"\",\n        \"description\": \"\"\n      }\n    },\n    {\n      \"column\": \"Embarked\",\n      \"properties\": {\n        \"dtype\": \"category\",\n        \"num_unique_values\": 3,\n        \"samples\": [\n          \"S\"\n        ],\n        \"semantic_type\": \"\",\n        \"description\": \"\"\n      }\n    }\n  ]\n}"
            }
          },
          "metadata": {},
          "execution_count": 15
        }
      ]
    },
    {
      "cell_type": "markdown",
      "source": [
        "Среди них, больше всего заплатил **Kimball, Mr. Edwin Nelson Jr**"
      ],
      "metadata": {
        "id": "twEBoFFrhV7m"
      }
    },
    {
      "cell_type": "code",
      "source": [
        "price = k_survive['Fare'].max()\n",
        "k_survive[k_survive['Fare'] == price]['Name']"
      ],
      "metadata": {
        "colab": {
          "base_uri": "https://localhost:8080/",
          "height": 115
        },
        "id": "0ZyMRKBKhb_J",
        "outputId": "90e5250e-6a03-4dce-f7ff-da902ae5c403"
      },
      "execution_count": 16,
      "outputs": [
        {
          "output_type": "execute_result",
          "data": {
            "text/plain": [
              "621    Kimball, Mr. Edwin Nelson Jr\n",
              "Name: Name, dtype: object"
            ],
            "text/html": [
              "<div>\n",
              "<style scoped>\n",
              "    .dataframe tbody tr th:only-of-type {\n",
              "        vertical-align: middle;\n",
              "    }\n",
              "\n",
              "    .dataframe tbody tr th {\n",
              "        vertical-align: top;\n",
              "    }\n",
              "\n",
              "    .dataframe thead th {\n",
              "        text-align: right;\n",
              "    }\n",
              "</style>\n",
              "<table border=\"1\" class=\"dataframe\">\n",
              "  <thead>\n",
              "    <tr style=\"text-align: right;\">\n",
              "      <th></th>\n",
              "      <th>Name</th>\n",
              "    </tr>\n",
              "  </thead>\n",
              "  <tbody>\n",
              "    <tr>\n",
              "      <th>621</th>\n",
              "      <td>Kimball, Mr. Edwin Nelson Jr</td>\n",
              "    </tr>\n",
              "  </tbody>\n",
              "</table>\n",
              "</div><br><label><b>dtype:</b> object</label>"
            ]
          },
          "metadata": {},
          "execution_count": 16
        }
      ]
    },
    {
      "cell_type": "markdown",
      "source": [
        "А меньше всего - **Kelly, Miss. Anna Katherine \"Annie Kate** и **Kelly, Miss. Mary**"
      ],
      "metadata": {
        "id": "eslVa9yZh5aP"
      }
    },
    {
      "cell_type": "code",
      "source": [
        "price = k_survive['Fare'].min()\n",
        "k_survive[k_survive['Fare'] == price]['Name']"
      ],
      "metadata": {
        "colab": {
          "base_uri": "https://localhost:8080/",
          "height": 147
        },
        "id": "k3ul11xKh9PT",
        "outputId": "06c2feb0-4cda-49db-882c-604c2b42ced2"
      },
      "execution_count": 17,
      "outputs": [
        {
          "output_type": "execute_result",
          "data": {
            "text/plain": [
              "300    Kelly, Miss. Anna Katherine \"Annie Kate\"\n",
              "573                           Kelly, Miss. Mary\n",
              "Name: Name, dtype: object"
            ],
            "text/html": [
              "<div>\n",
              "<style scoped>\n",
              "    .dataframe tbody tr th:only-of-type {\n",
              "        vertical-align: middle;\n",
              "    }\n",
              "\n",
              "    .dataframe tbody tr th {\n",
              "        vertical-align: top;\n",
              "    }\n",
              "\n",
              "    .dataframe thead th {\n",
              "        text-align: right;\n",
              "    }\n",
              "</style>\n",
              "<table border=\"1\" class=\"dataframe\">\n",
              "  <thead>\n",
              "    <tr style=\"text-align: right;\">\n",
              "      <th></th>\n",
              "      <th>Name</th>\n",
              "    </tr>\n",
              "  </thead>\n",
              "  <tbody>\n",
              "    <tr>\n",
              "      <th>300</th>\n",
              "      <td>Kelly, Miss. Anna Katherine \"Annie Kate\"</td>\n",
              "    </tr>\n",
              "    <tr>\n",
              "      <th>573</th>\n",
              "      <td>Kelly, Miss. Mary</td>\n",
              "    </tr>\n",
              "  </tbody>\n",
              "</table>\n",
              "</div><br><label><b>dtype:</b> object</label>"
            ]
          },
          "metadata": {},
          "execution_count": 17
        }
      ]
    },
    {
      "cell_type": "markdown",
      "source": [
        "Найдем какое максимальное количество родных было с выжившим пассажиром"
      ],
      "metadata": {
        "id": "fXiqkQL5minb"
      }
    },
    {
      "cell_type": "code",
      "source": [
        "survived_data = data_frame[data_frame['Survived'] == 1]\n",
        "(survived_data['SibSp'] + survived_data['Parch']).max()"
      ],
      "metadata": {
        "colab": {
          "base_uri": "https://localhost:8080/"
        },
        "id": "u0a-aYgVmzgl",
        "outputId": "5fb3e610-8964-4463-d083-70a48db36fd5"
      },
      "execution_count": 18,
      "outputs": [
        {
          "output_type": "execute_result",
          "data": {
            "text/plain": [
              "6"
            ]
          },
          "metadata": {},
          "execution_count": 18
        }
      ]
    },
    {
      "cell_type": "markdown",
      "source": [
        "Посчитаем среднюю стоимость билета пассажиров, для которых указана каюта (`Cabin`) и для тех, у кого она не указана"
      ],
      "metadata": {
        "id": "-Bh0w8Lytf_p"
      }
    },
    {
      "cell_type": "code",
      "source": [
        "fare_means = data_frame.groupby(data_frame['Cabin'].notna())['Fare'].mean()\n",
        "mean_fare_with = fare_means[True]\n",
        "mean_fare_without = fare_means[False]\n",
        "mean_fare_with, mean_fare_without"
      ],
      "metadata": {
        "colab": {
          "base_uri": "https://localhost:8080/"
        },
        "id": "b-p5KSDVpxnc",
        "outputId": "ee16fae8-368d-4489-ceda-9ea0b627bcaa"
      },
      "execution_count": 19,
      "outputs": [
        {
          "output_type": "execute_result",
          "data": {
            "text/plain": [
              "(np.float64(81.92899830508475), np.float64(19.132707206317868))"
            ]
          },
          "metadata": {},
          "execution_count": 19
        }
      ]
    },
    {
      "cell_type": "markdown",
      "source": [
        "Во сколько раз они отличаются?"
      ],
      "metadata": {
        "id": "iNQ_qsEUty3j"
      }
    },
    {
      "cell_type": "code",
      "source": [
        "mean_fare_with / mean_fare_without"
      ],
      "metadata": {
        "colab": {
          "base_uri": "https://localhost:8080/"
        },
        "id": "4vbY6h8pt7Iz",
        "outputId": "8a573255-2103-4898-d8b0-ce8bed1aa371"
      },
      "execution_count": 20,
      "outputs": [
        {
          "output_type": "execute_result",
          "data": {
            "text/plain": [
              "np.float64(4.282143526350036)"
            ]
          },
          "metadata": {},
          "execution_count": 20
        }
      ]
    },
    {
      "cell_type": "markdown",
      "source": [
        "Построим **Scatter plot** для отображения распределения пассажиров по возрасту и стоймости билета, включая пол"
      ],
      "metadata": {
        "id": "qh4ZkTATuQvV"
      }
    },
    {
      "cell_type": "code",
      "source": [
        "filtered_data = data_frame.dropna(subset=['Age', 'Fare', 'Sex'])\n",
        "\n",
        "fig = px.scatter(\n",
        "    filtered_data,\n",
        "    x='Age',\n",
        "    y='Fare',\n",
        "    color='Sex',\n",
        "    color_discrete_map={'female': 'pink', 'male': 'lightblue'},\n",
        "    title='Chart of age and ticket prices by sex',\n",
        "    hover_data=['Pclass']\n",
        ")\n",
        "\n",
        "fig.update_layout(\n",
        "    plot_bgcolor='white'\n",
        ")\n",
        "\n",
        "fig.show()"
      ],
      "metadata": {
        "colab": {
          "base_uri": "https://localhost:8080/",
          "height": 542
        },
        "id": "tjCe7kF0TM4a",
        "outputId": "48eded6a-516e-403b-ddee-a42aa3ec134b"
      },
      "execution_count": 33,
      "outputs": [
        {
          "output_type": "display_data",
          "data": {
            "text/html": [
              "<html>\n",
              "<head><meta charset=\"utf-8\" /></head>\n",
              "<body>\n",
              "    <div>            <script src=\"https://cdnjs.cloudflare.com/ajax/libs/mathjax/2.7.5/MathJax.js?config=TeX-AMS-MML_SVG\"></script><script type=\"text/javascript\">if (window.MathJax && window.MathJax.Hub && window.MathJax.Hub.Config) {window.MathJax.Hub.Config({SVG: {font: \"STIX-Web\"}});}</script>                <script type=\"text/javascript\">window.PlotlyConfig = {MathJaxConfig: 'local'};</script>\n",
              "        <script charset=\"utf-8\" src=\"https://cdn.plot.ly/plotly-2.35.2.min.js\"></script>                <div id=\"8b009fa2-003d-4d29-a209-5a1e227074a4\" class=\"plotly-graph-div\" style=\"height:525px; width:100%;\"></div>            <script type=\"text/javascript\">                                    window.PLOTLYENV=window.PLOTLYENV || {};                                    if (document.getElementById(\"8b009fa2-003d-4d29-a209-5a1e227074a4\")) {                    Plotly.newPlot(                        \"8b009fa2-003d-4d29-a209-5a1e227074a4\",                        [{\"customdata\":[[3],[3],[1],[3],[3],[3],[3],[2],[2],[1],[1],[1],[2],[1],[1],[3],[3],[3],[1],[3],[3],[3],[1],[3],[3],[3],[2],[2],[3],[3],[3],[2],[3],[3],[1],[3],[3],[3],[3],[1],[3],[3],[1],[1],[2],[1],[3],[3],[3],[3],[1],[3],[3],[3],[2],[1],[2],[2],[1],[3],[3],[3],[3],[3],[2],[2],[1],[3],[1],[3],[2],[2],[3],[2],[2],[2],[3],[3],[1],[3],[3],[3],[3],[3],[3],[3],[1],[3],[3],[1],[3],[2],[3],[3],[2],[1],[3],[3],[2],[2],[3],[3],[3],[3],[3],[3],[3],[1],[3],[3],[2],[2],[2],[3],[2],[3],[1],[3],[2],[3],[2],[3],[2],[2],[2],[2],[2],[2],[3],[3],[1],[1],[2],[1],[3],[3],[1],[1],[2],[3],[3],[3],[1],[3],[3],[3],[3],[3],[3],[3],[3],[2],[2],[3],[3],[3],[1],[2],[3],[2],[2],[3],[3],[3],[1],[1],[3],[1],[3],[1],[2],[2],[2],[2],[3],[3],[3],[3],[3],[3],[3],[2],[3],[3],[1],[3],[3],[1],[1],[3],[3],[3],[2],[3],[1],[3],[3],[3],[2],[2],[3],[3],[3],[2],[3],[2],[3],[3],[2],[3],[3],[3],[3],[1],[3],[1],[1],[2],[3],[3],[1],[1],[1],[2],[1],[1],[3],[1],[1],[3],[1],[2],[3],[1],[3],[2],[3],[3],[3],[3],[1],[1],[3],[3],[3],[1],[1],[3],[3],[3],[1],[3],[3],[3],[1],[3],[1],[3],[3],[3],[3],[2],[3],[1],[2],[1],[1],[3],[2],[1],[2],[3],[1],[3],[2],[3],[3],[3],[2],[1],[3],[3],[3],[2],[1],[2],[1],[3],[3],[3],[2],[3],[3],[1],[3],[1],[3],[3],[1],[3],[3],[2],[3],[1],[3],[3],[3],[1],[2],[3],[1],[3],[1],[3],[2],[3],[1],[3],[1],[3],[2],[2],[1],[1],[3],[1],[3],[3],[2],[2],[3],[1],[2],[2],[3],[3],[1],[1],[3],[3],[2],[2],[3],[3],[3],[1],[3],[1],[2],[3],[1],[3],[1],[3],[3],[2],[1],[1],[3],[2],[3],[3],[3],[2],[2],[1],[3],[2],[3],[2],[2],[3],[1],[1],[3],[3],[1],[3],[1],[3],[3],[3],[3],[2],[3],[2],[3],[3],[3],[3],[3],[3],[3],[3],[1],[3],[3],[3],[3],[1],[2],[3],[2],[3],[2],[1],[3],[3],[3],[1],[2],[3],[3],[2],[3],[2],[3],[3],[3],[1],[3],[2],[2],[3],[3],[3],[3],[3],[2],[3],[3],[3],[3],[2],[3],[3],[1],[3],[2],[2],[1],[3],[3],[1],[3],[3],[3],[3],[2],[3],[2],[1],[3],[3],[2],[3],[3],[2],[3],[1],[2],[2],[3],[1],[3],[1],[3],[3],[1],[2],[2],[1],[3],[3],[3],[3],[3],[1],[1],[2],[3],[3],[3],[3],[2],[3],[1],[1],[1],[3],[1],[1],[2],[3],[1],[1],[2],[1],[3],[3],[3],[2],[3],[3],[3],[2],[2],[3],[1],[3],[3],[2],[3],[3],[1],[3],[3],[3],[2],[3],[1],[2],[1],[3],[3],[2],[3],[3],[1],[3],[2],[1],[3],[3],[3],[3],[1],[2],[1],[2],[3],[2],[2],[3],[2],[2],[3],[1],[2],[3],[1],[2],[2],[3],[3],[2],[1],[1],[3],[3],[3],[3],[2],[2],[3],[1],[3],[1],[3],[1],[1],[2],[3],[1],[3],[3],[3],[3],[3],[3],[2],[3],[1],[2],[2],[2],[2],[3],[3],[1],[1],[3],[3],[1],[3],[3],[2],[3],[1],[3],[1],[3],[3],[1],[2],[3],[2],[3],[3],[2],[1],[3],[1],[2],[2],[1],[3],[1],[2],[3],[2],[2],[3],[2],[2],[2],[2],[2],[1],[3],[3],[2],[2],[1],[2],[2],[1],[3],[3],[3],[2],[3],[3],[1],[3],[2],[3],[3],[3],[3],[2],[1],[1],[2],[2],[1],[3]],\"hovertemplate\":\"Sex=male\\u003cbr\\u003eAge=%{x}\\u003cbr\\u003eFare=%{y}\\u003cbr\\u003ePclass=%{customdata[0]}\\u003cextra\\u003e\\u003c\\u002fextra\\u003e\",\"legendgroup\":\"male\",\"marker\":{\"color\":\"lightblue\",\"symbol\":\"circle\"},\"mode\":\"markers\",\"name\":\"male\",\"showlegend\":true,\"x\":[22.0,35.0,54.0,2.0,20.0,39.0,2.0,35.0,34.0,28.0,19.0,40.0,66.0,28.0,42.0,21.0,7.0,21.0,65.0,28.5,11.0,22.0,45.0,4.0,19.0,26.0,32.0,21.0,26.0,32.0,25.0,0.83,22.0,29.0,28.0,16.0,24.0,29.0,20.0,46.0,26.0,59.0,71.0,23.0,34.0,21.0,33.0,37.0,28.0,38.0,47.0,22.0,21.0,70.5,29.0,24.0,21.0,32.5,54.0,12.0,24.0,45.0,33.0,20.0,25.0,23.0,37.0,16.0,24.0,19.0,18.0,19.0,27.0,36.5,42.0,51.0,55.5,40.5,51.0,30.0,44.0,26.0,17.0,1.0,9.0,28.0,61.0,4.0,21.0,56.0,18.0,30.0,36.0,9.0,1.0,45.0,40.0,36.0,19.0,3.0,42.0,28.0,34.0,45.5,18.0,32.0,26.0,40.0,24.0,22.0,30.0,42.0,30.0,16.0,27.0,51.0,38.0,22.0,19.0,20.5,18.0,29.0,59.0,24.0,44.0,19.0,33.0,29.0,22.0,30.0,44.0,37.0,54.0,62.0,30.0,3.0,52.0,40.0,36.0,16.0,25.0,25.0,37.0,7.0,65.0,28.0,16.0,19.0,33.0,30.0,22.0,42.0,36.0,24.0,23.5,19.0,0.92,30.0,28.0,43.0,54.0,22.0,27.0,61.0,45.5,38.0,16.0,29.0,45.0,45.0,2.0,28.0,25.0,36.0,3.0,42.0,23.0,15.0,25.0,28.0,40.0,29.0,35.0,30.0,25.0,18.0,19.0,22.0,27.0,20.0,19.0,32.0,18.0,1.0,36.0,21.0,28.0,22.0,46.0,23.0,39.0,26.0,28.0,34.0,51.0,3.0,21.0,44.0,30.0,21.0,29.0,18.0,32.0,28.0,17.0,50.0,64.0,31.0,20.0,25.0,4.0,34.0,52.0,36.0,30.0,49.0,29.0,65.0,48.0,34.0,47.0,48.0,38.0,56.0,38.0,34.0,29.0,22.0,9.0,50.0,25.0,58.0,30.0,9.0,21.0,55.0,71.0,21.0,24.0,17.0,18.0,28.0,26.0,29.0,36.0,24.0,47.0,32.0,22.0,40.5,39.0,23.0,17.0,45.0,32.0,50.0,64.0,33.0,8.0,17.0,27.0,22.0,62.0,40.0,28.0,24.0,19.0,32.0,62.0,36.0,16.0,19.0,32.0,54.0,36.0,47.0,60.0,22.0,35.0,47.0,37.0,36.0,49.0,49.0,44.0,35.0,36.0,30.0,27.0,35.0,34.0,26.0,27.0,42.0,20.0,21.0,21.0,61.0,57.0,26.0,80.0,51.0,32.0,32.0,31.0,20.0,48.0,19.0,56.0,21.0,24.0,23.0,58.0,50.0,40.0,47.0,36.0,20.0,32.0,25.0,43.0,31.0,70.0,31.0,18.0,24.5,36.0,27.0,20.0,14.0,60.0,25.0,14.0,19.0,18.0,31.0,25.0,60.0,52.0,44.0,49.0,42.0,35.0,25.0,26.0,39.0,42.0,48.0,29.0,52.0,19.0,33.0,17.0,34.0,50.0,27.0,20.0,25.0,11.0,23.0,23.0,28.5,35.0,36.0,24.0,31.0,70.0,16.0,19.0,31.0,6.0,33.0,23.0,0.67,28.0,18.0,34.0,41.0,20.0,16.0,32.0,24.0,48.0,18.0,29.0,25.0,25.0,8.0,1.0,46.0,16.0,25.0,39.0,30.0,34.0,11.0,0.42,27.0,31.0,39.0,39.0,26.0,39.0,35.0,30.5,31.0,43.0,10.0,27.0,38.0,2.0,1.0,0.83,23.0,18.0,21.0,32.0,20.0,16.0,34.5,17.0,42.0,35.0,28.0,4.0,74.0,51.0,41.0,21.0,24.0,31.0,4.0,26.0,33.0,47.0,20.0,19.0,33.0,28.0,25.0,27.0,26.0,32.0,34.5,62.0,27.0,14.0,26.0,21.0,46.0,63.0,35.0,21.0,55.0,9.0,21.0,50.0,22.5,41.0,50.0,24.0,30.0,18.5,25.0,39.0,41.0,25.0,45.0,24.0,27.0,10.0,35.0,25.0,17.0,32.0,18.0,13.0,47.0,31.0,21.0,28.5,32.5,30.0,6.0,67.0,49.0,2.0,25.0,25.0,29.0,33.0,27.0,26.0,28.0,21.0,18.5,41.0,18.0,36.0,28.0,22.0,42.0,24.0,32.0,53.0,43.0,24.0,26.5,26.0,40.0,61.0,28.0,42.0,31.0,22.0,30.0,13.0,24.0,42.0,7.0,41.0,48.0,18.0,27.0,23.0,40.0,54.0,30.0,37.0,40.0,17.0,40.0,34.0,11.5,61.0,8.0,33.0,6.0,23.0,0.33,47.0,25.0,24.0,25.0,32.0,17.0,42.0,57.0,21.0,21.0,23.0,40.5,36.0,14.0,21.0,39.0,20.0,64.0,20.0,45.0,41.0,42.0,20.0,27.0,24.0,32.5,28.0,21.0,36.5,21.0,30.0,17.0,46.0,28.0,40.0,30.0,22.0,0.75,36.0,24.0,53.0,36.0,26.0,30.0,29.0,32.0,43.0,24.0,30.0,0.83,55.0,18.0,22.0,57.0,19.0,27.0,22.0,26.0,25.0,26.0,33.0,23.0,46.0,29.0,21.0,39.0,27.0,30.0,32.0,39.0,25.0,18.0,32.0,26.0,24.0,25.0,18.0,49.0,50.0,14.5,27.0,29.0,21.0,49.0,44.0,21.0,55.0,5.0,26.0,24.0,57.0,21.0,6.0,23.0,13.0,47.0,29.0,24.0,22.0,31.0,38.0,17.0,43.0,20.0,23.0,50.0,38.5],\"xaxis\":\"x\",\"y\":[7.25,8.05,51.8625,21.075,8.05,31.275,29.125,26.0,13.0,35.5,263.0,27.7208,10.5,82.1708,52.0,8.05,39.6875,7.8,61.9792,7.2292,46.9,7.2292,83.475,27.9,8.1583,8.6625,10.5,73.5,14.4542,56.4958,7.65,29.0,9.0,9.5,47.1,34.375,8.05,8.05,7.8542,61.175,20.575,7.25,34.6542,63.3583,26.0,77.2875,8.6542,7.925,7.8958,7.8958,52.0,8.05,7.925,7.75,21.0,247.5208,73.5,30.0708,77.2875,11.2417,7.1417,6.975,7.8958,7.05,13.0,15.0458,53.1,9.2167,79.2,6.75,11.5,36.75,7.7958,26.0,13.0,12.525,8.05,14.5,61.3792,8.05,16.1,7.775,8.6625,39.6875,20.525,56.4958,33.5,29.125,7.925,30.6958,7.8542,13.0,0.0,31.3875,39.0,26.55,15.5,7.8958,13.0,26.0,8.4042,9.5,6.4958,7.225,8.05,15.85,18.7875,31.0,7.05,7.25,13.0,27.0,10.5,8.05,13.0,8.05,90.0,9.35,10.5,7.25,13.0,7.775,13.5,10.5,26.0,10.5,12.275,10.5,7.125,7.225,90.0,52.5542,26.0,26.55,16.1,31.3875,79.65,0.0,10.5,39.6875,7.775,0.0,29.7,29.125,7.75,7.8542,9.5,8.05,8.6625,9.5,7.8958,13.0,12.875,7.8958,7.2292,0.0,151.55,24.0,7.8958,26.25,14.0,7.25,7.8958,6.2375,28.5,153.4625,18.0,66.6,8.05,35.5,26.0,13.0,13.0,13.0,15.9,8.6625,9.225,7.2292,17.8,9.5,27.9,27.7208,7.05,7.25,55.4417,6.4958,8.05,135.6333,211.5,4.0125,7.775,7.925,73.5,46.9,120.0,7.7958,7.925,7.7958,26.0,10.5,7.925,8.05,15.85,21.0,7.75,18.75,7.775,7.925,13.0,7.7333,7.875,20.2125,8.05,26.55,7.125,55.9,263.0,10.5,9.5,7.775,81.8583,26.55,30.5,27.75,27.75,89.1042,7.8958,26.55,26.55,8.05,38.5,13.0,7.05,26.55,8.6625,21.0,7.0458,7.5208,46.9,8.05,91.0792,29.7,8.05,15.9,7.25,30.5,49.5042,8.05,7.7958,8.6625,108.9,22.525,56.4958,7.75,26.2875,7.4958,34.0208,7.8958,7.8958,7.75,7.925,11.5,7.2292,26.55,26.0,106.425,26.0,20.525,36.75,110.8833,26.0,7.225,26.55,7.8958,13.5,24.15,7.8958,7.8542,10.5,26.3875,8.05,14.5,7.925,26.0,40.125,15.0,79.2,8.05,7.125,7.25,26.0,24.15,0.0,56.9292,8.05,26.55,15.55,7.8958,30.5,8.05,14.4,10.5,14.4542,52.5542,15.7417,7.8542,16.1,32.3208,12.35,7.8958,30.0,7.0542,30.5,7.925,26.25,7.8542,76.7292,7.8958,35.5,8.4333,73.5,13.0,113.275,133.65,7.225,25.5875,7.4958,7.925,73.5,13.0,8.05,52.0,10.5,13.0,7.775,8.05,512.3292,76.7292,9.225,46.9,39.0,41.5792,39.6875,10.1708,7.7958,57.0,7.225,26.55,13.5,8.05,110.8833,7.65,26.2875,7.7417,7.8542,26.0,26.2875,52.0,9.4833,13.0,7.65,7.775,7.0542,13.0,13.0,53.1,8.6625,26.0,18.7875,13.0,13.0,16.1,512.3292,78.85,16.1,7.925,71.0,20.25,53.1,7.75,12.475,9.5,7.8958,14.5,7.7958,11.5,8.05,7.125,7.2292,7.775,8.3625,9.5,7.8542,7.75,30.0,7.05,7.25,29.125,20.575,79.2,26.0,7.8958,13.0,7.2292,13.0,120.0,8.5167,6.975,7.775,0.0,13.0,7.8875,24.15,10.5,8.05,37.0042,6.45,27.9,8.6625,0.0,39.6875,37.0042,18.75,7.8542,8.3,8.6625,56.4958,7.925,10.5,6.4375,8.6625,7.55,7.8958,33.0,31.275,7.775,26.55,14.1083,11.5,13.0,50.4958,11.1333,7.8958,5.0,9.0,9.8458,7.8958,7.8958,10.5,7.05,13.0,30.0,7.75,7.8292,9.6875,8.6625,9.225,29.0,24.15,26.0,26.0,12.35,7.225,59.4,3.1708,61.3792,14.5,7.225,30.5,26.0,31.5,57.75,7.2292,9.5,13.4167,7.85,7.925,29.7,60.0,15.0333,29.125,7.8958,7.65,7.8958,13.5,7.75,262.375,42.4,28.5375,7.8958,27.7208,211.5,13.0,15.2458,221.7792,26.0,23.0,26.0,7.7958,7.925,8.05,26.0,7.775,22.525,7.8208,13.0,15.0458,14.4542,75.2417,7.25,7.7958,13.0,8.05,8.05,28.5,7.8958,7.8542,7.225,13.0,46.9,262.375,26.0,26.55,18.0,8.05,26.0,31.3875,7.55,26.55,15.2458,13.0,50.4958,34.375,7.225,13.9,31.3875,55.4417,13.0,83.1583,16.0,8.05,13.0,26.0,14.5,12.35,32.5,7.8542,134.5,10.5,14.4,227.525,10.5,10.5,7.8958,22.525,73.5,42.5,164.8667,8.05,7.7958,7.7958,15.1,13.0,65.0,6.4958,71.2833,7.8542,75.25,7.225,134.5,51.8625,32.5,7.925,136.7792,9.325,9.5,8.05,7.775,17.4,7.8542,12.7375,8.6625,75.2417,10.5,26.0,21.0,10.5,13.775,7.25,82.2667,81.8583,9.5,7.8958,45.5,7.8542,7.775,21.0,8.6625,151.55,9.35,93.5,8.6625,7.225,146.5208,10.5,7.8542,31.5,7.775,7.2292,13.0,26.55,7.05,79.2,26.0,13.0,29.7,7.8958,26.0,13.0,7.2292,31.5,10.5,7.5792,13.0,13.5,10.5,73.5,65.0,26.0,69.55,8.6625,13.8583,11.5,0.0,13.0,11.5,50.0,31.3875,7.8792,7.775,13.0,7.75,21.075,93.5,20.25,10.5,22.025,7.25,7.775,7.7333,21.0,47.1,27.7208,13.8625,10.5,211.5,7.25],\"yaxis\":\"y\",\"type\":\"scattergl\"},{\"customdata\":[[1],[3],[1],[3],[2],[3],[1],[3],[2],[3],[3],[3],[3],[3],[3],[3],[2],[2],[3],[3],[1],[2],[2],[2],[1],[2],[3],[3],[3],[2],[3],[1],[2],[3],[3],[3],[3],[3],[3],[2],[3],[2],[1],[3],[3],[3],[1],[3],[2],[3],[3],[1],[3],[2],[3],[1],[1],[2],[3],[3],[2],[1],[3],[1],[1],[3],[2],[3],[2],[3],[3],[3],[1],[1],[2],[1],[1],[2],[1],[3],[3],[3],[1],[1],[3],[1],[1],[1],[1],[1],[1],[2],[3],[2],[1],[1],[2],[2],[1],[2],[3],[1],[1],[1],[2],[2],[1],[2],[3],[1],[1],[3],[3],[1],[3],[1],[2],[2],[1],[3],[3],[2],[3],[3],[1],[2],[2],[3],[3],[2],[2],[2],[1],[3],[2],[2],[2],[2],[3],[2],[3],[2],[2],[3],[3],[3],[1],[1],[1],[3],[3],[1],[2],[1],[2],[2],[1],[1],[2],[2],[3],[2],[1],[1],[1],[3],[3],[2],[3],[1],[1],[3],[3],[1],[2],[1],[2],[1],[1],[1],[2],[2],[1],[3],[2],[3],[2],[1],[3],[2],[3],[1],[3],[3],[3],[2],[3],[3],[2],[3],[3],[1],[3],[1],[3],[2],[1],[1],[1],[2],[2],[2],[3],[1],[3],[1],[2],[2],[2],[1],[1],[1],[3],[2],[2],[3],[1],[3],[1],[3],[1],[3],[3],[2],[3],[1],[3],[3],[1],[3],[1],[3],[1],[1],[3],[1],[2],[3],[1],[3],[1],[2],[2],[1],[2],[3],[1],[2],[3],[3],[1],[3],[3],[3],[3],[1],[1],[2],[3],[3],[1],[1],[3],[3],[2],[1],[1],[3],[2],[1],[1],[3],[3],[1],[3],[3],[1],[1],[3],[3],[3],[3],[1],[1],[3],[1],[3],[1],[3],[1],[3],[2],[2],[1],[3],[3],[3],[1],[1],[3],[1],[3],[3],[2],[3],[3],[2],[2],[2],[1],[1],[1],[2],[3],[2],[3],[1],[2],[3],[1],[2],[2],[1],[1],[2],[1],[1],[2],[2],[2],[2],[2],[2],[3],[1],[2],[3],[3],[3],[3],[2],[1],[3],[3],[1],[3],[1],[2],[2],[3],[1],[3],[3],[2],[1],[3],[1],[3],[2],[2],[1],[3],[1],[1],[1],[1],[3],[3],[2],[1],[1],[1],[1],[1],[3],[1],[3],[1]],\"hovertemplate\":\"Sex=female\\u003cbr\\u003eAge=%{x}\\u003cbr\\u003eFare=%{y}\\u003cbr\\u003ePclass=%{customdata[0]}\\u003cextra\\u003e\\u003c\\u002fextra\\u003e\",\"legendgroup\":\"female\",\"marker\":{\"color\":\"pink\",\"symbol\":\"circle\"},\"mode\":\"markers\",\"name\":\"female\",\"showlegend\":true,\"x\":[38.0,26.0,35.0,27.0,14.0,4.0,58.0,14.0,55.0,31.0,15.0,8.0,38.0,18.0,14.0,40.0,27.0,3.0,19.0,18.0,49.0,29.0,21.0,5.0,38.0,29.0,17.0,16.0,30.0,17.0,33.0,23.0,34.0,28.0,21.0,14.5,20.0,17.0,2.0,32.5,47.0,29.0,19.0,22.0,24.0,9.0,22.0,16.0,40.0,45.0,1.0,50.0,4.0,32.0,19.0,44.0,58.0,24.0,2.0,16.0,35.0,31.0,27.0,32.0,35.0,5.0,8.0,25.0,24.0,29.0,41.0,29.0,30.0,35.0,50.0,58.0,35.0,41.0,63.0,45.0,35.0,22.0,26.0,19.0,24.0,2.0,50.0,17.0,30.0,24.0,18.0,26.0,26.0,24.0,31.0,40.0,30.0,22.0,36.0,36.0,31.0,16.0,41.0,24.0,24.0,40.0,22.0,38.0,45.0,60.0,24.0,3.0,22.0,42.0,1.0,35.0,36.0,17.0,23.0,24.0,31.0,28.0,21.0,20.0,33.0,34.0,18.0,10.0,28.0,28.0,19.0,42.0,14.0,21.0,24.0,45.0,28.0,13.0,5.0,50.0,0.75,33.0,23.0,22.0,2.0,63.0,35.0,54.0,25.0,21.0,37.0,16.0,33.0,54.0,34.0,36.0,30.0,44.0,50.0,2.0,30.0,7.0,30.0,22.0,36.0,9.0,11.0,19.0,22.0,48.0,39.0,36.0,29.0,53.0,34.0,39.0,25.0,39.0,18.0,52.0,24.0,22.0,40.0,39.0,24.0,26.0,4.0,21.0,9.0,28.0,41.0,24.0,2.0,0.75,23.0,18.0,18.0,32.0,40.0,18.0,43.0,15.0,4.0,18.0,18.0,45.0,22.0,24.0,38.0,27.0,6.0,30.0,25.0,29.0,48.0,21.0,30.0,4.0,48.0,33.0,36.0,51.0,30.5,57.0,54.0,5.0,43.0,13.0,17.0,18.0,49.0,31.0,30.0,31.0,18.0,33.0,6.0,23.0,52.0,27.0,62.0,15.0,39.0,30.0,9.0,16.0,44.0,18.0,45.0,24.0,48.0,42.0,27.0,47.0,28.0,15.0,56.0,25.0,22.0,39.0,19.0,47.0,22.0,30.0,18.0,23.0,47.0,24.0,27.0,45.0,48.0,22.0,33.0,21.0,30.0,45.0,60.0,36.0,20.0,28.0,36.0,22.0,18.0,60.0,24.0,29.0,35.0,55.0,24.0,27.0,18.0,22.0,27.0,76.0,20.0,43.0,16.0,36.0,18.5,63.0,1.0,29.0,12.0,35.0,17.0,23.0,10.0,33.0,23.0,36.0,29.0,23.0,26.0,26.0,26.0,22.0,15.0,20.0,36.0,64.0,18.0,27.0,21.0,18.0,8.0,35.0,33.0,60.0,38.0,50.0,30.0,22.0,53.0,21.0,18.0,48.0,55.0,45.0,22.0,29.0,0.92,19.0,29.0,1.0,26.0,20.0,23.0,9.0,2.0,30.0,1.0,64.0,45.0,37.0,55.0,17.0,39.0,12.0,48.0,19.0,58.0,16.0,38.0,31.0,45.0,0.17,59.0,30.0,24.0,31.0,25.0,22.0,45.0,31.0,54.0,45.0,22.0,19.0,24.0,51.0,18.0,48.0,30.0,22.0,3.0,37.0,28.0,39.0],\"xaxis\":\"x\",\"y\":[71.2833,7.925,53.1,11.1333,30.0708,16.7,26.55,7.8542,16.0,18.0,8.0292,21.075,31.3875,18.0,11.2417,9.475,21.0,41.5792,7.8792,17.8,76.7292,26.0,10.5,27.75,80.0,10.5,7.925,46.9,12.475,10.5,15.85,263.0,23.0,7.8958,7.65,14.4542,9.825,14.4583,31.275,13.0,14.5,26.0,26.2833,7.75,15.85,34.375,66.6,7.7333,15.75,27.9,11.1333,28.7125,22.025,13.0,7.8542,27.7208,146.5208,13.0,10.4625,7.75,21.0,113.275,7.925,76.2917,83.475,31.3875,26.25,7.775,14.5,10.4625,20.2125,15.2458,86.5,512.3292,26.0,153.4625,135.6333,19.5,77.9583,7.75,20.25,7.75,78.85,91.0792,8.85,151.55,247.5208,108.9,56.9292,83.1583,262.375,26.0,7.8542,26.0,164.8667,134.5,12.35,29.0,135.6333,13.0,20.525,57.9792,134.5,263.0,13.0,13.0,55.0,13.0,14.4542,75.25,69.3,21.075,7.25,227.525,15.7417,52.0,13.0,12.0,113.275,16.7,7.8542,12.65,9.825,8.6625,90.0,32.5,13.0,24.15,14.4,26.0,26.0,26.0,120.0,34.375,18.75,26.25,13.0,19.5,19.2583,10.5,19.2583,27.75,13.7917,9.8375,12.2875,9.5875,90.0,78.2667,151.55,7.75,9.5875,86.5,26.0,59.4,10.5,26.0,93.5,57.9792,10.5,26.0,8.6625,26.25,106.425,49.5,71.0,31.275,31.275,26.0,7.775,39.6,79.65,17.4,21.075,51.4792,13.0,55.9,30.0,110.8833,79.65,78.2667,27.0,41.5792,153.4625,31.275,65.0,16.1,39.0,77.9583,27.9,13.0,39.6875,69.3,27.9,19.2583,7.55,23.0,6.75,15.5,39.0,9.8417,46.9,211.3375,13.4167,227.525,14.4542,13.5,151.55,49.5042,227.525,10.5,33.0,21.0,7.925,211.3375,34.375,262.375,13.0,23.0,65.0,86.5,120.0,77.9583,7.75,10.5,23.0,12.475,211.3375,7.2292,57.0,7.4958,25.9292,8.6833,24.15,26.25,7.775,53.1,31.275,7.925,93.5,12.475,80.0,14.4542,83.1583,31.0,15.2458,39.4,26.0,9.35,164.8667,19.2583,25.9292,13.0,13.8583,52.5542,24.0,7.225,83.1583,26.0,10.5167,29.125,30.0,7.0,12.2875,7.6292,7.2292,82.2667,61.175,27.7208,7.925,7.225,262.375,61.9792,20.575,8.6625,13.0,52.5542,76.2917,15.9,23.0,263.0,262.375,7.725,7.8792,263.0,7.75,7.925,211.5,25.7,7.75,7.8792,8.05,13.9,52.0,78.85,7.8542,55.4417,8.5167,31.6792,7.2833,221.7792,16.7,26.0,15.75,57.75,16.1,8.05,46.9,151.55,83.1583,12.1833,221.7792,7.8542,13.775,13.5,22.025,8.9625,39.0,36.75,39.0,83.1583,53.1,247.5208,21.0,7.775,26.0,7.75,27.7208,26.0,7.775,211.5,13.8583,10.5,27.4458,26.55,13.0,106.425,27.7208,30.0,21.0,26.0,27.75,13.0,23.0,12.1833,136.7792,26.0,8.6625,15.2458,20.2125,6.95,41.5792,26.55,14.1083,7.75,135.6333,7.7333,211.3375,39.0,36.75,15.7417,512.3292,7.65,7.2292,21.0,63.3583,20.575,51.4792,15.55,37.0042,21.0,55.4417,39.6875,59.4,134.5,81.8583,262.375,8.6625,16.1,65.0,39.4,60.0,79.2,164.8667,59.4,13.775,90.0,7.775,108.9],\"yaxis\":\"y\",\"type\":\"scattergl\"}],                        {\"template\":{\"data\":{\"histogram2dcontour\":[{\"type\":\"histogram2dcontour\",\"colorbar\":{\"outlinewidth\":0,\"ticks\":\"\"},\"colorscale\":[[0.0,\"#0d0887\"],[0.1111111111111111,\"#46039f\"],[0.2222222222222222,\"#7201a8\"],[0.3333333333333333,\"#9c179e\"],[0.4444444444444444,\"#bd3786\"],[0.5555555555555556,\"#d8576b\"],[0.6666666666666666,\"#ed7953\"],[0.7777777777777778,\"#fb9f3a\"],[0.8888888888888888,\"#fdca26\"],[1.0,\"#f0f921\"]]}],\"choropleth\":[{\"type\":\"choropleth\",\"colorbar\":{\"outlinewidth\":0,\"ticks\":\"\"}}],\"histogram2d\":[{\"type\":\"histogram2d\",\"colorbar\":{\"outlinewidth\":0,\"ticks\":\"\"},\"colorscale\":[[0.0,\"#0d0887\"],[0.1111111111111111,\"#46039f\"],[0.2222222222222222,\"#7201a8\"],[0.3333333333333333,\"#9c179e\"],[0.4444444444444444,\"#bd3786\"],[0.5555555555555556,\"#d8576b\"],[0.6666666666666666,\"#ed7953\"],[0.7777777777777778,\"#fb9f3a\"],[0.8888888888888888,\"#fdca26\"],[1.0,\"#f0f921\"]]}],\"heatmap\":[{\"type\":\"heatmap\",\"colorbar\":{\"outlinewidth\":0,\"ticks\":\"\"},\"colorscale\":[[0.0,\"#0d0887\"],[0.1111111111111111,\"#46039f\"],[0.2222222222222222,\"#7201a8\"],[0.3333333333333333,\"#9c179e\"],[0.4444444444444444,\"#bd3786\"],[0.5555555555555556,\"#d8576b\"],[0.6666666666666666,\"#ed7953\"],[0.7777777777777778,\"#fb9f3a\"],[0.8888888888888888,\"#fdca26\"],[1.0,\"#f0f921\"]]}],\"heatmapgl\":[{\"type\":\"heatmapgl\",\"colorbar\":{\"outlinewidth\":0,\"ticks\":\"\"},\"colorscale\":[[0.0,\"#0d0887\"],[0.1111111111111111,\"#46039f\"],[0.2222222222222222,\"#7201a8\"],[0.3333333333333333,\"#9c179e\"],[0.4444444444444444,\"#bd3786\"],[0.5555555555555556,\"#d8576b\"],[0.6666666666666666,\"#ed7953\"],[0.7777777777777778,\"#fb9f3a\"],[0.8888888888888888,\"#fdca26\"],[1.0,\"#f0f921\"]]}],\"contourcarpet\":[{\"type\":\"contourcarpet\",\"colorbar\":{\"outlinewidth\":0,\"ticks\":\"\"}}],\"contour\":[{\"type\":\"contour\",\"colorbar\":{\"outlinewidth\":0,\"ticks\":\"\"},\"colorscale\":[[0.0,\"#0d0887\"],[0.1111111111111111,\"#46039f\"],[0.2222222222222222,\"#7201a8\"],[0.3333333333333333,\"#9c179e\"],[0.4444444444444444,\"#bd3786\"],[0.5555555555555556,\"#d8576b\"],[0.6666666666666666,\"#ed7953\"],[0.7777777777777778,\"#fb9f3a\"],[0.8888888888888888,\"#fdca26\"],[1.0,\"#f0f921\"]]}],\"surface\":[{\"type\":\"surface\",\"colorbar\":{\"outlinewidth\":0,\"ticks\":\"\"},\"colorscale\":[[0.0,\"#0d0887\"],[0.1111111111111111,\"#46039f\"],[0.2222222222222222,\"#7201a8\"],[0.3333333333333333,\"#9c179e\"],[0.4444444444444444,\"#bd3786\"],[0.5555555555555556,\"#d8576b\"],[0.6666666666666666,\"#ed7953\"],[0.7777777777777778,\"#fb9f3a\"],[0.8888888888888888,\"#fdca26\"],[1.0,\"#f0f921\"]]}],\"mesh3d\":[{\"type\":\"mesh3d\",\"colorbar\":{\"outlinewidth\":0,\"ticks\":\"\"}}],\"scatter\":[{\"fillpattern\":{\"fillmode\":\"overlay\",\"size\":10,\"solidity\":0.2},\"type\":\"scatter\"}],\"parcoords\":[{\"type\":\"parcoords\",\"line\":{\"colorbar\":{\"outlinewidth\":0,\"ticks\":\"\"}}}],\"scatterpolargl\":[{\"type\":\"scatterpolargl\",\"marker\":{\"colorbar\":{\"outlinewidth\":0,\"ticks\":\"\"}}}],\"bar\":[{\"error_x\":{\"color\":\"#2a3f5f\"},\"error_y\":{\"color\":\"#2a3f5f\"},\"marker\":{\"line\":{\"color\":\"#E5ECF6\",\"width\":0.5},\"pattern\":{\"fillmode\":\"overlay\",\"size\":10,\"solidity\":0.2}},\"type\":\"bar\"}],\"scattergeo\":[{\"type\":\"scattergeo\",\"marker\":{\"colorbar\":{\"outlinewidth\":0,\"ticks\":\"\"}}}],\"scatterpolar\":[{\"type\":\"scatterpolar\",\"marker\":{\"colorbar\":{\"outlinewidth\":0,\"ticks\":\"\"}}}],\"histogram\":[{\"marker\":{\"pattern\":{\"fillmode\":\"overlay\",\"size\":10,\"solidity\":0.2}},\"type\":\"histogram\"}],\"scattergl\":[{\"type\":\"scattergl\",\"marker\":{\"colorbar\":{\"outlinewidth\":0,\"ticks\":\"\"}}}],\"scatter3d\":[{\"type\":\"scatter3d\",\"line\":{\"colorbar\":{\"outlinewidth\":0,\"ticks\":\"\"}},\"marker\":{\"colorbar\":{\"outlinewidth\":0,\"ticks\":\"\"}}}],\"scattermapbox\":[{\"type\":\"scattermapbox\",\"marker\":{\"colorbar\":{\"outlinewidth\":0,\"ticks\":\"\"}}}],\"scatterternary\":[{\"type\":\"scatterternary\",\"marker\":{\"colorbar\":{\"outlinewidth\":0,\"ticks\":\"\"}}}],\"scattercarpet\":[{\"type\":\"scattercarpet\",\"marker\":{\"colorbar\":{\"outlinewidth\":0,\"ticks\":\"\"}}}],\"carpet\":[{\"aaxis\":{\"endlinecolor\":\"#2a3f5f\",\"gridcolor\":\"white\",\"linecolor\":\"white\",\"minorgridcolor\":\"white\",\"startlinecolor\":\"#2a3f5f\"},\"baxis\":{\"endlinecolor\":\"#2a3f5f\",\"gridcolor\":\"white\",\"linecolor\":\"white\",\"minorgridcolor\":\"white\",\"startlinecolor\":\"#2a3f5f\"},\"type\":\"carpet\"}],\"table\":[{\"cells\":{\"fill\":{\"color\":\"#EBF0F8\"},\"line\":{\"color\":\"white\"}},\"header\":{\"fill\":{\"color\":\"#C8D4E3\"},\"line\":{\"color\":\"white\"}},\"type\":\"table\"}],\"barpolar\":[{\"marker\":{\"line\":{\"color\":\"#E5ECF6\",\"width\":0.5},\"pattern\":{\"fillmode\":\"overlay\",\"size\":10,\"solidity\":0.2}},\"type\":\"barpolar\"}],\"pie\":[{\"automargin\":true,\"type\":\"pie\"}]},\"layout\":{\"autotypenumbers\":\"strict\",\"colorway\":[\"#636efa\",\"#EF553B\",\"#00cc96\",\"#ab63fa\",\"#FFA15A\",\"#19d3f3\",\"#FF6692\",\"#B6E880\",\"#FF97FF\",\"#FECB52\"],\"font\":{\"color\":\"#2a3f5f\"},\"hovermode\":\"closest\",\"hoverlabel\":{\"align\":\"left\"},\"paper_bgcolor\":\"white\",\"plot_bgcolor\":\"#E5ECF6\",\"polar\":{\"bgcolor\":\"#E5ECF6\",\"angularaxis\":{\"gridcolor\":\"white\",\"linecolor\":\"white\",\"ticks\":\"\"},\"radialaxis\":{\"gridcolor\":\"white\",\"linecolor\":\"white\",\"ticks\":\"\"}},\"ternary\":{\"bgcolor\":\"#E5ECF6\",\"aaxis\":{\"gridcolor\":\"white\",\"linecolor\":\"white\",\"ticks\":\"\"},\"baxis\":{\"gridcolor\":\"white\",\"linecolor\":\"white\",\"ticks\":\"\"},\"caxis\":{\"gridcolor\":\"white\",\"linecolor\":\"white\",\"ticks\":\"\"}},\"coloraxis\":{\"colorbar\":{\"outlinewidth\":0,\"ticks\":\"\"}},\"colorscale\":{\"sequential\":[[0.0,\"#0d0887\"],[0.1111111111111111,\"#46039f\"],[0.2222222222222222,\"#7201a8\"],[0.3333333333333333,\"#9c179e\"],[0.4444444444444444,\"#bd3786\"],[0.5555555555555556,\"#d8576b\"],[0.6666666666666666,\"#ed7953\"],[0.7777777777777778,\"#fb9f3a\"],[0.8888888888888888,\"#fdca26\"],[1.0,\"#f0f921\"]],\"sequentialminus\":[[0.0,\"#0d0887\"],[0.1111111111111111,\"#46039f\"],[0.2222222222222222,\"#7201a8\"],[0.3333333333333333,\"#9c179e\"],[0.4444444444444444,\"#bd3786\"],[0.5555555555555556,\"#d8576b\"],[0.6666666666666666,\"#ed7953\"],[0.7777777777777778,\"#fb9f3a\"],[0.8888888888888888,\"#fdca26\"],[1.0,\"#f0f921\"]],\"diverging\":[[0,\"#8e0152\"],[0.1,\"#c51b7d\"],[0.2,\"#de77ae\"],[0.3,\"#f1b6da\"],[0.4,\"#fde0ef\"],[0.5,\"#f7f7f7\"],[0.6,\"#e6f5d0\"],[0.7,\"#b8e186\"],[0.8,\"#7fbc41\"],[0.9,\"#4d9221\"],[1,\"#276419\"]]},\"xaxis\":{\"gridcolor\":\"white\",\"linecolor\":\"white\",\"ticks\":\"\",\"title\":{\"standoff\":15},\"zerolinecolor\":\"white\",\"automargin\":true,\"zerolinewidth\":2},\"yaxis\":{\"gridcolor\":\"white\",\"linecolor\":\"white\",\"ticks\":\"\",\"title\":{\"standoff\":15},\"zerolinecolor\":\"white\",\"automargin\":true,\"zerolinewidth\":2},\"scene\":{\"xaxis\":{\"backgroundcolor\":\"#E5ECF6\",\"gridcolor\":\"white\",\"linecolor\":\"white\",\"showbackground\":true,\"ticks\":\"\",\"zerolinecolor\":\"white\",\"gridwidth\":2},\"yaxis\":{\"backgroundcolor\":\"#E5ECF6\",\"gridcolor\":\"white\",\"linecolor\":\"white\",\"showbackground\":true,\"ticks\":\"\",\"zerolinecolor\":\"white\",\"gridwidth\":2},\"zaxis\":{\"backgroundcolor\":\"#E5ECF6\",\"gridcolor\":\"white\",\"linecolor\":\"white\",\"showbackground\":true,\"ticks\":\"\",\"zerolinecolor\":\"white\",\"gridwidth\":2}},\"shapedefaults\":{\"line\":{\"color\":\"#2a3f5f\"}},\"annotationdefaults\":{\"arrowcolor\":\"#2a3f5f\",\"arrowhead\":0,\"arrowwidth\":1},\"geo\":{\"bgcolor\":\"white\",\"landcolor\":\"#E5ECF6\",\"subunitcolor\":\"white\",\"showland\":true,\"showlakes\":true,\"lakecolor\":\"white\"},\"title\":{\"x\":0.05},\"mapbox\":{\"style\":\"light\"}}},\"xaxis\":{\"anchor\":\"y\",\"domain\":[0.0,1.0],\"title\":{\"text\":\"Age\"}},\"yaxis\":{\"anchor\":\"x\",\"domain\":[0.0,1.0],\"title\":{\"text\":\"Fare\"}},\"legend\":{\"title\":{\"text\":\"Sex\"},\"tracegroupgap\":0},\"title\":{\"text\":\"Chart of age and ticket prices by sex\"},\"plot_bgcolor\":\"white\"},                        {\"responsive\": true}                    ).then(function(){\n",
              "                            \n",
              "var gd = document.getElementById('8b009fa2-003d-4d29-a209-5a1e227074a4');\n",
              "var x = new MutationObserver(function (mutations, observer) {{\n",
              "        var display = window.getComputedStyle(gd).display;\n",
              "        if (!display || display === 'none') {{\n",
              "            console.log([gd, 'removed!']);\n",
              "            Plotly.purge(gd);\n",
              "            observer.disconnect();\n",
              "        }}\n",
              "}});\n",
              "\n",
              "// Listen for the removal of the full notebook cells\n",
              "var notebookContainer = gd.closest('#notebook-container');\n",
              "if (notebookContainer) {{\n",
              "    x.observe(notebookContainer, {childList: true});\n",
              "}}\n",
              "\n",
              "// Listen for the clearing of the current output cell\n",
              "var outputEl = gd.closest('.output');\n",
              "if (outputEl) {{\n",
              "    x.observe(outputEl, {childList: true});\n",
              "}}\n",
              "\n",
              "                        })                };                            </script>        </div>\n",
              "</body>\n",
              "</html>"
            ]
          },
          "metadata": {}
        }
      ]
    },
    {
      "cell_type": "markdown",
      "source": [
        " Построеим **Histogram** возрастного распределения пассажиров из Саутгемптона"
      ],
      "metadata": {
        "id": "Fi2xJvUBNtgR"
      }
    },
    {
      "cell_type": "code",
      "source": [
        "southampton_passengers = data_frame[\n",
        "    (data_frame['Embarked'] == 'S') &\n",
        "    (data_frame['Age'].notna())\n",
        "]\n",
        "\n",
        "fig = px.histogram(\n",
        "    southampton_passengers,\n",
        "    x='Age',\n",
        "    nbins=40,\n",
        "    title='Age distribution of passengers from Southampton',\n",
        "    color_discrete_sequence=['pink'],\n",
        "    opacity=0.7,\n",
        "    hover_data=['Sex', 'Pclass']\n",
        ")\n",
        "\n",
        "fig.update_traces(marker_line_width=0, selector=dict(type='histogram'))\n",
        "fig.update_layout(bargap=0.05)\n",
        "\n",
        "ages = southampton_passengers['Age'].values\n",
        "kde = gaussian_kde(ages)\n",
        "x_grid = np.linspace(ages.min(), ages.max(), 100)\n",
        "y_kde = kde(x_grid) * len(ages) * (ages.max() - ages.min()) / 30\n",
        "\n",
        "fig.add_trace(\n",
        "    go.Scatter(\n",
        "        x=x_grid,\n",
        "        y=y_kde,\n",
        "        mode='lines',\n",
        "        line=dict(color='red', width=2),\n",
        "        name='Distribution density',\n",
        "        hoverinfo='skip'\n",
        "    )\n",
        ")\n",
        "\n",
        "fig.update_layout(\n",
        "    xaxis_title='Age',\n",
        "    yaxis_title='Passenger count',\n",
        "    hovermode='x',\n",
        "    showlegend=True,\n",
        "    height=500\n",
        ")\n",
        "\n",
        "fig.show()"
      ],
      "metadata": {
        "id": "DNOPkQ0INuDT",
        "colab": {
          "base_uri": "https://localhost:8080/",
          "height": 517
        },
        "outputId": "5c4111db-9d16-4090-d3c7-c4334ce62086"
      },
      "execution_count": 34,
      "outputs": [
        {
          "output_type": "display_data",
          "data": {
            "text/html": [
              "<html>\n",
              "<head><meta charset=\"utf-8\" /></head>\n",
              "<body>\n",
              "    <div>            <script src=\"https://cdnjs.cloudflare.com/ajax/libs/mathjax/2.7.5/MathJax.js?config=TeX-AMS-MML_SVG\"></script><script type=\"text/javascript\">if (window.MathJax && window.MathJax.Hub && window.MathJax.Hub.Config) {window.MathJax.Hub.Config({SVG: {font: \"STIX-Web\"}});}</script>                <script type=\"text/javascript\">window.PlotlyConfig = {MathJaxConfig: 'local'};</script>\n",
              "        <script charset=\"utf-8\" src=\"https://cdn.plot.ly/plotly-2.35.2.min.js\"></script>                <div id=\"6561457e-4ecc-4e6f-a2fb-8281b61618c4\" class=\"plotly-graph-div\" style=\"height:500px; width:100%;\"></div>            <script type=\"text/javascript\">                                    window.PLOTLYENV=window.PLOTLYENV || {};                                    if (document.getElementById(\"6561457e-4ecc-4e6f-a2fb-8281b61618c4\")) {                    Plotly.newPlot(                        \"6561457e-4ecc-4e6f-a2fb-8281b61618c4\",                        [{\"alignmentgroup\":\"True\",\"bingroup\":\"x\",\"hovertemplate\":\"Age=%{x}\\u003cbr\\u003ecount=%{y}\\u003cextra\\u003e\\u003c\\u002fextra\\u003e\",\"legendgroup\":\"\",\"marker\":{\"color\":\"pink\",\"opacity\":0.7,\"pattern\":{\"shape\":\"\"},\"line\":{\"width\":0}},\"name\":\"\",\"nbinsx\":40,\"offsetgroup\":\"\",\"orientation\":\"v\",\"showlegend\":false,\"x\":[22.0,26.0,35.0,35.0,54.0,2.0,27.0,4.0,58.0,20.0,39.0,14.0,55.0,31.0,35.0,34.0,28.0,8.0,38.0,19.0,66.0,42.0,21.0,18.0,40.0,27.0,18.0,7.0,21.0,29.0,21.0,5.0,11.0,45.0,4.0,29.0,19.0,17.0,26.0,32.0,16.0,21.0,32.0,25.0,0.83,30.0,22.0,29.0,28.0,17.0,33.0,16.0,23.0,24.0,29.0,20.0,46.0,26.0,59.0,34.0,34.0,28.0,21.0,33.0,37.0,28.0,21.0,38.0,47.0,22.0,20.0,21.0,29.0,2.0,21.0,32.5,54.0,24.0,45.0,20.0,47.0,29.0,25.0,19.0,37.0,16.0,22.0,24.0,18.0,19.0,27.0,9.0,36.5,42.0,51.0,22.0,55.5,40.5,30.0,44.0,40.0,26.0,17.0,1.0,9.0,45.0,28.0,61.0,1.0,21.0,18.0,30.0,36.0,9.0,1.0,4.0,45.0,36.0,32.0,19.0,19.0,3.0,42.0,24.0,28.0,34.0,18.0,2.0,32.0,24.0,35.0,22.0,30.0,27.0,42.0,30.0,16.0,27.0,51.0,38.0,22.0,19.0,20.5,18.0,35.0,29.0,59.0,5.0,24.0,44.0,8.0,19.0,33.0,29.0,22.0,25.0,24.0,37.0,54.0,29.0,62.0,30.0,41.0,30.0,50.0,3.0,52.0,40.0,36.0,16.0,25.0,58.0,35.0,25.0,41.0,63.0,45.0,35.0,28.0,16.0,19.0,30.0,22.0,42.0,26.0,24.0,24.0,2.0,19.0,0.92,26.0,28.0,43.0,26.0,24.0,54.0,31.0,22.0,27.0,22.0,61.0,36.0,31.0,45.5,38.0,16.0,29.0,45.0,45.0,2.0,24.0,28.0,25.0,36.0,24.0,40.0,3.0,42.0,23.0,25.0,28.0,22.0,38.0,40.0,35.0,30.0,18.0,19.0,3.0,22.0,19.0,32.0,35.0,18.0,1.0,36.0,36.0,21.0,28.0,24.0,22.0,31.0,46.0,23.0,28.0,39.0,26.0,21.0,28.0,20.0,34.0,51.0,3.0,21.0,44.0,34.0,18.0,30.0,10.0,29.0,28.0,18.0,28.0,19.0,32.0,28.0,42.0,17.0,50.0,14.0,21.0,24.0,64.0,31.0,45.0,20.0,25.0,28.0,4.0,13.0,34.0,52.0,36.0,65.0,50.0,48.0,34.0,47.0,48.0,38.0,56.0,38.0,33.0,22.0,34.0,29.0,22.0,2.0,9.0,50.0,63.0,35.0,30.0,9.0,21.0,55.0,21.0,25.0,24.0,17.0,37.0,16.0,33.0,28.0,26.0,36.0,24.0,47.0,34.0,36.0,32.0,30.0,22.0,50.0,39.0,23.0,2.0,30.0,7.0,45.0,36.0,9.0,11.0,32.0,64.0,19.0,33.0,8.0,27.0,22.0,62.0,39.0,36.0,40.0,28.0,24.0,19.0,29.0,32.0,62.0,53.0,36.0,16.0,19.0,34.0,39.0,32.0,25.0,54.0,18.0,47.0,22.0,35.0,47.0,37.0,36.0,49.0,24.0,44.0,36.0,30.0,27.0,40.0,39.0,35.0,24.0,34.0,26.0,4.0,26.0,42.0,21.0,21.0,61.0,21.0,26.0,80.0,51.0,9.0,28.0,32.0,31.0,41.0,20.0,2.0,19.0,23.0,18.0,21.0,24.0,23.0,50.0,47.0,36.0,20.0,32.0,25.0,43.0,40.0,31.0,70.0,31.0,18.0,24.5,18.0,43.0,20.0,14.0,60.0,14.0,19.0,18.0,15.0,31.0,60.0,52.0,44.0,42.0,35.0,26.0,39.0,45.0,42.0,22.0,48.0,29.0,52.0,19.0,27.0,33.0,6.0,17.0,34.0,50.0,27.0,20.0,30.0,25.0,25.0,29.0,23.0,23.0,28.5,48.0,36.0,24.0,31.0,70.0,16.0,30.0,19.0,4.0,6.0,33.0,23.0,48.0,0.67,28.0,18.0,34.0,33.0,41.0,36.0,16.0,51.0,32.0,24.0,48.0,57.0,54.0,18.0,5.0,43.0,17.0,29.0,25.0,25.0,18.0,1.0,16.0,25.0,39.0,49.0,31.0,30.0,34.0,31.0,11.0,27.0,31.0,39.0,18.0,39.0,33.0,26.0,39.0,35.0,6.0,30.5,23.0,43.0,10.0,52.0,27.0,38.0,27.0,2.0,0.83,23.0,18.0,21.0,32.0,20.0,16.0,17.0,42.0,28.0,4.0,74.0,16.0,44.0,18.0,45.0,51.0,41.0,21.0,48.0,24.0,42.0,31.0,4.0,26.0,47.0,33.0,47.0,20.0,19.0,25.0,33.0,22.0,28.0,25.0,27.0,19.0,47.0,27.0,22.0,14.0,26.0,21.0,46.0,23.0,63.0,47.0,27.0,9.0,50.0,41.0,50.0,24.0,33.0,21.0,25.0,41.0,30.0,45.0,25.0,36.0,24.0,20.0,28.0,35.0,25.0,17.0,32.0,18.0,47.0,60.0,21.0,29.0,55.0,30.0,67.0,49.0,18.0,2.0,22.0,27.0,25.0,76.0,29.0,20.0,33.0,27.0,26.0,28.0,18.5,63.0,1.0,29.0,12.0,28.0,17.0,22.0,42.0,24.0,32.0,43.0,24.0,26.0,23.0,40.0,10.0,33.0,28.0,42.0,31.0,22.0,30.0,60.5,36.0,13.0,24.0,29.0,23.0,42.0,26.0,26.0,41.0,26.0,18.0,22.0,23.0,40.0,15.0,20.0,36.0,30.0,18.0,40.0,21.0,17.0,40.0,34.0,11.5,8.0,33.0,18.0,23.0,0.33,8.0,25.0,24.0,25.0,32.0,17.0,60.0,38.0,42.0,57.0,21.0,22.0,21.0,23.0,40.5,36.0,14.0,21.0,21.0,20.0,18.0,45.0,41.0,22.0,42.0,29.0,0.92,20.0,24.0,32.5,28.0,19.0,21.0,36.5,21.0,29.0,1.0,17.0,20.0,28.0,40.0,30.0,22.0,23.0,0.75,2.0,36.0,24.0,53.0,36.0,26.0,30.0,29.0,32.0,43.0,24.0,64.0,30.0,0.83,55.0,45.0,18.0,19.0,27.0,22.0,26.0,26.0,33.0,39.0,23.0,12.0,29.0,21.0,48.0,27.0,30.0,32.0,25.0,18.0,32.0,16.0,26.0,24.0,31.0,25.0,18.0,49.0,0.17,50.0,59.0,30.0,14.5,31.0,27.0,22.0,21.0,49.0,44.0,54.0,22.0,21.0,55.0,5.0,19.0,24.0,24.0,57.0,6.0,23.0,51.0,13.0,47.0,29.0,18.0,22.0,30.0,38.0,17.0,23.0,3.0,28.0,38.5],\"xaxis\":\"x\",\"yaxis\":\"y\",\"type\":\"histogram\"},{\"hoverinfo\":\"skip\",\"line\":{\"color\":\"red\",\"width\":2},\"mode\":\"lines\",\"name\":\"Distribution density\",\"x\":[0.17,0.9763636363636364,1.7827272727272727,2.589090909090909,3.3954545454545455,4.201818181818182,5.008181818181818,5.8145454545454545,6.620909090909091,7.427272727272728,8.233636363636364,9.040000000000001,9.846363636363636,10.652727272727272,11.459090909090909,12.265454545454546,13.071818181818182,13.878181818181819,14.684545454545455,15.490909090909092,16.29727272727273,17.103636363636365,17.910000000000004,18.71636363636364,19.522727272727273,20.32909090909091,21.135454545454547,21.941818181818185,22.74818181818182,23.55454545454546,24.360909090909093,25.16727272727273,25.973636363636366,26.78,27.58636363636364,28.392727272727274,29.199090909090913,30.005454545454548,30.811818181818186,31.61818181818182,32.42454545454546,33.230909090909094,34.03727272727273,34.843636363636364,35.650000000000006,36.45636363636364,37.262727272727275,38.06909090909091,38.875454545454545,39.68181818181819,40.48818181818182,41.29454545454546,42.10090909090909,42.90727272727273,43.71363636363637,44.52,45.32636363636364,46.13272727272727,46.939090909090915,47.74545454545455,48.551818181818184,49.35818181818182,50.16454545454546,50.970909090909096,51.77727272727273,52.583636363636366,53.39,54.19636363636364,55.00272727272728,55.80909090909091,56.61545454545455,57.42181818181819,58.228181818181824,59.03454545454546,59.84090909090909,60.64727272727273,61.45363636363637,62.260000000000005,63.06636363636364,63.872727272727275,64.67909090909092,65.48545454545454,66.29181818181819,67.09818181818183,67.90454545454546,68.7109090909091,69.51727272727273,70.32363636363637,71.13000000000001,71.93636363636364,72.74272727272728,73.5490909090909,74.35545454545455,75.16181818181819,75.96818181818182,76.77454545454546,77.58090909090909,78.38727272727273,79.19363636363637,80.0],\"y\":[11.182033584262932,12.518067882878567,13.564499457615263,14.270116204728177,14.62876053067195,14.678129002056869,14.490935607467895,14.162061047429866,13.7961303791889,13.499061221602107,13.374930018922864,13.526936307289008,14.05932889355957,15.076617667471194,16.677404242693605,18.942323361564128,21.918099263597085,25.60168849008559,29.92920330257044,34.7735119389778,39.95232948097583,45.245917741040905,50.421078898296265,55.25671351076496,59.56617699114429,63.212853208236645,66.11721573213366,68.25550361540937,69.65152649989821,70.36389352461177,70.47125256790459,70.05810532005503,69.2034842002938,67.97416129349882,66.42304414726141,64.59212878407014,62.51820026104825,60.23886262104241,57.79673288960092,55.24064956651205,52.62404634772324,50.00161482561131,47.425623895105836,44.942809760030826,42.5920192948308,40.402306184257846,38.3912326773699,36.563598575557606,34.91127547999922,33.41484137949779,32.047162824497946,30.778228176321957,29.57988786919552,28.429106820723415,27.30894071085247,26.207404444258675,25.115225544168958,24.023787591125078,22.924280323610354,21.808392142524152,20.6701641679697,19.508181948771004,18.327240522189552,17.138909536697643,15.96085066887064,14.81509142044327,13.725615895161525,12.715602188539346,11.804530142876605,11.005341070409832,10.321925147755184,9.74739540742749,9.263733762763371,8.843307864832148,8.452394518549939,8.056290440979629,7.625047384088487,7.138561586907341,6.589818151354189,5.985533941939951,5.344114179797268,4.691519045670615,4.0561168324943555,3.4637477175979274,2.9340206025239484,2.478410277309628,2.100181621505834,1.7957196923767433,1.5566126606359372,1.3718466081791787,1.2296615115094314,1.1188695132519573,1.0296423319347932,0.9538816206772299,0.8853043585494745,0.8193504798570918,0.7529933489103766,0.6845185684458129,0.6133216142187712,0.5397460947840492],\"type\":\"scatter\"}],                        {\"template\":{\"data\":{\"histogram2dcontour\":[{\"type\":\"histogram2dcontour\",\"colorbar\":{\"outlinewidth\":0,\"ticks\":\"\"},\"colorscale\":[[0.0,\"#0d0887\"],[0.1111111111111111,\"#46039f\"],[0.2222222222222222,\"#7201a8\"],[0.3333333333333333,\"#9c179e\"],[0.4444444444444444,\"#bd3786\"],[0.5555555555555556,\"#d8576b\"],[0.6666666666666666,\"#ed7953\"],[0.7777777777777778,\"#fb9f3a\"],[0.8888888888888888,\"#fdca26\"],[1.0,\"#f0f921\"]]}],\"choropleth\":[{\"type\":\"choropleth\",\"colorbar\":{\"outlinewidth\":0,\"ticks\":\"\"}}],\"histogram2d\":[{\"type\":\"histogram2d\",\"colorbar\":{\"outlinewidth\":0,\"ticks\":\"\"},\"colorscale\":[[0.0,\"#0d0887\"],[0.1111111111111111,\"#46039f\"],[0.2222222222222222,\"#7201a8\"],[0.3333333333333333,\"#9c179e\"],[0.4444444444444444,\"#bd3786\"],[0.5555555555555556,\"#d8576b\"],[0.6666666666666666,\"#ed7953\"],[0.7777777777777778,\"#fb9f3a\"],[0.8888888888888888,\"#fdca26\"],[1.0,\"#f0f921\"]]}],\"heatmap\":[{\"type\":\"heatmap\",\"colorbar\":{\"outlinewidth\":0,\"ticks\":\"\"},\"colorscale\":[[0.0,\"#0d0887\"],[0.1111111111111111,\"#46039f\"],[0.2222222222222222,\"#7201a8\"],[0.3333333333333333,\"#9c179e\"],[0.4444444444444444,\"#bd3786\"],[0.5555555555555556,\"#d8576b\"],[0.6666666666666666,\"#ed7953\"],[0.7777777777777778,\"#fb9f3a\"],[0.8888888888888888,\"#fdca26\"],[1.0,\"#f0f921\"]]}],\"heatmapgl\":[{\"type\":\"heatmapgl\",\"colorbar\":{\"outlinewidth\":0,\"ticks\":\"\"},\"colorscale\":[[0.0,\"#0d0887\"],[0.1111111111111111,\"#46039f\"],[0.2222222222222222,\"#7201a8\"],[0.3333333333333333,\"#9c179e\"],[0.4444444444444444,\"#bd3786\"],[0.5555555555555556,\"#d8576b\"],[0.6666666666666666,\"#ed7953\"],[0.7777777777777778,\"#fb9f3a\"],[0.8888888888888888,\"#fdca26\"],[1.0,\"#f0f921\"]]}],\"contourcarpet\":[{\"type\":\"contourcarpet\",\"colorbar\":{\"outlinewidth\":0,\"ticks\":\"\"}}],\"contour\":[{\"type\":\"contour\",\"colorbar\":{\"outlinewidth\":0,\"ticks\":\"\"},\"colorscale\":[[0.0,\"#0d0887\"],[0.1111111111111111,\"#46039f\"],[0.2222222222222222,\"#7201a8\"],[0.3333333333333333,\"#9c179e\"],[0.4444444444444444,\"#bd3786\"],[0.5555555555555556,\"#d8576b\"],[0.6666666666666666,\"#ed7953\"],[0.7777777777777778,\"#fb9f3a\"],[0.8888888888888888,\"#fdca26\"],[1.0,\"#f0f921\"]]}],\"surface\":[{\"type\":\"surface\",\"colorbar\":{\"outlinewidth\":0,\"ticks\":\"\"},\"colorscale\":[[0.0,\"#0d0887\"],[0.1111111111111111,\"#46039f\"],[0.2222222222222222,\"#7201a8\"],[0.3333333333333333,\"#9c179e\"],[0.4444444444444444,\"#bd3786\"],[0.5555555555555556,\"#d8576b\"],[0.6666666666666666,\"#ed7953\"],[0.7777777777777778,\"#fb9f3a\"],[0.8888888888888888,\"#fdca26\"],[1.0,\"#f0f921\"]]}],\"mesh3d\":[{\"type\":\"mesh3d\",\"colorbar\":{\"outlinewidth\":0,\"ticks\":\"\"}}],\"scatter\":[{\"fillpattern\":{\"fillmode\":\"overlay\",\"size\":10,\"solidity\":0.2},\"type\":\"scatter\"}],\"parcoords\":[{\"type\":\"parcoords\",\"line\":{\"colorbar\":{\"outlinewidth\":0,\"ticks\":\"\"}}}],\"scatterpolargl\":[{\"type\":\"scatterpolargl\",\"marker\":{\"colorbar\":{\"outlinewidth\":0,\"ticks\":\"\"}}}],\"bar\":[{\"error_x\":{\"color\":\"#2a3f5f\"},\"error_y\":{\"color\":\"#2a3f5f\"},\"marker\":{\"line\":{\"color\":\"#E5ECF6\",\"width\":0.5},\"pattern\":{\"fillmode\":\"overlay\",\"size\":10,\"solidity\":0.2}},\"type\":\"bar\"}],\"scattergeo\":[{\"type\":\"scattergeo\",\"marker\":{\"colorbar\":{\"outlinewidth\":0,\"ticks\":\"\"}}}],\"scatterpolar\":[{\"type\":\"scatterpolar\",\"marker\":{\"colorbar\":{\"outlinewidth\":0,\"ticks\":\"\"}}}],\"histogram\":[{\"marker\":{\"pattern\":{\"fillmode\":\"overlay\",\"size\":10,\"solidity\":0.2}},\"type\":\"histogram\"}],\"scattergl\":[{\"type\":\"scattergl\",\"marker\":{\"colorbar\":{\"outlinewidth\":0,\"ticks\":\"\"}}}],\"scatter3d\":[{\"type\":\"scatter3d\",\"line\":{\"colorbar\":{\"outlinewidth\":0,\"ticks\":\"\"}},\"marker\":{\"colorbar\":{\"outlinewidth\":0,\"ticks\":\"\"}}}],\"scattermapbox\":[{\"type\":\"scattermapbox\",\"marker\":{\"colorbar\":{\"outlinewidth\":0,\"ticks\":\"\"}}}],\"scatterternary\":[{\"type\":\"scatterternary\",\"marker\":{\"colorbar\":{\"outlinewidth\":0,\"ticks\":\"\"}}}],\"scattercarpet\":[{\"type\":\"scattercarpet\",\"marker\":{\"colorbar\":{\"outlinewidth\":0,\"ticks\":\"\"}}}],\"carpet\":[{\"aaxis\":{\"endlinecolor\":\"#2a3f5f\",\"gridcolor\":\"white\",\"linecolor\":\"white\",\"minorgridcolor\":\"white\",\"startlinecolor\":\"#2a3f5f\"},\"baxis\":{\"endlinecolor\":\"#2a3f5f\",\"gridcolor\":\"white\",\"linecolor\":\"white\",\"minorgridcolor\":\"white\",\"startlinecolor\":\"#2a3f5f\"},\"type\":\"carpet\"}],\"table\":[{\"cells\":{\"fill\":{\"color\":\"#EBF0F8\"},\"line\":{\"color\":\"white\"}},\"header\":{\"fill\":{\"color\":\"#C8D4E3\"},\"line\":{\"color\":\"white\"}},\"type\":\"table\"}],\"barpolar\":[{\"marker\":{\"line\":{\"color\":\"#E5ECF6\",\"width\":0.5},\"pattern\":{\"fillmode\":\"overlay\",\"size\":10,\"solidity\":0.2}},\"type\":\"barpolar\"}],\"pie\":[{\"automargin\":true,\"type\":\"pie\"}]},\"layout\":{\"autotypenumbers\":\"strict\",\"colorway\":[\"#636efa\",\"#EF553B\",\"#00cc96\",\"#ab63fa\",\"#FFA15A\",\"#19d3f3\",\"#FF6692\",\"#B6E880\",\"#FF97FF\",\"#FECB52\"],\"font\":{\"color\":\"#2a3f5f\"},\"hovermode\":\"closest\",\"hoverlabel\":{\"align\":\"left\"},\"paper_bgcolor\":\"white\",\"plot_bgcolor\":\"#E5ECF6\",\"polar\":{\"bgcolor\":\"#E5ECF6\",\"angularaxis\":{\"gridcolor\":\"white\",\"linecolor\":\"white\",\"ticks\":\"\"},\"radialaxis\":{\"gridcolor\":\"white\",\"linecolor\":\"white\",\"ticks\":\"\"}},\"ternary\":{\"bgcolor\":\"#E5ECF6\",\"aaxis\":{\"gridcolor\":\"white\",\"linecolor\":\"white\",\"ticks\":\"\"},\"baxis\":{\"gridcolor\":\"white\",\"linecolor\":\"white\",\"ticks\":\"\"},\"caxis\":{\"gridcolor\":\"white\",\"linecolor\":\"white\",\"ticks\":\"\"}},\"coloraxis\":{\"colorbar\":{\"outlinewidth\":0,\"ticks\":\"\"}},\"colorscale\":{\"sequential\":[[0.0,\"#0d0887\"],[0.1111111111111111,\"#46039f\"],[0.2222222222222222,\"#7201a8\"],[0.3333333333333333,\"#9c179e\"],[0.4444444444444444,\"#bd3786\"],[0.5555555555555556,\"#d8576b\"],[0.6666666666666666,\"#ed7953\"],[0.7777777777777778,\"#fb9f3a\"],[0.8888888888888888,\"#fdca26\"],[1.0,\"#f0f921\"]],\"sequentialminus\":[[0.0,\"#0d0887\"],[0.1111111111111111,\"#46039f\"],[0.2222222222222222,\"#7201a8\"],[0.3333333333333333,\"#9c179e\"],[0.4444444444444444,\"#bd3786\"],[0.5555555555555556,\"#d8576b\"],[0.6666666666666666,\"#ed7953\"],[0.7777777777777778,\"#fb9f3a\"],[0.8888888888888888,\"#fdca26\"],[1.0,\"#f0f921\"]],\"diverging\":[[0,\"#8e0152\"],[0.1,\"#c51b7d\"],[0.2,\"#de77ae\"],[0.3,\"#f1b6da\"],[0.4,\"#fde0ef\"],[0.5,\"#f7f7f7\"],[0.6,\"#e6f5d0\"],[0.7,\"#b8e186\"],[0.8,\"#7fbc41\"],[0.9,\"#4d9221\"],[1,\"#276419\"]]},\"xaxis\":{\"gridcolor\":\"white\",\"linecolor\":\"white\",\"ticks\":\"\",\"title\":{\"standoff\":15},\"zerolinecolor\":\"white\",\"automargin\":true,\"zerolinewidth\":2},\"yaxis\":{\"gridcolor\":\"white\",\"linecolor\":\"white\",\"ticks\":\"\",\"title\":{\"standoff\":15},\"zerolinecolor\":\"white\",\"automargin\":true,\"zerolinewidth\":2},\"scene\":{\"xaxis\":{\"backgroundcolor\":\"#E5ECF6\",\"gridcolor\":\"white\",\"linecolor\":\"white\",\"showbackground\":true,\"ticks\":\"\",\"zerolinecolor\":\"white\",\"gridwidth\":2},\"yaxis\":{\"backgroundcolor\":\"#E5ECF6\",\"gridcolor\":\"white\",\"linecolor\":\"white\",\"showbackground\":true,\"ticks\":\"\",\"zerolinecolor\":\"white\",\"gridwidth\":2},\"zaxis\":{\"backgroundcolor\":\"#E5ECF6\",\"gridcolor\":\"white\",\"linecolor\":\"white\",\"showbackground\":true,\"ticks\":\"\",\"zerolinecolor\":\"white\",\"gridwidth\":2}},\"shapedefaults\":{\"line\":{\"color\":\"#2a3f5f\"}},\"annotationdefaults\":{\"arrowcolor\":\"#2a3f5f\",\"arrowhead\":0,\"arrowwidth\":1},\"geo\":{\"bgcolor\":\"white\",\"landcolor\":\"#E5ECF6\",\"subunitcolor\":\"white\",\"showland\":true,\"showlakes\":true,\"lakecolor\":\"white\"},\"title\":{\"x\":0.05},\"mapbox\":{\"style\":\"light\"}}},\"xaxis\":{\"anchor\":\"y\",\"domain\":[0.0,1.0],\"title\":{\"text\":\"Age\"}},\"yaxis\":{\"anchor\":\"x\",\"domain\":[0.0,1.0],\"title\":{\"text\":\"Passenger count\"}},\"legend\":{\"tracegroupgap\":0},\"title\":{\"text\":\"Age distribution of passengers from Southampton\"},\"barmode\":\"relative\",\"bargap\":0.05,\"hovermode\":\"x\",\"showlegend\":true,\"height\":500},                        {\"responsive\": true}                    ).then(function(){\n",
              "                            \n",
              "var gd = document.getElementById('6561457e-4ecc-4e6f-a2fb-8281b61618c4');\n",
              "var x = new MutationObserver(function (mutations, observer) {{\n",
              "        var display = window.getComputedStyle(gd).display;\n",
              "        if (!display || display === 'none') {{\n",
              "            console.log([gd, 'removed!']);\n",
              "            Plotly.purge(gd);\n",
              "            observer.disconnect();\n",
              "        }}\n",
              "}});\n",
              "\n",
              "// Listen for the removal of the full notebook cells\n",
              "var notebookContainer = gd.closest('#notebook-container');\n",
              "if (notebookContainer) {{\n",
              "    x.observe(notebookContainer, {childList: true});\n",
              "}}\n",
              "\n",
              "// Listen for the clearing of the current output cell\n",
              "var outputEl = gd.closest('.output');\n",
              "if (outputEl) {{\n",
              "    x.observe(outputEl, {childList: true});\n",
              "}}\n",
              "\n",
              "                        })                };                            </script>        </div>\n",
              "</body>\n",
              "</html>"
            ]
          },
          "metadata": {}
        }
      ]
    },
    {
      "cell_type": "markdown",
      "source": [
        "Построим **Linear plot**, показывающая процент выживших по возрастным группам с разделением на пол"
      ],
      "metadata": {
        "id": "JD3kOyE_Z6G1"
      }
    },
    {
      "cell_type": "code",
      "source": [
        "temp_df = data_frame[['Age', 'Sex', 'Survived']].dropna().copy()\n",
        "\n",
        "age_bins = [0, 10, 20, 30, 40, 50, 60, 70, 80]\n",
        "age_labels = ['0-9', '10-19', '20-29', '30-39', '40-49', '50-59', '60-69', '70+']\n",
        "\n",
        "temp_df['Survived'] = temp_df['Survived'].astype(float)\n",
        "\n",
        "fig = px.line(\n",
        "    temp_df.assign(\n",
        "        AgeGroup=lambda x: pd.cut(x['Age'], bins=age_bins, labels=age_labels)\n",
        "    ).groupby(['AgeGroup', 'Sex'], observed=True)['Survived'].mean().mul(100).reset_index(name='SurvivalRate'),\n",
        "\n",
        "    x='AgeGroup',\n",
        "    y='SurvivalRate',\n",
        "    color='Sex',\n",
        "    color_discrete_map={'female': 'pink', 'male': 'lightblue'},\n",
        "    title='Percentage of survivors by age group',\n",
        "    markers=True,\n",
        "    line_shape='linear'\n",
        ")\n",
        "\n",
        "fig.update_layout(\n",
        "    xaxis_title='Age',\n",
        "    yaxis_title='Percentage of survivors (%)',\n",
        "    plot_bgcolor='white',\n",
        "    hovermode='x unified',\n",
        "    yaxis=dict(range=[0, 100]),\n",
        "    legend_title_text='Sex'\n",
        ")\n",
        "\n",
        "fig.show()\n"
      ],
      "metadata": {
        "colab": {
          "base_uri": "https://localhost:8080/",
          "height": 542
        },
        "id": "krh49c6P22N1",
        "outputId": "189c1f86-8d0e-40cd-ddfd-38e3ad8c7ec5"
      },
      "execution_count": 40,
      "outputs": [
        {
          "output_type": "display_data",
          "data": {
            "text/html": [
              "<html>\n",
              "<head><meta charset=\"utf-8\" /></head>\n",
              "<body>\n",
              "    <div>            <script src=\"https://cdnjs.cloudflare.com/ajax/libs/mathjax/2.7.5/MathJax.js?config=TeX-AMS-MML_SVG\"></script><script type=\"text/javascript\">if (window.MathJax && window.MathJax.Hub && window.MathJax.Hub.Config) {window.MathJax.Hub.Config({SVG: {font: \"STIX-Web\"}});}</script>                <script type=\"text/javascript\">window.PlotlyConfig = {MathJaxConfig: 'local'};</script>\n",
              "        <script charset=\"utf-8\" src=\"https://cdn.plot.ly/plotly-2.35.2.min.js\"></script>                <div id=\"e32c03a1-9f0d-46fe-bc1c-2f0ad4b5108d\" class=\"plotly-graph-div\" style=\"height:525px; width:100%;\"></div>            <script type=\"text/javascript\">                                    window.PLOTLYENV=window.PLOTLYENV || {};                                    if (document.getElementById(\"e32c03a1-9f0d-46fe-bc1c-2f0ad4b5108d\")) {                    Plotly.newPlot(                        \"e32c03a1-9f0d-46fe-bc1c-2f0ad4b5108d\",                        [{\"hovertemplate\":\"Sex=female\\u003cbr\\u003eAgeGroup=%{x}\\u003cbr\\u003eSurvivalRate=%{y}\\u003cextra\\u003e\\u003c\\u002fextra\\u003e\",\"legendgroup\":\"female\",\"line\":{\"color\":\"pink\",\"dash\":\"solid\",\"shape\":\"linear\"},\"marker\":{\"symbol\":\"circle\"},\"mode\":\"lines+markers\",\"name\":\"female\",\"orientation\":\"v\",\"showlegend\":true,\"x\":[\"0-9\",\"10-19\",\"20-29\",\"30-39\",\"40-49\",\"50-59\",\"60-69\"],\"xaxis\":\"x\",\"y\":[61.29032258064516,73.91304347826086,75.30864197530865,83.63636363636363,67.74193548387096,92.85714285714286,100.0],\"yaxis\":\"y\",\"type\":\"scatter\"},{\"hovertemplate\":\"Sex=male\\u003cbr\\u003eAgeGroup=%{x}\\u003cbr\\u003eSurvivalRate=%{y}\\u003cextra\\u003e\\u003c\\u002fextra\\u003e\",\"legendgroup\":\"male\",\"line\":{\"color\":\"lightblue\",\"dash\":\"solid\",\"shape\":\"linear\"},\"marker\":{\"symbol\":\"circle\"},\"mode\":\"lines+markers\",\"name\":\"male\",\"orientation\":\"v\",\"showlegend\":true,\"x\":[\"0-9\",\"10-19\",\"20-29\",\"30-39\",\"40-49\",\"50-59\",\"60-69\",\"70+\"],\"xaxis\":\"x\",\"y\":[57.57575757575758,14.492753623188406,15.436241610738255,23.0,21.818181818181817,14.285714285714285,7.142857142857142,20.0],\"yaxis\":\"y\",\"type\":\"scatter\"}],                        {\"template\":{\"data\":{\"histogram2dcontour\":[{\"type\":\"histogram2dcontour\",\"colorbar\":{\"outlinewidth\":0,\"ticks\":\"\"},\"colorscale\":[[0.0,\"#0d0887\"],[0.1111111111111111,\"#46039f\"],[0.2222222222222222,\"#7201a8\"],[0.3333333333333333,\"#9c179e\"],[0.4444444444444444,\"#bd3786\"],[0.5555555555555556,\"#d8576b\"],[0.6666666666666666,\"#ed7953\"],[0.7777777777777778,\"#fb9f3a\"],[0.8888888888888888,\"#fdca26\"],[1.0,\"#f0f921\"]]}],\"choropleth\":[{\"type\":\"choropleth\",\"colorbar\":{\"outlinewidth\":0,\"ticks\":\"\"}}],\"histogram2d\":[{\"type\":\"histogram2d\",\"colorbar\":{\"outlinewidth\":0,\"ticks\":\"\"},\"colorscale\":[[0.0,\"#0d0887\"],[0.1111111111111111,\"#46039f\"],[0.2222222222222222,\"#7201a8\"],[0.3333333333333333,\"#9c179e\"],[0.4444444444444444,\"#bd3786\"],[0.5555555555555556,\"#d8576b\"],[0.6666666666666666,\"#ed7953\"],[0.7777777777777778,\"#fb9f3a\"],[0.8888888888888888,\"#fdca26\"],[1.0,\"#f0f921\"]]}],\"heatmap\":[{\"type\":\"heatmap\",\"colorbar\":{\"outlinewidth\":0,\"ticks\":\"\"},\"colorscale\":[[0.0,\"#0d0887\"],[0.1111111111111111,\"#46039f\"],[0.2222222222222222,\"#7201a8\"],[0.3333333333333333,\"#9c179e\"],[0.4444444444444444,\"#bd3786\"],[0.5555555555555556,\"#d8576b\"],[0.6666666666666666,\"#ed7953\"],[0.7777777777777778,\"#fb9f3a\"],[0.8888888888888888,\"#fdca26\"],[1.0,\"#f0f921\"]]}],\"heatmapgl\":[{\"type\":\"heatmapgl\",\"colorbar\":{\"outlinewidth\":0,\"ticks\":\"\"},\"colorscale\":[[0.0,\"#0d0887\"],[0.1111111111111111,\"#46039f\"],[0.2222222222222222,\"#7201a8\"],[0.3333333333333333,\"#9c179e\"],[0.4444444444444444,\"#bd3786\"],[0.5555555555555556,\"#d8576b\"],[0.6666666666666666,\"#ed7953\"],[0.7777777777777778,\"#fb9f3a\"],[0.8888888888888888,\"#fdca26\"],[1.0,\"#f0f921\"]]}],\"contourcarpet\":[{\"type\":\"contourcarpet\",\"colorbar\":{\"outlinewidth\":0,\"ticks\":\"\"}}],\"contour\":[{\"type\":\"contour\",\"colorbar\":{\"outlinewidth\":0,\"ticks\":\"\"},\"colorscale\":[[0.0,\"#0d0887\"],[0.1111111111111111,\"#46039f\"],[0.2222222222222222,\"#7201a8\"],[0.3333333333333333,\"#9c179e\"],[0.4444444444444444,\"#bd3786\"],[0.5555555555555556,\"#d8576b\"],[0.6666666666666666,\"#ed7953\"],[0.7777777777777778,\"#fb9f3a\"],[0.8888888888888888,\"#fdca26\"],[1.0,\"#f0f921\"]]}],\"surface\":[{\"type\":\"surface\",\"colorbar\":{\"outlinewidth\":0,\"ticks\":\"\"},\"colorscale\":[[0.0,\"#0d0887\"],[0.1111111111111111,\"#46039f\"],[0.2222222222222222,\"#7201a8\"],[0.3333333333333333,\"#9c179e\"],[0.4444444444444444,\"#bd3786\"],[0.5555555555555556,\"#d8576b\"],[0.6666666666666666,\"#ed7953\"],[0.7777777777777778,\"#fb9f3a\"],[0.8888888888888888,\"#fdca26\"],[1.0,\"#f0f921\"]]}],\"mesh3d\":[{\"type\":\"mesh3d\",\"colorbar\":{\"outlinewidth\":0,\"ticks\":\"\"}}],\"scatter\":[{\"fillpattern\":{\"fillmode\":\"overlay\",\"size\":10,\"solidity\":0.2},\"type\":\"scatter\"}],\"parcoords\":[{\"type\":\"parcoords\",\"line\":{\"colorbar\":{\"outlinewidth\":0,\"ticks\":\"\"}}}],\"scatterpolargl\":[{\"type\":\"scatterpolargl\",\"marker\":{\"colorbar\":{\"outlinewidth\":0,\"ticks\":\"\"}}}],\"bar\":[{\"error_x\":{\"color\":\"#2a3f5f\"},\"error_y\":{\"color\":\"#2a3f5f\"},\"marker\":{\"line\":{\"color\":\"#E5ECF6\",\"width\":0.5},\"pattern\":{\"fillmode\":\"overlay\",\"size\":10,\"solidity\":0.2}},\"type\":\"bar\"}],\"scattergeo\":[{\"type\":\"scattergeo\",\"marker\":{\"colorbar\":{\"outlinewidth\":0,\"ticks\":\"\"}}}],\"scatterpolar\":[{\"type\":\"scatterpolar\",\"marker\":{\"colorbar\":{\"outlinewidth\":0,\"ticks\":\"\"}}}],\"histogram\":[{\"marker\":{\"pattern\":{\"fillmode\":\"overlay\",\"size\":10,\"solidity\":0.2}},\"type\":\"histogram\"}],\"scattergl\":[{\"type\":\"scattergl\",\"marker\":{\"colorbar\":{\"outlinewidth\":0,\"ticks\":\"\"}}}],\"scatter3d\":[{\"type\":\"scatter3d\",\"line\":{\"colorbar\":{\"outlinewidth\":0,\"ticks\":\"\"}},\"marker\":{\"colorbar\":{\"outlinewidth\":0,\"ticks\":\"\"}}}],\"scattermapbox\":[{\"type\":\"scattermapbox\",\"marker\":{\"colorbar\":{\"outlinewidth\":0,\"ticks\":\"\"}}}],\"scatterternary\":[{\"type\":\"scatterternary\",\"marker\":{\"colorbar\":{\"outlinewidth\":0,\"ticks\":\"\"}}}],\"scattercarpet\":[{\"type\":\"scattercarpet\",\"marker\":{\"colorbar\":{\"outlinewidth\":0,\"ticks\":\"\"}}}],\"carpet\":[{\"aaxis\":{\"endlinecolor\":\"#2a3f5f\",\"gridcolor\":\"white\",\"linecolor\":\"white\",\"minorgridcolor\":\"white\",\"startlinecolor\":\"#2a3f5f\"},\"baxis\":{\"endlinecolor\":\"#2a3f5f\",\"gridcolor\":\"white\",\"linecolor\":\"white\",\"minorgridcolor\":\"white\",\"startlinecolor\":\"#2a3f5f\"},\"type\":\"carpet\"}],\"table\":[{\"cells\":{\"fill\":{\"color\":\"#EBF0F8\"},\"line\":{\"color\":\"white\"}},\"header\":{\"fill\":{\"color\":\"#C8D4E3\"},\"line\":{\"color\":\"white\"}},\"type\":\"table\"}],\"barpolar\":[{\"marker\":{\"line\":{\"color\":\"#E5ECF6\",\"width\":0.5},\"pattern\":{\"fillmode\":\"overlay\",\"size\":10,\"solidity\":0.2}},\"type\":\"barpolar\"}],\"pie\":[{\"automargin\":true,\"type\":\"pie\"}]},\"layout\":{\"autotypenumbers\":\"strict\",\"colorway\":[\"#636efa\",\"#EF553B\",\"#00cc96\",\"#ab63fa\",\"#FFA15A\",\"#19d3f3\",\"#FF6692\",\"#B6E880\",\"#FF97FF\",\"#FECB52\"],\"font\":{\"color\":\"#2a3f5f\"},\"hovermode\":\"closest\",\"hoverlabel\":{\"align\":\"left\"},\"paper_bgcolor\":\"white\",\"plot_bgcolor\":\"#E5ECF6\",\"polar\":{\"bgcolor\":\"#E5ECF6\",\"angularaxis\":{\"gridcolor\":\"white\",\"linecolor\":\"white\",\"ticks\":\"\"},\"radialaxis\":{\"gridcolor\":\"white\",\"linecolor\":\"white\",\"ticks\":\"\"}},\"ternary\":{\"bgcolor\":\"#E5ECF6\",\"aaxis\":{\"gridcolor\":\"white\",\"linecolor\":\"white\",\"ticks\":\"\"},\"baxis\":{\"gridcolor\":\"white\",\"linecolor\":\"white\",\"ticks\":\"\"},\"caxis\":{\"gridcolor\":\"white\",\"linecolor\":\"white\",\"ticks\":\"\"}},\"coloraxis\":{\"colorbar\":{\"outlinewidth\":0,\"ticks\":\"\"}},\"colorscale\":{\"sequential\":[[0.0,\"#0d0887\"],[0.1111111111111111,\"#46039f\"],[0.2222222222222222,\"#7201a8\"],[0.3333333333333333,\"#9c179e\"],[0.4444444444444444,\"#bd3786\"],[0.5555555555555556,\"#d8576b\"],[0.6666666666666666,\"#ed7953\"],[0.7777777777777778,\"#fb9f3a\"],[0.8888888888888888,\"#fdca26\"],[1.0,\"#f0f921\"]],\"sequentialminus\":[[0.0,\"#0d0887\"],[0.1111111111111111,\"#46039f\"],[0.2222222222222222,\"#7201a8\"],[0.3333333333333333,\"#9c179e\"],[0.4444444444444444,\"#bd3786\"],[0.5555555555555556,\"#d8576b\"],[0.6666666666666666,\"#ed7953\"],[0.7777777777777778,\"#fb9f3a\"],[0.8888888888888888,\"#fdca26\"],[1.0,\"#f0f921\"]],\"diverging\":[[0,\"#8e0152\"],[0.1,\"#c51b7d\"],[0.2,\"#de77ae\"],[0.3,\"#f1b6da\"],[0.4,\"#fde0ef\"],[0.5,\"#f7f7f7\"],[0.6,\"#e6f5d0\"],[0.7,\"#b8e186\"],[0.8,\"#7fbc41\"],[0.9,\"#4d9221\"],[1,\"#276419\"]]},\"xaxis\":{\"gridcolor\":\"white\",\"linecolor\":\"white\",\"ticks\":\"\",\"title\":{\"standoff\":15},\"zerolinecolor\":\"white\",\"automargin\":true,\"zerolinewidth\":2},\"yaxis\":{\"gridcolor\":\"white\",\"linecolor\":\"white\",\"ticks\":\"\",\"title\":{\"standoff\":15},\"zerolinecolor\":\"white\",\"automargin\":true,\"zerolinewidth\":2},\"scene\":{\"xaxis\":{\"backgroundcolor\":\"#E5ECF6\",\"gridcolor\":\"white\",\"linecolor\":\"white\",\"showbackground\":true,\"ticks\":\"\",\"zerolinecolor\":\"white\",\"gridwidth\":2},\"yaxis\":{\"backgroundcolor\":\"#E5ECF6\",\"gridcolor\":\"white\",\"linecolor\":\"white\",\"showbackground\":true,\"ticks\":\"\",\"zerolinecolor\":\"white\",\"gridwidth\":2},\"zaxis\":{\"backgroundcolor\":\"#E5ECF6\",\"gridcolor\":\"white\",\"linecolor\":\"white\",\"showbackground\":true,\"ticks\":\"\",\"zerolinecolor\":\"white\",\"gridwidth\":2}},\"shapedefaults\":{\"line\":{\"color\":\"#2a3f5f\"}},\"annotationdefaults\":{\"arrowcolor\":\"#2a3f5f\",\"arrowhead\":0,\"arrowwidth\":1},\"geo\":{\"bgcolor\":\"white\",\"landcolor\":\"#E5ECF6\",\"subunitcolor\":\"white\",\"showland\":true,\"showlakes\":true,\"lakecolor\":\"white\"},\"title\":{\"x\":0.05},\"mapbox\":{\"style\":\"light\"}}},\"xaxis\":{\"anchor\":\"y\",\"domain\":[0.0,1.0],\"title\":{\"text\":\"Age\"}},\"yaxis\":{\"anchor\":\"x\",\"domain\":[0.0,1.0],\"title\":{\"text\":\"Percentage of survivors (%)\"},\"range\":[0,100]},\"legend\":{\"title\":{\"text\":\"Sex\"},\"tracegroupgap\":0},\"title\":{\"text\":\"Percentage of survivors by age group\"},\"plot_bgcolor\":\"white\",\"hovermode\":\"x unified\"},                        {\"responsive\": true}                    ).then(function(){\n",
              "                            \n",
              "var gd = document.getElementById('e32c03a1-9f0d-46fe-bc1c-2f0ad4b5108d');\n",
              "var x = new MutationObserver(function (mutations, observer) {{\n",
              "        var display = window.getComputedStyle(gd).display;\n",
              "        if (!display || display === 'none') {{\n",
              "            console.log([gd, 'removed!']);\n",
              "            Plotly.purge(gd);\n",
              "            observer.disconnect();\n",
              "        }}\n",
              "}});\n",
              "\n",
              "// Listen for the removal of the full notebook cells\n",
              "var notebookContainer = gd.closest('#notebook-container');\n",
              "if (notebookContainer) {{\n",
              "    x.observe(notebookContainer, {childList: true});\n",
              "}}\n",
              "\n",
              "// Listen for the clearing of the current output cell\n",
              "var outputEl = gd.closest('.output');\n",
              "if (outputEl) {{\n",
              "    x.observe(outputEl, {childList: true});\n",
              "}}\n",
              "\n",
              "                        })                };                            </script>        </div>\n",
              "</body>\n",
              "</html>"
            ]
          },
          "metadata": {}
        }
      ]
    },
    {
      "cell_type": "markdown",
      "source": [
        "Построим **Horizontal bar chart** для отображения средней стоимости билета по классам на Титанике"
      ],
      "metadata": {
        "id": "ZJqFa338hJNP"
      }
    },
    {
      "cell_type": "code",
      "source": [
        "fare_by_class = data_frame.groupby('Pclass', observed=True)['Fare'].mean().reset_index()\n",
        "\n",
        "fare_by_class['Class'] = fare_by_class['Pclass'].map({\n",
        "    1: '1st class',\n",
        "    2: '2nd class',\n",
        "    3: '3rt class'\n",
        "})\n",
        "\n",
        "fig = px.bar(\n",
        "    fare_by_class,\n",
        "    y='Class',\n",
        "    x='Fare',\n",
        "    orientation='h',\n",
        "    title='Average ticket price by class on the Titanic',\n",
        "    color='Class',\n",
        "    color_discrete_map={\n",
        "        '1st class': 'yellow',\n",
        "        '2nd class': 'yellowgreen',\n",
        "        '3rt class': 'green'\n",
        "    },\n",
        "    text_auto='.2f',\n",
        "    height=400\n",
        ")\n",
        "\n",
        "fig.update_layout(\n",
        "    xaxis_title='Average cost',\n",
        "    yaxis_title='',\n",
        "    plot_bgcolor='white',\n",
        "    showlegend=False,\n",
        "    hovermode='y unified',\n",
        "    margin=dict(l=100, r=50, t=80, b=50)\n",
        ")\n",
        "\n",
        "fig.update_traces(\n",
        "    textposition='inside',\n",
        "    insidetextanchor='middle',\n",
        "    hovertemplate='<b>%{y}</b><br>Average cost: %{x:.2f}<extra></extra>',\n",
        "    marker_line=dict(width=1, color='DarkSlateGray')\n",
        ")\n",
        "\n",
        "fig.show()"
      ],
      "metadata": {
        "colab": {
          "base_uri": "https://localhost:8080/",
          "height": 417
        },
        "id": "bA7RyEFfhMl2",
        "outputId": "7c813bff-37e7-44f8-ff47-e5d9c7969e15"
      },
      "execution_count": 35,
      "outputs": [
        {
          "output_type": "display_data",
          "data": {
            "text/html": [
              "<html>\n",
              "<head><meta charset=\"utf-8\" /></head>\n",
              "<body>\n",
              "    <div>            <script src=\"https://cdnjs.cloudflare.com/ajax/libs/mathjax/2.7.5/MathJax.js?config=TeX-AMS-MML_SVG\"></script><script type=\"text/javascript\">if (window.MathJax && window.MathJax.Hub && window.MathJax.Hub.Config) {window.MathJax.Hub.Config({SVG: {font: \"STIX-Web\"}});}</script>                <script type=\"text/javascript\">window.PlotlyConfig = {MathJaxConfig: 'local'};</script>\n",
              "        <script charset=\"utf-8\" src=\"https://cdn.plot.ly/plotly-2.35.2.min.js\"></script>                <div id=\"8cf55040-4b9e-4eda-bf91-3b7ebec13353\" class=\"plotly-graph-div\" style=\"height:400px; width:100%;\"></div>            <script type=\"text/javascript\">                                    window.PLOTLYENV=window.PLOTLYENV || {};                                    if (document.getElementById(\"8cf55040-4b9e-4eda-bf91-3b7ebec13353\")) {                    Plotly.newPlot(                        \"8cf55040-4b9e-4eda-bf91-3b7ebec13353\",                        [{\"alignmentgroup\":\"True\",\"hovertemplate\":\"\\u003cb\\u003e%{y}\\u003c\\u002fb\\u003e\\u003cbr\\u003eAverage cost: %{x:.2f}\\u003cextra\\u003e\\u003c\\u002fextra\\u003e\",\"legendgroup\":\"1st class\",\"marker\":{\"color\":\"yellow\",\"pattern\":{\"shape\":\"\"},\"line\":{\"color\":\"DarkSlateGray\",\"width\":1}},\"name\":\"1st class\",\"offsetgroup\":\"1st class\",\"orientation\":\"h\",\"showlegend\":true,\"textposition\":\"inside\",\"texttemplate\":\"%{x:.2f}\",\"x\":[87.50899164086688],\"xaxis\":\"x\",\"y\":[\"1st class\"],\"yaxis\":\"y\",\"type\":\"bar\",\"insidetextanchor\":\"middle\"},{\"alignmentgroup\":\"True\",\"hovertemplate\":\"\\u003cb\\u003e%{y}\\u003c\\u002fb\\u003e\\u003cbr\\u003eAverage cost: %{x:.2f}\\u003cextra\\u003e\\u003c\\u002fextra\\u003e\",\"legendgroup\":\"2nd class\",\"marker\":{\"color\":\"yellowgreen\",\"pattern\":{\"shape\":\"\"},\"line\":{\"color\":\"DarkSlateGray\",\"width\":1}},\"name\":\"2nd class\",\"offsetgroup\":\"2nd class\",\"orientation\":\"h\",\"showlegend\":true,\"textposition\":\"inside\",\"texttemplate\":\"%{x:.2f}\",\"x\":[21.179196389891697],\"xaxis\":\"x\",\"y\":[\"2nd class\"],\"yaxis\":\"y\",\"type\":\"bar\",\"insidetextanchor\":\"middle\"},{\"alignmentgroup\":\"True\",\"hovertemplate\":\"\\u003cb\\u003e%{y}\\u003c\\u002fb\\u003e\\u003cbr\\u003eAverage cost: %{x:.2f}\\u003cextra\\u003e\\u003c\\u002fextra\\u003e\",\"legendgroup\":\"3rt class\",\"marker\":{\"color\":\"green\",\"pattern\":{\"shape\":\"\"},\"line\":{\"color\":\"DarkSlateGray\",\"width\":1}},\"name\":\"3rt class\",\"offsetgroup\":\"3rt class\",\"orientation\":\"h\",\"showlegend\":true,\"textposition\":\"inside\",\"texttemplate\":\"%{x:.2f}\",\"x\":[13.302888700564973],\"xaxis\":\"x\",\"y\":[\"3rt class\"],\"yaxis\":\"y\",\"type\":\"bar\",\"insidetextanchor\":\"middle\"}],                        {\"template\":{\"data\":{\"histogram2dcontour\":[{\"type\":\"histogram2dcontour\",\"colorbar\":{\"outlinewidth\":0,\"ticks\":\"\"},\"colorscale\":[[0.0,\"#0d0887\"],[0.1111111111111111,\"#46039f\"],[0.2222222222222222,\"#7201a8\"],[0.3333333333333333,\"#9c179e\"],[0.4444444444444444,\"#bd3786\"],[0.5555555555555556,\"#d8576b\"],[0.6666666666666666,\"#ed7953\"],[0.7777777777777778,\"#fb9f3a\"],[0.8888888888888888,\"#fdca26\"],[1.0,\"#f0f921\"]]}],\"choropleth\":[{\"type\":\"choropleth\",\"colorbar\":{\"outlinewidth\":0,\"ticks\":\"\"}}],\"histogram2d\":[{\"type\":\"histogram2d\",\"colorbar\":{\"outlinewidth\":0,\"ticks\":\"\"},\"colorscale\":[[0.0,\"#0d0887\"],[0.1111111111111111,\"#46039f\"],[0.2222222222222222,\"#7201a8\"],[0.3333333333333333,\"#9c179e\"],[0.4444444444444444,\"#bd3786\"],[0.5555555555555556,\"#d8576b\"],[0.6666666666666666,\"#ed7953\"],[0.7777777777777778,\"#fb9f3a\"],[0.8888888888888888,\"#fdca26\"],[1.0,\"#f0f921\"]]}],\"heatmap\":[{\"type\":\"heatmap\",\"colorbar\":{\"outlinewidth\":0,\"ticks\":\"\"},\"colorscale\":[[0.0,\"#0d0887\"],[0.1111111111111111,\"#46039f\"],[0.2222222222222222,\"#7201a8\"],[0.3333333333333333,\"#9c179e\"],[0.4444444444444444,\"#bd3786\"],[0.5555555555555556,\"#d8576b\"],[0.6666666666666666,\"#ed7953\"],[0.7777777777777778,\"#fb9f3a\"],[0.8888888888888888,\"#fdca26\"],[1.0,\"#f0f921\"]]}],\"heatmapgl\":[{\"type\":\"heatmapgl\",\"colorbar\":{\"outlinewidth\":0,\"ticks\":\"\"},\"colorscale\":[[0.0,\"#0d0887\"],[0.1111111111111111,\"#46039f\"],[0.2222222222222222,\"#7201a8\"],[0.3333333333333333,\"#9c179e\"],[0.4444444444444444,\"#bd3786\"],[0.5555555555555556,\"#d8576b\"],[0.6666666666666666,\"#ed7953\"],[0.7777777777777778,\"#fb9f3a\"],[0.8888888888888888,\"#fdca26\"],[1.0,\"#f0f921\"]]}],\"contourcarpet\":[{\"type\":\"contourcarpet\",\"colorbar\":{\"outlinewidth\":0,\"ticks\":\"\"}}],\"contour\":[{\"type\":\"contour\",\"colorbar\":{\"outlinewidth\":0,\"ticks\":\"\"},\"colorscale\":[[0.0,\"#0d0887\"],[0.1111111111111111,\"#46039f\"],[0.2222222222222222,\"#7201a8\"],[0.3333333333333333,\"#9c179e\"],[0.4444444444444444,\"#bd3786\"],[0.5555555555555556,\"#d8576b\"],[0.6666666666666666,\"#ed7953\"],[0.7777777777777778,\"#fb9f3a\"],[0.8888888888888888,\"#fdca26\"],[1.0,\"#f0f921\"]]}],\"surface\":[{\"type\":\"surface\",\"colorbar\":{\"outlinewidth\":0,\"ticks\":\"\"},\"colorscale\":[[0.0,\"#0d0887\"],[0.1111111111111111,\"#46039f\"],[0.2222222222222222,\"#7201a8\"],[0.3333333333333333,\"#9c179e\"],[0.4444444444444444,\"#bd3786\"],[0.5555555555555556,\"#d8576b\"],[0.6666666666666666,\"#ed7953\"],[0.7777777777777778,\"#fb9f3a\"],[0.8888888888888888,\"#fdca26\"],[1.0,\"#f0f921\"]]}],\"mesh3d\":[{\"type\":\"mesh3d\",\"colorbar\":{\"outlinewidth\":0,\"ticks\":\"\"}}],\"scatter\":[{\"fillpattern\":{\"fillmode\":\"overlay\",\"size\":10,\"solidity\":0.2},\"type\":\"scatter\"}],\"parcoords\":[{\"type\":\"parcoords\",\"line\":{\"colorbar\":{\"outlinewidth\":0,\"ticks\":\"\"}}}],\"scatterpolargl\":[{\"type\":\"scatterpolargl\",\"marker\":{\"colorbar\":{\"outlinewidth\":0,\"ticks\":\"\"}}}],\"bar\":[{\"error_x\":{\"color\":\"#2a3f5f\"},\"error_y\":{\"color\":\"#2a3f5f\"},\"marker\":{\"line\":{\"color\":\"#E5ECF6\",\"width\":0.5},\"pattern\":{\"fillmode\":\"overlay\",\"size\":10,\"solidity\":0.2}},\"type\":\"bar\"}],\"scattergeo\":[{\"type\":\"scattergeo\",\"marker\":{\"colorbar\":{\"outlinewidth\":0,\"ticks\":\"\"}}}],\"scatterpolar\":[{\"type\":\"scatterpolar\",\"marker\":{\"colorbar\":{\"outlinewidth\":0,\"ticks\":\"\"}}}],\"histogram\":[{\"marker\":{\"pattern\":{\"fillmode\":\"overlay\",\"size\":10,\"solidity\":0.2}},\"type\":\"histogram\"}],\"scattergl\":[{\"type\":\"scattergl\",\"marker\":{\"colorbar\":{\"outlinewidth\":0,\"ticks\":\"\"}}}],\"scatter3d\":[{\"type\":\"scatter3d\",\"line\":{\"colorbar\":{\"outlinewidth\":0,\"ticks\":\"\"}},\"marker\":{\"colorbar\":{\"outlinewidth\":0,\"ticks\":\"\"}}}],\"scattermapbox\":[{\"type\":\"scattermapbox\",\"marker\":{\"colorbar\":{\"outlinewidth\":0,\"ticks\":\"\"}}}],\"scatterternary\":[{\"type\":\"scatterternary\",\"marker\":{\"colorbar\":{\"outlinewidth\":0,\"ticks\":\"\"}}}],\"scattercarpet\":[{\"type\":\"scattercarpet\",\"marker\":{\"colorbar\":{\"outlinewidth\":0,\"ticks\":\"\"}}}],\"carpet\":[{\"aaxis\":{\"endlinecolor\":\"#2a3f5f\",\"gridcolor\":\"white\",\"linecolor\":\"white\",\"minorgridcolor\":\"white\",\"startlinecolor\":\"#2a3f5f\"},\"baxis\":{\"endlinecolor\":\"#2a3f5f\",\"gridcolor\":\"white\",\"linecolor\":\"white\",\"minorgridcolor\":\"white\",\"startlinecolor\":\"#2a3f5f\"},\"type\":\"carpet\"}],\"table\":[{\"cells\":{\"fill\":{\"color\":\"#EBF0F8\"},\"line\":{\"color\":\"white\"}},\"header\":{\"fill\":{\"color\":\"#C8D4E3\"},\"line\":{\"color\":\"white\"}},\"type\":\"table\"}],\"barpolar\":[{\"marker\":{\"line\":{\"color\":\"#E5ECF6\",\"width\":0.5},\"pattern\":{\"fillmode\":\"overlay\",\"size\":10,\"solidity\":0.2}},\"type\":\"barpolar\"}],\"pie\":[{\"automargin\":true,\"type\":\"pie\"}]},\"layout\":{\"autotypenumbers\":\"strict\",\"colorway\":[\"#636efa\",\"#EF553B\",\"#00cc96\",\"#ab63fa\",\"#FFA15A\",\"#19d3f3\",\"#FF6692\",\"#B6E880\",\"#FF97FF\",\"#FECB52\"],\"font\":{\"color\":\"#2a3f5f\"},\"hovermode\":\"closest\",\"hoverlabel\":{\"align\":\"left\"},\"paper_bgcolor\":\"white\",\"plot_bgcolor\":\"#E5ECF6\",\"polar\":{\"bgcolor\":\"#E5ECF6\",\"angularaxis\":{\"gridcolor\":\"white\",\"linecolor\":\"white\",\"ticks\":\"\"},\"radialaxis\":{\"gridcolor\":\"white\",\"linecolor\":\"white\",\"ticks\":\"\"}},\"ternary\":{\"bgcolor\":\"#E5ECF6\",\"aaxis\":{\"gridcolor\":\"white\",\"linecolor\":\"white\",\"ticks\":\"\"},\"baxis\":{\"gridcolor\":\"white\",\"linecolor\":\"white\",\"ticks\":\"\"},\"caxis\":{\"gridcolor\":\"white\",\"linecolor\":\"white\",\"ticks\":\"\"}},\"coloraxis\":{\"colorbar\":{\"outlinewidth\":0,\"ticks\":\"\"}},\"colorscale\":{\"sequential\":[[0.0,\"#0d0887\"],[0.1111111111111111,\"#46039f\"],[0.2222222222222222,\"#7201a8\"],[0.3333333333333333,\"#9c179e\"],[0.4444444444444444,\"#bd3786\"],[0.5555555555555556,\"#d8576b\"],[0.6666666666666666,\"#ed7953\"],[0.7777777777777778,\"#fb9f3a\"],[0.8888888888888888,\"#fdca26\"],[1.0,\"#f0f921\"]],\"sequentialminus\":[[0.0,\"#0d0887\"],[0.1111111111111111,\"#46039f\"],[0.2222222222222222,\"#7201a8\"],[0.3333333333333333,\"#9c179e\"],[0.4444444444444444,\"#bd3786\"],[0.5555555555555556,\"#d8576b\"],[0.6666666666666666,\"#ed7953\"],[0.7777777777777778,\"#fb9f3a\"],[0.8888888888888888,\"#fdca26\"],[1.0,\"#f0f921\"]],\"diverging\":[[0,\"#8e0152\"],[0.1,\"#c51b7d\"],[0.2,\"#de77ae\"],[0.3,\"#f1b6da\"],[0.4,\"#fde0ef\"],[0.5,\"#f7f7f7\"],[0.6,\"#e6f5d0\"],[0.7,\"#b8e186\"],[0.8,\"#7fbc41\"],[0.9,\"#4d9221\"],[1,\"#276419\"]]},\"xaxis\":{\"gridcolor\":\"white\",\"linecolor\":\"white\",\"ticks\":\"\",\"title\":{\"standoff\":15},\"zerolinecolor\":\"white\",\"automargin\":true,\"zerolinewidth\":2},\"yaxis\":{\"gridcolor\":\"white\",\"linecolor\":\"white\",\"ticks\":\"\",\"title\":{\"standoff\":15},\"zerolinecolor\":\"white\",\"automargin\":true,\"zerolinewidth\":2},\"scene\":{\"xaxis\":{\"backgroundcolor\":\"#E5ECF6\",\"gridcolor\":\"white\",\"linecolor\":\"white\",\"showbackground\":true,\"ticks\":\"\",\"zerolinecolor\":\"white\",\"gridwidth\":2},\"yaxis\":{\"backgroundcolor\":\"#E5ECF6\",\"gridcolor\":\"white\",\"linecolor\":\"white\",\"showbackground\":true,\"ticks\":\"\",\"zerolinecolor\":\"white\",\"gridwidth\":2},\"zaxis\":{\"backgroundcolor\":\"#E5ECF6\",\"gridcolor\":\"white\",\"linecolor\":\"white\",\"showbackground\":true,\"ticks\":\"\",\"zerolinecolor\":\"white\",\"gridwidth\":2}},\"shapedefaults\":{\"line\":{\"color\":\"#2a3f5f\"}},\"annotationdefaults\":{\"arrowcolor\":\"#2a3f5f\",\"arrowhead\":0,\"arrowwidth\":1},\"geo\":{\"bgcolor\":\"white\",\"landcolor\":\"#E5ECF6\",\"subunitcolor\":\"white\",\"showland\":true,\"showlakes\":true,\"lakecolor\":\"white\"},\"title\":{\"x\":0.05},\"mapbox\":{\"style\":\"light\"}}},\"xaxis\":{\"anchor\":\"y\",\"domain\":[0.0,1.0],\"title\":{\"text\":\"Average cost\"}},\"yaxis\":{\"anchor\":\"x\",\"domain\":[0.0,1.0],\"title\":{\"text\":\"\"},\"categoryorder\":\"array\",\"categoryarray\":[\"3rt class\",\"2nd class\",\"1st class\"]},\"legend\":{\"title\":{\"text\":\"Class\"},\"tracegroupgap\":0},\"title\":{\"text\":\"Average ticket price by class on the Titanic\"},\"barmode\":\"relative\",\"height\":400,\"margin\":{\"l\":100,\"r\":50,\"t\":80,\"b\":50},\"plot_bgcolor\":\"white\",\"showlegend\":false,\"hovermode\":\"y unified\"},                        {\"responsive\": true}                    ).then(function(){\n",
              "                            \n",
              "var gd = document.getElementById('8cf55040-4b9e-4eda-bf91-3b7ebec13353');\n",
              "var x = new MutationObserver(function (mutations, observer) {{\n",
              "        var display = window.getComputedStyle(gd).display;\n",
              "        if (!display || display === 'none') {{\n",
              "            console.log([gd, 'removed!']);\n",
              "            Plotly.purge(gd);\n",
              "            observer.disconnect();\n",
              "        }}\n",
              "}});\n",
              "\n",
              "// Listen for the removal of the full notebook cells\n",
              "var notebookContainer = gd.closest('#notebook-container');\n",
              "if (notebookContainer) {{\n",
              "    x.observe(notebookContainer, {childList: true});\n",
              "}}\n",
              "\n",
              "// Listen for the clearing of the current output cell\n",
              "var outputEl = gd.closest('.output');\n",
              "if (outputEl) {{\n",
              "    x.observe(outputEl, {childList: true});\n",
              "}}\n",
              "\n",
              "                        })                };                            </script>        </div>\n",
              "</body>\n",
              "</html>"
            ]
          },
          "metadata": {}
        }
      ]
    },
    {
      "cell_type": "markdown",
      "source": [
        "Построим **Pie chart**, на котором отобразим порты отправления пассажиров"
      ],
      "metadata": {
        "id": "mXcZOT_K8HAd"
      }
    },
    {
      "cell_type": "code",
      "source": [
        "embarked_counts = data_frame['Embarked'].value_counts().reset_index()\n",
        "embarked_counts.columns = ['Embarked', 'Count']\n",
        "\n",
        "embarked_counts['Embarked'] = embarked_counts['Embarked'].map({\n",
        "    'C': 'Cherbourg',\n",
        "    'Q': 'Queenstown',\n",
        "    'S': 'Southampton'\n",
        "})\n",
        "\n",
        "fig = px.pie(\n",
        "    embarked_counts,\n",
        "    values='Count',\n",
        "    names='Embarked',\n",
        "    title='Port proportions',\n",
        "    color='Embarked',\n",
        "    color_discrete_map={'Cherbourg': 'lightblue', 'Queenstown': 'lightcoral', 'Southampton': 'lightgreen'}\n",
        "    )\n",
        "fig.show()"
      ],
      "metadata": {
        "colab": {
          "base_uri": "https://localhost:8080/",
          "height": 542
        },
        "id": "TA5bb_yz8KB8",
        "outputId": "f812927e-3542-4e86-b625-3ae1a57ea009"
      },
      "execution_count": 36,
      "outputs": [
        {
          "output_type": "display_data",
          "data": {
            "text/html": [
              "<html>\n",
              "<head><meta charset=\"utf-8\" /></head>\n",
              "<body>\n",
              "    <div>            <script src=\"https://cdnjs.cloudflare.com/ajax/libs/mathjax/2.7.5/MathJax.js?config=TeX-AMS-MML_SVG\"></script><script type=\"text/javascript\">if (window.MathJax && window.MathJax.Hub && window.MathJax.Hub.Config) {window.MathJax.Hub.Config({SVG: {font: \"STIX-Web\"}});}</script>                <script type=\"text/javascript\">window.PlotlyConfig = {MathJaxConfig: 'local'};</script>\n",
              "        <script charset=\"utf-8\" src=\"https://cdn.plot.ly/plotly-2.35.2.min.js\"></script>                <div id=\"e4ecfa92-b29c-4338-93a9-a4fd5239cc8d\" class=\"plotly-graph-div\" style=\"height:525px; width:100%;\"></div>            <script type=\"text/javascript\">                                    window.PLOTLYENV=window.PLOTLYENV || {};                                    if (document.getElementById(\"e4ecfa92-b29c-4338-93a9-a4fd5239cc8d\")) {                    Plotly.newPlot(                        \"e4ecfa92-b29c-4338-93a9-a4fd5239cc8d\",                        [{\"customdata\":[[\"Southampton\"],[\"Cherbourg\"],[\"Queenstown\"]],\"domain\":{\"x\":[0.0,1.0],\"y\":[0.0,1.0]},\"hovertemplate\":\"Embarked=%{customdata[0]}\\u003cbr\\u003eCount=%{value}\\u003cextra\\u003e\\u003c\\u002fextra\\u003e\",\"labels\":[\"Southampton\",\"Cherbourg\",\"Queenstown\"],\"legendgroup\":\"\",\"marker\":{\"colors\":[\"lightgreen\",\"lightblue\",\"lightcoral\"]},\"name\":\"\",\"showlegend\":true,\"values\":[914,270,123],\"type\":\"pie\"}],                        {\"template\":{\"data\":{\"histogram2dcontour\":[{\"type\":\"histogram2dcontour\",\"colorbar\":{\"outlinewidth\":0,\"ticks\":\"\"},\"colorscale\":[[0.0,\"#0d0887\"],[0.1111111111111111,\"#46039f\"],[0.2222222222222222,\"#7201a8\"],[0.3333333333333333,\"#9c179e\"],[0.4444444444444444,\"#bd3786\"],[0.5555555555555556,\"#d8576b\"],[0.6666666666666666,\"#ed7953\"],[0.7777777777777778,\"#fb9f3a\"],[0.8888888888888888,\"#fdca26\"],[1.0,\"#f0f921\"]]}],\"choropleth\":[{\"type\":\"choropleth\",\"colorbar\":{\"outlinewidth\":0,\"ticks\":\"\"}}],\"histogram2d\":[{\"type\":\"histogram2d\",\"colorbar\":{\"outlinewidth\":0,\"ticks\":\"\"},\"colorscale\":[[0.0,\"#0d0887\"],[0.1111111111111111,\"#46039f\"],[0.2222222222222222,\"#7201a8\"],[0.3333333333333333,\"#9c179e\"],[0.4444444444444444,\"#bd3786\"],[0.5555555555555556,\"#d8576b\"],[0.6666666666666666,\"#ed7953\"],[0.7777777777777778,\"#fb9f3a\"],[0.8888888888888888,\"#fdca26\"],[1.0,\"#f0f921\"]]}],\"heatmap\":[{\"type\":\"heatmap\",\"colorbar\":{\"outlinewidth\":0,\"ticks\":\"\"},\"colorscale\":[[0.0,\"#0d0887\"],[0.1111111111111111,\"#46039f\"],[0.2222222222222222,\"#7201a8\"],[0.3333333333333333,\"#9c179e\"],[0.4444444444444444,\"#bd3786\"],[0.5555555555555556,\"#d8576b\"],[0.6666666666666666,\"#ed7953\"],[0.7777777777777778,\"#fb9f3a\"],[0.8888888888888888,\"#fdca26\"],[1.0,\"#f0f921\"]]}],\"heatmapgl\":[{\"type\":\"heatmapgl\",\"colorbar\":{\"outlinewidth\":0,\"ticks\":\"\"},\"colorscale\":[[0.0,\"#0d0887\"],[0.1111111111111111,\"#46039f\"],[0.2222222222222222,\"#7201a8\"],[0.3333333333333333,\"#9c179e\"],[0.4444444444444444,\"#bd3786\"],[0.5555555555555556,\"#d8576b\"],[0.6666666666666666,\"#ed7953\"],[0.7777777777777778,\"#fb9f3a\"],[0.8888888888888888,\"#fdca26\"],[1.0,\"#f0f921\"]]}],\"contourcarpet\":[{\"type\":\"contourcarpet\",\"colorbar\":{\"outlinewidth\":0,\"ticks\":\"\"}}],\"contour\":[{\"type\":\"contour\",\"colorbar\":{\"outlinewidth\":0,\"ticks\":\"\"},\"colorscale\":[[0.0,\"#0d0887\"],[0.1111111111111111,\"#46039f\"],[0.2222222222222222,\"#7201a8\"],[0.3333333333333333,\"#9c179e\"],[0.4444444444444444,\"#bd3786\"],[0.5555555555555556,\"#d8576b\"],[0.6666666666666666,\"#ed7953\"],[0.7777777777777778,\"#fb9f3a\"],[0.8888888888888888,\"#fdca26\"],[1.0,\"#f0f921\"]]}],\"surface\":[{\"type\":\"surface\",\"colorbar\":{\"outlinewidth\":0,\"ticks\":\"\"},\"colorscale\":[[0.0,\"#0d0887\"],[0.1111111111111111,\"#46039f\"],[0.2222222222222222,\"#7201a8\"],[0.3333333333333333,\"#9c179e\"],[0.4444444444444444,\"#bd3786\"],[0.5555555555555556,\"#d8576b\"],[0.6666666666666666,\"#ed7953\"],[0.7777777777777778,\"#fb9f3a\"],[0.8888888888888888,\"#fdca26\"],[1.0,\"#f0f921\"]]}],\"mesh3d\":[{\"type\":\"mesh3d\",\"colorbar\":{\"outlinewidth\":0,\"ticks\":\"\"}}],\"scatter\":[{\"fillpattern\":{\"fillmode\":\"overlay\",\"size\":10,\"solidity\":0.2},\"type\":\"scatter\"}],\"parcoords\":[{\"type\":\"parcoords\",\"line\":{\"colorbar\":{\"outlinewidth\":0,\"ticks\":\"\"}}}],\"scatterpolargl\":[{\"type\":\"scatterpolargl\",\"marker\":{\"colorbar\":{\"outlinewidth\":0,\"ticks\":\"\"}}}],\"bar\":[{\"error_x\":{\"color\":\"#2a3f5f\"},\"error_y\":{\"color\":\"#2a3f5f\"},\"marker\":{\"line\":{\"color\":\"#E5ECF6\",\"width\":0.5},\"pattern\":{\"fillmode\":\"overlay\",\"size\":10,\"solidity\":0.2}},\"type\":\"bar\"}],\"scattergeo\":[{\"type\":\"scattergeo\",\"marker\":{\"colorbar\":{\"outlinewidth\":0,\"ticks\":\"\"}}}],\"scatterpolar\":[{\"type\":\"scatterpolar\",\"marker\":{\"colorbar\":{\"outlinewidth\":0,\"ticks\":\"\"}}}],\"histogram\":[{\"marker\":{\"pattern\":{\"fillmode\":\"overlay\",\"size\":10,\"solidity\":0.2}},\"type\":\"histogram\"}],\"scattergl\":[{\"type\":\"scattergl\",\"marker\":{\"colorbar\":{\"outlinewidth\":0,\"ticks\":\"\"}}}],\"scatter3d\":[{\"type\":\"scatter3d\",\"line\":{\"colorbar\":{\"outlinewidth\":0,\"ticks\":\"\"}},\"marker\":{\"colorbar\":{\"outlinewidth\":0,\"ticks\":\"\"}}}],\"scattermapbox\":[{\"type\":\"scattermapbox\",\"marker\":{\"colorbar\":{\"outlinewidth\":0,\"ticks\":\"\"}}}],\"scatterternary\":[{\"type\":\"scatterternary\",\"marker\":{\"colorbar\":{\"outlinewidth\":0,\"ticks\":\"\"}}}],\"scattercarpet\":[{\"type\":\"scattercarpet\",\"marker\":{\"colorbar\":{\"outlinewidth\":0,\"ticks\":\"\"}}}],\"carpet\":[{\"aaxis\":{\"endlinecolor\":\"#2a3f5f\",\"gridcolor\":\"white\",\"linecolor\":\"white\",\"minorgridcolor\":\"white\",\"startlinecolor\":\"#2a3f5f\"},\"baxis\":{\"endlinecolor\":\"#2a3f5f\",\"gridcolor\":\"white\",\"linecolor\":\"white\",\"minorgridcolor\":\"white\",\"startlinecolor\":\"#2a3f5f\"},\"type\":\"carpet\"}],\"table\":[{\"cells\":{\"fill\":{\"color\":\"#EBF0F8\"},\"line\":{\"color\":\"white\"}},\"header\":{\"fill\":{\"color\":\"#C8D4E3\"},\"line\":{\"color\":\"white\"}},\"type\":\"table\"}],\"barpolar\":[{\"marker\":{\"line\":{\"color\":\"#E5ECF6\",\"width\":0.5},\"pattern\":{\"fillmode\":\"overlay\",\"size\":10,\"solidity\":0.2}},\"type\":\"barpolar\"}],\"pie\":[{\"automargin\":true,\"type\":\"pie\"}]},\"layout\":{\"autotypenumbers\":\"strict\",\"colorway\":[\"#636efa\",\"#EF553B\",\"#00cc96\",\"#ab63fa\",\"#FFA15A\",\"#19d3f3\",\"#FF6692\",\"#B6E880\",\"#FF97FF\",\"#FECB52\"],\"font\":{\"color\":\"#2a3f5f\"},\"hovermode\":\"closest\",\"hoverlabel\":{\"align\":\"left\"},\"paper_bgcolor\":\"white\",\"plot_bgcolor\":\"#E5ECF6\",\"polar\":{\"bgcolor\":\"#E5ECF6\",\"angularaxis\":{\"gridcolor\":\"white\",\"linecolor\":\"white\",\"ticks\":\"\"},\"radialaxis\":{\"gridcolor\":\"white\",\"linecolor\":\"white\",\"ticks\":\"\"}},\"ternary\":{\"bgcolor\":\"#E5ECF6\",\"aaxis\":{\"gridcolor\":\"white\",\"linecolor\":\"white\",\"ticks\":\"\"},\"baxis\":{\"gridcolor\":\"white\",\"linecolor\":\"white\",\"ticks\":\"\"},\"caxis\":{\"gridcolor\":\"white\",\"linecolor\":\"white\",\"ticks\":\"\"}},\"coloraxis\":{\"colorbar\":{\"outlinewidth\":0,\"ticks\":\"\"}},\"colorscale\":{\"sequential\":[[0.0,\"#0d0887\"],[0.1111111111111111,\"#46039f\"],[0.2222222222222222,\"#7201a8\"],[0.3333333333333333,\"#9c179e\"],[0.4444444444444444,\"#bd3786\"],[0.5555555555555556,\"#d8576b\"],[0.6666666666666666,\"#ed7953\"],[0.7777777777777778,\"#fb9f3a\"],[0.8888888888888888,\"#fdca26\"],[1.0,\"#f0f921\"]],\"sequentialminus\":[[0.0,\"#0d0887\"],[0.1111111111111111,\"#46039f\"],[0.2222222222222222,\"#7201a8\"],[0.3333333333333333,\"#9c179e\"],[0.4444444444444444,\"#bd3786\"],[0.5555555555555556,\"#d8576b\"],[0.6666666666666666,\"#ed7953\"],[0.7777777777777778,\"#fb9f3a\"],[0.8888888888888888,\"#fdca26\"],[1.0,\"#f0f921\"]],\"diverging\":[[0,\"#8e0152\"],[0.1,\"#c51b7d\"],[0.2,\"#de77ae\"],[0.3,\"#f1b6da\"],[0.4,\"#fde0ef\"],[0.5,\"#f7f7f7\"],[0.6,\"#e6f5d0\"],[0.7,\"#b8e186\"],[0.8,\"#7fbc41\"],[0.9,\"#4d9221\"],[1,\"#276419\"]]},\"xaxis\":{\"gridcolor\":\"white\",\"linecolor\":\"white\",\"ticks\":\"\",\"title\":{\"standoff\":15},\"zerolinecolor\":\"white\",\"automargin\":true,\"zerolinewidth\":2},\"yaxis\":{\"gridcolor\":\"white\",\"linecolor\":\"white\",\"ticks\":\"\",\"title\":{\"standoff\":15},\"zerolinecolor\":\"white\",\"automargin\":true,\"zerolinewidth\":2},\"scene\":{\"xaxis\":{\"backgroundcolor\":\"#E5ECF6\",\"gridcolor\":\"white\",\"linecolor\":\"white\",\"showbackground\":true,\"ticks\":\"\",\"zerolinecolor\":\"white\",\"gridwidth\":2},\"yaxis\":{\"backgroundcolor\":\"#E5ECF6\",\"gridcolor\":\"white\",\"linecolor\":\"white\",\"showbackground\":true,\"ticks\":\"\",\"zerolinecolor\":\"white\",\"gridwidth\":2},\"zaxis\":{\"backgroundcolor\":\"#E5ECF6\",\"gridcolor\":\"white\",\"linecolor\":\"white\",\"showbackground\":true,\"ticks\":\"\",\"zerolinecolor\":\"white\",\"gridwidth\":2}},\"shapedefaults\":{\"line\":{\"color\":\"#2a3f5f\"}},\"annotationdefaults\":{\"arrowcolor\":\"#2a3f5f\",\"arrowhead\":0,\"arrowwidth\":1},\"geo\":{\"bgcolor\":\"white\",\"landcolor\":\"#E5ECF6\",\"subunitcolor\":\"white\",\"showland\":true,\"showlakes\":true,\"lakecolor\":\"white\"},\"title\":{\"x\":0.05},\"mapbox\":{\"style\":\"light\"}}},\"legend\":{\"tracegroupgap\":0},\"title\":{\"text\":\"Port proportions\"}},                        {\"responsive\": true}                    ).then(function(){\n",
              "                            \n",
              "var gd = document.getElementById('e4ecfa92-b29c-4338-93a9-a4fd5239cc8d');\n",
              "var x = new MutationObserver(function (mutations, observer) {{\n",
              "        var display = window.getComputedStyle(gd).display;\n",
              "        if (!display || display === 'none') {{\n",
              "            console.log([gd, 'removed!']);\n",
              "            Plotly.purge(gd);\n",
              "            observer.disconnect();\n",
              "        }}\n",
              "}});\n",
              "\n",
              "// Listen for the removal of the full notebook cells\n",
              "var notebookContainer = gd.closest('#notebook-container');\n",
              "if (notebookContainer) {{\n",
              "    x.observe(notebookContainer, {childList: true});\n",
              "}}\n",
              "\n",
              "// Listen for the clearing of the current output cell\n",
              "var outputEl = gd.closest('.output');\n",
              "if (outputEl) {{\n",
              "    x.observe(outputEl, {childList: true});\n",
              "}}\n",
              "\n",
              "                        })                };                            </script>        </div>\n",
              "</body>\n",
              "</html>"
            ]
          },
          "metadata": {}
        }
      ]
    },
    {
      "cell_type": "markdown",
      "source": [
        "Построим **Sunburst chart**, на котором отобразим информацию о статусе, поле и классе пассажиров"
      ],
      "metadata": {
        "id": "BY5grZw_0LAz"
      }
    },
    {
      "cell_type": "code",
      "source": [
        "data_sunburst = data_frame[['Survived', 'Sex', 'Pclass']].dropna(subset=['Survived'])\n",
        "data_sunburst['Survived'] = data_sunburst['Survived'].map({0: 'Not Survive', 1: 'Survived'})\n",
        "\n",
        "fig = px.sunburst(\n",
        "    data_sunburst,\n",
        "    path=['Survived', 'Sex', 'Pclass'],\n",
        "    color='Survived',\n",
        "    color_discrete_map={'Not Survive': 'lightcoral', 'Survived': 'lightgreen'},\n",
        "    title='Survival → Sex → Pclass Distribution'\n",
        ")\n",
        "\n",
        "fig.show()"
      ],
      "metadata": {
        "colab": {
          "base_uri": "https://localhost:8080/",
          "height": 770
        },
        "id": "V68ee6t7vDzG",
        "outputId": "9fe683b4-18e3-4037-aeab-d1b6e3f110df"
      },
      "execution_count": 37,
      "outputs": [
        {
          "output_type": "stream",
          "name": "stderr",
          "text": [
            "/usr/local/lib/python3.11/dist-packages/plotly/express/_core.py:1727: FutureWarning:\n",
            "\n",
            "The default of observed=False is deprecated and will be changed to True in a future version of pandas. Pass observed=False to retain current behavior or observed=True to adopt the future default and silence this warning.\n",
            "\n",
            "/usr/local/lib/python3.11/dist-packages/plotly/express/_core.py:1727: FutureWarning:\n",
            "\n",
            "The default of observed=False is deprecated and will be changed to True in a future version of pandas. Pass observed=False to retain current behavior or observed=True to adopt the future default and silence this warning.\n",
            "\n",
            "/usr/local/lib/python3.11/dist-packages/plotly/express/_core.py:1727: FutureWarning:\n",
            "\n",
            "The default of observed=False is deprecated and will be changed to True in a future version of pandas. Pass observed=False to retain current behavior or observed=True to adopt the future default and silence this warning.\n",
            "\n"
          ]
        },
        {
          "output_type": "display_data",
          "data": {
            "text/html": [
              "<html>\n",
              "<head><meta charset=\"utf-8\" /></head>\n",
              "<body>\n",
              "    <div>            <script src=\"https://cdnjs.cloudflare.com/ajax/libs/mathjax/2.7.5/MathJax.js?config=TeX-AMS-MML_SVG\"></script><script type=\"text/javascript\">if (window.MathJax && window.MathJax.Hub && window.MathJax.Hub.Config) {window.MathJax.Hub.Config({SVG: {font: \"STIX-Web\"}});}</script>                <script type=\"text/javascript\">window.PlotlyConfig = {MathJaxConfig: 'local'};</script>\n",
              "        <script charset=\"utf-8\" src=\"https://cdn.plot.ly/plotly-2.35.2.min.js\"></script>                <div id=\"0c91d1fe-a2e7-49c8-b4eb-a1a6bda6ad62\" class=\"plotly-graph-div\" style=\"height:525px; width:100%;\"></div>            <script type=\"text/javascript\">                                    window.PLOTLYENV=window.PLOTLYENV || {};                                    if (document.getElementById(\"0c91d1fe-a2e7-49c8-b4eb-a1a6bda6ad62\")) {                    Plotly.newPlot(                        \"0c91d1fe-a2e7-49c8-b4eb-a1a6bda6ad62\",                        [{\"branchvalues\":\"total\",\"customdata\":[[\"Not Survive\"],[\"Not Survive\"],[\"Survived\"],[\"Not Survive\"],[\"Survived\"],[\"Not Survive\"],[\"Survived\"],[\"Not Survive\"],[\"Not Survive\"],[\"Survived\"],[\"Survived\"],[\"Not Survive\"],[\"Survived\"],[\"Survived\"],[\"Not Survive\"],[\"Survived\"],[\"Not Survive\"],[\"Survived\"]],\"domain\":{\"x\":[0.0,1.0],\"y\":[0.0,1.0]},\"hovertemplate\":\"labels=%{label}\\u003cbr\\u003ecount=%{value}\\u003cbr\\u003eparent=%{parent}\\u003cbr\\u003eid=%{id}\\u003cbr\\u003eSurvived=%{customdata[0]}\\u003cextra\\u003e\\u003c\\u002fextra\\u003e\",\"ids\":[\"Not Survive\\u002ffemale\\u002f1\",\"Not Survive\\u002fmale\",\"Survived\\u002ffemale\",\"Not Survive\\u002ffemale\\u002f2\",\"Survived\\u002ffemale\\u002f2\",\"Not Survive\\u002fmale\\u002f2\",\"Survived\\u002fmale\\u002f2\",\"Not Survive\",\"Not Survive\\u002ffemale\",\"Survived\\u002fmale\",\"Survived\\u002fmale\\u002f3\",\"Not Survive\\u002ffemale\\u002f3\",\"Survived\\u002ffemale\\u002f3\",\"Survived\\u002fmale\\u002f1\",\"Not Survive\\u002fmale\\u002f1\",\"Survived\\u002ffemale\\u002f1\",\"Not Survive\\u002fmale\\u002f3\",\"Survived\"],\"labels\":[\"1\",\"male\",\"female\",\"2\",\"2\",\"2\",\"2\",\"Not Survive\",\"female\",\"male\",\"3\",\"3\",\"3\",\"1\",\"1\",\"1\",\"3\",\"Survived\"],\"marker\":{\"colors\":[\"lightcoral\",\"lightcoral\",\"lightgreen\",\"lightcoral\",\"lightgreen\",\"lightcoral\",\"lightgreen\",\"lightcoral\",\"lightcoral\",\"lightgreen\",\"lightgreen\",\"lightcoral\",\"lightgreen\",\"lightgreen\",\"lightcoral\",\"lightgreen\",\"lightcoral\",\"lightgreen\"]},\"name\":\"\",\"parents\":[\"Not Survive\\u002ffemale\",\"Not Survive\",\"Survived\",\"Not Survive\\u002ffemale\",\"Survived\\u002ffemale\",\"Not Survive\\u002fmale\",\"Survived\\u002fmale\",\"\",\"Not Survive\",\"Survived\",\"Survived\\u002fmale\",\"Not Survive\\u002ffemale\",\"Survived\\u002ffemale\",\"Survived\\u002fmale\",\"Not Survive\\u002fmale\",\"Survived\\u002ffemale\",\"Not Survive\\u002fmale\",\"\"],\"values\":[3,468,233,6,70,91,17,549,81,109,47,72,72,45,77,91,300,342],\"type\":\"sunburst\"}],                        {\"template\":{\"data\":{\"histogram2dcontour\":[{\"type\":\"histogram2dcontour\",\"colorbar\":{\"outlinewidth\":0,\"ticks\":\"\"},\"colorscale\":[[0.0,\"#0d0887\"],[0.1111111111111111,\"#46039f\"],[0.2222222222222222,\"#7201a8\"],[0.3333333333333333,\"#9c179e\"],[0.4444444444444444,\"#bd3786\"],[0.5555555555555556,\"#d8576b\"],[0.6666666666666666,\"#ed7953\"],[0.7777777777777778,\"#fb9f3a\"],[0.8888888888888888,\"#fdca26\"],[1.0,\"#f0f921\"]]}],\"choropleth\":[{\"type\":\"choropleth\",\"colorbar\":{\"outlinewidth\":0,\"ticks\":\"\"}}],\"histogram2d\":[{\"type\":\"histogram2d\",\"colorbar\":{\"outlinewidth\":0,\"ticks\":\"\"},\"colorscale\":[[0.0,\"#0d0887\"],[0.1111111111111111,\"#46039f\"],[0.2222222222222222,\"#7201a8\"],[0.3333333333333333,\"#9c179e\"],[0.4444444444444444,\"#bd3786\"],[0.5555555555555556,\"#d8576b\"],[0.6666666666666666,\"#ed7953\"],[0.7777777777777778,\"#fb9f3a\"],[0.8888888888888888,\"#fdca26\"],[1.0,\"#f0f921\"]]}],\"heatmap\":[{\"type\":\"heatmap\",\"colorbar\":{\"outlinewidth\":0,\"ticks\":\"\"},\"colorscale\":[[0.0,\"#0d0887\"],[0.1111111111111111,\"#46039f\"],[0.2222222222222222,\"#7201a8\"],[0.3333333333333333,\"#9c179e\"],[0.4444444444444444,\"#bd3786\"],[0.5555555555555556,\"#d8576b\"],[0.6666666666666666,\"#ed7953\"],[0.7777777777777778,\"#fb9f3a\"],[0.8888888888888888,\"#fdca26\"],[1.0,\"#f0f921\"]]}],\"heatmapgl\":[{\"type\":\"heatmapgl\",\"colorbar\":{\"outlinewidth\":0,\"ticks\":\"\"},\"colorscale\":[[0.0,\"#0d0887\"],[0.1111111111111111,\"#46039f\"],[0.2222222222222222,\"#7201a8\"],[0.3333333333333333,\"#9c179e\"],[0.4444444444444444,\"#bd3786\"],[0.5555555555555556,\"#d8576b\"],[0.6666666666666666,\"#ed7953\"],[0.7777777777777778,\"#fb9f3a\"],[0.8888888888888888,\"#fdca26\"],[1.0,\"#f0f921\"]]}],\"contourcarpet\":[{\"type\":\"contourcarpet\",\"colorbar\":{\"outlinewidth\":0,\"ticks\":\"\"}}],\"contour\":[{\"type\":\"contour\",\"colorbar\":{\"outlinewidth\":0,\"ticks\":\"\"},\"colorscale\":[[0.0,\"#0d0887\"],[0.1111111111111111,\"#46039f\"],[0.2222222222222222,\"#7201a8\"],[0.3333333333333333,\"#9c179e\"],[0.4444444444444444,\"#bd3786\"],[0.5555555555555556,\"#d8576b\"],[0.6666666666666666,\"#ed7953\"],[0.7777777777777778,\"#fb9f3a\"],[0.8888888888888888,\"#fdca26\"],[1.0,\"#f0f921\"]]}],\"surface\":[{\"type\":\"surface\",\"colorbar\":{\"outlinewidth\":0,\"ticks\":\"\"},\"colorscale\":[[0.0,\"#0d0887\"],[0.1111111111111111,\"#46039f\"],[0.2222222222222222,\"#7201a8\"],[0.3333333333333333,\"#9c179e\"],[0.4444444444444444,\"#bd3786\"],[0.5555555555555556,\"#d8576b\"],[0.6666666666666666,\"#ed7953\"],[0.7777777777777778,\"#fb9f3a\"],[0.8888888888888888,\"#fdca26\"],[1.0,\"#f0f921\"]]}],\"mesh3d\":[{\"type\":\"mesh3d\",\"colorbar\":{\"outlinewidth\":0,\"ticks\":\"\"}}],\"scatter\":[{\"fillpattern\":{\"fillmode\":\"overlay\",\"size\":10,\"solidity\":0.2},\"type\":\"scatter\"}],\"parcoords\":[{\"type\":\"parcoords\",\"line\":{\"colorbar\":{\"outlinewidth\":0,\"ticks\":\"\"}}}],\"scatterpolargl\":[{\"type\":\"scatterpolargl\",\"marker\":{\"colorbar\":{\"outlinewidth\":0,\"ticks\":\"\"}}}],\"bar\":[{\"error_x\":{\"color\":\"#2a3f5f\"},\"error_y\":{\"color\":\"#2a3f5f\"},\"marker\":{\"line\":{\"color\":\"#E5ECF6\",\"width\":0.5},\"pattern\":{\"fillmode\":\"overlay\",\"size\":10,\"solidity\":0.2}},\"type\":\"bar\"}],\"scattergeo\":[{\"type\":\"scattergeo\",\"marker\":{\"colorbar\":{\"outlinewidth\":0,\"ticks\":\"\"}}}],\"scatterpolar\":[{\"type\":\"scatterpolar\",\"marker\":{\"colorbar\":{\"outlinewidth\":0,\"ticks\":\"\"}}}],\"histogram\":[{\"marker\":{\"pattern\":{\"fillmode\":\"overlay\",\"size\":10,\"solidity\":0.2}},\"type\":\"histogram\"}],\"scattergl\":[{\"type\":\"scattergl\",\"marker\":{\"colorbar\":{\"outlinewidth\":0,\"ticks\":\"\"}}}],\"scatter3d\":[{\"type\":\"scatter3d\",\"line\":{\"colorbar\":{\"outlinewidth\":0,\"ticks\":\"\"}},\"marker\":{\"colorbar\":{\"outlinewidth\":0,\"ticks\":\"\"}}}],\"scattermapbox\":[{\"type\":\"scattermapbox\",\"marker\":{\"colorbar\":{\"outlinewidth\":0,\"ticks\":\"\"}}}],\"scatterternary\":[{\"type\":\"scatterternary\",\"marker\":{\"colorbar\":{\"outlinewidth\":0,\"ticks\":\"\"}}}],\"scattercarpet\":[{\"type\":\"scattercarpet\",\"marker\":{\"colorbar\":{\"outlinewidth\":0,\"ticks\":\"\"}}}],\"carpet\":[{\"aaxis\":{\"endlinecolor\":\"#2a3f5f\",\"gridcolor\":\"white\",\"linecolor\":\"white\",\"minorgridcolor\":\"white\",\"startlinecolor\":\"#2a3f5f\"},\"baxis\":{\"endlinecolor\":\"#2a3f5f\",\"gridcolor\":\"white\",\"linecolor\":\"white\",\"minorgridcolor\":\"white\",\"startlinecolor\":\"#2a3f5f\"},\"type\":\"carpet\"}],\"table\":[{\"cells\":{\"fill\":{\"color\":\"#EBF0F8\"},\"line\":{\"color\":\"white\"}},\"header\":{\"fill\":{\"color\":\"#C8D4E3\"},\"line\":{\"color\":\"white\"}},\"type\":\"table\"}],\"barpolar\":[{\"marker\":{\"line\":{\"color\":\"#E5ECF6\",\"width\":0.5},\"pattern\":{\"fillmode\":\"overlay\",\"size\":10,\"solidity\":0.2}},\"type\":\"barpolar\"}],\"pie\":[{\"automargin\":true,\"type\":\"pie\"}]},\"layout\":{\"autotypenumbers\":\"strict\",\"colorway\":[\"#636efa\",\"#EF553B\",\"#00cc96\",\"#ab63fa\",\"#FFA15A\",\"#19d3f3\",\"#FF6692\",\"#B6E880\",\"#FF97FF\",\"#FECB52\"],\"font\":{\"color\":\"#2a3f5f\"},\"hovermode\":\"closest\",\"hoverlabel\":{\"align\":\"left\"},\"paper_bgcolor\":\"white\",\"plot_bgcolor\":\"#E5ECF6\",\"polar\":{\"bgcolor\":\"#E5ECF6\",\"angularaxis\":{\"gridcolor\":\"white\",\"linecolor\":\"white\",\"ticks\":\"\"},\"radialaxis\":{\"gridcolor\":\"white\",\"linecolor\":\"white\",\"ticks\":\"\"}},\"ternary\":{\"bgcolor\":\"#E5ECF6\",\"aaxis\":{\"gridcolor\":\"white\",\"linecolor\":\"white\",\"ticks\":\"\"},\"baxis\":{\"gridcolor\":\"white\",\"linecolor\":\"white\",\"ticks\":\"\"},\"caxis\":{\"gridcolor\":\"white\",\"linecolor\":\"white\",\"ticks\":\"\"}},\"coloraxis\":{\"colorbar\":{\"outlinewidth\":0,\"ticks\":\"\"}},\"colorscale\":{\"sequential\":[[0.0,\"#0d0887\"],[0.1111111111111111,\"#46039f\"],[0.2222222222222222,\"#7201a8\"],[0.3333333333333333,\"#9c179e\"],[0.4444444444444444,\"#bd3786\"],[0.5555555555555556,\"#d8576b\"],[0.6666666666666666,\"#ed7953\"],[0.7777777777777778,\"#fb9f3a\"],[0.8888888888888888,\"#fdca26\"],[1.0,\"#f0f921\"]],\"sequentialminus\":[[0.0,\"#0d0887\"],[0.1111111111111111,\"#46039f\"],[0.2222222222222222,\"#7201a8\"],[0.3333333333333333,\"#9c179e\"],[0.4444444444444444,\"#bd3786\"],[0.5555555555555556,\"#d8576b\"],[0.6666666666666666,\"#ed7953\"],[0.7777777777777778,\"#fb9f3a\"],[0.8888888888888888,\"#fdca26\"],[1.0,\"#f0f921\"]],\"diverging\":[[0,\"#8e0152\"],[0.1,\"#c51b7d\"],[0.2,\"#de77ae\"],[0.3,\"#f1b6da\"],[0.4,\"#fde0ef\"],[0.5,\"#f7f7f7\"],[0.6,\"#e6f5d0\"],[0.7,\"#b8e186\"],[0.8,\"#7fbc41\"],[0.9,\"#4d9221\"],[1,\"#276419\"]]},\"xaxis\":{\"gridcolor\":\"white\",\"linecolor\":\"white\",\"ticks\":\"\",\"title\":{\"standoff\":15},\"zerolinecolor\":\"white\",\"automargin\":true,\"zerolinewidth\":2},\"yaxis\":{\"gridcolor\":\"white\",\"linecolor\":\"white\",\"ticks\":\"\",\"title\":{\"standoff\":15},\"zerolinecolor\":\"white\",\"automargin\":true,\"zerolinewidth\":2},\"scene\":{\"xaxis\":{\"backgroundcolor\":\"#E5ECF6\",\"gridcolor\":\"white\",\"linecolor\":\"white\",\"showbackground\":true,\"ticks\":\"\",\"zerolinecolor\":\"white\",\"gridwidth\":2},\"yaxis\":{\"backgroundcolor\":\"#E5ECF6\",\"gridcolor\":\"white\",\"linecolor\":\"white\",\"showbackground\":true,\"ticks\":\"\",\"zerolinecolor\":\"white\",\"gridwidth\":2},\"zaxis\":{\"backgroundcolor\":\"#E5ECF6\",\"gridcolor\":\"white\",\"linecolor\":\"white\",\"showbackground\":true,\"ticks\":\"\",\"zerolinecolor\":\"white\",\"gridwidth\":2}},\"shapedefaults\":{\"line\":{\"color\":\"#2a3f5f\"}},\"annotationdefaults\":{\"arrowcolor\":\"#2a3f5f\",\"arrowhead\":0,\"arrowwidth\":1},\"geo\":{\"bgcolor\":\"white\",\"landcolor\":\"#E5ECF6\",\"subunitcolor\":\"white\",\"showland\":true,\"showlakes\":true,\"lakecolor\":\"white\"},\"title\":{\"x\":0.05},\"mapbox\":{\"style\":\"light\"}}},\"legend\":{\"tracegroupgap\":0},\"title\":{\"text\":\"Survival → Sex → Pclass Distribution\"}},                        {\"responsive\": true}                    ).then(function(){\n",
              "                            \n",
              "var gd = document.getElementById('0c91d1fe-a2e7-49c8-b4eb-a1a6bda6ad62');\n",
              "var x = new MutationObserver(function (mutations, observer) {{\n",
              "        var display = window.getComputedStyle(gd).display;\n",
              "        if (!display || display === 'none') {{\n",
              "            console.log([gd, 'removed!']);\n",
              "            Plotly.purge(gd);\n",
              "            observer.disconnect();\n",
              "        }}\n",
              "}});\n",
              "\n",
              "// Listen for the removal of the full notebook cells\n",
              "var notebookContainer = gd.closest('#notebook-container');\n",
              "if (notebookContainer) {{\n",
              "    x.observe(notebookContainer, {childList: true});\n",
              "}}\n",
              "\n",
              "// Listen for the clearing of the current output cell\n",
              "var outputEl = gd.closest('.output');\n",
              "if (outputEl) {{\n",
              "    x.observe(outputEl, {childList: true});\n",
              "}}\n",
              "\n",
              "                        })                };                            </script>        </div>\n",
              "</body>\n",
              "</html>"
            ]
          },
          "metadata": {}
        }
      ]
    },
    {
      "cell_type": "markdown",
      "source": [
        "Сделаем **Sankey Diagram** распределение пассажиров Титаника между портами и классами"
      ],
      "metadata": {
        "id": "8AWl5HGNOETT"
      }
    },
    {
      "cell_type": "code",
      "source": [
        "sankey_data = data_frame.groupby(['Embarked', 'Pclass'], observed=False).size().reset_index(name='Count')\n",
        "\n",
        "labels = [\n",
        "    'Cherbourg (C)', 'Queenstown (Q)', 'Southampton (S)',\n",
        "    '1st Class', '2nd Class', '3rd Class'\n",
        "]\n",
        "\n",
        "node_indices = {\n",
        "    'C': 0, 'Q': 1, 'S': 2,\n",
        "    1: 3, 2: 4, 3: 5\n",
        "}\n",
        "\n",
        "sources = []\n",
        "targets = []\n",
        "values = []\n",
        "link_colors = []\n",
        "\n",
        "port_colors = {\n",
        "    'C': 'rgba(173, 216, 230, 0.8)',\n",
        "    'Q': 'rgba(240, 128, 128, 0.8)',\n",
        "    'S': 'rgba(144, 238, 144, 0.8)'\n",
        "}\n",
        "\n",
        "for _, row in sankey_data.iterrows():\n",
        "    sources.append(node_indices[row['Embarked']])\n",
        "    targets.append(node_indices[row['Pclass']])\n",
        "    values.append(row['Count'])\n",
        "    link_colors.append(port_colors[row['Embarked']])\n",
        "\n",
        "fig = go.Figure(go.Sankey(\n",
        "    node=dict(\n",
        "        pad=20,\n",
        "        thickness=30,\n",
        "        line=dict(color='black', width=0.5),\n",
        "        label=labels\n",
        "    ),\n",
        "    link=dict(\n",
        "        source=sources,\n",
        "        target=targets,\n",
        "        value=values,\n",
        "        color=link_colors,\n",
        "        hoverinfo='all',\n",
        "        hovertemplate='%{source.label} → %{target.label}<br>Passengers: %{value}<extra></extra>'\n",
        "    )\n",
        "))\n",
        "\n",
        "fig.update_layout(\n",
        "    title_text='Departure port → Cabin class',\n",
        "    font=dict(size=12, family='Arial'),\n",
        "    hovermode='x',\n",
        "    annotations=[\n",
        "        dict(\n",
        "            x=0.5, y=-0.1,\n",
        "            xref='paper', yref='paper',\n",
        "            text='',\n",
        "            showarrow=False\n",
        "        )\n",
        "    ]\n",
        ")\n",
        "\n",
        "fig.show()"
      ],
      "metadata": {
        "id": "BYR0O8rSVuVo",
        "colab": {
          "base_uri": "https://localhost:8080/",
          "height": 542
        },
        "outputId": "bd68456e-13ba-44b2-d0eb-e06a1c5a349f"
      },
      "execution_count": 38,
      "outputs": [
        {
          "output_type": "display_data",
          "data": {
            "text/html": [
              "<html>\n",
              "<head><meta charset=\"utf-8\" /></head>\n",
              "<body>\n",
              "    <div>            <script src=\"https://cdnjs.cloudflare.com/ajax/libs/mathjax/2.7.5/MathJax.js?config=TeX-AMS-MML_SVG\"></script><script type=\"text/javascript\">if (window.MathJax && window.MathJax.Hub && window.MathJax.Hub.Config) {window.MathJax.Hub.Config({SVG: {font: \"STIX-Web\"}});}</script>                <script type=\"text/javascript\">window.PlotlyConfig = {MathJaxConfig: 'local'};</script>\n",
              "        <script charset=\"utf-8\" src=\"https://cdn.plot.ly/plotly-2.35.2.min.js\"></script>                <div id=\"f1b674b2-a49f-467c-aa7b-fb21c8cf322e\" class=\"plotly-graph-div\" style=\"height:525px; width:100%;\"></div>            <script type=\"text/javascript\">                                    window.PLOTLYENV=window.PLOTLYENV || {};                                    if (document.getElementById(\"f1b674b2-a49f-467c-aa7b-fb21c8cf322e\")) {                    Plotly.newPlot(                        \"f1b674b2-a49f-467c-aa7b-fb21c8cf322e\",                        [{\"link\":{\"color\":[\"rgba(173, 216, 230, 0.8)\",\"rgba(173, 216, 230, 0.8)\",\"rgba(173, 216, 230, 0.8)\",\"rgba(240, 128, 128, 0.8)\",\"rgba(240, 128, 128, 0.8)\",\"rgba(240, 128, 128, 0.8)\",\"rgba(144, 238, 144, 0.8)\",\"rgba(144, 238, 144, 0.8)\",\"rgba(144, 238, 144, 0.8)\"],\"hoverinfo\":\"all\",\"hovertemplate\":\"%{source.label} → %{target.label}\\u003cbr\\u003ePassengers: %{value}\\u003cextra\\u003e\\u003c\\u002fextra\\u003e\",\"source\":[0,0,0,1,1,1,2,2,2],\"target\":[3,4,5,3,4,5,3,4,5],\"value\":[141,28,101,3,7,113,177,242,495]},\"node\":{\"label\":[\"Cherbourg (C)\",\"Queenstown (Q)\",\"Southampton (S)\",\"1st Class\",\"2nd Class\",\"3rd Class\"],\"line\":{\"color\":\"black\",\"width\":0.5},\"pad\":20,\"thickness\":30},\"type\":\"sankey\"}],                        {\"template\":{\"data\":{\"histogram2dcontour\":[{\"type\":\"histogram2dcontour\",\"colorbar\":{\"outlinewidth\":0,\"ticks\":\"\"},\"colorscale\":[[0.0,\"#0d0887\"],[0.1111111111111111,\"#46039f\"],[0.2222222222222222,\"#7201a8\"],[0.3333333333333333,\"#9c179e\"],[0.4444444444444444,\"#bd3786\"],[0.5555555555555556,\"#d8576b\"],[0.6666666666666666,\"#ed7953\"],[0.7777777777777778,\"#fb9f3a\"],[0.8888888888888888,\"#fdca26\"],[1.0,\"#f0f921\"]]}],\"choropleth\":[{\"type\":\"choropleth\",\"colorbar\":{\"outlinewidth\":0,\"ticks\":\"\"}}],\"histogram2d\":[{\"type\":\"histogram2d\",\"colorbar\":{\"outlinewidth\":0,\"ticks\":\"\"},\"colorscale\":[[0.0,\"#0d0887\"],[0.1111111111111111,\"#46039f\"],[0.2222222222222222,\"#7201a8\"],[0.3333333333333333,\"#9c179e\"],[0.4444444444444444,\"#bd3786\"],[0.5555555555555556,\"#d8576b\"],[0.6666666666666666,\"#ed7953\"],[0.7777777777777778,\"#fb9f3a\"],[0.8888888888888888,\"#fdca26\"],[1.0,\"#f0f921\"]]}],\"heatmap\":[{\"type\":\"heatmap\",\"colorbar\":{\"outlinewidth\":0,\"ticks\":\"\"},\"colorscale\":[[0.0,\"#0d0887\"],[0.1111111111111111,\"#46039f\"],[0.2222222222222222,\"#7201a8\"],[0.3333333333333333,\"#9c179e\"],[0.4444444444444444,\"#bd3786\"],[0.5555555555555556,\"#d8576b\"],[0.6666666666666666,\"#ed7953\"],[0.7777777777777778,\"#fb9f3a\"],[0.8888888888888888,\"#fdca26\"],[1.0,\"#f0f921\"]]}],\"heatmapgl\":[{\"type\":\"heatmapgl\",\"colorbar\":{\"outlinewidth\":0,\"ticks\":\"\"},\"colorscale\":[[0.0,\"#0d0887\"],[0.1111111111111111,\"#46039f\"],[0.2222222222222222,\"#7201a8\"],[0.3333333333333333,\"#9c179e\"],[0.4444444444444444,\"#bd3786\"],[0.5555555555555556,\"#d8576b\"],[0.6666666666666666,\"#ed7953\"],[0.7777777777777778,\"#fb9f3a\"],[0.8888888888888888,\"#fdca26\"],[1.0,\"#f0f921\"]]}],\"contourcarpet\":[{\"type\":\"contourcarpet\",\"colorbar\":{\"outlinewidth\":0,\"ticks\":\"\"}}],\"contour\":[{\"type\":\"contour\",\"colorbar\":{\"outlinewidth\":0,\"ticks\":\"\"},\"colorscale\":[[0.0,\"#0d0887\"],[0.1111111111111111,\"#46039f\"],[0.2222222222222222,\"#7201a8\"],[0.3333333333333333,\"#9c179e\"],[0.4444444444444444,\"#bd3786\"],[0.5555555555555556,\"#d8576b\"],[0.6666666666666666,\"#ed7953\"],[0.7777777777777778,\"#fb9f3a\"],[0.8888888888888888,\"#fdca26\"],[1.0,\"#f0f921\"]]}],\"surface\":[{\"type\":\"surface\",\"colorbar\":{\"outlinewidth\":0,\"ticks\":\"\"},\"colorscale\":[[0.0,\"#0d0887\"],[0.1111111111111111,\"#46039f\"],[0.2222222222222222,\"#7201a8\"],[0.3333333333333333,\"#9c179e\"],[0.4444444444444444,\"#bd3786\"],[0.5555555555555556,\"#d8576b\"],[0.6666666666666666,\"#ed7953\"],[0.7777777777777778,\"#fb9f3a\"],[0.8888888888888888,\"#fdca26\"],[1.0,\"#f0f921\"]]}],\"mesh3d\":[{\"type\":\"mesh3d\",\"colorbar\":{\"outlinewidth\":0,\"ticks\":\"\"}}],\"scatter\":[{\"fillpattern\":{\"fillmode\":\"overlay\",\"size\":10,\"solidity\":0.2},\"type\":\"scatter\"}],\"parcoords\":[{\"type\":\"parcoords\",\"line\":{\"colorbar\":{\"outlinewidth\":0,\"ticks\":\"\"}}}],\"scatterpolargl\":[{\"type\":\"scatterpolargl\",\"marker\":{\"colorbar\":{\"outlinewidth\":0,\"ticks\":\"\"}}}],\"bar\":[{\"error_x\":{\"color\":\"#2a3f5f\"},\"error_y\":{\"color\":\"#2a3f5f\"},\"marker\":{\"line\":{\"color\":\"#E5ECF6\",\"width\":0.5},\"pattern\":{\"fillmode\":\"overlay\",\"size\":10,\"solidity\":0.2}},\"type\":\"bar\"}],\"scattergeo\":[{\"type\":\"scattergeo\",\"marker\":{\"colorbar\":{\"outlinewidth\":0,\"ticks\":\"\"}}}],\"scatterpolar\":[{\"type\":\"scatterpolar\",\"marker\":{\"colorbar\":{\"outlinewidth\":0,\"ticks\":\"\"}}}],\"histogram\":[{\"marker\":{\"pattern\":{\"fillmode\":\"overlay\",\"size\":10,\"solidity\":0.2}},\"type\":\"histogram\"}],\"scattergl\":[{\"type\":\"scattergl\",\"marker\":{\"colorbar\":{\"outlinewidth\":0,\"ticks\":\"\"}}}],\"scatter3d\":[{\"type\":\"scatter3d\",\"line\":{\"colorbar\":{\"outlinewidth\":0,\"ticks\":\"\"}},\"marker\":{\"colorbar\":{\"outlinewidth\":0,\"ticks\":\"\"}}}],\"scattermapbox\":[{\"type\":\"scattermapbox\",\"marker\":{\"colorbar\":{\"outlinewidth\":0,\"ticks\":\"\"}}}],\"scatterternary\":[{\"type\":\"scatterternary\",\"marker\":{\"colorbar\":{\"outlinewidth\":0,\"ticks\":\"\"}}}],\"scattercarpet\":[{\"type\":\"scattercarpet\",\"marker\":{\"colorbar\":{\"outlinewidth\":0,\"ticks\":\"\"}}}],\"carpet\":[{\"aaxis\":{\"endlinecolor\":\"#2a3f5f\",\"gridcolor\":\"white\",\"linecolor\":\"white\",\"minorgridcolor\":\"white\",\"startlinecolor\":\"#2a3f5f\"},\"baxis\":{\"endlinecolor\":\"#2a3f5f\",\"gridcolor\":\"white\",\"linecolor\":\"white\",\"minorgridcolor\":\"white\",\"startlinecolor\":\"#2a3f5f\"},\"type\":\"carpet\"}],\"table\":[{\"cells\":{\"fill\":{\"color\":\"#EBF0F8\"},\"line\":{\"color\":\"white\"}},\"header\":{\"fill\":{\"color\":\"#C8D4E3\"},\"line\":{\"color\":\"white\"}},\"type\":\"table\"}],\"barpolar\":[{\"marker\":{\"line\":{\"color\":\"#E5ECF6\",\"width\":0.5},\"pattern\":{\"fillmode\":\"overlay\",\"size\":10,\"solidity\":0.2}},\"type\":\"barpolar\"}],\"pie\":[{\"automargin\":true,\"type\":\"pie\"}]},\"layout\":{\"autotypenumbers\":\"strict\",\"colorway\":[\"#636efa\",\"#EF553B\",\"#00cc96\",\"#ab63fa\",\"#FFA15A\",\"#19d3f3\",\"#FF6692\",\"#B6E880\",\"#FF97FF\",\"#FECB52\"],\"font\":{\"color\":\"#2a3f5f\"},\"hovermode\":\"closest\",\"hoverlabel\":{\"align\":\"left\"},\"paper_bgcolor\":\"white\",\"plot_bgcolor\":\"#E5ECF6\",\"polar\":{\"bgcolor\":\"#E5ECF6\",\"angularaxis\":{\"gridcolor\":\"white\",\"linecolor\":\"white\",\"ticks\":\"\"},\"radialaxis\":{\"gridcolor\":\"white\",\"linecolor\":\"white\",\"ticks\":\"\"}},\"ternary\":{\"bgcolor\":\"#E5ECF6\",\"aaxis\":{\"gridcolor\":\"white\",\"linecolor\":\"white\",\"ticks\":\"\"},\"baxis\":{\"gridcolor\":\"white\",\"linecolor\":\"white\",\"ticks\":\"\"},\"caxis\":{\"gridcolor\":\"white\",\"linecolor\":\"white\",\"ticks\":\"\"}},\"coloraxis\":{\"colorbar\":{\"outlinewidth\":0,\"ticks\":\"\"}},\"colorscale\":{\"sequential\":[[0.0,\"#0d0887\"],[0.1111111111111111,\"#46039f\"],[0.2222222222222222,\"#7201a8\"],[0.3333333333333333,\"#9c179e\"],[0.4444444444444444,\"#bd3786\"],[0.5555555555555556,\"#d8576b\"],[0.6666666666666666,\"#ed7953\"],[0.7777777777777778,\"#fb9f3a\"],[0.8888888888888888,\"#fdca26\"],[1.0,\"#f0f921\"]],\"sequentialminus\":[[0.0,\"#0d0887\"],[0.1111111111111111,\"#46039f\"],[0.2222222222222222,\"#7201a8\"],[0.3333333333333333,\"#9c179e\"],[0.4444444444444444,\"#bd3786\"],[0.5555555555555556,\"#d8576b\"],[0.6666666666666666,\"#ed7953\"],[0.7777777777777778,\"#fb9f3a\"],[0.8888888888888888,\"#fdca26\"],[1.0,\"#f0f921\"]],\"diverging\":[[0,\"#8e0152\"],[0.1,\"#c51b7d\"],[0.2,\"#de77ae\"],[0.3,\"#f1b6da\"],[0.4,\"#fde0ef\"],[0.5,\"#f7f7f7\"],[0.6,\"#e6f5d0\"],[0.7,\"#b8e186\"],[0.8,\"#7fbc41\"],[0.9,\"#4d9221\"],[1,\"#276419\"]]},\"xaxis\":{\"gridcolor\":\"white\",\"linecolor\":\"white\",\"ticks\":\"\",\"title\":{\"standoff\":15},\"zerolinecolor\":\"white\",\"automargin\":true,\"zerolinewidth\":2},\"yaxis\":{\"gridcolor\":\"white\",\"linecolor\":\"white\",\"ticks\":\"\",\"title\":{\"standoff\":15},\"zerolinecolor\":\"white\",\"automargin\":true,\"zerolinewidth\":2},\"scene\":{\"xaxis\":{\"backgroundcolor\":\"#E5ECF6\",\"gridcolor\":\"white\",\"linecolor\":\"white\",\"showbackground\":true,\"ticks\":\"\",\"zerolinecolor\":\"white\",\"gridwidth\":2},\"yaxis\":{\"backgroundcolor\":\"#E5ECF6\",\"gridcolor\":\"white\",\"linecolor\":\"white\",\"showbackground\":true,\"ticks\":\"\",\"zerolinecolor\":\"white\",\"gridwidth\":2},\"zaxis\":{\"backgroundcolor\":\"#E5ECF6\",\"gridcolor\":\"white\",\"linecolor\":\"white\",\"showbackground\":true,\"ticks\":\"\",\"zerolinecolor\":\"white\",\"gridwidth\":2}},\"shapedefaults\":{\"line\":{\"color\":\"#2a3f5f\"}},\"annotationdefaults\":{\"arrowcolor\":\"#2a3f5f\",\"arrowhead\":0,\"arrowwidth\":1},\"geo\":{\"bgcolor\":\"white\",\"landcolor\":\"#E5ECF6\",\"subunitcolor\":\"white\",\"showland\":true,\"showlakes\":true,\"lakecolor\":\"white\"},\"title\":{\"x\":0.05},\"mapbox\":{\"style\":\"light\"}}},\"title\":{\"text\":\"Departure port → Cabin class\"},\"font\":{\"size\":12,\"family\":\"Arial\"},\"hovermode\":\"x\",\"annotations\":[{\"showarrow\":false,\"text\":\"\",\"x\":0.5,\"xref\":\"paper\",\"y\":-0.1,\"yref\":\"paper\"}]},                        {\"responsive\": true}                    ).then(function(){\n",
              "                            \n",
              "var gd = document.getElementById('f1b674b2-a49f-467c-aa7b-fb21c8cf322e');\n",
              "var x = new MutationObserver(function (mutations, observer) {{\n",
              "        var display = window.getComputedStyle(gd).display;\n",
              "        if (!display || display === 'none') {{\n",
              "            console.log([gd, 'removed!']);\n",
              "            Plotly.purge(gd);\n",
              "            observer.disconnect();\n",
              "        }}\n",
              "}});\n",
              "\n",
              "// Listen for the removal of the full notebook cells\n",
              "var notebookContainer = gd.closest('#notebook-container');\n",
              "if (notebookContainer) {{\n",
              "    x.observe(notebookContainer, {childList: true});\n",
              "}}\n",
              "\n",
              "// Listen for the clearing of the current output cell\n",
              "var outputEl = gd.closest('.output');\n",
              "if (outputEl) {{\n",
              "    x.observe(outputEl, {childList: true});\n",
              "}}\n",
              "\n",
              "                        })                };                            </script>        </div>\n",
              "</body>\n",
              "</html>"
            ]
          },
          "metadata": {}
        }
      ]
    },
    {
      "cell_type": "markdown",
      "source": [
        "Построим 3d-график, отображающий возраст, стоимость билета и класс для каждого пассажира"
      ],
      "metadata": {
        "id": "ImeB0TYNoouY"
      }
    },
    {
      "cell_type": "code",
      "source": [
        "fig = px.scatter_3d(\n",
        "    data_frame,\n",
        "    x='Age',\n",
        "    y='Fare',\n",
        "    z='Pclass',\n",
        "    color='Sex',\n",
        "    color_discrete_map={'female': 'pink', 'male': 'lightblue'},\n",
        "    title='3D Scatter: Age, Fare, and Pclass',\n",
        "    hover_data=['Name', 'Sex', 'Age', 'Pclass', 'Fare', 'Embarked', 'Survived']\n",
        ")\n",
        "\n",
        "fig.show()"
      ],
      "metadata": {
        "id": "HCLnEQX3JOC6",
        "colab": {
          "base_uri": "https://localhost:8080/",
          "height": 542
        },
        "outputId": "0afc2f3b-092d-4462-ae59-1d6b48cf0007"
      },
      "execution_count": 39,
      "outputs": [
        {
          "output_type": "display_data",
          "data": {
            "text/html": [
              "<html>\n",
              "<head><meta charset=\"utf-8\" /></head>\n",
              "<body>\n",
              "    <div>            <script src=\"https://cdnjs.cloudflare.com/ajax/libs/mathjax/2.7.5/MathJax.js?config=TeX-AMS-MML_SVG\"></script><script type=\"text/javascript\">if (window.MathJax && window.MathJax.Hub && window.MathJax.Hub.Config) {window.MathJax.Hub.Config({SVG: {font: \"STIX-Web\"}});}</script>                <script type=\"text/javascript\">window.PlotlyConfig = {MathJaxConfig: 'local'};</script>\n",
              "        <script charset=\"utf-8\" src=\"https://cdn.plot.ly/plotly-2.35.2.min.js\"></script>                <div id=\"11456b23-bc75-408f-8bff-dc40ccae017b\" class=\"plotly-graph-div\" style=\"height:525px; width:100%;\"></div>            <script type=\"text/javascript\">                                    window.PLOTLYENV=window.PLOTLYENV || {};                                    if (document.getElementById(\"11456b23-bc75-408f-8bff-dc40ccae017b\")) {                    Plotly.newPlot(                        \"11456b23-bc75-408f-8bff-dc40ccae017b\",                        [{\"customdata\":[[\"Braund, Mr. Owen Harris\",\"male\",\"S\",0.0],[\"Allen, Mr. William Henry\",\"male\",\"S\",0.0],[\"Moran, Mr. James\",\"male\",\"Q\",0.0],[\"McCarthy, Mr. Timothy J\",\"male\",\"S\",0.0],[\"Palsson, Master. Gosta Leonard\",\"male\",\"S\",0.0],[\"Saundercock, Mr. William Henry\",\"male\",\"S\",0.0],[\"Andersson, Mr. Anders Johan\",\"male\",\"S\",0.0],[\"Rice, Master. Eugene\",\"male\",\"Q\",0.0],[\"Williams, Mr. Charles Eugene\",\"male\",\"S\",1.0],[\"Fynney, Mr. Joseph J\",\"male\",\"S\",0.0],[\"Beesley, Mr. Lawrence\",\"male\",\"S\",1.0],[\"Sloper, Mr. William Thompson\",\"male\",\"S\",1.0],[\"Emir, Mr. Farred Chehab\",\"male\",\"C\",0.0],[\"Fortune, Mr. Charles Alexander\",\"male\",\"S\",0.0],[\"Todoroff, Mr. Lalio\",\"male\",\"S\",0.0],[\"Uruchurtu, Don. Manuel E\",\"male\",\"C\",0.0],[\"Wheadon, Mr. Edward H\",\"male\",\"S\",0.0],[\"Meyer, Mr. Edgar Joseph\",\"male\",\"C\",0.0],[\"Holverson, Mr. Alexander Oskar\",\"male\",\"S\",0.0],[\"Mamee, Mr. Hanna\",\"male\",\"C\",1.0],[\"Cann, Mr. Ernest Charles\",\"male\",\"S\",0.0],[\"Kraeff, Mr. Theodor\",\"male\",\"C\",0.0],[\"Rogers, Mr. William John\",\"male\",\"S\",0.0],[\"Lennon, Mr. Denis\",\"male\",\"Q\",0.0],[\"Samaan, Mr. Youssef\",\"male\",\"C\",0.0],[\"Panula, Master. Juha Niilo\",\"male\",\"S\",0.0],[\"Nosworthy, Mr. Richard Cater\",\"male\",\"S\",0.0],[\"Ostby, Mr. Engelhart Cornelius\",\"male\",\"C\",0.0],[\"Woolner, Mr. Hugh\",\"male\",\"S\",1.0],[\"Novel, Mr. Mansouer\",\"male\",\"C\",0.0],[\"Goodwin, Master. William Frederick\",\"male\",\"S\",0.0],[\"Sirayanian, Mr. Orsen\",\"male\",\"C\",0.0],[\"Harris, Mr. Henry Birkhardt\",\"male\",\"S\",0.0],[\"Skoog, Master. Harald\",\"male\",\"S\",0.0],[\"Stewart, Mr. Albert A\",\"male\",\"C\",0.0],[\"Moubarek, Master. Gerios\",\"male\",\"C\",1.0],[\"Crease, Mr. Ernest James\",\"male\",\"S\",0.0],[\"Kink, Mr. Vincenz\",\"male\",\"S\",0.0],[\"Jenkin, Mr. Stephen Curnow\",\"male\",\"S\",0.0],[\"Hood, Mr. Ambrose Jr\",\"male\",\"S\",0.0],[\"Chronopoulos, Mr. Apostolos\",\"male\",\"C\",0.0],[\"Bing, Mr. Lee\",\"male\",\"S\",1.0],[\"Moen, Mr. Sigurd Hansen\",\"male\",\"S\",0.0],[\"Staneff, Mr. Ivan\",\"male\",\"S\",0.0],[\"Moutal, Mr. Rahamin Haim\",\"male\",\"S\",0.0],[\"Caldwell, Master. Alden Gates\",\"male\",\"S\",1.0],[\"Waelens, Mr. Achille\",\"male\",\"S\",0.0],[\"Sheerlinck, Mr. Jan Baptist\",\"male\",\"S\",1.0],[\"Carrau, Mr. Francisco M\",\"male\",\"S\",0.0],[\"Ford, Mr. William Neal\",\"male\",\"S\",0.0],[\"Slocovski, Mr. Selman Francis\",\"male\",\"S\",0.0],[\"Celotti, Mr. Francesco\",\"male\",\"S\",0.0],[\"Christmann, Mr. Emil\",\"male\",\"S\",0.0],[\"Andreasson, Mr. Paul Edvin\",\"male\",\"S\",0.0],[\"Chaffee, Mr. Herbert Fuller\",\"male\",\"S\",0.0],[\"Dean, Mr. Bertram Frank\",\"male\",\"S\",0.0],[\"Coxon, Mr. Daniel\",\"male\",\"S\",0.0],[\"Shorney, Mr. Charles Joseph\",\"male\",\"S\",0.0],[\"Goldschmidt, Mr. George B\",\"male\",\"C\",0.0],[\"Greenfield, Mr. William Bertram\",\"male\",\"C\",1.0],[\"Kantor, Mr. Sinai\",\"male\",\"S\",0.0],[\"Petroff, Mr. Pastcho (\\\"Pentcho\\\")\",\"male\",\"S\",0.0],[\"White, Mr. Richard Frasar\",\"male\",\"S\",0.0],[\"Johansson, Mr. Gustaf Joel\",\"male\",\"S\",0.0],[\"Gustafsson, Mr. Anders Vilhelm\",\"male\",\"S\",0.0],[\"Mionoff, Mr. Stoytcho\",\"male\",\"S\",0.0],[\"Moss, Mr. Albert Johan\",\"male\",\"S\",1.0],[\"Rekic, Mr. Tido\",\"male\",\"S\",0.0],[\"Porter, Mr. Walter Chamberlain\",\"male\",\"S\",0.0],[\"Barton, Mr. David John\",\"male\",\"S\",0.0],[\"Pekoniemi, Mr. Edvard\",\"male\",\"S\",0.0],[\"Connors, Mr. Patrick\",\"male\",\"Q\",0.0],[\"Turpin, Mr. William John Robert\",\"male\",\"S\",0.0],[\"Baxter, Mr. Quigg Edmond\",\"male\",\"C\",0.0],[\"Hickman, Mr. Stanley George\",\"male\",\"S\",0.0],[\"Moore, Mr. Leonard Charles\",\"male\",\"S\",0.0],[\"Nasser, Mr. Nicholas\",\"male\",\"C\",0.0],[\"White, Mr. Percival Wayland\",\"male\",\"S\",0.0],[\"Nicola-Yarred, Master. Elias\",\"male\",\"C\",1.0],[\"McMahon, Mr. Martin\",\"male\",\"Q\",0.0],[\"Madsen, Mr. Fridtjof Arne\",\"male\",\"S\",1.0],[\"Ekstrom, Mr. Johan\",\"male\",\"S\",0.0],[\"Drazenoic, Mr. Jozef\",\"male\",\"C\",0.0],[\"Coelho, Mr. Domingos Fernandeo\",\"male\",\"S\",0.0],[\"Sobey, Mr. Samuel James Hayden\",\"male\",\"S\",0.0],[\"Richard, Mr. Emile\",\"male\",\"C\",0.0],[\"Futrelle, Mr. Jacques Heath\",\"male\",\"S\",0.0],[\"Osen, Mr. Olaf Elon\",\"male\",\"S\",0.0],[\"Giglio, Mr. Victor\",\"male\",\"C\",0.0],[\"Burke, Mr. Jeremiah\",\"male\",\"Q\",0.0],[\"Andrew, Mr. Edgardo Samuel\",\"male\",\"S\",0.0],[\"Nicholls, Mr. Joseph Charles\",\"male\",\"S\",0.0],[\"Andersson, Mr. August Edvard (\\\"Wennerstrom\\\")\",\"male\",\"S\",1.0],[\"Navratil, Mr. Michel (\\\"Louis M Hoffman\\\")\",\"male\",\"S\",0.0],[\"Byles, Rev. Thomas Roussel Davids\",\"male\",\"S\",0.0],[\"Bateman, Rev. Robert James\",\"male\",\"S\",0.0],[\"Meo, Mr. Alfonzo\",\"male\",\"S\",0.0],[\"van Billiard, Mr. Austin Blyler\",\"male\",\"S\",0.0],[\"Olsen, Mr. Ole Martin\",\"male\",\"S\",0.0],[\"Williams, Mr. Charles Duane\",\"male\",\"C\",0.0],[\"Corn, Mr. Harry\",\"male\",\"S\",0.0],[\"Smiljanic, Mr. Mile\",\"male\",\"S\",0.0],[\"Sage, Master. Thomas Henry\",\"male\",\"S\",0.0],[\"Cribb, Mr. John Hatfield\",\"male\",\"S\",0.0],[\"Bengtsson, Mr. John Viktor\",\"male\",\"S\",0.0],[\"Calic, Mr. Jovo\",\"male\",\"S\",0.0],[\"Panula, Master. Eino Viljami\",\"male\",\"S\",0.0],[\"Goldsmith, Master. Frank John William \\\"Frankie\\\"\",\"male\",\"S\",1.0],[\"Baumann, Mr. John D\",\"male\",\"S\",0.0],[\"Ling, Mr. Lee\",\"male\",\"S\",0.0],[\"Van der hoef, Mr. Wyckoff\",\"male\",\"S\",0.0],[\"Rice, Master. Arthur\",\"male\",\"Q\",0.0],[\"Sivola, Mr. Antti Wilhelm\",\"male\",\"S\",0.0],[\"Smith, Mr. James Clinch\",\"male\",\"C\",0.0],[\"Klasen, Mr. Klas Albin\",\"male\",\"S\",0.0],[\"Lefebre, Master. Henry Forbes\",\"male\",\"S\",0.0],[\"Hale, Mr. Reginald\",\"male\",\"S\",0.0],[\"Leonard, Mr. Lionel\",\"male\",\"S\",0.0],[\"Pernot, Mr. Rene\",\"male\",\"C\",0.0],[\"Asplund, Master. Clarence Gustaf Hugo\",\"male\",\"S\",0.0],[\"Becker, Master. Richard F\",\"male\",\"S\",1.0],[\"Rood, Mr. Hugh Roscoe\",\"male\",\"S\",0.0],[\"Romaine, Mr. Charles Hallace (\\\"Mr C Rolmane\\\")\",\"male\",\"S\",1.0],[\"Bourke, Mr. John\",\"male\",\"Q\",0.0],[\"Turcin, Mr. Stjepan\",\"male\",\"S\",0.0],[\"Carbines, Mr. William\",\"male\",\"S\",0.0],[\"Navratil, Master. Michel M\",\"male\",\"S\",1.0],[\"Mernagh, Mr. Robert\",\"male\",\"Q\",0.0],[\"Olsen, Mr. Karl Siegwart Andreas\",\"male\",\"S\",0.0],[\"Vande Walle, Mr. Nestor Cyriel\",\"male\",\"S\",0.0],[\"Sage, Mr. Frederick\",\"male\",\"S\",0.0],[\"Johanson, Mr. Jakob Alfred\",\"male\",\"S\",0.0],[\"Youseff, Mr. Gerious\",\"male\",\"C\",0.0],[\"Cohen, Mr. Gurshon \\\"Gus\\\"\",\"male\",\"S\",1.0],[\"Backstrom, Mr. Karl Alfred\",\"male\",\"S\",0.0],[\"Albimona, Mr. Nassef Cassem\",\"male\",\"C\",1.0],[\"Blank, Mr. Henry\",\"male\",\"C\",1.0],[\"Ali, Mr. Ahmed\",\"male\",\"S\",0.0],[\"Perkin, Mr. John Henry\",\"male\",\"S\",0.0],[\"Givard, Mr. Hans Kristensen\",\"male\",\"S\",0.0],[\"Kiernan, Mr. Philip\",\"male\",\"Q\",0.0],[\"Jacobsohn, Mr. Sidney Samuel\",\"male\",\"S\",0.0],[\"Harris, Mr. Walter\",\"male\",\"S\",0.0],[\"Sunderland, Mr. Victor Francis\",\"male\",\"S\",1.0],[\"Bracken, Mr. James H\",\"male\",\"S\",0.0],[\"Green, Mr. George Henry\",\"male\",\"S\",0.0],[\"Nenkoff, Mr. Christo\",\"male\",\"S\",0.0],[\"Hoyt, Mr. Frederick Maxfield\",\"male\",\"S\",1.0],[\"Berglund, Mr. Karl Ivar Sven\",\"male\",\"S\",0.0],[\"Mellors, Mr. William John\",\"male\",\"S\",1.0],[\"Lovell, Mr. John Hall (\\\"Henry\\\")\",\"male\",\"S\",0.0],[\"Fahlstrom, Mr. Arne Jonas\",\"male\",\"S\",0.0],[\"Larsson, Mr. Bengt Edvin\",\"male\",\"S\",0.0],[\"Sjostedt, Mr. Ernst Adolf\",\"male\",\"S\",0.0],[\"Leyson, Mr. Robert William Norman\",\"male\",\"S\",0.0],[\"Hold, Mr. Stephen\",\"male\",\"S\",0.0],[\"Pengelly, Mr. Frederick William\",\"male\",\"S\",0.0],[\"Hunt, Mr. George Henry\",\"male\",\"S\",0.0],[\"Coleridge, Mr. Reginald Charles\",\"male\",\"S\",0.0],[\"Maenpaa, Mr. Matti Alexanteri\",\"male\",\"S\",0.0],[\"Attalah, Mr. Sleiman\",\"male\",\"C\",0.0],[\"Minahan, Dr. William Edward\",\"male\",\"Q\",0.0],[\"Beckwith, Mr. Richard Leonard\",\"male\",\"S\",1.0],[\"Carter, Rev. Ernest Courtenay\",\"male\",\"S\",0.0],[\"Reed, Mr. James George\",\"male\",\"S\",0.0],[\"Stead, Mr. William Thomas\",\"male\",\"S\",0.0],[\"Lobb, Mr. William Arthur\",\"male\",\"S\",0.0],[\"Smith, Mr. Thomas\",\"male\",\"Q\",0.0],[\"Asplund, Master. Edvin Rojj Felix\",\"male\",\"S\",1.0],[\"Taussig, Mr. Emil\",\"male\",\"S\",0.0],[\"Harrison, Mr. William\",\"male\",\"S\",0.0],[\"Reeves, Mr. David\",\"male\",\"S\",0.0],[\"Panula, Mr. Ernesti Arvid\",\"male\",\"S\",0.0],[\"Persson, Mr. Ernst Ulrik\",\"male\",\"S\",1.0],[\"Cairns, Mr. Alexander\",\"male\",\"S\",0.0],[\"Tornquist, Mr. William Henry\",\"male\",\"S\",1.0],[\"Natsch, Mr. Charles H\",\"male\",\"C\",0.0],[\"Parkes, Mr. Francis \\\"Frank\\\"\",\"male\",\"S\",0.0],[\"Rice, Master. Eric\",\"male\",\"Q\",0.0],[\"Duane, Mr. Frank\",\"male\",\"Q\",0.0],[\"Olsson, Mr. Nils Johan Goransson\",\"male\",\"S\",0.0],[\"de Pelsmaeker, Mr. Alfons\",\"male\",\"S\",0.0],[\"Dorking, Mr. Edward Arthur\",\"male\",\"S\",1.0],[\"Smith, Mr. Richard William\",\"male\",\"S\",0.0],[\"Stankovic, Mr. Ivan\",\"male\",\"C\",0.0],[\"de Mulder, Mr. Theodore\",\"male\",\"S\",1.0],[\"Naidenoff, Mr. Penko\",\"male\",\"S\",0.0],[\"Hosono, Mr. Masabumi\",\"male\",\"S\",1.0],[\"Levy, Mr. Rene Jacques\",\"male\",\"C\",0.0],[\"Mineff, Mr. Ivan\",\"male\",\"S\",0.0],[\"Lewy, Mr. Ervin G\",\"male\",\"C\",0.0],[\"Hanna, Mr. Mansour\",\"male\",\"C\",0.0],[\"Saalfeld, Mr. Adolphe\",\"male\",\"S\",1.0],[\"McCoy, Mr. Bernard\",\"male\",\"Q\",1.0],[\"Johnson, Mr. William Cahoone Jr\",\"male\",\"S\",0.0],[\"Williams, Mr. Howard Hugh \\\"Harry\\\"\",\"male\",\"S\",0.0],[\"Allison, Master. Hudson Trevor\",\"male\",\"S\",1.0],[\"Abelson, Mr. Samuel\",\"male\",\"C\",0.0],[\"Hendekovic, Mr. Ignjac\",\"male\",\"S\",0.0],[\"Hart, Mr. Benjamin\",\"male\",\"S\",0.0],[\"Moraweck, Dr. Ernest\",\"male\",\"S\",0.0],[\"Dennis, Mr. Samuel\",\"male\",\"S\",0.0],[\"Danoff, Mr. Yoto\",\"male\",\"S\",0.0],[\"Sage, Mr. George John Jr\",\"male\",\"S\",0.0],[\"Nysveen, Mr. Johan Hansen\",\"male\",\"S\",0.0],[\"Partner, Mr. Austen\",\"male\",\"S\",0.0],[\"Graham, Mr. George Edward\",\"male\",\"S\",0.0],[\"Vander Planke, Mr. Leo Edmondus\",\"male\",\"S\",0.0],[\"Denkoff, Mr. Mitto\",\"male\",\"S\",0.0],[\"Pears, Mr. Thomas Clinton\",\"male\",\"S\",0.0],[\"Dahl, Mr. Karl Edwart\",\"male\",\"S\",1.0],[\"Blackwell, Mr. Stephen Weart\",\"male\",\"S\",0.0],[\"Navratil, Master. Edmond Roger\",\"male\",\"S\",1.0],[\"Collander, Mr. Erik Gustaf\",\"male\",\"S\",0.0],[\"Sedgwick, Mr. Charles Frederick Waddington\",\"male\",\"S\",0.0],[\"Fox, Mr. Stanley Hubert\",\"male\",\"S\",0.0],[\"Coutts, Master. William Loch \\\"William\\\"\",\"male\",\"S\",1.0],[\"Dimic, Mr. Jovan\",\"male\",\"S\",0.0],[\"Odahl, Mr. Nils Martin\",\"male\",\"S\",0.0],[\"Williams-Lambert, Mr. Fletcher Fellows\",\"male\",\"S\",0.0],[\"Elias, Mr. Tannous\",\"male\",\"C\",0.0],[\"Arnold-Franchi, Mr. Josef\",\"male\",\"S\",0.0],[\"Yousif, Mr. Wazli\",\"male\",\"C\",0.0],[\"Vanden Steen, Mr. Leo Peter\",\"male\",\"S\",0.0],[\"Skoog, Mr. Wilhelm\",\"male\",\"S\",0.0],[\"del Carlo, Mr. Sebastiano\",\"male\",\"C\",0.0],[\"Asim, Mr. Adola\",\"male\",\"S\",0.0],[\"O'Brien, Mr. Thomas\",\"male\",\"Q\",0.0],[\"Adahl, Mr. Mauritz Nils Martin\",\"male\",\"S\",0.0],[\"Harder, Mr. George Achilles\",\"male\",\"C\",1.0],[\"Wiklund, Mr. Jakob Alfred\",\"male\",\"S\",0.0],[\"Beavan, Mr. William Thomas\",\"male\",\"S\",0.0],[\"Ringhini, Mr. Sante\",\"male\",\"C\",0.0],[\"Widener, Mr. Harry Elkins\",\"male\",\"C\",0.0],[\"Betros, Mr. Tannous\",\"male\",\"C\",0.0],[\"Gustafsson, Mr. Karl Gideon\",\"male\",\"S\",0.0],[\"Tikkanen, Mr. Juho\",\"male\",\"S\",0.0],[\"Plotcharsky, Mr. Vasil\",\"male\",\"S\",0.0],[\"Davies, Mr. Charles Henry\",\"male\",\"S\",0.0],[\"Goodwin, Master. Sidney Leonard\",\"male\",\"S\",0.0],[\"Sadlier, Mr. Matthew\",\"male\",\"Q\",0.0],[\"Carter, Mr. William Ernest\",\"male\",\"S\",1.0],[\"Jansson, Mr. Carl Olof\",\"male\",\"S\",1.0],[\"Gustafsson, Mr. Johan Birger\",\"male\",\"S\",0.0],[\"Johansson, Mr. Erik\",\"male\",\"S\",0.0],[\"McKane, Mr. Peter David\",\"male\",\"S\",0.0],[\"Pain, Dr. Alfred\",\"male\",\"S\",0.0],[\"Niskanen, Mr. Juha\",\"male\",\"S\",1.0],[\"Adams, Mr. John\",\"male\",\"S\",0.0],[\"Hakkarainen, Mr. Pekka Pietari\",\"male\",\"S\",0.0],[\"Gale, Mr. Shadrach\",\"male\",\"S\",0.0],[\"Widegren, Mr. Carl\\u002fCharles Peter\",\"male\",\"S\",0.0],[\"Richards, Master. William Rowe\",\"male\",\"S\",1.0],[\"Birkeland, Mr. Hans Martin Monsen\",\"male\",\"S\",0.0],[\"Sdycoff, Mr. Todor\",\"male\",\"S\",0.0],[\"Hart, Mr. Henry\",\"male\",\"Q\",0.0],[\"Cunningham, Mr. Alfred Fleming\",\"male\",\"S\",0.0],[\"Sundman, Mr. Johan Julian\",\"male\",\"S\",1.0],[\"Matthews, Mr. William John\",\"male\",\"S\",0.0],[\"Gheorgheff, Mr. Stanio\",\"male\",\"C\",0.0],[\"Charters, Mr. David\",\"male\",\"Q\",0.0],[\"Zimmerman, Mr. Leo\",\"male\",\"S\",0.0],[\"Rosblom, Mr. Viktor Richard\",\"male\",\"S\",0.0],[\"Wiseman, Mr. Phillippe\",\"male\",\"S\",0.0],[\"Flynn, Mr. James\",\"male\",\"Q\",0.0],[\"Pickard, Mr. Berk (Berk Trembisky)\",\"male\",\"S\",1.0],[\"Bjornstrom-Steffansson, Mr. Mauritz Hakan\",\"male\",\"S\",1.0],[\"Kallio, Mr. Nikolai Erland\",\"male\",\"S\",0.0],[\"Silvey, Mr. William Baird\",\"male\",\"S\",0.0],[\"Fortune, Mr. Mark\",\"male\",\"S\",0.0],[\"Kvillner, Mr. Johan Henrik Johannesson\",\"male\",\"S\",0.0],[\"Hampe, Mr. Leon\",\"male\",\"S\",0.0],[\"Petterson, Mr. Johan Emil\",\"male\",\"S\",0.0],[\"Johannesen-Bratthammer, Mr. Bernt\",\"male\",\"S\",1.0],[\"Dodge, Master. Washington\",\"male\",\"S\",1.0],[\"Seward, Mr. Frederic Kimber\",\"male\",\"S\",1.0],[\"Peuchen, Major. Arthur Godfrey\",\"male\",\"S\",1.0],[\"West, Mr. Edwy Arthur\",\"male\",\"S\",0.0],[\"Hagland, Mr. Ingvald Olai Olsen\",\"male\",\"S\",0.0],[\"Foreman, Mr. Benjamin Laventall\",\"male\",\"C\",0.0],[\"Goldenberg, Mr. Samuel L\",\"male\",\"C\",1.0],[\"Peduzzi, Mr. Joseph\",\"male\",\"S\",0.0],[\"Jalsevac, Mr. Ivan\",\"male\",\"C\",1.0],[\"Millet, Mr. Francis Davis\",\"male\",\"S\",0.0],[\"O'Connor, Mr. Maurice\",\"male\",\"Q\",0.0],[\"Anderson, Mr. Harry\",\"male\",\"S\",1.0],[\"Morley, Mr. William\",\"male\",\"S\",0.0],[\"Gee, Mr. Arthur H\",\"male\",\"S\",0.0],[\"Milling, Mr. Jacob Christian\",\"male\",\"S\",0.0],[\"Maisner, Mr. Simon\",\"male\",\"S\",0.0],[\"Goncalves, Mr. Manuel Estanslas\",\"male\",\"S\",0.0],[\"Campbell, Mr. William\",\"male\",\"S\",0.0],[\"Smart, Mr. John Montgomery\",\"male\",\"S\",0.0],[\"Scanlan, Mr. James\",\"male\",\"Q\",0.0],[\"Keefe, Mr. Arthur\",\"male\",\"S\",0.0],[\"Cacic, Mr. Luka\",\"male\",\"S\",0.0],[\"Clifford, Mr. George Quincy\",\"male\",\"S\",0.0],[\"Renouf, Mr. Peter Henry\",\"male\",\"S\",0.0],[\"Braund, Mr. Lewis Richard\",\"male\",\"S\",0.0],[\"Karlsson, Mr. Nils August\",\"male\",\"S\",0.0],[\"Goodwin, Master. Harold Victor\",\"male\",\"S\",0.0],[\"Frost, Mr. Anthony Wood \\\"Archie\\\"\",\"male\",\"S\",0.0],[\"Rouse, Mr. Richard Henry\",\"male\",\"S\",0.0],[\"Bishop, Mr. Dickinson H\",\"male\",\"C\",1.0],[\"Kent, Mr. Edward Austin\",\"male\",\"C\",0.0],[\"Somerton, Mr. Francis William\",\"male\",\"S\",0.0],[\"Coutts, Master. Eden Leslie \\\"Neville\\\"\",\"male\",\"S\",1.0],[\"Hagland, Mr. Konrad Mathias Reiersen\",\"male\",\"S\",0.0],[\"Windelov, Mr. Einar\",\"male\",\"S\",0.0],[\"Molson, Mr. Harry Markland\",\"male\",\"S\",0.0],[\"Artagaveytia, Mr. Ramon\",\"male\",\"C\",0.0],[\"Stanley, Mr. Edward Roland\",\"male\",\"S\",0.0],[\"Yousseff, Mr. Gerious\",\"male\",\"C\",0.0],[\"Shellard, Mr. Frederick William\",\"male\",\"S\",0.0],[\"Svensson, Mr. Olof\",\"male\",\"S\",0.0],[\"Calic, Mr. Petar\",\"male\",\"S\",0.0],[\"Penasco y Castellana, Mr. Victor de Satode\",\"male\",\"C\",0.0],[\"Bradley, Mr. George (\\\"George Arthur Brayton\\\")\",\"male\",\"S\",1.0],[\"Olsen, Mr. Henry Margido\",\"male\",\"S\",0.0],[\"Lang, Mr. Fang\",\"male\",\"S\",1.0],[\"Daly, Mr. Eugene Patrick\",\"male\",\"Q\",1.0],[\"Webber, Mr. James\",\"male\",\"S\",0.0],[\"McGough, Mr. James Robert\",\"male\",\"S\",1.0],[\"Coleff, Mr. Satio\",\"male\",\"S\",0.0],[\"Walker, Mr. William Anderson\",\"male\",\"S\",0.0],[\"Ryan, Mr. Patrick\",\"male\",\"Q\",0.0],[\"Pavlovic, Mr. Stefo\",\"male\",\"S\",0.0],[\"Vovk, Mr. Janko\",\"male\",\"S\",0.0],[\"Lahoud, Mr. Sarkis\",\"male\",\"C\",0.0],[\"Kassem, Mr. Fared\",\"male\",\"C\",0.0],[\"Farrell, Mr. James\",\"male\",\"Q\",0.0],[\"Farthing, Mr. John\",\"male\",\"S\",0.0],[\"Salonen, Mr. Johan Werner\",\"male\",\"S\",0.0],[\"Hocking, Mr. Richard George\",\"male\",\"S\",0.0],[\"Toufik, Mr. Nakli\",\"male\",\"C\",0.0],[\"Elias, Mr. Joseph Jr\",\"male\",\"C\",0.0],[\"Butt, Major. Archibald Willingham\",\"male\",\"S\",0.0],[\"Risien, Mr. Samuel Beard\",\"male\",\"S\",0.0],[\"Beane, Mr. Edward\",\"male\",\"S\",1.0],[\"Douglas, Mr. Walter Donald\",\"male\",\"C\",0.0],[\"Nicholson, Mr. Arthur Ernest\",\"male\",\"S\",0.0],[\"Padro y Manent, Mr. Julian\",\"male\",\"C\",1.0],[\"Goldsmith, Mr. Frank John\",\"male\",\"S\",0.0],[\"Davies, Master. John Morgan Jr\",\"male\",\"S\",1.0],[\"Thayer, Mr. John Borland Jr\",\"male\",\"C\",1.0],[\"Sharp, Mr. Percival James R\",\"male\",\"S\",0.0],[\"O'Brien, Mr. Timothy\",\"male\",\"Q\",0.0],[\"Leeni, Mr. Fahim (\\\"Philip Zenni\\\")\",\"male\",\"C\",1.0],[\"Wright, Mr. George\",\"male\",\"S\",0.0],[\"Robbins, Mr. Victor\",\"male\",\"C\",0.0],[\"Morrow, Mr. Thomas Rowan\",\"male\",\"Q\",0.0],[\"Sivic, Mr. Husein\",\"male\",\"S\",0.0],[\"Norman, Mr. Robert Douglas\",\"male\",\"S\",0.0],[\"Simmons, Mr. John\",\"male\",\"S\",0.0],[\"Davies, Mr. Alfred J\",\"male\",\"S\",0.0],[\"Stoytcheff, Mr. Ilia\",\"male\",\"S\",0.0],[\"Doharr, Mr. Tannous\",\"male\",\"C\",0.0],[\"Jonsson, Mr. Carl\",\"male\",\"S\",1.0],[\"Harris, Mr. George\",\"male\",\"S\",1.0],[\"Flynn, Mr. John Irwin (\\\"Irving\\\")\",\"male\",\"S\",1.0],[\"Rush, Mr. Alfred George John\",\"male\",\"S\",0.0],[\"Patchett, Mr. George\",\"male\",\"S\",0.0],[\"Jussila, Mr. Eiriik\",\"male\",\"S\",1.0],[\"Downton, Mr. William James\",\"male\",\"S\",0.0],[\"Ross, Mr. John Hugo\",\"male\",\"C\",0.0],[\"Paulner, Mr. Uscher\",\"male\",\"C\",0.0],[\"Jarvis, Mr. John Denzil\",\"male\",\"S\",0.0],[\"Frolicher-Stehli, Mr. Maxmillian\",\"male\",\"C\",1.0],[\"Gilinski, Mr. Eliezer\",\"male\",\"S\",0.0],[\"Murdlin, Mr. Joseph\",\"male\",\"S\",0.0],[\"Rintamaki, Mr. Matti\",\"male\",\"S\",0.0],[\"Elsbury, Mr. William James\",\"male\",\"S\",0.0],[\"Chapman, Mr. John Henry\",\"male\",\"S\",0.0],[\"Van Impe, Mr. Jean Baptiste\",\"male\",\"S\",0.0],[\"Johnson, Mr. Alfred\",\"male\",\"S\",0.0],[\"Boulos, Mr. Hanna\",\"male\",\"C\",0.0],[\"Duff Gordon, Sir. Cosmo Edmund (\\\"Mr Morgan\\\")\",\"male\",\"C\",1.0],[\"Slabenoff, Mr. Petco\",\"male\",\"S\",0.0],[\"Harrington, Mr. Charles H\",\"male\",\"S\",0.0],[\"Torber, Mr. Ernst William\",\"male\",\"S\",0.0],[\"Homer, Mr. Harry (\\\"Mr E Haven\\\")\",\"male\",\"C\",1.0],[\"Lindell, Mr. Edvard Bengtsson\",\"male\",\"S\",0.0],[\"Karaic, Mr. Milan\",\"male\",\"S\",0.0],[\"Daniel, Mr. Robert Williams\",\"male\",\"S\",1.0],[\"Jardin, Mr. Jose Neto\",\"male\",\"S\",0.0],[\"Horgan, Mr. John\",\"male\",\"Q\",0.0],[\"Brocklebank, Mr. William Alfred\",\"male\",\"S\",0.0],[\"Danbom, Mr. Ernst Gilbert\",\"male\",\"S\",0.0],[\"Gavey, Mr. Lawrence\",\"male\",\"S\",0.0],[\"Yasbeck, Mr. Antoni\",\"male\",\"C\",0.0],[\"Kimball, Mr. Edwin Nelson Jr\",\"male\",\"S\",1.0],[\"Nakid, Mr. Sahid\",\"male\",\"C\",1.0],[\"Hansen, Mr. Henry Damsgaard\",\"male\",\"S\",0.0],[\"Bowen, Mr. David John \\\"Dai\\\"\",\"male\",\"S\",0.0],[\"Sutton, Mr. Frederick\",\"male\",\"S\",0.0],[\"Kirkland, Rev. Charles Leonard\",\"male\",\"Q\",0.0],[\"Bostandyeff, Mr. Guentcho\",\"male\",\"S\",0.0],[\"O'Connell, Mr. Patrick D\",\"male\",\"Q\",0.0],[\"Barkworth, Mr. Algernon Henry Wilson\",\"male\",\"S\",1.0],[\"Lundahl, Mr. Johan Svensson\",\"male\",\"S\",0.0],[\"Stahelin-Maeglin, Dr. Max\",\"male\",\"C\",1.0],[\"Parr, Mr. William Henry Marsh\",\"male\",\"S\",0.0],[\"Leinonen, Mr. Antti Gustaf\",\"male\",\"S\",0.0],[\"Collyer, Mr. Harvey\",\"male\",\"S\",0.0],[\"Thorneycroft, Mr. Percival\",\"male\",\"S\",0.0],[\"Jensen, Mr. Hans Peder\",\"male\",\"S\",0.0],[\"Foo, Mr. Choong\",\"male\",\"S\",1.0],[\"Harper, Mr. Henry Sleeper\",\"male\",\"C\",1.0],[\"Cor, Mr. Liudevit\",\"male\",\"S\",0.0],[\"Simonius-Blumer, Col. Oberst Alfons\",\"male\",\"C\",1.0],[\"Willey, Mr. Edward\",\"male\",\"S\",0.0],[\"Mitkoff, Mr. Mito\",\"male\",\"S\",0.0],[\"Kalvik, Mr. Johannes Halvorsen\",\"male\",\"S\",0.0],[\"Hickman, Mr. Leonard Mark\",\"male\",\"S\",0.0],[\"Radeff, Mr. Alexander\",\"male\",\"S\",0.0],[\"Eitemiller, Mr. George Floyd\",\"male\",\"S\",0.0],[\"Newell, Mr. Arthur Webster\",\"male\",\"C\",0.0],[\"Frauenthal, Dr. Henry William\",\"male\",\"S\",1.0],[\"Badt, Mr. Mohamed\",\"male\",\"C\",0.0],[\"Colley, Mr. Edward Pomeroy\",\"male\",\"S\",0.0],[\"Coleff, Mr. Peju\",\"male\",\"S\",0.0],[\"Lindqvist, Mr. Eino William\",\"male\",\"S\",1.0],[\"Hickman, Mr. Lewis\",\"male\",\"S\",0.0],[\"Butler, Mr. Reginald Fenton\",\"male\",\"S\",0.0],[\"Rommetvedt, Mr. Knud Paust\",\"male\",\"S\",0.0],[\"Cook, Mr. Jacob\",\"male\",\"S\",0.0],[\"Davidson, Mr. Thornton\",\"male\",\"S\",0.0],[\"Mitchell, Mr. Henry Michael\",\"male\",\"S\",0.0],[\"Wilhelms, Mr. Charles\",\"male\",\"S\",1.0],[\"Watson, Mr. Ennis Hastings\",\"male\",\"S\",0.0],[\"Edvardsson, Mr. Gustaf Hjalmar\",\"male\",\"S\",0.0],[\"Sawyer, Mr. Frederick Charles\",\"male\",\"S\",0.0],[\"Cardeza, Mr. Thomas Drake Martinez\",\"male\",\"C\",1.0],[\"Hassab, Mr. Hammad\",\"male\",\"C\",1.0],[\"Olsvigen, Mr. Thor Anderson\",\"male\",\"S\",0.0],[\"Goodwin, Mr. Charles Edward\",\"male\",\"S\",0.0],[\"Brown, Mr. Thomas William Solomon\",\"male\",\"S\",0.0],[\"Laroche, Mr. Joseph Philippe Lemercier\",\"male\",\"C\",0.0],[\"Panula, Mr. Jaako Arnold\",\"male\",\"S\",0.0],[\"Dakic, Mr. Branko\",\"male\",\"S\",0.0],[\"Fischer, Mr. Eberhard Thelander\",\"male\",\"S\",0.0],[\"Dick, Mr. Albert Adrian\",\"male\",\"S\",1.0],[\"Lam, Mr. Ali\",\"male\",\"S\",1.0],[\"Saad, Mr. Khalil\",\"male\",\"C\",0.0],[\"Weir, Col. John\",\"male\",\"S\",0.0],[\"Chapman, Mr. Charles Henry\",\"male\",\"S\",0.0],[\"Kelly, Mr. James\",\"male\",\"S\",0.0],[\"Thayer, Mr. John Borland\",\"male\",\"C\",0.0],[\"Humblen, Mr. Adolf Mathias Nicolai Olsen\",\"male\",\"S\",0.0],[\"Silverthorne, Mr. Spencer Victor\",\"male\",\"S\",1.0],[\"Gallagher, Mr. Martin\",\"male\",\"Q\",0.0],[\"Hansen, Mr. Henrik Juul\",\"male\",\"S\",0.0],[\"Morley, Mr. Henry Samuel (\\\"Mr Henry Marshall\\\")\",\"male\",\"S\",0.0],[\"Calderhead, Mr. Edward Pennington\",\"male\",\"S\",1.0],[\"Moubarek, Master. Halim Gonios (\\\"William George\\\")\",\"male\",\"C\",1.0],[\"Klaber, Mr. Herman\",\"male\",\"S\",0.0],[\"Taylor, Mr. Elmer Zebley\",\"male\",\"S\",1.0],[\"Larsson, Mr. August Viktor\",\"male\",\"S\",0.0],[\"Greenberg, Mr. Samuel\",\"male\",\"S\",0.0],[\"Soholt, Mr. Peter Andreas Lauritz Andersen\",\"male\",\"S\",0.0],[\"McEvoy, Mr. Michael\",\"male\",\"Q\",0.0],[\"Johnson, Mr. Malkolm Joackim\",\"male\",\"S\",0.0],[\"Jensen, Mr. Svend Lauritz\",\"male\",\"S\",0.0],[\"Gillespie, Mr. William Henry\",\"male\",\"S\",0.0],[\"Hodges, Mr. Henry Price\",\"male\",\"S\",0.0],[\"Chambers, Mr. Norman Campbell\",\"male\",\"S\",1.0],[\"Oreskovic, Mr. Luka\",\"male\",\"S\",0.0],[\"Bryhl, Mr. Kurt Arnold Gottfrid\",\"male\",\"S\",0.0],[\"Hassan, Mr. Houssein G N\",\"male\",\"C\",0.0],[\"Knight, Mr. Robert J\",\"male\",\"S\",0.0],[\"Berriman, Mr. William John\",\"male\",\"S\",0.0],[\"Troupiansky, Mr. Moses Aaron\",\"male\",\"S\",0.0],[\"Williams, Mr. Leslie\",\"male\",\"S\",0.0],[\"Lesurer, Mr. Gustave J\",\"male\",\"C\",1.0],[\"Ivanoff, Mr. Kanio\",\"male\",\"S\",0.0],[\"Nankoff, Mr. Minko\",\"male\",\"S\",0.0],[\"Hawksford, Mr. Walter James\",\"male\",\"S\",1.0],[\"Cavendish, Mr. Tyrell William\",\"male\",\"S\",0.0],[\"McNamee, Mr. Neal\",\"male\",\"S\",0.0],[\"Stranden, Mr. Juho\",\"male\",\"S\",1.0],[\"Crosby, Capt. Edward Gifford\",\"male\",\"S\",0.0],[\"Abbott, Mr. Rossmore Edward\",\"male\",\"S\",0.0],[\"Marvin, Mr. Daniel Warner\",\"male\",\"S\",0.0],[\"Connaghton, Mr. Michael\",\"male\",\"Q\",0.0],[\"Moor, Master. Meier\",\"male\",\"S\",1.0],[\"Vande Velde, Mr. Johannes Joseph\",\"male\",\"S\",0.0],[\"Jonkoff, Mr. Lalio\",\"male\",\"S\",0.0],[\"Hamalainen, Master. Viljo\",\"male\",\"S\",1.0],[\"Carlsson, Mr. August Sigfrid\",\"male\",\"S\",0.0],[\"Bailey, Mr. Percy Andrew\",\"male\",\"S\",0.0],[\"Theobald, Mr. Thomas Leonard\",\"male\",\"S\",0.0],[\"Garfirth, Mr. John\",\"male\",\"S\",0.0],[\"Nirva, Mr. Iisakki Antino Aijo\",\"male\",\"S\",0.0],[\"Barah, Mr. Hanna Assi\",\"male\",\"C\",1.0],[\"Eklund, Mr. Hans Linus\",\"male\",\"S\",0.0],[\"Brewe, Dr. Arthur Jackson\",\"male\",\"C\",0.0],[\"Moran, Mr. Daniel J\",\"male\",\"Q\",0.0],[\"Gronnestad, Mr. Daniel Danielsen\",\"male\",\"S\",0.0],[\"Lievens, Mr. Rene Aime\",\"male\",\"S\",0.0],[\"Jensen, Mr. Niels Peder\",\"male\",\"S\",0.0],[\"Elias, Mr. Dibo\",\"male\",\"C\",0.0],[\"Myhrman, Mr. Pehr Fabian Oliver Malkolm\",\"male\",\"S\",0.0],[\"Tobin, Mr. Roger\",\"male\",\"Q\",0.0],[\"Kilgannon, Mr. Thomas J\",\"male\",\"Q\",0.0],[\"Long, Mr. Milton Clyde\",\"male\",\"S\",0.0],[\"Johnston, Mr. Andrew G\",\"male\",\"S\",0.0],[\"Ali, Mr. William\",\"male\",\"S\",0.0],[\"Harmer, Mr. Abraham (David Lishin)\",\"male\",\"S\",0.0],[\"Rice, Master. George Hugh\",\"male\",\"Q\",0.0],[\"Dean, Master. Bertram Vere\",\"male\",\"S\",1.0],[\"Guggenheim, Mr. Benjamin\",\"male\",\"C\",0.0],[\"Keane, Mr. Andrew \\\"Andy\\\"\",\"male\",\"Q\",0.0],[\"Gaskell, Mr. Alfred\",\"male\",\"S\",0.0],[\"Hoyt, Mr. William Fisher\",\"male\",\"C\",0.0],[\"Dantcheff, Mr. Ristiu\",\"male\",\"S\",0.0],[\"Otter, Mr. Richard\",\"male\",\"S\",0.0],[\"Ibrahim Shawah, Mr. Yousseff\",\"male\",\"C\",0.0],[\"Ponesell, Mr. Martin\",\"male\",\"S\",0.0],[\"Carter, Master. William Thornton II\",\"male\",\"S\",1.0],[\"Thomas, Master. Assad Alexander\",\"male\",\"C\",1.0],[\"Hedman, Mr. Oskar Arvid\",\"male\",\"S\",1.0],[\"Johansson, Mr. Karl Johan\",\"male\",\"S\",0.0],[\"Andrews, Mr. Thomas Jr\",\"male\",\"S\",0.0],[\"Meyer, Mr. August\",\"male\",\"S\",0.0],[\"Alexander, Mr. William\",\"male\",\"S\",0.0],[\"Lester, Mr. James\",\"male\",\"S\",0.0],[\"Slemen, Mr. Richard James\",\"male\",\"S\",0.0],[\"Tomlin, Mr. Ernest Portage\",\"male\",\"S\",0.0],[\"Fry, Mr. Richard\",\"male\",\"S\",0.0],[\"Mallet, Mr. Albert\",\"male\",\"C\",0.0],[\"Holm, Mr. John Fredrik Alexander\",\"male\",\"S\",0.0],[\"Skoog, Master. Karl Thorsten\",\"male\",\"S\",0.0],[\"Lulic, Mr. Nikola\",\"male\",\"S\",1.0],[\"Reuchlin, Jonkheer. John George\",\"male\",\"S\",0.0],[\"Panula, Master. Urho Abraham\",\"male\",\"S\",0.0],[\"Flynn, Mr. John\",\"male\",\"Q\",0.0],[\"Lam, Mr. Len\",\"male\",\"S\",0.0],[\"Mallet, Master. Andre\",\"male\",\"C\",1.0],[\"McCormack, Mr. Thomas Joseph\",\"male\",\"Q\",1.0],[\"Richards, Master. George Sibley\",\"male\",\"S\",1.0],[\"Saad, Mr. Amin\",\"male\",\"C\",0.0],[\"Augustsson, Mr. Albert\",\"male\",\"S\",0.0],[\"Allum, Mr. Owen George\",\"male\",\"S\",0.0],[\"Pasic, Mr. Jakob\",\"male\",\"S\",0.0],[\"Sirota, Mr. Maurice\",\"male\",\"S\",0.0],[\"Chip, Mr. Chang\",\"male\",\"S\",1.0],[\"Marechal, Mr. Pierre\",\"male\",\"C\",1.0],[\"Alhomaki, Mr. Ilmari Rudolf\",\"male\",\"S\",0.0],[\"Mudd, Mr. Thomas Charles\",\"male\",\"S\",0.0],[\"Lemberopolous, Mr. Peter L\",\"male\",\"C\",0.0],[\"Culumovic, Mr. Jeso\",\"male\",\"S\",0.0],[\"Abbing, Mr. Anthony\",\"male\",\"S\",0.0],[\"Sage, Mr. Douglas Bullen\",\"male\",\"S\",0.0],[\"Markoff, Mr. Marin\",\"male\",\"C\",0.0],[\"Harper, Rev. John\",\"male\",\"S\",0.0],[\"Andersson, Master. Sigvard Harald Elias\",\"male\",\"S\",0.0],[\"Svensson, Mr. Johan\",\"male\",\"S\",0.0],[\"Daly, Mr. Peter Denis \",\"male\",\"S\",1.0],[\"Razi, Mr. Raihed\",\"male\",\"C\",0.0],[\"Hansen, Mr. Claus Peter\",\"male\",\"S\",0.0],[\"Giles, Mr. Frederick Edward\",\"male\",\"S\",0.0],[\"Gill, Mr. John William\",\"male\",\"S\",0.0],[\"Roebling, Mr. Washington Augustus II\",\"male\",\"S\",0.0],[\"van Melkebeke, Mr. Philemon\",\"male\",\"S\",0.0],[\"Johnson, Master. Harold Theodor\",\"male\",\"S\",1.0],[\"Balkic, Mr. Cerin\",\"male\",\"S\",0.0],[\"Carlsson, Mr. Frans Olof\",\"male\",\"S\",0.0],[\"Vander Cruyssen, Mr. Victor\",\"male\",\"S\",0.0],[\"Gustafsson, Mr. Alfred Ossian\",\"male\",\"S\",0.0],[\"Petroff, Mr. Nedelio\",\"male\",\"S\",0.0],[\"Laleff, Mr. Kristo\",\"male\",\"S\",0.0],[\"Markun, Mr. Johann\",\"male\",\"S\",0.0],[\"Banfield, Mr. Frederick James\",\"male\",\"S\",0.0],[\"Sutehall, Mr. Henry Jr\",\"male\",\"S\",0.0],[\"Montvila, Rev. Juozas\",\"male\",\"S\",0.0],[\"Behr, Mr. Karl Howell\",\"male\",\"C\",1.0],[\"Dooley, Mr. Patrick\",\"male\",\"Q\",0.0],[\"Kelly, Mr. James\",\"male\",\"Q\",null],[\"Myles, Mr. Thomas Francis\",\"male\",\"Q\",null],[\"Wirz, Mr. Albert\",\"male\",\"S\",null],[\"Svensson, Mr. Johan Cervin\",\"male\",\"S\",null],[\"Caldwell, Mr. Albert Francis\",\"male\",\"S\",null],[\"Davies, Mr. John Samuel\",\"male\",\"S\",null],[\"Ilieff, Mr. Ylio\",\"male\",\"S\",null],[\"Jones, Mr. Charles Cresson\",\"male\",\"S\",null],[\"Howard, Mr. Benjamin\",\"male\",\"S\",null],[\"Keane, Mr. Daniel\",\"male\",\"Q\",null],[\"Assaf, Mr. Gerios\",\"male\",\"C\",null],[\"Rothschild, Mr. Martin\",\"male\",\"C\",null],[\"Olsen, Master. Artur Karl\",\"male\",\"S\",null],[\"Williams, Mr. Richard Norris II\",\"male\",\"C\",null],[\"Robins, Mr. Alexander A\",\"male\",\"S\",null],[\"Daher, Mr. Shedid\",\"male\",\"C\",null],[\"Brady, Mr. John Bertram\",\"male\",\"S\",null],[\"Samaan, Mr. Elias\",\"male\",\"C\",null],[\"Louch, Mr. Charles Alexander\",\"male\",\"S\",null],[\"Jefferys, Mr. Clifford Thomas\",\"male\",\"S\",null],[\"Mock, Mr. Philipp Edmund\",\"male\",\"C\",null],[\"Katavelas, Mr. Vassilios (Catavelas Vassilios\\\")\\\"\",\"male\",\"C\",null],[\"Sap, Mr. Julius\",\"male\",\"S\",null],[\"Hee, Mr. Ling\",\"male\",\"S\",null],[\"Karun, Mr. Franz\",\"male\",\"C\",null],[\"Franklin, Mr. Thomas Parham\",\"male\",\"S\",null],[\"Goldsmith, Mr. Nathan\",\"male\",\"S\",null],[\"Peltomaki, Mr. Nikolai Johannes\",\"male\",\"S\",null],[\"Chevre, Mr. Paul Romaine\",\"male\",\"C\",null],[\"Shaughnessy, Mr. Patrick\",\"male\",\"Q\",null],[\"Smith, Mr. Lucien Philip\",\"male\",\"S\",null],[\"Pulbaum, Mr. Franz\",\"male\",\"C\",null],[\"Mangiavacchi, Mr. Serafino Emilio\",\"male\",\"C\",null],[\"Rice, Master. Albert\",\"male\",\"Q\",null],[\"Cor, Mr. Bartol\",\"male\",\"S\",null],[\"Abelseth, Mr. Olaus Jorgensen\",\"male\",\"S\",null],[\"Davison, Mr. Thomas Henry\",\"male\",\"S\",null],[\"Dika, Mr. Mirko\",\"male\",\"S\",null],[\"McCrae, Mr. Arthur Gordon\",\"male\",\"S\",null],[\"Bjorklund, Mr. Ernst Herbert\",\"male\",\"S\",null],[\"Ryerson, Master. John Borie\",\"male\",\"C\",null],[\"Moore, Mr. Clarence Bloomfield\",\"male\",\"S\",null],[\"Tucker, Mr. Gilbert Milligan Jr\",\"male\",\"C\",null],[\"Minkoff, Mr. Lazar\",\"male\",\"S\",null],[\"Ovies y Rodriguez, Mr. Servando\",\"male\",\"C\",null],[\"Keeping, Mr. Edwin\",\"male\",\"C\",null],[\"Miles, Mr. Frank\",\"male\",\"S\",null],[\"Aldworth, Mr. Charles Augustus\",\"male\",\"S\",null],[\"Boulos, Master. Akar\",\"male\",\"C\",null],[\"Straus, Mr. Isidor\",\"male\",\"S\",null],[\"Case, Mr. Howard Brown\",\"male\",\"S\",null],[\"Demetri, Mr. Marinko\",\"male\",\"S\",null],[\"Lamb, Mr. John Joseph\",\"male\",\"Q\",null],[\"Khalil, Mr. Betros\",\"male\",\"C\",null],[\"Wells, Master. Ralph Lester\",\"male\",\"S\",null],[\"Pedersen, Mr. Olaf\",\"male\",\"S\",null],[\"Guest, Mr. Robert\",\"male\",\"S\",null],[\"Birnbaum, Mr. Jakob\",\"male\",\"C\",null],[\"Tenglin, Mr. Gunnar Isidor\",\"male\",\"S\",null],[\"Makinen, Mr. Kalle Edvard\",\"male\",\"S\",null],[\"Nancarrow, Mr. William Henry\",\"male\",\"S\",null],[\"Weisz, Mr. Leopold\",\"male\",\"S\",null],[\"Foley, Mr. William\",\"male\",\"Q\",null],[\"Johansson Palmquist, Mr. Oskar Leander\",\"male\",\"S\",null],[\"Holthen, Mr. Johan Martin\",\"male\",\"S\",null],[\"Buckley, Mr. Daniel\",\"male\",\"Q\",null],[\"Ryan, Mr. Edward\",\"male\",\"Q\",null],[\"Willer, Mr. Aaron (Abi Weller\\\")\\\"\",\"male\",\"S\",null],[\"Swane, Mr. George\",\"male\",\"S\",null],[\"Stanton, Mr. Samuel Ward\",\"male\",\"C\",null],[\"Chronopoulos, Mr. Demetrios\",\"male\",\"C\",null],[\"Thomas, Mr. John\",\"male\",\"C\",null],[\"Beattie, Mr. Thomson\",\"male\",\"C\",null],[\"Kiernan, Mr. John\",\"male\",\"Q\",null],[\"Carver, Mr. Alfred John\",\"male\",\"S\",null],[\"Kennedy, Mr. John\",\"male\",\"Q\",null],[\"Brobeck, Mr. Karl Rudolf\",\"male\",\"S\",null],[\"Bowenur, Mr. Solomon\",\"male\",\"S\",null],[\"Petersen, Mr. Marius\",\"male\",\"S\",null],[\"Spinner, Mr. Henry John\",\"male\",\"S\",null],[\"Gracie, Col. Archibald IV\",\"male\",\"C\",null],[\"Thomas, Mr. Charles P\",\"male\",\"C\",null],[\"Dintcheff, Mr. Valtcho\",\"male\",\"S\",null],[\"Carlsson, Mr. Carl Robert\",\"male\",\"S\",null],[\"Zakarian, Mr. Mapriededer\",\"male\",\"C\",null],[\"Schmidt, Mr. August\",\"male\",\"S\",null],[\"Goodwin, Mr. Charles Frederick\",\"male\",\"S\",null],[\"Ryerson, Mr. Arthur Larned\",\"male\",\"C\",null],[\"Beauchamp, Mr. Henry James\",\"male\",\"S\",null],[\"Lindeberg-Lind, Mr. Erik Gustaf (Mr Edward Lingrey\\\")\\\"\",\"male\",\"S\",null],[\"Vander Planke, Mr. Julius\",\"male\",\"S\",null],[\"Hilliard, Mr. Herbert Henry\",\"male\",\"S\",null],[\"Davies, Mr. Evan\",\"male\",\"S\",null],[\"Crafton, Mr. John Bertram\",\"male\",\"S\",null],[\"Lahtinen, Rev. William\",\"male\",\"S\",null],[\"Matinoff, Mr. Nicola\",\"male\",\"C\",null],[\"Storey, Mr. Thomas\",\"male\",\"S\",null],[\"Asplund, Master. Filip Oscar\",\"male\",\"S\",null],[\"Duquemin, Mr. Joseph\",\"male\",\"S\",null],[\"Borebank, Mr. John James\",\"male\",\"S\",null],[\"Touma, Master. Georges Youssef\",\"male\",\"C\",null],[\"Pearce, Mr. Ernest\",\"male\",\"S\",null],[\"Peruschitz, Rev. Joseph Maria\",\"male\",\"S\",null],[\"Brandeis, Mr. Emil\",\"male\",\"C\",null],[\"Ford, Mr. Edward Watson\",\"male\",\"S\",null],[\"Lithman, Mr. Simon\",\"male\",\"S\",null],[\"Zakarian, Mr. Ortin\",\"male\",\"C\",null],[\"Dyker, Mr. Adolf Fredrik\",\"male\",\"S\",null],[\"Torfa, Mr. Assad\",\"male\",\"C\",null],[\"Asplund, Mr. Carl Oscar Vilhelm Gustafsson\",\"male\",\"S\",null],[\"Stengel, Mr. Charles Emil Henry\",\"male\",\"C\",null],[\"McCrie, Mr. James Matthew\",\"male\",\"S\",null],[\"Compton, Mr. Alexander Taylor Jr\",\"male\",\"C\",null],[\"Lane, Mr. Patrick\",\"male\",\"Q\",null],[\"Maybery, Mr. Frank Hubert\",\"male\",\"S\",null],[\"Davies, Mr. Joseph\",\"male\",\"S\",null],[\"Veal, Mr. James\",\"male\",\"S\",null],[\"Angle, Mr. William A\",\"male\",\"S\",null],[\"Salomon, Mr. Abraham L\",\"male\",\"S\",null],[\"van Billiard, Master. Walter John\",\"male\",\"S\",null],[\"Lingane, Mr. John\",\"male\",\"Q\",null],[\"Drew, Master. Marshall Brines\",\"male\",\"S\",null],[\"Karlsson, Mr. Julius Konrad Eugen\",\"male\",\"S\",null],[\"Spedden, Master. Robert Douglas\",\"male\",\"C\",null],[\"Baimbrigge, Mr. Charles Robert\",\"male\",\"S\",null],[\"Danbom, Master. Gilbert Sigvard Emanuel\",\"male\",\"S\",null],[\"Astor, Col. John Jacob\",\"male\",\"C\",null],[\"Andrew, Mr. Frank Thomas\",\"male\",\"S\",null],[\"Omont, Mr. Alfred Fernand\",\"male\",\"C\",null],[\"Collett, Mr. Sidney C Stuart\",\"male\",\"S\",null],[\"Delalic, Mr. Redjo\",\"male\",\"S\",null],[\"Andersen, Mr. Albert Karvin\",\"male\",\"S\",null],[\"Finoli, Mr. Luigi\",\"male\",\"S\",null],[\"Deacon, Mr. Percy William\",\"male\",\"S\",null],[\"Head, Mr. Christopher\",\"male\",\"S\",null],[\"Wick, Mr. George Dennick\",\"male\",\"S\",null],[\"Thomson, Mr. Alexander Morrison\",\"male\",\"S\",null],[\"Reynolds, Mr. Harold J\",\"male\",\"S\",null],[\"Karlsson, Mr. Einar Gervasius\",\"male\",\"S\",null],[\"Asplund, Mr. Johan Charles\",\"male\",\"S\",null],[\"Everett, Mr. Thomas James\",\"male\",\"S\",null],[\"Hocking, Mr. Samuel James Metcalfe\",\"male\",\"S\",null],[\"Sweet, Mr. George Frederick\",\"male\",\"S\",null],[\"Wiklund, Mr. Karl Johan\",\"male\",\"S\",null],[\"Linehan, Mr. Michael\",\"male\",\"Q\",null],[\"Cumings, Mr. John Bradley\",\"male\",\"C\",null],[\"Vendel, Mr. Olof Edvin\",\"male\",\"S\",null],[\"Warren, Mr. Frank Manley\",\"male\",\"C\",null],[\"Baccos, Mr. Raffull\",\"male\",\"C\",null],[\"Spedden, Mr. Frederic Oakley\",\"male\",\"C\",null],[\"Hyman, Mr. Abraham\",\"male\",\"S\",null],[\"Johnston, Master. William Arthur Willie\\\"\\\"\",\"male\",\"S\",null],[\"Kenyon, Mr. Frederick R\",\"male\",\"S\",null],[\"Drew, Mr. James Vivian\",\"male\",\"S\",null],[\"Abrahamsson, Mr. Abraham August Johannes\",\"male\",\"S\",null],[\"Clark, Mr. Walter Miller\",\"male\",\"C\",null],[\"Salander, Mr. Karl Johan\",\"male\",\"S\",null],[\"Wenzel, Mr. Linhart\",\"male\",\"S\",null],[\"MacKay, Mr. George William\",\"male\",\"S\",null],[\"Mahon, Mr. John\",\"male\",\"Q\",null],[\"Niklasson, Mr. Samuel\",\"male\",\"S\",null],[\"Midtsjo, Mr. Karl Albert\",\"male\",\"S\",null],[\"de Messemaeker, Mr. Guillaume Joseph\",\"male\",\"S\",null],[\"Nilsson, Mr. August Ferdinand\",\"male\",\"S\",null],[\"Portaluppi, Mr. Emilio Ilario Giuseppe\",\"male\",\"C\",null],[\"Lyntakoff, Mr. Stanko\",\"male\",\"S\",null],[\"Chisholm, Mr. Roderick Robert Crispin\",\"male\",\"S\",null],[\"Warren, Mr. Charles William\",\"male\",\"S\",null],[\"Pokrnic, Mr. Mate\",\"male\",\"S\",null],[\"McCaffry, Mr. Thomas Francis\",\"male\",\"C\",null],[\"Fox, Mr. Patrick\",\"male\",\"Q\",null],[\"Saade, Mr. Jean Nassr\",\"male\",\"C\",null],[\"Parker, Mr. Clifford Richard\",\"male\",\"S\",null],[\"Faunthorpe, Mr. Harry\",\"male\",\"S\",null],[\"Ware, Mr. John James\",\"male\",\"S\",null],[\"Oxenham, Mr. Percy Thomas\",\"male\",\"S\",null],[\"Peacock, Master. Alfred Edward\",\"male\",\"S\",null],[\"Dennis, Mr. William\",\"male\",\"S\",null],[\"Franklin, Mr. Charles (Charles Fardon)\",\"male\",\"S\",null],[\"Snyder, Mr. John Pillsbury\",\"male\",\"S\",null],[\"Mardirosian, Mr. Sarkis\",\"male\",\"C\",null],[\"Ford, Mr. Arthur\",\"male\",\"S\",null],[\"Rheims, Mr. George Alexander Lucien\",\"male\",\"S\",null],[\"Nasr, Mr. Mustafa\",\"male\",\"C\",null],[\"Dodge, Dr. Washington\",\"male\",\"S\",null],[\"Wittevrongel, Mr. Camille\",\"male\",\"S\",null],[\"Angheloff, Mr. Minko\",\"male\",\"S\",null],[\"Samaan, Mr. Hanna\",\"male\",\"C\",null],[\"Loring, Mr. Joseph Holland\",\"male\",\"S\",null],[\"Johansson, Mr. Nils\",\"male\",\"S\",null],[\"Olsson, Mr. Oscar Wilhelm\",\"male\",\"S\",null],[\"Malachard, Mr. Noel\",\"male\",\"C\",null],[\"Phillips, Mr. Escott Robert\",\"male\",\"S\",null],[\"Pokrnic, Mr. Tome\",\"male\",\"S\",null],[\"Allison, Mr. Hudson Joshua Creighton\",\"male\",\"S\",null],[\"Aks, Master. Philip Frank\",\"male\",\"S\",null],[\"Hays, Mr. Charles Melville\",\"male\",\"S\",null],[\"Cacic, Mr. Jego Grga\",\"male\",\"S\",null],[\"Vartanian, Mr. David\",\"male\",\"C\",null],[\"Sadowitz, Mr. Harry\",\"male\",\"S\",null],[\"Spencer, Mr. William Augustus\",\"male\",\"C\",null],[\"Rogers, Mr. Reginald Harry\",\"male\",\"S\",null],[\"Jonsson, Mr. Nils Hilding\",\"male\",\"S\",null],[\"Jefferys, Mr. Ernest Wilfred\",\"male\",\"S\",null],[\"Andersson, Mr. Johan Samuel\",\"male\",\"S\",null],[\"Krekorian, Mr. Neshan\",\"male\",\"C\",null],[\"Nesson, Mr. Israel\",\"male\",\"S\",null],[\"Rowe, Mr. Alfred G\",\"male\",\"S\",null],[\"Assam, Mr. Ali\",\"male\",\"S\",null],[\"Rosenshine, Mr. George (Mr George Thorne\\\")\\\"\",\"male\",\"C\",null],[\"Clarke, Mr. Charles Valentine\",\"male\",\"S\",null],[\"Enander, Mr. Ingvar\",\"male\",\"S\",null],[\"Dulles, Mr. William Crothers\",\"male\",\"C\",null],[\"Thomas, Mr. Tannous\",\"male\",\"C\",null],[\"Cor, Mr. Ivan\",\"male\",\"S\",null],[\"Maguire, Mr. John Edward\",\"male\",\"S\",null],[\"de Brito, Mr. Jose Joaquim\",\"male\",\"S\",null],[\"Elias, Mr. Joseph\",\"male\",\"C\",null],[\"Denbury, Mr. Herbert\",\"male\",\"S\",null],[\"Betros, Master. Seman\",\"male\",\"C\",null],[\"Fillbrook, Mr. Joseph Charles\",\"male\",\"S\",null],[\"Lundstrom, Mr. Thure Edvin\",\"male\",\"S\",null],[\"Sage, Mr. John George\",\"male\",\"S\",null],[\"van Billiard, Master. James William\",\"male\",\"S\",null],[\"Botsford, Mr. William Hull\",\"male\",\"S\",null],[\"Giles, Mr. Ralph\",\"male\",\"S\",null],[\"Stokes, Mr. Philip Joseph\",\"male\",\"S\",null],[\"Dibden, Mr. William\",\"male\",\"S\",null],[\"Herman, Mr. Samuel\",\"male\",\"S\",null],[\"Julian, Mr. Henry Forbes\",\"male\",\"S\",null],[\"Lockyer, Mr. Edward\",\"male\",\"S\",null],[\"O'Keefe, Mr. Patrick\",\"male\",\"Q\",null],[\"Sage, Master. William Henry\",\"male\",\"S\",null],[\"Strilic, Mr. Ivan\",\"male\",\"S\",null],[\"Caram, Mr. Joseph\",\"male\",\"C\",null],[\"Pallas y Castello, Mr. Emilio\",\"male\",\"C\",null],[\"Giles, Mr. Edgar\",\"male\",\"S\",null],[\"Ismay, Mr. Joseph Bruce\",\"male\",\"S\",null],[\"Harbeck, Mr. William H\",\"male\",\"S\",null],[\"Cotterill, Mr. Henry Harry\\\"\\\"\",\"male\",\"S\",null],[\"Hipkins, Mr. William Edward\",\"male\",\"S\",null],[\"Asplund, Master. Carl Edgar\",\"male\",\"S\",null],[\"O'Connor, Mr. Patrick\",\"male\",\"Q\",null],[\"Foley, Mr. Joseph\",\"male\",\"Q\",null],[\"Wheeler, Mr. Edwin Frederick\\\"\\\"\",\"male\",\"S\",null],[\"Aronsson, Mr. Ernst Axel Algot\",\"male\",\"S\",null],[\"Ashby, Mr. John\",\"male\",\"S\",null],[\"Canavan, Mr. Patrick\",\"male\",\"Q\",null],[\"Palsson, Master. Paul Folke\",\"male\",\"S\",null],[\"Payne, Mr. Vivian Ponsonby\",\"male\",\"S\",null],[\"Abbott, Master. Eugene Joseph\",\"male\",\"S\",null],[\"Gilbert, Mr. William\",\"male\",\"S\",null],[\"Kink-Heilmann, Mr. Anton\",\"male\",\"S\",null],[\"Colbert, Mr. Patrick\",\"male\",\"Q\",null],[\"Larsson-Rondberg, Mr. Edvard A\",\"male\",\"S\",null],[\"Conlon, Mr. Thomas Henry\",\"male\",\"Q\",null],[\"Gale, Mr. Harry\",\"male\",\"S\",null],[\"Carrau, Mr. Jose Pedro\",\"male\",\"S\",null],[\"Frauenthal, Mr. Isaac Gerald\",\"male\",\"C\",null],[\"Nourney, Mr. Alfred (Baron von Drachstedt\\\")\\\"\",\"male\",\"C\",null],[\"Ware, Mr. William Jeffery\",\"male\",\"S\",null],[\"Widener, Mr. George Dunton\",\"male\",\"C\",null],[\"Spector, Mr. Woolf\",\"male\",\"S\",null],[\"Saether, Mr. Simon Sivertsen\",\"male\",\"S\",null],[\"Ware, Mr. Frederick\",\"male\",\"S\",null],[\"Peter, Master. Michael J\",\"male\",\"C\",null]],\"hovertemplate\":\"Sex=%{customdata[1]}\\u003cbr\\u003eAge=%{x}\\u003cbr\\u003eFare=%{y}\\u003cbr\\u003ePclass=%{z}\\u003cbr\\u003eName=%{customdata[0]}\\u003cbr\\u003eEmbarked=%{customdata[2]}\\u003cbr\\u003eSurvived=%{customdata[3]}\\u003cextra\\u003e\\u003c\\u002fextra\\u003e\",\"legendgroup\":\"male\",\"marker\":{\"color\":\"lightblue\",\"symbol\":\"circle\"},\"mode\":\"markers\",\"name\":\"male\",\"scene\":\"scene\",\"showlegend\":true,\"x\":[22.0,35.0,null,54.0,2.0,20.0,39.0,2.0,null,35.0,34.0,28.0,null,19.0,null,40.0,66.0,28.0,42.0,null,21.0,null,null,null,null,7.0,21.0,65.0,null,28.5,11.0,22.0,45.0,4.0,null,null,19.0,26.0,32.0,21.0,26.0,32.0,25.0,null,null,0.83,22.0,29.0,28.0,16.0,null,24.0,29.0,20.0,46.0,26.0,59.0,null,71.0,23.0,34.0,null,21.0,33.0,37.0,28.0,null,38.0,47.0,22.0,21.0,70.5,29.0,24.0,21.0,null,32.5,54.0,12.0,null,24.0,45.0,33.0,20.0,25.0,23.0,37.0,16.0,24.0,19.0,18.0,19.0,27.0,36.5,42.0,51.0,55.5,40.5,null,51.0,30.0,null,null,44.0,26.0,17.0,1.0,9.0,null,28.0,61.0,4.0,21.0,56.0,18.0,null,30.0,36.0,null,9.0,1.0,null,45.0,40.0,36.0,19.0,3.0,null,42.0,28.0,null,34.0,45.5,18.0,32.0,26.0,40.0,24.0,22.0,30.0,null,42.0,30.0,16.0,27.0,51.0,null,38.0,22.0,19.0,20.5,18.0,29.0,59.0,24.0,44.0,19.0,33.0,29.0,22.0,30.0,44.0,37.0,54.0,null,62.0,30.0,null,3.0,52.0,40.0,36.0,16.0,25.0,null,25.0,37.0,null,7.0,65.0,28.0,16.0,19.0,null,33.0,30.0,22.0,42.0,36.0,24.0,null,23.5,null,null,19.0,null,0.92,30.0,28.0,43.0,54.0,22.0,27.0,null,61.0,45.5,38.0,16.0,null,29.0,45.0,45.0,2.0,28.0,25.0,36.0,3.0,42.0,23.0,null,15.0,25.0,null,28.0,40.0,29.0,35.0,null,30.0,25.0,18.0,19.0,22.0,27.0,20.0,19.0,32.0,null,18.0,1.0,null,36.0,21.0,28.0,22.0,46.0,23.0,39.0,26.0,28.0,34.0,51.0,3.0,21.0,null,null,null,44.0,30.0,null,21.0,29.0,18.0,null,null,32.0,28.0,17.0,50.0,64.0,31.0,20.0,25.0,null,4.0,34.0,52.0,36.0,null,30.0,49.0,null,29.0,65.0,null,48.0,34.0,47.0,48.0,null,38.0,null,56.0,null,null,38.0,null,34.0,29.0,22.0,9.0,null,50.0,25.0,58.0,30.0,9.0,null,21.0,55.0,71.0,21.0,null,null,24.0,17.0,18.0,null,28.0,26.0,29.0,null,36.0,24.0,47.0,null,32.0,22.0,null,null,40.5,null,39.0,23.0,null,17.0,45.0,null,32.0,50.0,64.0,null,33.0,8.0,17.0,27.0,null,22.0,62.0,null,null,40.0,28.0,null,24.0,19.0,null,32.0,62.0,36.0,16.0,19.0,32.0,54.0,36.0,null,47.0,60.0,22.0,null,35.0,47.0,37.0,36.0,49.0,null,49.0,null,null,44.0,35.0,36.0,30.0,27.0,null,null,35.0,34.0,26.0,27.0,42.0,20.0,21.0,21.0,61.0,57.0,26.0,null,80.0,51.0,32.0,null,32.0,31.0,null,20.0,null,48.0,19.0,56.0,null,null,21.0,24.0,null,23.0,58.0,50.0,40.0,47.0,36.0,20.0,32.0,25.0,null,43.0,31.0,70.0,31.0,null,18.0,24.5,36.0,27.0,20.0,14.0,60.0,25.0,14.0,19.0,18.0,31.0,null,25.0,60.0,52.0,44.0,49.0,42.0,35.0,25.0,26.0,39.0,42.0,null,null,48.0,29.0,52.0,19.0,null,33.0,17.0,34.0,50.0,27.0,20.0,25.0,11.0,null,23.0,23.0,28.5,35.0,null,null,null,36.0,24.0,31.0,70.0,16.0,19.0,31.0,6.0,33.0,23.0,0.67,28.0,18.0,34.0,null,41.0,20.0,16.0,null,null,32.0,24.0,48.0,null,18.0,null,null,29.0,null,25.0,25.0,8.0,1.0,46.0,null,16.0,null,25.0,39.0,30.0,34.0,11.0,0.42,27.0,31.0,39.0,39.0,26.0,39.0,35.0,30.5,null,31.0,43.0,10.0,27.0,38.0,2.0,null,null,1.0,null,0.83,null,23.0,18.0,21.0,null,32.0,null,20.0,16.0,34.5,17.0,42.0,null,35.0,28.0,4.0,74.0,51.0,null,41.0,21.0,24.0,31.0,null,4.0,26.0,33.0,47.0,20.0,19.0,null,33.0,28.0,25.0,27.0,26.0,32.0,34.5,62.0,27.0,14.0,26.0,21.0,null,46.0,63.0,35.0,21.0,55.0,9.0,21.0,50.0,22.5,41.0,null,50.0,24.0,30.0,18.5,25.0,null,39.0,null,41.0,25.0,45.0,null,24.0,27.0,null,10.0,35.0,25.0,null,17.0,32.0,18.0,13.0,47.0,31.0,21.0,28.5,32.5,null,30.0,6.0,67.0,49.0,null,null,null,2.0,null,null,25.0,25.0,29.0,33.0,27.0,null,26.0,28.0,21.0,null,null,18.5,41.0,18.0,null,36.0,null,28.0,null,22.0,42.0,24.0,32.0,53.0,null,43.0,24.0,26.5,26.0,40.0,61.0,28.0,42.0,31.0,null,22.0,null,30.0,null,60.5,13.0,24.0,42.0,7.0,null,41.0,48.0,18.0,null,27.0,23.0,null,40.0,54.0,30.0,37.0,null,40.0,17.0,40.0,34.0,null,11.5,61.0,8.0,33.0,6.0,23.0,0.33,47.0,25.0,null,24.0,25.0,32.0,null,17.0,42.0,57.0,null,21.0,21.0,23.0,40.5,36.0,14.0,21.0,null,39.0,20.0,64.0,20.0,45.0,null,null,41.0,42.0,20.0,27.0,24.0,32.5,null,null,28.0,21.0,36.5,21.0,30.0,null,null,null,17.0,46.0,null,null,28.0,40.0,30.0,22.0,0.75,36.0,null,24.0,null,null,null,null,53.0,36.0,26.0,null,30.0,29.0,32.0,null,43.0,24.0,30.0,0.83,55.0,18.0,22.0,null,57.0,19.0,27.0,22.0,26.0,25.0,26.0,33.0,23.0,46.0,29.0,21.0,39.0,null,27.0,30.0,32.0,39.0,25.0,null,18.0,32.0,null,null,26.0,24.0,25.0,18.0,49.0,50.0,null,null,14.5,27.0,null,29.0,21.0,49.0,44.0,21.0,55.0,5.0,null,26.0,null,24.0,57.0,21.0,6.0,23.0,13.0,47.0,29.0,24.0,22.0,31.0,38.0,17.0,43.0,20.0,23.0,50.0,null,38.5,null,null],\"y\":[7.25,8.05,8.4583,51.8625,21.075,8.05,31.275,29.125,13.0,26.0,13.0,35.5,7.225,263.0,7.8958,27.7208,10.5,82.1708,52.0,7.2292,8.05,7.8958,8.05,15.5,21.6792,39.6875,7.8,61.9792,35.5,7.2292,46.9,7.2292,83.475,27.9,27.7208,15.2458,8.1583,8.6625,10.5,73.5,14.4542,56.4958,7.65,7.8958,8.05,29.0,9.0,9.5,47.1,34.375,8.05,8.05,8.05,7.8542,61.175,20.575,7.25,8.05,34.6542,63.3583,26.0,7.8958,77.2875,8.6542,7.925,7.8958,7.775,7.8958,52.0,8.05,7.925,7.75,21.0,247.5208,73.5,8.05,30.0708,77.2875,11.2417,7.75,7.1417,6.975,7.8958,7.05,13.0,15.0458,53.1,9.2167,79.2,6.75,11.5,36.75,7.7958,26.0,13.0,12.525,8.05,14.5,7.3125,61.3792,8.05,8.6625,69.55,16.1,7.775,8.6625,39.6875,20.525,25.925,56.4958,33.5,29.125,7.925,30.6958,7.8542,25.4667,13.0,0.0,15.05,31.3875,39.0,50.0,26.55,15.5,7.8958,13.0,26.0,7.75,8.4042,9.5,69.55,6.4958,7.225,8.05,15.85,18.7875,31.0,7.05,7.25,13.0,7.75,27.0,10.5,8.05,13.0,8.05,7.8958,90.0,9.35,10.5,7.25,13.0,7.775,13.5,10.5,26.0,10.5,12.275,10.5,7.125,7.225,90.0,52.5542,26.0,7.25,26.55,16.1,7.75,31.3875,79.65,0.0,10.5,39.6875,7.775,31.0,0.0,29.7,0.0,29.125,7.75,7.8542,9.5,8.05,26.0,8.6625,9.5,7.8958,13.0,12.875,7.8958,27.7208,7.2292,30.5,23.25,0.0,8.05,151.55,24.0,7.8958,26.25,14.0,7.25,7.8958,69.55,6.2375,28.5,153.4625,18.0,7.8958,66.6,8.05,35.5,26.0,13.0,13.0,13.0,15.9,8.6625,9.225,35.0,7.2292,17.8,7.225,9.5,27.9,27.7208,7.05,15.5,7.25,55.4417,6.4958,8.05,135.6333,211.5,4.0125,7.775,7.925,7.8958,73.5,46.9,7.7292,120.0,7.7958,7.925,7.7958,26.0,10.5,7.925,8.05,15.85,21.0,7.75,18.75,7.775,7.8958,6.8583,0.0,7.925,13.0,7.8958,7.7333,7.875,20.2125,7.25,7.75,8.05,26.55,7.125,55.9,263.0,10.5,9.5,7.775,8.1125,81.8583,26.55,30.5,27.75,19.9667,27.75,89.1042,8.05,7.8958,26.55,7.75,26.55,8.05,38.5,13.0,8.05,7.05,0.0,26.55,7.725,7.25,8.6625,52.0,21.0,7.0458,7.5208,46.9,0.0,8.05,91.0792,29.7,8.05,15.9,19.9667,7.25,30.5,49.5042,8.05,14.4583,15.1,7.7958,8.6625,108.9,26.55,22.525,56.4958,7.75,8.05,26.2875,7.4958,34.0208,24.15,7.8958,7.8958,7.225,7.2292,7.75,221.7792,7.925,11.5,7.2292,7.2292,26.55,14.5,26.0,106.425,26.0,13.8625,20.525,36.75,110.8833,26.0,7.8292,7.225,26.55,227.525,7.75,7.8958,13.5,8.05,24.15,7.8958,7.2292,7.8542,10.5,26.3875,8.05,14.5,7.925,26.0,40.125,8.7125,15.0,79.2,8.05,8.05,7.125,7.25,26.0,24.15,0.0,7.225,56.9292,7.8958,42.4,8.05,26.55,15.55,7.8958,30.5,7.05,7.75,8.05,14.4,10.5,14.4542,52.5542,15.7417,7.8542,16.1,32.3208,12.35,7.8958,7.7333,30.0,7.0542,30.5,0.0,7.925,26.25,16.1,7.8542,56.4958,76.7292,7.8958,35.5,7.55,7.8958,8.4333,73.5,7.8958,13.0,113.275,133.65,7.225,25.5875,7.4958,7.925,73.5,13.0,7.775,8.05,52.0,10.5,13.0,0.0,7.775,8.05,512.3292,76.7292,9.225,46.9,39.0,41.5792,39.6875,10.1708,7.7958,57.0,56.4958,7.225,26.55,13.5,8.05,110.8833,7.65,26.2875,7.7417,7.8542,26.0,26.2875,15.2458,26.55,52.0,9.4833,13.0,7.65,15.5,7.775,7.0542,13.0,13.0,53.1,8.6625,26.0,18.7875,0.0,13.0,13.0,16.1,512.3292,7.8958,7.8958,30.0,78.85,16.1,7.925,71.0,20.25,53.1,7.75,12.475,9.5,7.8958,14.5,7.7958,11.5,8.05,14.5,7.125,7.2292,7.775,39.6,24.15,8.3625,9.5,7.8542,7.225,7.75,7.75,7.7375,30.0,23.45,7.05,7.25,29.125,20.575,79.2,7.75,26.0,30.6958,7.8958,13.0,7.2292,13.0,120.0,8.5167,6.975,7.775,0.0,13.0,7.8875,24.15,10.5,8.05,0.0,37.0042,6.45,27.9,8.6625,0.0,39.6875,6.95,56.4958,37.0042,7.75,18.75,7.2292,7.8542,8.3,8.6625,8.05,56.4958,29.7,7.925,10.5,6.4375,8.6625,7.55,69.55,7.8958,33.0,31.275,7.775,26.55,7.2292,14.1083,11.5,13.0,50.4958,9.5,11.1333,7.8958,5.0,9.0,9.8458,7.8958,7.8958,7.8958,10.5,7.05,13.0,30.0,7.75,7.8292,9.6875,8.6625,9.225,29.0,24.15,7.8958,26.0,26.0,12.35,7.225,59.4,3.1708,61.3792,14.5,7.225,30.5,21.6792,26.0,31.5,57.75,7.2292,9.5,56.4958,13.4167,26.55,7.85,7.925,29.7,7.75,60.0,15.0333,15.5792,29.125,7.8958,7.65,16.1,7.8958,13.5,7.75,262.375,42.4,28.5375,7.8958,27.7208,211.5,8.05,13.0,15.2458,221.7792,26.0,7.8958,10.7083,14.4542,23.0,7.775,8.05,26.0,7.7958,7.925,8.05,26.0,7.75,7.775,22.525,7.8208,7.75,8.7125,13.0,15.0458,14.4542,6.4375,75.2417,7.75,7.25,7.75,7.7958,13.0,8.05,8.05,28.5,6.4375,7.8958,7.8542,7.225,13.0,46.9,262.375,26.0,26.55,18.0,51.8625,8.05,26.55,26.0,7.8958,null,31.3875,7.55,26.55,15.2458,7.0,13.0,50.4958,34.375,7.55,7.225,13.9,7.2292,31.3875,55.4417,13.0,83.1583,7.75,16.0,8.05,13.0,26.0,26.0,14.5,12.35,32.5,7.8542,134.5,10.5,14.4,227.525,10.5,25.7417,10.5,7.8958,22.525,7.05,73.5,42.5,164.8667,8.05,8.05,7.7958,7.7958,15.1,13.0,65.0,6.4958,7.8792,71.2833,7.8542,75.25,7.225,134.5,7.8875,23.45,51.8625,32.5,7.925,136.7792,9.325,9.5,7.55,7.75,8.05,7.775,17.4,7.8542,12.7375,7.8958,0.0,7.55,8.6625,75.2417,7.75,7.225,10.5,26.0,21.0,10.5,13.775,7.25,7.25,82.2667,7.2292,8.05,39.6,7.2292,81.8583,9.5,7.8958,21.6792,45.5,7.8542,7.775,15.0458,21.0,8.6625,151.55,9.35,93.5,8.6625,7.225,7.575,146.5208,10.5,7.8542,31.5,7.775,7.2292,13.0,26.55,7.05,79.2,26.0,13.0,29.7,7.225,7.8958,26.0,13.0,7.2292,31.5,7.2292,10.5,7.5792,69.55,14.5,13.0,13.5,10.5,73.5,65.0,26.0,7.8792,7.75,69.55,8.6625,14.4583,13.8583,11.5,0.0,13.0,11.5,50.0,31.3875,7.75,7.8792,12.875,7.775,13.0,7.75,21.075,93.5,20.25,10.5,22.025,7.25,7.775,7.7333,21.0,47.1,27.7208,13.8625,10.5,211.5,8.05,7.25,8.05,22.3583],\"z\":[3,3,3,1,3,3,3,3,2,2,2,1,3,1,3,1,2,1,1,3,3,3,3,3,3,3,3,1,1,3,3,3,1,3,1,3,3,3,2,2,3,3,3,3,3,2,3,3,1,3,3,3,3,3,1,3,3,3,1,1,2,3,1,3,3,3,3,3,1,3,3,3,2,1,2,3,2,1,3,3,3,3,3,3,2,2,1,3,1,3,2,2,3,2,2,2,3,3,3,1,3,3,3,3,3,3,3,3,1,3,1,3,3,1,3,3,2,3,2,3,2,1,1,3,3,2,2,3,3,3,3,3,3,3,3,3,1,3,3,2,3,2,2,3,2,3,3,1,3,2,3,2,3,2,2,2,2,2,2,3,3,1,1,2,3,1,3,3,3,1,1,2,3,3,1,3,1,2,3,3,3,3,3,1,3,3,3,2,2,3,1,3,1,3,3,3,1,2,3,2,2,3,3,3,3,1,1,3,3,1,3,1,2,2,2,2,3,3,3,1,3,3,3,3,3,2,3,3,3,1,3,3,1,1,3,3,3,3,2,3,3,1,3,3,3,2,2,3,3,3,2,3,2,3,3,3,2,3,2,3,3,3,3,3,3,3,1,3,1,1,2,3,3,3,1,1,1,2,3,1,1,3,3,1,3,1,3,1,2,3,3,2,1,3,3,3,1,2,3,3,3,2,3,1,1,3,3,3,3,1,1,3,3,3,3,3,1,1,3,3,3,3,1,3,1,3,3,3,3,3,3,1,3,2,3,3,1,3,2,1,1,2,3,2,1,2,3,3,1,1,3,3,2,3,3,3,3,3,2,1,3,3,3,2,1,3,2,1,3,3,3,3,2,3,3,3,1,3,1,3,1,3,3,1,3,3,3,3,2,3,1,3,3,3,1,2,3,3,1,3,1,1,3,2,3,3,3,1,3,1,3,3,3,2,3,2,1,1,3,1,3,3,2,2,3,3,1,2,2,2,3,3,1,1,3,3,2,2,3,3,3,1,3,3,1,2,3,1,3,1,3,3,2,1,3,1,1,3,2,3,3,3,3,2,2,1,3,2,3,2,2,2,3,1,3,3,1,1,3,3,1,3,1,3,3,3,3,2,3,2,3,3,3,3,3,1,3,3,3,3,3,3,3,3,1,3,3,3,3,3,1,3,2,1,3,2,3,2,1,3,3,3,1,2,3,3,2,3,1,2,3,3,3,1,3,3,3,2,3,2,3,3,3,3,3,3,1,3,2,3,3,3,3,3,2,3,3,1,3,3,2,2,1,3,3,3,1,3,3,3,3,3,2,3,2,1,3,3,2,3,3,2,3,3,1,2,2,3,1,3,1,3,3,1,3,2,2,1,3,3,3,3,1,3,3,1,3,1,2,2,3,3,3,3,3,2,3,1,1,1,3,1,1,3,2,3,1,1,3,2,3,2,3,3,1,3,3,3,2,3,3,3,3,3,3,2,2,3,3,1,3,3,3,3,2,3,3,1,3,3,3,3,2,3,1,2,1,3,1,3,1,2,3,3,3,3,1,3,3,2,1,3,3,3,3,3,3,1,2,1,3,2,3,2,2,1,3,2,2,3,1,2,3,1,2,1,2,3,3,3,2,1,1,3,3,3,3,3,2,2,3,3,1,3,1,3,1,3,3,1,2,3,1,3,3,3,3,3,3,3,3,2,3,1,3,3,1,3,3,2,2,2,2,3,3,3,1,3,3,1,3,1,3,3,3,1,3,3,2,2,3,1,3,1,3,3,3,1,2,3,2,3,3,2,1,3,1,2,2,1,3,3,1,2,3,2,3,2,3,3,3,2,2,2,2,2,1,3,3,3,3,3,2,2,1,2,2,1,3,3,3,2,3,2,3,3,1,3,2,3,3,3,3,2,1,1,2,2,1,3,3,3,3],\"type\":\"scatter3d\"},{\"customdata\":[[\"Cumings, Mrs. John Bradley (Florence Briggs Thayer)\",\"female\",\"C\",1.0],[\"Heikkinen, Miss. Laina\",\"female\",\"S\",1.0],[\"Futrelle, Mrs. Jacques Heath (Lily May Peel)\",\"female\",\"S\",1.0],[\"Johnson, Mrs. Oscar W (Elisabeth Vilhelmina Berg)\",\"female\",\"S\",1.0],[\"Nasser, Mrs. Nicholas (Adele Achem)\",\"female\",\"C\",1.0],[\"Sandstrom, Miss. Marguerite Rut\",\"female\",\"S\",1.0],[\"Bonnell, Miss. Elizabeth\",\"female\",\"S\",1.0],[\"Vestrom, Miss. Hulda Amanda Adolfina\",\"female\",\"S\",0.0],[\"Hewlett, Mrs. (Mary D Kingcome) \",\"female\",\"S\",1.0],[\"Vander Planke, Mrs. Julius (Emelia Maria Vandemoortele)\",\"female\",\"S\",0.0],[\"Masselmani, Mrs. Fatima\",\"female\",\"C\",1.0],[\"McGowan, Miss. Anna \\\"Annie\\\"\",\"female\",\"Q\",1.0],[\"Palsson, Miss. Torborg Danira\",\"female\",\"S\",0.0],[\"Asplund, Mrs. Carl Oscar (Selma Augusta Emilia Johansson)\",\"female\",\"S\",1.0],[\"O'Dwyer, Miss. Ellen \\\"Nellie\\\"\",\"female\",\"Q\",1.0],[\"Spencer, Mrs. William Augustus (Marie Eugenie)\",\"female\",\"C\",1.0],[\"Glynn, Miss. Mary Agatha\",\"female\",\"Q\",1.0],[\"Vander Planke, Miss. Augusta Maria\",\"female\",\"S\",0.0],[\"Nicola-Yarred, Miss. Jamila\",\"female\",\"C\",1.0],[\"Ahlin, Mrs. Johan (Johanna Persdotter Larsson)\",\"female\",\"S\",0.0],[\"Turpin, Mrs. William John Robert (Dorothy Ann Wonnacott)\",\"female\",\"S\",0.0],[\"Laroche, Miss. Simonne Marie Anne Andree\",\"female\",\"C\",1.0],[\"Devaney, Miss. Margaret Delia\",\"female\",\"Q\",1.0],[\"O'Driscoll, Miss. Bridget\",\"female\",\"Q\",1.0],[\"Arnold-Franchi, Mrs. Josef (Josefine Franchi)\",\"female\",\"S\",0.0],[\"Harper, Mrs. Henry Sleeper (Myna Haxtun)\",\"female\",\"C\",1.0],[\"Faunthorpe, Mrs. Lizzie (Elizabeth Anne Wilkinson)\",\"female\",\"S\",1.0],[\"Rugg, Miss. Emily\",\"female\",\"S\",1.0],[\"West, Miss. Constance Mirium\",\"female\",\"S\",1.0],[\"Icard, Miss. Amelie\",\"female\",null,1.0],[\"Nye, Mrs. (Elizabeth Ramell)\",\"female\",\"S\",1.0],[\"Andersson, Miss. Erna Alexandra\",\"female\",\"S\",1.0],[\"Goodwin, Miss. Lillian Amy\",\"female\",\"S\",0.0],[\"Dowdell, Miss. Elizabeth\",\"female\",\"S\",1.0],[\"McDermott, Miss. Brigdet Delia\",\"female\",\"Q\",1.0],[\"Ilett, Miss. Bertha\",\"female\",\"S\",1.0],[\"Backstrom, Mrs. Karl Alfred (Maria Mathilda Gustafsson)\",\"female\",\"S\",1.0],[\"Fortune, Miss. Mabel Helen\",\"female\",\"S\",1.0],[\"Doling, Mrs. John T (Ada Julia Bone)\",\"female\",\"S\",1.0],[\"Petranec, Miss. Matilda\",\"female\",\"S\",0.0],[\"Salkjelsvik, Miss. Anna Kristine\",\"female\",\"S\",1.0],[\"Moran, Miss. Bertha\",\"female\",\"Q\",1.0],[\"Zabour, Miss. Hileni\",\"female\",\"C\",0.0],[\"Jussila, Miss. Katriina\",\"female\",\"S\",0.0],[\"Attalah, Miss. Malake\",\"female\",\"C\",0.0],[\"Andersson, Miss. Ellis Anna Maria\",\"female\",\"S\",0.0],[\"Webber, Miss. Susan\",\"female\",\"S\",1.0],[\"Peter, Miss. Anna\",\"female\",\"C\",1.0],[\"Robins, Mrs. Alexander A (Grace Charity Laury)\",\"female\",\"S\",0.0],[\"Weisz, Mrs. Leopold (Mathilde Francoise Pede)\",\"female\",\"S\",1.0],[\"Newsom, Miss. Helen Monypeny\",\"female\",\"S\",1.0],[\"Boulos, Mrs. Joseph (Sultana)\",\"female\",\"C\",0.0],[\"Nysten, Miss. Anna Sofia\",\"female\",\"S\",1.0],[\"Hakkarainen, Mrs. Pekka Pietari (Elin Matilda Dolck)\",\"female\",\"S\",1.0],[\"Ford, Miss. Robina Maggie \\\"Ruby\\\"\",\"female\",\"S\",0.0],[\"Pears, Mrs. Thomas (Edith Wearne)\",\"female\",\"S\",1.0],[\"Gilnagh, Miss. Katherine \\\"Katie\\\"\",\"female\",\"Q\",1.0],[\"Watt, Mrs. James (Elizabeth \\\"Bessie\\\" Inglis Milne)\",\"female\",\"S\",1.0],[\"Chibnall, Mrs. (Edith Martha Bowerman)\",\"female\",\"S\",1.0],[\"Skoog, Mrs. William (Anna Bernhardina Karlsson)\",\"female\",\"S\",0.0],[\"Johnson, Miss. Eleanor Ileen\",\"female\",\"S\",1.0],[\"Isham, Miss. Ann Elizabeth\",\"female\",\"C\",0.0],[\"Sage, Miss. Constance Gladys\",\"female\",\"S\",0.0],[\"Kink-Heilmann, Miss. Luise Gretchen\",\"female\",\"S\",1.0],[\"O'Brien, Mrs. Thomas (Johanna \\\"Hannah\\\" Godfrey)\",\"female\",\"Q\",1.0],[\"Pinsky, Mrs. (Rosa)\",\"female\",\"S\",1.0],[\"Andersen-Jensen, Miss. Carla Christine Nielsine\",\"female\",\"S\",1.0],[\"Brown, Mrs. James Joseph (Margaret Tobin)\",\"female\",\"C\",1.0],[\"Lurette, Miss. Elise\",\"female\",\"C\",1.0],[\"Madigan, Miss. Margaret \\\"Maggie\\\"\",\"female\",\"Q\",1.0],[\"Yrois, Miss. Henriette (\\\"Mrs Harbeck\\\")\",\"female\",\"S\",0.0],[\"Strom, Miss. Telma Matilda\",\"female\",\"S\",0.0],[\"Carr, Miss. Helen \\\"Ellen\\\"\",\"female\",\"Q\",1.0],[\"Cameron, Miss. Clear Annie\",\"female\",\"S\",1.0],[\"Newell, Miss. Madeleine\",\"female\",\"C\",1.0],[\"Honkanen, Miss. Eliina\",\"female\",\"S\",1.0],[\"Bazzani, Miss. Albina\",\"female\",\"C\",1.0],[\"Lefebre, Miss. Mathilde\",\"female\",\"S\",0.0],[\"Harris, Mrs. Henry Birkhardt (Irene Wallach)\",\"female\",\"S\",1.0],[\"Asplund, Miss. Lillian Gertrud\",\"female\",\"S\",1.0],[\"Harknett, Miss. Alice Phoebe\",\"female\",\"S\",0.0],[\"Collyer, Miss. Marjorie \\\"Lottie\\\"\",\"female\",\"S\",1.0],[\"Zabour, Miss. Thamine\",\"female\",\"C\",0.0],[\"Murphy, Miss. Katherine \\\"Kate\\\"\",\"female\",\"Q\",1.0],[\"Lindahl, Miss. Agda Thorilda Viktoria\",\"female\",\"S\",0.0],[\"Hamalainen, Mrs. William (Anna)\",\"female\",\"S\",1.0],[\"Strom, Mrs. Wilhelm (Elna Matilda Persson)\",\"female\",\"S\",0.0],[\"Rosblom, Mrs. Viktor (Helena Wilhelmina)\",\"female\",\"S\",0.0],[\"Touma, Mrs. Darwis (Hanne Youssef Razi)\",\"female\",\"C\",1.0],[\"Thorne, Mrs. Gertrude Maybelle\",\"female\",\"C\",1.0],[\"Cherry, Miss. Gladys\",\"female\",\"S\",1.0],[\"Ward, Miss. Anna\",\"female\",\"C\",1.0],[\"Parrish, Mrs. (Lutie Davis)\",\"female\",\"S\",1.0],[\"Henry, Miss. Delia\",\"female\",\"Q\",0.0],[\"Graham, Mrs. William Thompson (Edith Junkins)\",\"female\",\"S\",1.0],[\"Bissette, Miss. Amelia\",\"female\",\"S\",1.0],[\"Mellinger, Mrs. (Elizabeth Anne Maidment)\",\"female\",\"S\",1.0],[\"Healy, Miss. Hanora \\\"Nora\\\"\",\"female\",\"Q\",1.0],[\"Andrews, Miss. Kornelia Theodosia\",\"female\",\"S\",1.0],[\"Lindblom, Miss. Augusta Charlotta\",\"female\",\"S\",0.0],[\"Abbott, Mrs. Stanton (Rosa Hunt)\",\"female\",\"S\",1.0],[\"Connolly, Miss. Kate\",\"female\",\"Q\",1.0],[\"Barber, Miss. Ellen \\\"Nellie\\\"\",\"female\",\"S\",1.0],[\"Bishop, Mrs. Dickinson H (Helen Walton)\",\"female\",\"C\",1.0],[\"Haas, Miss. Aloisia\",\"female\",\"S\",0.0],[\"Allison, Miss. Helen Loraine\",\"female\",\"S\",0.0],[\"Baxter, Mrs. James (Helene DeLaudeniere Chaput)\",\"female\",\"C\",1.0],[\"Kelly, Miss. Anna Katherine \\\"Annie Kate\\\"\",\"female\",\"Q\",1.0],[\"Keane, Miss. Nora A\",\"female\",\"Q\",1.0],[\"Fleming, Miss. Margaret\",\"female\",\"C\",1.0],[\"Penasco y Castellana, Mrs. Victor de Satode (Maria Josefa Perez de Soto y Vallejo)\",\"female\",\"C\",1.0],[\"Francatelli, Miss. Laura Mabel\",\"female\",\"C\",1.0],[\"Hays, Miss. Margaret Bechstein\",\"female\",\"C\",1.0],[\"Ryerson, Miss. Emily Borie\",\"female\",\"C\",1.0],[\"Lahtinen, Mrs. William (Anna Sylfven)\",\"female\",\"S\",0.0],[\"Nilsson, Miss. Helmina Josefina\",\"female\",\"S\",1.0],[\"Kantor, Mrs. Sinai (Miriam Sternin)\",\"female\",\"S\",1.0],[\"Wick, Miss. Mary Natalie\",\"female\",\"S\",1.0],[\"Spedden, Mrs. Frederic Oakley (Margaretta Corning Stone)\",\"female\",\"C\",1.0],[\"Slayter, Miss. Hilda Mary\",\"female\",\"Q\",1.0],[\"Caldwell, Mrs. Albert Francis (Sylvia Mae Harbaugh)\",\"female\",\"S\",1.0],[\"Young, Miss. Marie Grice\",\"female\",\"C\",1.0],[\"Ball, Mrs. (Ada E Hall)\",\"female\",\"S\",1.0],[\"Goldsmith, Mrs. Frank John (Emily Alice Brown)\",\"female\",\"S\",1.0],[\"Hippach, Miss. Jean Gertrude\",\"female\",\"C\",1.0],[\"McCoy, Miss. Agnes\",\"female\",\"Q\",1.0],[\"Frauenthal, Mrs. Henry William (Clara Heinsheimer)\",\"female\",\"S\",1.0],[\"Burns, Miss. Elizabeth Margaret\",\"female\",\"C\",1.0],[\"Fortune, Miss. Alice Elizabeth\",\"female\",\"S\",1.0],[\"Brown, Miss. Amelia \\\"Mildred\\\"\",\"female\",\"S\",1.0],[\"Smith, Miss. Marion Elsie\",\"female\",\"S\",1.0],[\"Davison, Mrs. Thomas Henry (Mary E Finck)\",\"female\",\"S\",1.0],[\"Bowerman, Miss. Elsie Edith\",\"female\",\"S\",1.0],[\"Funk, Miss. Annie Clemmer\",\"female\",\"S\",0.0],[\"McGovern, Miss. Mary\",\"female\",\"Q\",1.0],[\"Mockler, Miss. Helen Mary \\\"Ellie\\\"\",\"female\",\"Q\",1.0],[\"Barbara, Mrs. (Catherine David)\",\"female\",\"C\",0.0],[\"Warren, Mrs. Frank Manley (Anna Sophia Atkinson)\",\"female\",\"C\",1.0],[\"Moussa, Mrs. (Mantoura Boulos)\",\"female\",\"C\",1.0],[\"Jermyn, Miss. Annie\",\"female\",\"Q\",1.0],[\"Aubart, Mme. Leontine Pauline\",\"female\",\"C\",1.0],[\"Palsson, Miss. Stina Viola\",\"female\",\"S\",0.0],[\"Meyer, Mrs. Edgar Joseph (Leila Saks)\",\"female\",\"C\",1.0],[\"Landergren, Miss. Aurora Adelia\",\"female\",\"S\",1.0],[\"Bidois, Miss. Rosalie\",\"female\",\"C\",1.0],[\"Nakid, Miss. Maria (\\\"Mary\\\")\",\"female\",\"C\",1.0],[\"Holverson, Mrs. Alexander Oskar (Mary Aline Towner)\",\"female\",\"S\",1.0],[\"Buss, Miss. Kate\",\"female\",\"S\",1.0],[\"Lehmann, Miss. Bertha\",\"female\",\"C\",1.0],[\"Newell, Miss. Marjorie\",\"female\",\"C\",1.0],[\"Sandstrom, Mrs. Hjalmar (Agnes Charlotta Bengtsson)\",\"female\",\"S\",1.0],[\"Olsson, Miss. Elina\",\"female\",\"S\",0.0],[\"Trout, Mrs. William H (Jessie L)\",\"female\",\"S\",1.0],[\"Jussila, Miss. Mari Aina\",\"female\",\"S\",0.0],[\"Oreskovic, Miss. Marija\",\"female\",\"S\",0.0],[\"Lefebre, Miss. Ida\",\"female\",\"S\",0.0],[\"Minahan, Miss. Daisy E\",\"female\",\"Q\",1.0],[\"Meek, Mrs. Thomas (Annie Louise Rowley)\",\"female\",\"S\",0.0],[\"Drew, Mrs. James Vivian (Lulu Thorne Christian)\",\"female\",\"S\",1.0],[\"Silven, Miss. Lyyli Karoliina\",\"female\",\"S\",1.0],[\"Van Impe, Miss. Catharina\",\"female\",\"S\",0.0],[\"Danbom, Mrs. Ernst Gilbert (Anna Sigrid Maria Brogren)\",\"female\",\"S\",0.0],[\"Clarke, Mrs. Charles V (Ada Maria Winfield)\",\"female\",\"S\",1.0],[\"Phillips, Miss. Kate Florence (\\\"Mrs Kate Louise Phillips Marshall\\\")\",\"female\",\"S\",1.0],[\"Thorneycroft, Mrs. Percival (Florence Kate White)\",\"female\",\"S\",1.0],[\"Louch, Mrs. Charles Alexander (Alice Adelaide Slow)\",\"female\",\"S\",1.0],[\"Carter, Miss. Lucile Polk\",\"female\",\"S\",1.0],[\"Ford, Miss. Doolina Margaret \\\"Daisy\\\"\",\"female\",\"S\",0.0],[\"Richards, Mrs. Sidney (Emily Hocking)\",\"female\",\"S\",1.0],[\"Hart, Mrs. Benjamin (Esther Ada Bloomfield)\",\"female\",\"S\",1.0],[\"Reynaldo, Ms. Encarnacion\",\"female\",\"S\",1.0],[\"Mellinger, Miss. Madeleine Violet\",\"female\",\"S\",1.0],[\"Baclini, Miss. Marie Catherine\",\"female\",\"C\",1.0],[\"Kenyon, Mrs. Frederick R (Marion)\",\"female\",\"S\",1.0],[\"Toomey, Miss. Ellen\",\"female\",\"S\",1.0],[\"Baclini, Miss. Helene Barbara\",\"female\",\"C\",1.0],[\"West, Mrs. Edwy Arthur (Ada Mary Worth)\",\"female\",\"S\",1.0],[\"Jerwan, Mrs. Amin S (Marie Marthe Thuillard)\",\"female\",\"C\",1.0],[\"Strandberg, Miss. Ida Sofia\",\"female\",\"S\",0.0],[\"Hirvonen, Miss. Hildur E\",\"female\",\"S\",1.0],[\"Turkula, Mrs. (Hedwig)\",\"female\",\"S\",1.0],[\"Lefebre, Miss. Jeannie\",\"female\",\"S\",0.0],[\"Hoyt, Mrs. Frederick Maxfield (Jane Anne Forby)\",\"female\",\"S\",1.0],[\"Eustis, Miss. Elizabeth Mussey\",\"female\",\"C\",1.0],[\"Allison, Mrs. Hudson J C (Bessie Waldo Daniels)\",\"female\",\"S\",0.0],[\"Canavan, Miss. Mary\",\"female\",\"Q\",0.0],[\"O'Sullivan, Miss. Bridget Mary\",\"female\",\"Q\",0.0],[\"Laitinen, Miss. Kristina Sofia\",\"female\",\"S\",0.0],[\"Maioni, Miss. Roberta\",\"female\",\"S\",1.0],[\"Quick, Mrs. Frederick Charles (Jane Richards)\",\"female\",\"S\",1.0],[\"Rothschild, Mrs. Martin (Elizabeth L. Barrett)\",\"female\",\"C\",1.0],[\"Lemore, Mrs. (Amelia Milley)\",\"female\",\"S\",1.0],[\"Angle, Mrs. William A (Florence \\\"Mary\\\" Agnes Hughes)\",\"female\",\"S\",1.0],[\"Perreault, Miss. Anne\",\"female\",\"S\",1.0],[\"Hippach, Mrs. Louis Albert (Ida Sophia Fischer)\",\"female\",\"C\",1.0],[\"Ridsdale, Miss. Lucy\",\"female\",\"S\",1.0],[\"Quick, Miss. Phyllis May\",\"female\",\"S\",1.0],[\"Peter, Mrs. Catherine (Catherine Rizk)\",\"female\",\"C\",1.0],[\"Cacic, Miss. Marija\",\"female\",\"S\",0.0],[\"Hart, Miss. Eva Miriam\",\"female\",\"S\",1.0],[\"LeRoy, Miss. Bertha\",\"female\",\"C\",1.0],[\"Frolicher, Miss. Hedwig Margaritha\",\"female\",\"C\",1.0],[\"Crosby, Miss. Harriet R\",\"female\",\"S\",1.0],[\"Andersson, Miss. Ingeborg Constanzia\",\"female\",\"S\",0.0],[\"Andersson, Miss. Sigrid Elisabeth\",\"female\",\"S\",0.0],[\"Beane, Mrs. Edward (Ethel Clarke)\",\"female\",\"S\",1.0],[\"Ohman, Miss. Velin\",\"female\",\"S\",1.0],[\"Duff Gordon, Lady. (Lucille Christiana Sutherland) (\\\"Mrs Morgan\\\")\",\"female\",\"C\",1.0],[\"Taussig, Mrs. Emil (Tillie Mandelbaum)\",\"female\",\"S\",1.0],[\"de Messemaeker, Mrs. Guillaume Joseph (Emma)\",\"female\",\"S\",1.0],[\"Meanwell, Miss. (Marion Ogden)\",\"female\",\"S\",0.0],[\"Palsson, Mrs. Nils (Alma Cornelia Berglund)\",\"female\",\"S\",0.0],[\"Appleton, Mrs. Edward Dale (Charlotte Lamson)\",\"female\",\"S\",1.0],[\"Kelly, Miss. Mary\",\"female\",\"Q\",1.0],[\"Garside, Miss. Ethel\",\"female\",\"S\",1.0],[\"Silvey, Mrs. William Baird (Alice Munger)\",\"female\",\"S\",1.0],[\"Caram, Mrs. Joseph (Maria Elias)\",\"female\",\"C\",0.0],[\"Christy, Miss. Julie Rachel\",\"female\",\"S\",1.0],[\"Thayer, Mrs. John Borland (Marian Longstreth Morris)\",\"female\",\"C\",1.0],[\"Taussig, Miss. Ruth\",\"female\",\"S\",1.0],[\"Stephenson, Mrs. Walter Bertram (Martha Eustis)\",\"female\",\"C\",1.0],[\"Bourke, Miss. Mary\",\"female\",\"Q\",0.0],[\"Leitch, Miss. Jessie Wills\",\"female\",\"S\",1.0],[\"Jacobsohn, Mrs. Sidney Samuel (Amy Frances Christy)\",\"female\",\"S\",1.0],[\"Laroche, Mrs. Joseph (Juliette Marie Louise Lafargue)\",\"female\",\"C\",1.0],[\"Shutes, Miss. Elizabeth W\",\"female\",\"S\",1.0],[\"Andersson, Mrs. Anders Johan (Alfrida Konstantia Brogren)\",\"female\",\"S\",0.0],[\"Murphy, Miss. Margaret Jane\",\"female\",\"Q\",1.0],[\"Herman, Miss. Alice\",\"female\",\"S\",1.0],[\"Lobb, Mrs. William Arthur (Cordelia K Stanlick)\",\"female\",\"S\",0.0],[\"Becker, Miss. Marion Louise\",\"female\",\"S\",1.0],[\"Longley, Miss. Gretchen Fiske\",\"female\",\"S\",1.0],[\"Skoog, Miss. Mabel\",\"female\",\"S\",0.0],[\"Davis, Miss. Mary\",\"female\",\"S\",1.0],[\"Panula, Mrs. Juha (Maria Emilia Ojala)\",\"female\",\"S\",0.0],[\"Sagesser, Mlle. Emma\",\"female\",\"C\",1.0],[\"Skoog, Miss. Margit Elizabeth\",\"female\",\"S\",0.0],[\"Baclini, Miss. Eugenie\",\"female\",\"C\",1.0],[\"Stanley, Miss. Amy Zillah Elsie\",\"female\",\"S\",1.0],[\"Doling, Miss. Elsie\",\"female\",\"S\",1.0],[\"O'Leary, Miss. Hanora \\\"Norah\\\"\",\"female\",\"Q\",1.0],[\"Hegarty, Miss. Hanora \\\"Nora\\\"\",\"female\",\"Q\",0.0],[\"Bourke, Mrs. John (Catherine)\",\"female\",\"Q\",0.0],[\"Taylor, Mrs. Elmer Zebley (Juliet Cummins Wright)\",\"female\",\"S\",1.0],[\"Brown, Mrs. Thomas William Solomon (Elizabeth Catherine Ford)\",\"female\",\"S\",1.0],[\"Turja, Miss. Anna Sofia\",\"female\",\"S\",1.0],[\"Goodwin, Mrs. Frederick (Augusta Tyler)\",\"female\",\"S\",0.0],[\"Peters, Miss. Katie\",\"female\",\"Q\",0.0],[\"Madill, Miss. Georgette Alexandra\",\"female\",\"S\",1.0],[\"Karun, Miss. Manca\",\"female\",\"C\",1.0],[\"Mullens, Miss. Katherine \\\"Katie\\\"\",\"female\",\"Q\",1.0],[\"Astor, Mrs. John Jacob (Madeleine Talmadge Force)\",\"female\",\"C\",1.0],[\"Barbara, Miss. Saiide\",\"female\",\"C\",0.0],[\"Kelly, Mrs. Florence \\\"Fannie\\\"\",\"female\",\"S\",1.0],[\"Cleaver, Miss. Alice\",\"female\",\"S\",1.0],[\"Mayne, Mlle. Berthe Antonine (\\\"Mrs de Villiers\\\")\",\"female\",\"C\",1.0],[\"Endres, Miss. Caroline Louise\",\"female\",\"C\",1.0],[\"Troutt, Miss. Edwina Celia \\\"Winnie\\\"\",\"female\",\"S\",1.0],[\"Harper, Miss. Annie Jessie \\\"Nina\\\"\",\"female\",\"S\",1.0],[\"Renouf, Mrs. Peter Henry (Lillian Jefferys)\",\"female\",\"S\",1.0],[\"Mannion, Miss. Margareth\",\"female\",\"Q\",1.0],[\"Ilmakangas, Miss. Pieta Sofia\",\"female\",\"S\",0.0],[\"Allen, Miss. Elisabeth Walton\",\"female\",\"S\",1.0],[\"Ford, Mrs. Edward (Margaret Ann Watson)\",\"female\",\"S\",0.0],[\"Ryerson, Miss. Susan Parker \\\"Suzette\\\"\",\"female\",\"C\",1.0],[\"Sinkkonen, Miss. Anna\",\"female\",\"S\",1.0],[\"Wells, Miss. Joan\",\"female\",\"S\",1.0],[\"Herman, Mrs. Samuel (Jane Laver)\",\"female\",\"S\",1.0],[\"Rothes, the Countess. of (Lucy Noel Martha Dyer-Edwards)\",\"female\",\"S\",1.0],[\"Carter, Mrs. William Ernest (Lucile Polk)\",\"female\",\"S\",1.0],[\"Hogeboom, Mrs. John C (Anna Andrews)\",\"female\",\"S\",1.0],[\"Mangan, Miss. Mary\",\"female\",\"Q\",0.0],[\"Mack, Mrs. (Mary)\",\"female\",\"S\",0.0],[\"Hocking, Mrs. Elizabeth (Eliza Needs)\",\"female\",\"S\",1.0],[\"Emanuel, Miss. Virginia Ethel\",\"female\",\"S\",1.0],[\"Robert, Mrs. Edward Scott (Elisabeth Walton McMillan)\",\"female\",\"S\",1.0],[\"Ayoub, Miss. Banoura\",\"female\",\"C\",1.0],[\"Dick, Mrs. Albert Adrian (Vera Gillespie)\",\"female\",\"S\",1.0],[\"Sjoblom, Miss. Anna Sofia\",\"female\",\"S\",1.0],[\"Sage, Miss. Stella Anna\",\"female\",\"S\",0.0],[\"Leader, Dr. Alice (Farnham)\",\"female\",\"S\",1.0],[\"Osman, Mrs. Mara\",\"female\",\"S\",1.0],[\"Van Impe, Mrs. Jean Baptiste (Rosalie Paula Govaert)\",\"female\",\"S\",0.0],[\"Collyer, Mrs. Harvey (Charlotte Annie Tate)\",\"female\",\"S\",1.0],[\"Pettersson, Miss. Ellen Natalia\",\"female\",\"S\",0.0],[\"Chambers, Mrs. Norman Campbell (Bertha Griggs)\",\"female\",\"S\",1.0],[\"Andersson, Miss. Ebba Iris Alfrida\",\"female\",\"S\",0.0],[\"Heininen, Miss. Wendla Maria\",\"female\",\"S\",0.0],[\"Hays, Mrs. Charles Melville (Clara Jennings Gregg)\",\"female\",\"S\",1.0],[\"Moor, Mrs. (Beila)\",\"female\",\"S\",1.0],[\"Stone, Mrs. George Nelson (Martha Evelyn)\",\"female\",null,1.0],[\"Yasbeck, Mrs. Antoni (Selini Alexander)\",\"female\",\"C\",1.0],[\"Compton, Miss. Sara Rebecca\",\"female\",\"C\",1.0],[\"Serepeca, Miss. Augusta\",\"female\",\"C\",1.0],[\"Goldenberg, Mrs. Samuel L (Edwiga Grabowska)\",\"female\",\"C\",1.0],[\"Boulos, Miss. Nourelain\",\"female\",\"C\",0.0],[\"Lines, Miss. Mary Conover\",\"female\",\"S\",1.0],[\"Carter, Mrs. Ernest Courtenay (Lilian Hughes)\",\"female\",\"S\",0.0],[\"Aks, Mrs. Sam (Leah Rosen)\",\"female\",\"S\",1.0],[\"Wick, Mrs. George Dennick (Mary Hitchcock)\",\"female\",\"S\",1.0],[\"Baclini, Mrs. Solomon (Latifa Qurban)\",\"female\",\"C\",1.0],[\"Swift, Mrs. Frederick Joel (Margaret Welles Barron)\",\"female\",\"S\",1.0],[\"Sage, Miss. Dorothy Edith \\\"Dolly\\\"\",\"female\",\"S\",0.0],[\"Bystrom, Mrs. (Karolina)\",\"female\",\"S\",1.0],[\"Duran y More, Miss. Asuncion\",\"female\",\"C\",1.0],[\"Beckwith, Mrs. Richard Leonard (Sallie Monypeny)\",\"female\",\"S\",1.0],[\"Abelson, Mrs. Samuel (Hannah Wizosky)\",\"female\",\"C\",1.0],[\"Najib, Miss. Adele Kiamie \\\"Jane\\\"\",\"female\",\"C\",1.0],[\"Potter, Mrs. Thomas Jr (Lily Alexenia Wilson)\",\"female\",\"C\",1.0],[\"Shelley, Mrs. William (Imanita Parrish Hall)\",\"female\",\"S\",1.0],[\"Dahlberg, Miss. Gerda Ulrika\",\"female\",\"S\",0.0],[\"Rice, Mrs. William (Margaret Norton)\",\"female\",\"Q\",0.0],[\"Graham, Miss. Margaret Edith\",\"female\",\"S\",1.0],[\"Johnston, Miss. Catherine Helen \\\"Carrie\\\"\",\"female\",\"S\",0.0],[\"Wilkes, Mrs. James (Ellen Needs)\",\"female\",\"S\",null],[\"Hirvonen, Mrs. Alexander (Helga E Lindqvist)\",\"female\",\"S\",null],[\"Connolly, Miss. Kate\",\"female\",\"Q\",null],[\"Abrahim, Mrs. Joseph (Sophie Halaut Easu)\",\"female\",\"C\",null],[\"Snyder, Mrs. John Pillsbury (Nelle Stevenson)\",\"female\",\"S\",null],[\"Chaffee, Mrs. Herbert Fuller (Carrie Constance Toogood)\",\"female\",\"S\",null],[\"del Carlo, Mrs. Sebastiano (Argenia Genovesi)\",\"female\",\"C\",null],[\"Ilmakangas, Miss. Ida Livija\",\"female\",\"S\",null],[\"Assaf Khalil, Mrs. Mariana (Miriam\\\")\\\"\",\"female\",\"C\",null],[\"Flegenheim, Mrs. Alfred (Antoinette)\",\"female\",\"S\",null],[\"Ryerson, Mrs. Arthur Larned (Emily Maria Borie)\",\"female\",\"C\",null],[\"Ostby, Miss. Helene Ragnhild\",\"female\",\"C\",null],[\"Dean, Mrs. Bertram (Eva Georgetta Light)\",\"female\",\"S\",null],[\"Johnston, Mrs. Andrew G (Elizabeth Lily\\\" Watson)\\\"\",\"female\",\"S\",null],[\"Roth, Miss. Sarah A\",\"female\",\"S\",null],[\"Cacic, Miss. Manda\",\"female\",\"S\",null],[\"Corbett, Mrs. Walter H (Irene Colvin)\",\"female\",\"S\",null],[\"Kimball, Mrs. Edwin Nelson Jr (Gertrude Parsons)\",\"female\",\"S\",null],[\"Bucknell, Mrs. William Robert (Emma Eliza Ward)\",\"female\",\"C\",null],[\"Coutts, Mrs. William (Winnie Minnie\\\" Treanor)\\\"\",\"female\",\"S\",null],[\"Hocking, Miss. Ellen Nellie\\\"\\\"\",\"female\",\"S\",null],[\"Fortune, Miss. Ethel Flora\",\"female\",\"S\",null],[\"Chaudanson, Miss. Victorine\",\"female\",\"C\",null],[\"Bradley, Miss. Bridget Delia\",\"female\",\"Q\",null],[\"Corey, Mrs. Percy C (Mary Phyllis Elizabeth Miller)\",\"female\",\"S\",null],[\"Burns, Miss. Mary Delia\",\"female\",\"Q\",null],[\"Fortune, Mrs. Mark (Mary McDougald)\",\"female\",\"S\",null],[\"Mulvihill, Miss. Bertha E\",\"female\",\"Q\",null],[\"Nieminen, Miss. Manta Josefina\",\"female\",\"S\",null],[\"Geiger, Miss. Amalie\",\"female\",\"C\",null],[\"Cornell, Mrs. Robert Clifford (Malvina Helen Lamson)\",\"female\",\"S\",null],[\"Doyle, Miss. Elizabeth\",\"female\",\"Q\",null],[\"Barry, Miss. Julia\",\"female\",\"Q\",null],[\"Badman, Miss. Emily Louisa\",\"female\",\"S\",null],[\"O'Donoghue, Ms. Bridget\",\"female\",\"Q\",null],[\"Dyker, Mrs. Adolf Fredrik (Anna Elisabeth Judith Andersson)\",\"female\",\"S\",null],[\"Davidson, Mrs. Thornton (Orian Hays)\",\"female\",\"S\",null],[\"Cavendish, Mrs. Tyrell William (Julia Florence Siegel)\",\"female\",\"S\",null],[\"Braf, Miss. Elin Ester Maria\",\"female\",\"S\",null],[\"Stengel, Mrs. Charles Emil Henry (Annie May Morris)\",\"female\",\"C\",null],[\"Thomas, Mrs. Alexander (Thamine Thelma\\\")\\\"\",\"female\",\"C\",null],[\"Shine, Miss. Ellen Natalia\",\"female\",\"Q\",null],[\"Evans, Miss. Edith Corse\",\"female\",\"C\",null],[\"Buckley, Miss. Katherine\",\"female\",\"Q\",null],[\"Straus, Mrs. Isidor (Rosalie Ida Blun)\",\"female\",\"S\",null],[\"Sandstrom, Miss. Beatrice Irene\",\"female\",\"S\",null],[\"Chapman, Mrs. John Henry (Sara Elizabeth Lawry)\",\"female\",\"S\",null],[\"Watt, Miss. Bertha J\",\"female\",\"S\",null],[\"Schabert, Mrs. Paul (Emma Mock)\",\"female\",\"C\",null],[\"Cribb, Miss. Laura Alice\",\"female\",\"S\",null],[\"McCoy, Miss. Alicia\",\"female\",\"Q\",null],[\"Lefebre, Mrs. Frank (Frances)\",\"female\",\"S\",null],[\"Drapkin, Miss. Jennie\",\"female\",\"S\",null],[\"Goodwin, Miss. Jessie Allis\",\"female\",\"S\",null],[\"Daniels, Miss. Sarah\",\"female\",\"S\",null],[\"Earnshaw, Mrs. Boulton (Olive Potter)\",\"female\",\"C\",null],[\"Klasen, Mrs. (Hulda Kristina Eugenia Lofqvist)\",\"female\",\"S\",null],[\"Bird, Miss. Ellen\",\"female\",\"S\",null],[\"Lundin, Miss. Olga Elida\",\"female\",\"S\",null],[\"Peacock, Mrs. Benjamin (Edith Nile)\",\"female\",\"S\",null],[\"Smyth, Miss. Julia\",\"female\",\"Q\",null],[\"Wright, Miss. Marion\",\"female\",\"S\",null],[\"Kink-Heilmann, Mrs. Anton (Luise Heilmann)\",\"female\",\"S\",null],[\"Cassebeer, Mrs. Henry Arthur Jr (Eleanor Genevieve Fosdick)\",\"female\",\"C\",null],[\"Hellstrom, Miss. Hilda Maria\",\"female\",\"S\",null],[\"Brown, Miss. Edith Eileen\",\"female\",\"S\",null],[\"Sincock, Miss. Maude\",\"female\",\"S\",null],[\"Becker, Mrs. Allen Oliver (Nellie E Baumgardner)\",\"female\",\"S\",null],[\"Compton, Mrs. Alexander Taylor (Mary Eliza Ingersoll)\",\"female\",\"C\",null],[\"Marvin, Mrs. Daniel Warner (Mary Graham Carmichael Farquarson)\",\"female\",\"S\",null],[\"Douglas, Mrs. Frederick Charles (Mary Helene Baxter)\",\"female\",\"C\",null],[\"Phillips, Miss. Alice Frances Louisa\",\"female\",\"S\",null],[\"Sage, Miss. Ada\",\"female\",\"S\",null],[\"Nilsson, Miss. Berta Olivia\",\"female\",\"S\",null],[\"Rasmussen, Mrs. (Lena Jacobsen Solvang)\",\"female\",\"S\",null],[\"Murphy, Miss. Nora\",\"female\",\"Q\",null],[\"Quick, Miss. Winifred Vera\",\"female\",\"S\",null],[\"McGowan, Miss. Katherine\",\"female\",\"Q\",null],[\"Rosenbaum, Miss. Edith Louise\",\"female\",\"C\",null],[\"Howard, Mrs. Benjamin (Ellen Truelove Arman)\",\"female\",\"S\",null],[\"Andersson, Miss. Ida Augusta Margareta\",\"female\",\"S\",null],[\"Mahon, Miss. Bridget Delia\",\"female\",\"Q\",null],[\"Widener, Mrs. George Dunton (Eleanor Elkins)\",\"female\",\"C\",null],[\"Duran y More, Miss. Florentina\",\"female\",\"C\",null],[\"Cook, Mrs. (Selena Rogers)\",\"female\",\"S\",null],[\"Candee, Mrs. Edward (Helen Churchill Hungerford)\",\"female\",\"C\",null],[\"Moubarek, Mrs. George (Omine Amenia\\\" Alexander)\\\"\",\"female\",\"C\",null],[\"McNeill, Miss. Bridget\",\"female\",\"Q\",null],[\"Willard, Miss. Constance\",\"female\",\"S\",null],[\"Hiltunen, Miss. Marta\",\"female\",\"S\",null],[\"Douglas, Mrs. Walter Donald (Mahala Dutton)\",\"female\",\"C\",null],[\"Lindstrom, Mrs. Carl Johan (Sigrid Posse)\",\"female\",\"C\",null],[\"Christy, Mrs. (Alice Frances)\",\"female\",\"S\",null],[\"Karnes, Mrs. J Frank (Claire Bennett)\",\"female\",\"S\",null],[\"Hold, Mrs. Stephen (Annie Margaret Hill)\",\"female\",\"S\",null],[\"Khalil, Mrs. Betros (Zahie Maria\\\" Elias)\\\"\",\"female\",\"C\",null],[\"West, Miss. Barbara J\",\"female\",\"S\",null],[\"Bentham, Miss. Lilian W\",\"female\",\"S\",null],[\"Wells, Mrs. Arthur Henry (Addie\\\" Dart Trevaskis)\\\"\",\"female\",\"S\",null],[\"Klasen, Miss. Gertrud Emilia\",\"female\",\"S\",null],[\"Howard, Miss. May Elizabeth\",\"female\",\"S\",null],[\"Clark, Mrs. Walter Miller (Virginia McDowell)\",\"female\",\"C\",null],[\"Lennon, Miss. Mary\",\"female\",\"Q\",null],[\"Bryhl, Miss. Dagmar Jenny Ingeborg \",\"female\",\"S\",null],[\"Oreskovic, Miss. Jelka\",\"female\",\"S\",null],[\"Fleming, Miss. Honora\",\"female\",\"Q\",null],[\"Touma, Miss. Maria Youssef\",\"female\",\"C\",null],[\"Rosblom, Miss. Salli Helena\",\"female\",\"S\",null],[\"Daly, Miss. Margaret Marcella Maggie\\\"\\\"\",\"female\",\"Q\",null],[\"Laroche, Miss. Louise\",\"female\",\"C\",null],[\"McCarthy, Miss. Catherine Katie\\\"\\\"\",\"female\",\"Q\",null],[\"Crosby, Mrs. Edward Gifford (Catherine Elizabeth Halstead)\",\"female\",\"S\",null],[\"Hansen, Mrs. Claus Peter (Jennie L Howard)\",\"female\",\"S\",null],[\"Carr, Miss. Jeannie\",\"female\",\"Q\",null],[\"White, Mrs. John Stuart (Ella Holmes)\",\"female\",\"C\",null],[\"Hagardon, Miss. Kate\",\"female\",\"Q\",null],[\"Kreuchen, Miss. Emilie\",\"female\",\"S\",null],[\"Becker, Miss. Ruth Elizabeth\",\"female\",\"S\",null],[\"Davies, Mrs. John Morgan (Elizabeth Agnes Mary White) \",\"female\",\"S\",null],[\"Nakid, Mrs. Said (Waika Mary\\\" Mowad)\\\"\",\"female\",\"C\",null],[\"Cardeza, Mrs. James Warburton Martinez (Charlotte Wardle Drake)\",\"female\",\"C\",null],[\"Abelseth, Miss. Karen Marie\",\"female\",\"S\",null],[\"Whabee, Mrs. George Joseph (Shawneene Abi-Saab)\",\"female\",\"C\",null],[\"Walcroft, Miss. Nellie\",\"female\",\"S\",null],[\"Greenfield, Mrs. Leo David (Blanche Strouse)\",\"female\",\"C\",null],[\"Dean, Miss. Elizabeth Gladys Millvina\\\"\\\"\",\"female\",\"S\",null],[\"Brown, Mrs. John Murray (Caroline Lane Lamson)\",\"female\",\"S\",null],[\"Lindell, Mrs. Edvard Bengtsson (Elin Gerda Persson)\",\"female\",\"S\",null],[\"Mallet, Mrs. Albert (Antoinette Magnin)\",\"female\",\"C\",null],[\"Ware, Mrs. John James (Florence Louise Long)\",\"female\",\"S\",null],[\"Harder, Mrs. George Achilles (Dorothy Annan)\",\"female\",\"C\",null],[\"Sage, Mrs. John (Annie Bullen)\",\"female\",\"S\",null],[\"Riihivouri, Miss. Susanna Juhantytar Sanni\\\"\\\"\",\"female\",\"S\",null],[\"Gibson, Mrs. Leonard (Pauline C Boeson)\",\"female\",\"C\",null],[\"Wilson, Miss. Helen Alice\",\"female\",\"C\",null],[\"Dodge, Mrs. Washington (Ruth Vidaver)\",\"female\",\"S\",null],[\"Bowen, Miss. Grace Scott\",\"female\",\"C\",null],[\"Kink, Miss. Maria\",\"female\",\"S\",null],[\"Risien, Mrs. Samuel (Emma)\",\"female\",\"S\",null],[\"McNamee, Mrs. Neal (Eileen O'Leary)\",\"female\",\"S\",null],[\"Herman, Miss. Kate\",\"female\",\"S\",null],[\"Lines, Mrs. Ernest H (Elizabeth Lindsey James)\",\"female\",\"S\",null],[\"Smith, Mrs. Lucien Philip (Mary Eloise Hughes)\",\"female\",\"S\",null],[\"Frolicher-Stehli, Mrs. Maxmillian (Margaretha Emerentia Stehli)\",\"female\",\"C\",null],[\"Bonnell, Miss. Caroline\",\"female\",\"S\",null],[\"Gibson, Miss. Dorothy Winifred\",\"female\",\"C\",null],[\"Riordan, Miss. Johanna Hannah\\\"\\\"\",\"female\",\"Q\",null],[\"Peacock, Miss. Treasteall\",\"female\",\"S\",null],[\"Naughton, Miss. Hannah\",\"female\",\"Q\",null],[\"Minahan, Mrs. William Edward (Lillian E Thorpe)\",\"female\",\"Q\",null],[\"Henriksson, Miss. Jenny Lovisa\",\"female\",\"S\",null],[\"Oliva y Ocana, Dona. Fermina\",\"female\",\"C\",null]],\"hovertemplate\":\"Sex=%{customdata[1]}\\u003cbr\\u003eAge=%{x}\\u003cbr\\u003eFare=%{y}\\u003cbr\\u003ePclass=%{z}\\u003cbr\\u003eName=%{customdata[0]}\\u003cbr\\u003eEmbarked=%{customdata[2]}\\u003cbr\\u003eSurvived=%{customdata[3]}\\u003cextra\\u003e\\u003c\\u002fextra\\u003e\",\"legendgroup\":\"female\",\"marker\":{\"color\":\"pink\",\"symbol\":\"circle\"},\"mode\":\"markers\",\"name\":\"female\",\"scene\":\"scene\",\"showlegend\":true,\"x\":[38.0,26.0,35.0,27.0,14.0,4.0,58.0,14.0,55.0,31.0,null,15.0,8.0,38.0,null,null,null,18.0,14.0,40.0,27.0,3.0,19.0,null,18.0,49.0,29.0,21.0,5.0,38.0,29.0,17.0,16.0,30.0,null,17.0,33.0,23.0,34.0,28.0,21.0,null,14.5,20.0,17.0,2.0,32.5,null,47.0,29.0,19.0,null,22.0,24.0,9.0,22.0,16.0,40.0,null,45.0,1.0,50.0,null,4.0,null,32.0,19.0,44.0,58.0,null,24.0,2.0,16.0,35.0,31.0,27.0,32.0,null,35.0,5.0,null,8.0,null,null,25.0,24.0,29.0,41.0,29.0,null,30.0,35.0,50.0,null,58.0,35.0,41.0,null,63.0,45.0,35.0,22.0,26.0,19.0,24.0,2.0,50.0,null,null,null,17.0,30.0,24.0,18.0,26.0,26.0,24.0,31.0,40.0,30.0,22.0,36.0,36.0,31.0,16.0,null,null,41.0,24.0,24.0,40.0,null,22.0,38.0,null,null,45.0,60.0,null,null,24.0,3.0,null,22.0,42.0,1.0,35.0,36.0,17.0,23.0,24.0,31.0,28.0,21.0,20.0,null,33.0,null,34.0,18.0,10.0,28.0,28.0,19.0,null,42.0,14.0,21.0,24.0,45.0,28.0,13.0,5.0,null,50.0,0.75,33.0,23.0,22.0,2.0,63.0,null,35.0,54.0,25.0,21.0,null,37.0,16.0,33.0,54.0,34.0,36.0,30.0,44.0,50.0,2.0,null,30.0,7.0,30.0,22.0,36.0,9.0,11.0,19.0,22.0,48.0,39.0,36.0,null,29.0,53.0,null,34.0,39.0,null,25.0,39.0,18.0,52.0,null,null,24.0,22.0,40.0,39.0,null,24.0,26.0,4.0,21.0,9.0,28.0,41.0,24.0,2.0,0.75,23.0,18.0,null,18.0,32.0,null,40.0,18.0,43.0,null,15.0,4.0,null,18.0,18.0,45.0,22.0,24.0,38.0,27.0,6.0,30.0,null,25.0,29.0,48.0,21.0,30.0,4.0,48.0,33.0,36.0,51.0,30.5,57.0,54.0,5.0,43.0,13.0,17.0,18.0,null,49.0,31.0,30.0,31.0,18.0,33.0,6.0,23.0,52.0,27.0,62.0,15.0,39.0,30.0,null,9.0,16.0,44.0,18.0,45.0,24.0,48.0,null,42.0,27.0,47.0,28.0,15.0,56.0,25.0,22.0,39.0,19.0,null,47.0,22.0,30.0,18.0,23.0,47.0,24.0,27.0,45.0,null,48.0,22.0,33.0,null,null,21.0,30.0,45.0,60.0,36.0,20.0,28.0,36.0,22.0,null,18.0,60.0,24.0,29.0,35.0,55.0,24.0,27.0,18.0,null,22.0,27.0,76.0,20.0,43.0,16.0,null,36.0,18.5,63.0,1.0,29.0,12.0,35.0,17.0,null,null,23.0,10.0,33.0,23.0,36.0,29.0,23.0,26.0,null,26.0,26.0,null,22.0,15.0,20.0,36.0,64.0,18.0,27.0,21.0,null,18.0,null,null,8.0,35.0,33.0,60.0,38.0,null,50.0,30.0,22.0,53.0,null,null,21.0,18.0,48.0,55.0,45.0,22.0,29.0,null,0.92,19.0,29.0,1.0,null,26.0,null,20.0,23.0,null,9.0,2.0,30.0,1.0,null,64.0,45.0,37.0,55.0,17.0,39.0,12.0,48.0,19.0,58.0,16.0,38.0,31.0,45.0,0.17,59.0,30.0,24.0,31.0,25.0,null,22.0,45.0,31.0,54.0,45.0,22.0,null,19.0,24.0,51.0,18.0,48.0,30.0,22.0,null,3.0,null,37.0,28.0,39.0],\"y\":[71.2833,7.925,53.1,11.1333,30.0708,16.7,26.55,7.8542,16.0,18.0,7.225,8.0292,21.075,31.3875,7.8792,146.5208,7.75,18.0,11.2417,9.475,21.0,41.5792,7.8792,7.75,17.8,76.7292,26.0,10.5,27.75,80.0,10.5,7.925,46.9,12.475,7.7875,10.5,15.85,263.0,23.0,7.8958,7.65,24.15,14.4542,9.825,14.4583,31.275,13.0,22.3583,14.5,26.0,26.2833,15.2458,7.75,15.85,34.375,66.6,7.7333,15.75,55.0,27.9,11.1333,28.7125,69.55,22.025,15.5,13.0,7.8542,27.7208,146.5208,7.75,13.0,10.4625,7.75,21.0,113.275,7.925,76.2917,25.4667,83.475,31.3875,7.55,26.25,14.4542,15.5,7.775,14.5,10.4625,20.2125,15.2458,79.2,86.5,512.3292,26.0,7.75,153.4625,135.6333,19.5,7.75,77.9583,7.75,20.25,7.75,78.85,91.0792,8.85,151.55,247.5208,7.75,12.35,110.8833,108.9,56.9292,83.1583,262.375,26.0,7.8542,26.0,164.8667,134.5,12.35,29.0,135.6333,13.0,20.525,57.9792,23.25,133.65,134.5,263.0,13.0,13.0,16.1,55.0,13.0,7.8792,7.8792,14.4542,75.25,7.2292,7.75,69.3,21.075,82.1708,7.25,227.525,15.7417,52.0,13.0,12.0,113.275,16.7,7.8542,12.65,9.825,8.6625,25.4667,90.0,8.05,32.5,13.0,24.15,14.4,26.0,26.0,16.1,26.0,120.0,34.375,18.75,26.25,13.0,19.5,19.2583,51.8625,10.5,19.2583,27.75,13.7917,9.8375,12.2875,9.5875,25.4667,90.0,78.2667,151.55,7.75,7.6292,9.5875,86.5,26.0,59.4,10.5,26.0,93.5,57.9792,10.5,26.0,22.3583,8.6625,26.25,106.425,49.5,71.0,31.275,31.275,26.0,7.775,39.6,79.65,17.4,8.05,21.075,51.4792,7.75,13.0,55.9,14.4583,30.0,110.8833,79.65,78.2667,7.75,33.0,27.0,41.5792,153.4625,31.275,15.5,65.0,16.1,39.0,77.9583,27.9,13.0,39.6875,69.3,27.9,19.2583,7.55,23.0,7.8292,6.75,15.5,52.0,39.0,9.8417,46.9,8.1375,211.3375,13.4167,7.7333,227.525,14.4542,13.5,151.55,49.5042,227.525,10.5,33.0,21.0,7.7375,7.925,211.3375,34.375,262.375,13.0,23.0,65.0,86.5,120.0,77.9583,7.75,10.5,23.0,12.475,211.3375,7.2292,57.0,7.4958,69.55,25.9292,8.6833,24.15,26.25,7.775,53.1,31.275,7.925,93.5,12.475,80.0,14.4542,83.1583,31.0,89.1042,15.2458,39.4,26.0,9.35,164.8667,19.2583,25.9292,69.55,13.0,13.8583,52.5542,24.0,7.225,83.1583,26.0,10.5167,29.125,30.0,23.45,7.0,12.2875,7.6292,7.2292,82.2667,61.175,27.7208,7.925,7.225,31.6833,262.375,61.9792,20.575,23.45,8.05,8.6625,13.0,52.5542,76.2917,15.9,23.0,263.0,262.375,7.725,21.0,7.8792,263.0,7.75,7.925,211.5,25.7,7.75,7.8792,8.05,7.75,13.9,52.0,78.85,7.8542,55.4417,8.5167,7.7792,31.6792,7.2833,221.7792,16.7,26.0,15.75,57.75,16.1,23.25,25.4667,8.05,46.9,151.55,83.1583,12.1833,221.7792,7.8542,13.775,7.7333,13.5,22.025,27.7208,8.9625,39.0,36.75,39.0,83.1583,53.1,247.5208,21.0,69.55,7.775,8.1125,15.5,26.0,7.75,27.7208,26.0,7.775,7.8792,211.5,13.8583,10.5,27.4458,15.2458,7.75,26.55,13.0,106.425,27.7208,30.0,21.0,26.0,14.4542,27.75,13.0,23.0,12.1833,8.05,136.7792,15.5,26.0,8.6625,7.75,15.2458,20.2125,6.95,41.5792,7.75,26.55,14.1083,7.75,135.6333,7.7333,211.3375,39.0,36.75,15.7417,512.3292,7.65,7.2292,21.0,63.3583,20.575,51.4792,15.55,37.0042,21.0,55.4417,69.55,39.6875,59.4,134.5,81.8583,262.375,8.6625,14.5,16.1,65.0,39.4,60.0,79.2,164.8667,59.4,7.7208,13.775,7.75,90.0,7.775,108.9],\"z\":[1,3,1,3,2,3,1,3,2,3,3,3,3,3,3,1,3,3,3,3,2,2,3,3,3,1,2,2,2,1,2,3,3,3,3,2,3,1,2,3,3,3,3,3,3,3,2,3,3,2,1,3,3,3,3,1,3,2,1,3,3,1,3,3,3,2,3,1,1,3,2,3,3,2,1,3,1,3,1,3,3,2,3,3,3,2,3,3,3,1,1,1,2,3,1,1,2,3,1,3,3,3,1,1,3,1,1,3,2,1,1,1,1,1,2,3,2,1,1,2,2,1,2,3,1,3,1,1,1,2,2,3,1,2,3,3,3,1,3,3,1,3,1,3,1,3,1,2,2,1,3,3,2,3,3,3,1,3,2,2,3,3,2,2,3,2,1,3,2,2,2,2,3,1,2,3,2,2,3,3,3,3,1,1,1,3,3,3,1,2,1,2,2,1,1,2,2,3,3,2,1,1,1,3,3,2,3,1,1,3,3,3,1,3,2,1,3,2,1,1,1,3,2,2,2,1,3,3,2,3,2,1,3,2,3,1,3,3,3,2,3,3,3,1,2,3,3,3,1,3,3,1,3,2,1,1,1,2,2,2,3,3,1,3,1,2,2,2,1,1,1,3,2,2,3,1,3,1,3,3,1,3,3,2,3,1,3,3,1,3,1,3,1,1,1,3,1,2,3,1,3,1,3,2,2,1,2,3,1,2,3,3,1,3,3,3,3,3,1,1,2,3,3,1,1,1,3,3,3,3,2,1,1,3,2,1,1,3,2,3,1,3,3,1,1,3,3,3,3,3,1,1,3,1,3,3,1,3,1,3,2,2,1,3,3,3,3,3,1,1,3,1,3,3,3,2,3,1,3,2,2,2,1,1,1,2,3,3,3,3,2,3,1,2,3,3,1,2,2,1,3,3,1,2,1,1,2,2,2,3,2,2,2,3,3,1,3,2,3,3,3,3,3,2,3,1,3,3,1,3,1,2,2,3,1,3,3,2,1,3,1,3,2,2,1,3,3,1,1,1,1,3,3,3,2,1,1,1,1,1,3,3,3,1,3,1],\"type\":\"scatter3d\"}],                        {\"template\":{\"data\":{\"histogram2dcontour\":[{\"type\":\"histogram2dcontour\",\"colorbar\":{\"outlinewidth\":0,\"ticks\":\"\"},\"colorscale\":[[0.0,\"#0d0887\"],[0.1111111111111111,\"#46039f\"],[0.2222222222222222,\"#7201a8\"],[0.3333333333333333,\"#9c179e\"],[0.4444444444444444,\"#bd3786\"],[0.5555555555555556,\"#d8576b\"],[0.6666666666666666,\"#ed7953\"],[0.7777777777777778,\"#fb9f3a\"],[0.8888888888888888,\"#fdca26\"],[1.0,\"#f0f921\"]]}],\"choropleth\":[{\"type\":\"choropleth\",\"colorbar\":{\"outlinewidth\":0,\"ticks\":\"\"}}],\"histogram2d\":[{\"type\":\"histogram2d\",\"colorbar\":{\"outlinewidth\":0,\"ticks\":\"\"},\"colorscale\":[[0.0,\"#0d0887\"],[0.1111111111111111,\"#46039f\"],[0.2222222222222222,\"#7201a8\"],[0.3333333333333333,\"#9c179e\"],[0.4444444444444444,\"#bd3786\"],[0.5555555555555556,\"#d8576b\"],[0.6666666666666666,\"#ed7953\"],[0.7777777777777778,\"#fb9f3a\"],[0.8888888888888888,\"#fdca26\"],[1.0,\"#f0f921\"]]}],\"heatmap\":[{\"type\":\"heatmap\",\"colorbar\":{\"outlinewidth\":0,\"ticks\":\"\"},\"colorscale\":[[0.0,\"#0d0887\"],[0.1111111111111111,\"#46039f\"],[0.2222222222222222,\"#7201a8\"],[0.3333333333333333,\"#9c179e\"],[0.4444444444444444,\"#bd3786\"],[0.5555555555555556,\"#d8576b\"],[0.6666666666666666,\"#ed7953\"],[0.7777777777777778,\"#fb9f3a\"],[0.8888888888888888,\"#fdca26\"],[1.0,\"#f0f921\"]]}],\"heatmapgl\":[{\"type\":\"heatmapgl\",\"colorbar\":{\"outlinewidth\":0,\"ticks\":\"\"},\"colorscale\":[[0.0,\"#0d0887\"],[0.1111111111111111,\"#46039f\"],[0.2222222222222222,\"#7201a8\"],[0.3333333333333333,\"#9c179e\"],[0.4444444444444444,\"#bd3786\"],[0.5555555555555556,\"#d8576b\"],[0.6666666666666666,\"#ed7953\"],[0.7777777777777778,\"#fb9f3a\"],[0.8888888888888888,\"#fdca26\"],[1.0,\"#f0f921\"]]}],\"contourcarpet\":[{\"type\":\"contourcarpet\",\"colorbar\":{\"outlinewidth\":0,\"ticks\":\"\"}}],\"contour\":[{\"type\":\"contour\",\"colorbar\":{\"outlinewidth\":0,\"ticks\":\"\"},\"colorscale\":[[0.0,\"#0d0887\"],[0.1111111111111111,\"#46039f\"],[0.2222222222222222,\"#7201a8\"],[0.3333333333333333,\"#9c179e\"],[0.4444444444444444,\"#bd3786\"],[0.5555555555555556,\"#d8576b\"],[0.6666666666666666,\"#ed7953\"],[0.7777777777777778,\"#fb9f3a\"],[0.8888888888888888,\"#fdca26\"],[1.0,\"#f0f921\"]]}],\"surface\":[{\"type\":\"surface\",\"colorbar\":{\"outlinewidth\":0,\"ticks\":\"\"},\"colorscale\":[[0.0,\"#0d0887\"],[0.1111111111111111,\"#46039f\"],[0.2222222222222222,\"#7201a8\"],[0.3333333333333333,\"#9c179e\"],[0.4444444444444444,\"#bd3786\"],[0.5555555555555556,\"#d8576b\"],[0.6666666666666666,\"#ed7953\"],[0.7777777777777778,\"#fb9f3a\"],[0.8888888888888888,\"#fdca26\"],[1.0,\"#f0f921\"]]}],\"mesh3d\":[{\"type\":\"mesh3d\",\"colorbar\":{\"outlinewidth\":0,\"ticks\":\"\"}}],\"scatter\":[{\"fillpattern\":{\"fillmode\":\"overlay\",\"size\":10,\"solidity\":0.2},\"type\":\"scatter\"}],\"parcoords\":[{\"type\":\"parcoords\",\"line\":{\"colorbar\":{\"outlinewidth\":0,\"ticks\":\"\"}}}],\"scatterpolargl\":[{\"type\":\"scatterpolargl\",\"marker\":{\"colorbar\":{\"outlinewidth\":0,\"ticks\":\"\"}}}],\"bar\":[{\"error_x\":{\"color\":\"#2a3f5f\"},\"error_y\":{\"color\":\"#2a3f5f\"},\"marker\":{\"line\":{\"color\":\"#E5ECF6\",\"width\":0.5},\"pattern\":{\"fillmode\":\"overlay\",\"size\":10,\"solidity\":0.2}},\"type\":\"bar\"}],\"scattergeo\":[{\"type\":\"scattergeo\",\"marker\":{\"colorbar\":{\"outlinewidth\":0,\"ticks\":\"\"}}}],\"scatterpolar\":[{\"type\":\"scatterpolar\",\"marker\":{\"colorbar\":{\"outlinewidth\":0,\"ticks\":\"\"}}}],\"histogram\":[{\"marker\":{\"pattern\":{\"fillmode\":\"overlay\",\"size\":10,\"solidity\":0.2}},\"type\":\"histogram\"}],\"scattergl\":[{\"type\":\"scattergl\",\"marker\":{\"colorbar\":{\"outlinewidth\":0,\"ticks\":\"\"}}}],\"scatter3d\":[{\"type\":\"scatter3d\",\"line\":{\"colorbar\":{\"outlinewidth\":0,\"ticks\":\"\"}},\"marker\":{\"colorbar\":{\"outlinewidth\":0,\"ticks\":\"\"}}}],\"scattermapbox\":[{\"type\":\"scattermapbox\",\"marker\":{\"colorbar\":{\"outlinewidth\":0,\"ticks\":\"\"}}}],\"scatterternary\":[{\"type\":\"scatterternary\",\"marker\":{\"colorbar\":{\"outlinewidth\":0,\"ticks\":\"\"}}}],\"scattercarpet\":[{\"type\":\"scattercarpet\",\"marker\":{\"colorbar\":{\"outlinewidth\":0,\"ticks\":\"\"}}}],\"carpet\":[{\"aaxis\":{\"endlinecolor\":\"#2a3f5f\",\"gridcolor\":\"white\",\"linecolor\":\"white\",\"minorgridcolor\":\"white\",\"startlinecolor\":\"#2a3f5f\"},\"baxis\":{\"endlinecolor\":\"#2a3f5f\",\"gridcolor\":\"white\",\"linecolor\":\"white\",\"minorgridcolor\":\"white\",\"startlinecolor\":\"#2a3f5f\"},\"type\":\"carpet\"}],\"table\":[{\"cells\":{\"fill\":{\"color\":\"#EBF0F8\"},\"line\":{\"color\":\"white\"}},\"header\":{\"fill\":{\"color\":\"#C8D4E3\"},\"line\":{\"color\":\"white\"}},\"type\":\"table\"}],\"barpolar\":[{\"marker\":{\"line\":{\"color\":\"#E5ECF6\",\"width\":0.5},\"pattern\":{\"fillmode\":\"overlay\",\"size\":10,\"solidity\":0.2}},\"type\":\"barpolar\"}],\"pie\":[{\"automargin\":true,\"type\":\"pie\"}]},\"layout\":{\"autotypenumbers\":\"strict\",\"colorway\":[\"#636efa\",\"#EF553B\",\"#00cc96\",\"#ab63fa\",\"#FFA15A\",\"#19d3f3\",\"#FF6692\",\"#B6E880\",\"#FF97FF\",\"#FECB52\"],\"font\":{\"color\":\"#2a3f5f\"},\"hovermode\":\"closest\",\"hoverlabel\":{\"align\":\"left\"},\"paper_bgcolor\":\"white\",\"plot_bgcolor\":\"#E5ECF6\",\"polar\":{\"bgcolor\":\"#E5ECF6\",\"angularaxis\":{\"gridcolor\":\"white\",\"linecolor\":\"white\",\"ticks\":\"\"},\"radialaxis\":{\"gridcolor\":\"white\",\"linecolor\":\"white\",\"ticks\":\"\"}},\"ternary\":{\"bgcolor\":\"#E5ECF6\",\"aaxis\":{\"gridcolor\":\"white\",\"linecolor\":\"white\",\"ticks\":\"\"},\"baxis\":{\"gridcolor\":\"white\",\"linecolor\":\"white\",\"ticks\":\"\"},\"caxis\":{\"gridcolor\":\"white\",\"linecolor\":\"white\",\"ticks\":\"\"}},\"coloraxis\":{\"colorbar\":{\"outlinewidth\":0,\"ticks\":\"\"}},\"colorscale\":{\"sequential\":[[0.0,\"#0d0887\"],[0.1111111111111111,\"#46039f\"],[0.2222222222222222,\"#7201a8\"],[0.3333333333333333,\"#9c179e\"],[0.4444444444444444,\"#bd3786\"],[0.5555555555555556,\"#d8576b\"],[0.6666666666666666,\"#ed7953\"],[0.7777777777777778,\"#fb9f3a\"],[0.8888888888888888,\"#fdca26\"],[1.0,\"#f0f921\"]],\"sequentialminus\":[[0.0,\"#0d0887\"],[0.1111111111111111,\"#46039f\"],[0.2222222222222222,\"#7201a8\"],[0.3333333333333333,\"#9c179e\"],[0.4444444444444444,\"#bd3786\"],[0.5555555555555556,\"#d8576b\"],[0.6666666666666666,\"#ed7953\"],[0.7777777777777778,\"#fb9f3a\"],[0.8888888888888888,\"#fdca26\"],[1.0,\"#f0f921\"]],\"diverging\":[[0,\"#8e0152\"],[0.1,\"#c51b7d\"],[0.2,\"#de77ae\"],[0.3,\"#f1b6da\"],[0.4,\"#fde0ef\"],[0.5,\"#f7f7f7\"],[0.6,\"#e6f5d0\"],[0.7,\"#b8e186\"],[0.8,\"#7fbc41\"],[0.9,\"#4d9221\"],[1,\"#276419\"]]},\"xaxis\":{\"gridcolor\":\"white\",\"linecolor\":\"white\",\"ticks\":\"\",\"title\":{\"standoff\":15},\"zerolinecolor\":\"white\",\"automargin\":true,\"zerolinewidth\":2},\"yaxis\":{\"gridcolor\":\"white\",\"linecolor\":\"white\",\"ticks\":\"\",\"title\":{\"standoff\":15},\"zerolinecolor\":\"white\",\"automargin\":true,\"zerolinewidth\":2},\"scene\":{\"xaxis\":{\"backgroundcolor\":\"#E5ECF6\",\"gridcolor\":\"white\",\"linecolor\":\"white\",\"showbackground\":true,\"ticks\":\"\",\"zerolinecolor\":\"white\",\"gridwidth\":2},\"yaxis\":{\"backgroundcolor\":\"#E5ECF6\",\"gridcolor\":\"white\",\"linecolor\":\"white\",\"showbackground\":true,\"ticks\":\"\",\"zerolinecolor\":\"white\",\"gridwidth\":2},\"zaxis\":{\"backgroundcolor\":\"#E5ECF6\",\"gridcolor\":\"white\",\"linecolor\":\"white\",\"showbackground\":true,\"ticks\":\"\",\"zerolinecolor\":\"white\",\"gridwidth\":2}},\"shapedefaults\":{\"line\":{\"color\":\"#2a3f5f\"}},\"annotationdefaults\":{\"arrowcolor\":\"#2a3f5f\",\"arrowhead\":0,\"arrowwidth\":1},\"geo\":{\"bgcolor\":\"white\",\"landcolor\":\"#E5ECF6\",\"subunitcolor\":\"white\",\"showland\":true,\"showlakes\":true,\"lakecolor\":\"white\"},\"title\":{\"x\":0.05},\"mapbox\":{\"style\":\"light\"}}},\"scene\":{\"domain\":{\"x\":[0.0,1.0],\"y\":[0.0,1.0]},\"xaxis\":{\"title\":{\"text\":\"Age\"}},\"yaxis\":{\"title\":{\"text\":\"Fare\"}},\"zaxis\":{\"title\":{\"text\":\"Pclass\"}}},\"legend\":{\"title\":{\"text\":\"Sex\"},\"tracegroupgap\":0},\"title\":{\"text\":\"3D Scatter: Age, Fare, and Pclass\"}},                        {\"responsive\": true}                    ).then(function(){\n",
              "                            \n",
              "var gd = document.getElementById('11456b23-bc75-408f-8bff-dc40ccae017b');\n",
              "var x = new MutationObserver(function (mutations, observer) {{\n",
              "        var display = window.getComputedStyle(gd).display;\n",
              "        if (!display || display === 'none') {{\n",
              "            console.log([gd, 'removed!']);\n",
              "            Plotly.purge(gd);\n",
              "            observer.disconnect();\n",
              "        }}\n",
              "}});\n",
              "\n",
              "// Listen for the removal of the full notebook cells\n",
              "var notebookContainer = gd.closest('#notebook-container');\n",
              "if (notebookContainer) {{\n",
              "    x.observe(notebookContainer, {childList: true});\n",
              "}}\n",
              "\n",
              "// Listen for the clearing of the current output cell\n",
              "var outputEl = gd.closest('.output');\n",
              "if (outputEl) {{\n",
              "    x.observe(outputEl, {childList: true});\n",
              "}}\n",
              "\n",
              "                        })                };                            </script>        </div>\n",
              "</body>\n",
              "</html>"
            ]
          },
          "metadata": {}
        }
      ]
    }
  ]
}
